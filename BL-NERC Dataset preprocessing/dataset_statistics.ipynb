{
  "cells": [
    {
      "cell_type": "code",
      "execution_count": null,
      "id": "92ad148f",
      "metadata": {
        "id": "92ad148f"
      },
      "outputs": [],
      "source": [
        "import pandas as pd"
      ]
    },
    {
      "cell_type": "code",
      "execution_count": null,
      "id": "044652b9",
      "metadata": {
        "id": "044652b9"
      },
      "outputs": [],
      "source": [
        "df=pd.read_excel(r\"C:\\Users\\Admin\\Downloads\\baad16_author_ner_dataset_28K.xlsx\",sheet_name=['bongkim','humayun_ahmed','manik_bandhopaddhay','mzit','nazrul','nihar_ronjon_gupta','robindronath',\n",
        "                                                                                           'shirshendu','shomresh','shordindu','shorotchandra','shottojit_roy','shunil_gongopaddhay','tarashonkor',\n",
        "                                                                                            'toslima_nasrin','zahir_rayhan'])"
      ]
    },
    {
      "cell_type": "markdown",
      "id": "acaef986",
      "metadata": {
        "id": "acaef986"
      },
      "source": [
        "# Bongkim\n"
      ]
    },
    {
      "cell_type": "code",
      "execution_count": null,
      "id": "f1ea0892",
      "metadata": {
        "id": "f1ea0892",
        "outputId": "7d95f27e-b93a-4e42-e55a-382316230f27"
      },
      "outputs": [
        {
          "name": "stdout",
          "output_type": "stream",
          "text": [
            "(48014, 3)\n",
            "total sent: 2001 \n",
            "\n"
          ]
        }
      ],
      "source": [
        "bon = df.get('bongkim')\n",
        "#bon = pd.DataFrame(bon)\n",
        "bongkim = bon.fillna(method='ffill')\n",
        "print(bongkim.shape)\n",
        "print('total sent:',bongkim['Sentence #'].nunique(),'\\n')\n"
      ]
    },
    {
      "cell_type": "code",
      "execution_count": null,
      "id": "a2263bd1",
      "metadata": {
        "id": "a2263bd1",
        "outputId": "5e9da9a1-f8b1-4eb8-ad51-1e5192493241"
      },
      "outputs": [
        {
          "name": "stdout",
          "output_type": "stream",
          "text": [
            " bongkim train: (38411, 3) \n",
            " bongkim test: (4801, 3) \n",
            " bongkim valid: (4802, 3)\n"
          ]
        }
      ],
      "source": [
        "bon_tr = bongkim.iloc[:38411].reset_index(drop=True)\n",
        "bon_ts = bongkim.iloc[38411:43212].reset_index(drop=True)\n",
        "bon_val = bongkim.iloc[43212:].reset_index(drop=True)\n",
        "print(' bongkim train:',bon_tr.shape,'\\n','bongkim test:',bon_ts.shape,'\\n','bongkim valid:',bon_val.shape)"
      ]
    },
    {
      "cell_type": "markdown",
      "id": "71d7df53",
      "metadata": {
        "id": "71d7df53"
      },
      "source": [
        "# Humayun"
      ]
    },
    {
      "cell_type": "code",
      "execution_count": null,
      "id": "72d484db",
      "metadata": {
        "id": "72d484db",
        "outputId": "1dd98520-b131-46e1-be7b-9b60eeb0a9fa"
      },
      "outputs": [
        {
          "name": "stdout",
          "output_type": "stream",
          "text": [
            "(35869, 3)\n",
            "total sent: 2001 \n",
            "\n"
          ]
        }
      ],
      "source": [
        "hum = df.get('humayun_ahmed')\n",
        "#bon = pd.DataFrame(bon)\n",
        "humayun = hum.fillna(method='ffill')\n",
        "print(humayun.shape)\n",
        "print('total sent:',humayun['Sentence #'].nunique(),'\\n')\n"
      ]
    },
    {
      "cell_type": "code",
      "execution_count": null,
      "id": "e080165b",
      "metadata": {
        "id": "e080165b",
        "outputId": "cfc2178f-2fae-40db-dbf9-d44fa9fe3013"
      },
      "outputs": [
        {
          "name": "stdout",
          "output_type": "stream",
          "text": [
            " humayun train: (28695, 3) \n",
            " humayun test: (3586, 3) \n",
            " humayun valid: (3588, 3)\n"
          ]
        }
      ],
      "source": [
        "hum_tr = humayun.iloc[:28695].reset_index(drop=True)\n",
        "hum_ts = humayun.iloc[28695:32281].reset_index(drop=True)\n",
        "hum_val = humayun.iloc[32281:].reset_index(drop=True)\n",
        "print(' humayun train:',hum_tr.shape,'\\n','humayun test:',hum_ts.shape,'\\n','humayun valid:',hum_val.shape)"
      ]
    },
    {
      "cell_type": "markdown",
      "id": "5bd8669b",
      "metadata": {
        "id": "5bd8669b"
      },
      "source": [
        "# Manik"
      ]
    },
    {
      "cell_type": "code",
      "execution_count": null,
      "id": "f67ef5a2",
      "metadata": {
        "id": "f67ef5a2",
        "outputId": "931249a1-c933-4965-aa21-936e75b0d5a7"
      },
      "outputs": [
        {
          "name": "stdout",
          "output_type": "stream",
          "text": [
            "(47759, 3)\n",
            "total sent: 2001 \n",
            "\n"
          ]
        }
      ],
      "source": [
        "man = df.get('manik_bandhopaddhay')\n",
        "#bon = pd.DataFrame(bon)\n",
        "manik = man.fillna(method='ffill')\n",
        "print(manik.shape)\n",
        "print('total sent:',manik['Sentence #'].nunique(),'\\n')\n"
      ]
    },
    {
      "cell_type": "code",
      "execution_count": null,
      "id": "26071f2d",
      "metadata": {
        "id": "26071f2d",
        "outputId": "7628cc66-de95-45a4-a1ea-151282085a64"
      },
      "outputs": [
        {
          "name": "stdout",
          "output_type": "stream",
          "text": [
            " manik train: (38207, 3) \n",
            " manik test: (4775, 3) \n",
            " manik valid: (4777, 3)\n"
          ]
        }
      ],
      "source": [
        "man_tr = manik.iloc[:38207].reset_index(drop=True)\n",
        "man_ts = manik.iloc[38207:42982].reset_index(drop=True)\n",
        "man_val = manik.iloc[42982:].reset_index(drop=True)\n",
        "print(' manik train:',man_tr.shape,'\\n','manik test:',man_ts.shape,'\\n','manik valid:',man_val.shape)"
      ]
    },
    {
      "cell_type": "markdown",
      "id": "bed3dd69",
      "metadata": {
        "id": "bed3dd69"
      },
      "source": [
        "# MZIT\n"
      ]
    },
    {
      "cell_type": "code",
      "execution_count": null,
      "id": "998b27e9",
      "metadata": {
        "id": "998b27e9",
        "outputId": "e55ce461-37fe-4bed-d306-4349934b78c0"
      },
      "outputs": [
        {
          "name": "stdout",
          "output_type": "stream",
          "text": [
            "(43522, 3)\n",
            "total sent: 2000 \n",
            "\n"
          ]
        }
      ],
      "source": [
        "mz = df.get('mzit')\n",
        "mzit = mz.fillna(method='ffill')\n",
        "print(mzit.shape)\n",
        "print('total sent:',mzit['Sentence #'].nunique(),'\\n')"
      ]
    },
    {
      "cell_type": "code",
      "execution_count": null,
      "id": "78e53cc1",
      "metadata": {
        "id": "78e53cc1",
        "outputId": "75475d5a-70cd-4ba4-d48d-bfcd21e4d5f0"
      },
      "outputs": [
        {
          "name": "stdout",
          "output_type": "stream",
          "text": [
            " mzit train: (34817, 3) \n",
            " mzit test: (4352, 3) \n",
            " mzit valid: (4353, 3)\n"
          ]
        }
      ],
      "source": [
        "mz_tr = mzit.iloc[:34817].reset_index(drop=True)\n",
        "mz_ts = mzit.iloc[34817:39169].reset_index(drop=True)\n",
        "mz_val = mzit.iloc[39169:].reset_index(drop=True)\n",
        "print(' mzit train:',mz_tr.shape,'\\n','mzit test:',mz_ts.shape,'\\n','mzit valid:',mz_val.shape)"
      ]
    },
    {
      "cell_type": "markdown",
      "id": "8f86fdde",
      "metadata": {
        "id": "8f86fdde"
      },
      "source": [
        "# Nazrul"
      ]
    },
    {
      "cell_type": "code",
      "execution_count": null,
      "id": "1bddef1d",
      "metadata": {
        "id": "1bddef1d",
        "outputId": "05be44a2-b2fc-46cf-dd91-1de1b5e092df"
      },
      "outputs": [
        {
          "name": "stdout",
          "output_type": "stream",
          "text": [
            "(30599, 3)\n",
            "total sent: 969 \n",
            "\n"
          ]
        }
      ],
      "source": [
        "naz = df.get('nazrul')\n",
        "nazrul = naz.fillna(method='ffill')\n",
        "print(nazrul.shape)\n",
        "print('total sent:',nazrul['Sentence #'].nunique(),'\\n')"
      ]
    },
    {
      "cell_type": "code",
      "execution_count": null,
      "id": "cf623a86",
      "metadata": {
        "id": "cf623a86",
        "outputId": "48484c08-728e-49ac-e7e6-0fc988044742"
      },
      "outputs": [
        {
          "name": "stdout",
          "output_type": "stream",
          "text": [
            " nazrul train: (24479, 3) \n",
            " nazrul test: (3059, 3) \n",
            " nazrul valid: (3061, 3)\n"
          ]
        }
      ],
      "source": [
        "naz_tr = nazrul.iloc[:24479].reset_index(drop=True)\n",
        "naz_ts = nazrul.iloc[24479:27538].reset_index(drop=True)\n",
        "naz_val = nazrul.iloc[27538:].reset_index(drop=True)\n",
        "print(' nazrul train:',naz_tr.shape,'\\n','nazrul test:',naz_ts.shape,'\\n','nazrul valid:',naz_val.shape)"
      ]
    },
    {
      "cell_type": "markdown",
      "id": "1fadae9b",
      "metadata": {
        "id": "1fadae9b"
      },
      "source": [
        "# Nihar Ronjon Gupta"
      ]
    },
    {
      "cell_type": "code",
      "execution_count": null,
      "id": "72355db4",
      "metadata": {
        "id": "72355db4",
        "outputId": "2f64d3f7-e43e-452f-b957-6837d109f162"
      },
      "outputs": [
        {
          "name": "stdout",
          "output_type": "stream",
          "text": [
            "(45121, 3)\n",
            "total sent: 2000 \n",
            "\n"
          ]
        }
      ],
      "source": [
        "nih = df.get('nihar_ronjon_gupta')\n",
        "nihar = nih.fillna(method='ffill')\n",
        "print(nihar.shape)\n",
        "print('total sent:',nihar['Sentence #'].nunique(),'\\n')"
      ]
    },
    {
      "cell_type": "code",
      "execution_count": null,
      "id": "03aa7429",
      "metadata": {
        "id": "03aa7429",
        "outputId": "999f99e5-3d82-409a-ab19-f88b0fc2e8e9"
      },
      "outputs": [
        {
          "name": "stdout",
          "output_type": "stream",
          "text": [
            " nihar train: (36096, 3) \n",
            " nihar test: (4512, 3) \n",
            " nihar valid: (4513, 3)\n"
          ]
        }
      ],
      "source": [
        "nih_tr = nihar.iloc[:36096].reset_index(drop=True)\n",
        "nih_ts = nihar.iloc[36096:40608].reset_index(drop=True)\n",
        "nih_val = nihar.iloc[40608:].reset_index(drop=True)\n",
        "print(' nihar train:',nih_tr.shape,'\\n','nihar test:',nih_ts.shape,'\\n','nihar valid:',nih_val.shape)"
      ]
    },
    {
      "cell_type": "markdown",
      "id": "7765703d",
      "metadata": {
        "id": "7765703d"
      },
      "source": [
        "# Robindronath"
      ]
    },
    {
      "cell_type": "code",
      "execution_count": null,
      "id": "70557440",
      "metadata": {
        "id": "70557440",
        "outputId": "5d2b2bb8-8389-4274-b79d-4569f38eeff6"
      },
      "outputs": [
        {
          "name": "stdout",
          "output_type": "stream",
          "text": [
            "(45276, 3)\n",
            "total sent: 2000 \n",
            "\n"
          ]
        }
      ],
      "source": [
        "rob = df.get('robindronath')\n",
        "robin = rob.fillna(method='ffill')\n",
        "print(robin.shape)\n",
        "print('total sent:',robin['Sentence #'].nunique(),'\\n')"
      ]
    },
    {
      "cell_type": "code",
      "execution_count": null,
      "id": "14086356",
      "metadata": {
        "id": "14086356",
        "outputId": "7b4219e8-907a-4f81-a202-b841435805a5"
      },
      "outputs": [
        {
          "name": "stdout",
          "output_type": "stream",
          "text": [
            " robindro train: (36220, 3) \n",
            " robindro test: (4527, 3) \n",
            " robindro valid: (4529, 3)\n"
          ]
        }
      ],
      "source": [
        "robin_tr = robin.iloc[:36220].reset_index(drop=True)\n",
        "robin_ts = robin.iloc[36220:40747].reset_index(drop=True)\n",
        "robin_val = robin.iloc[40747:].reset_index(drop=True)\n",
        "print(' robindro train:',robin_tr.shape,'\\n','robindro test:',robin_ts.shape,'\\n','robindro valid:',robin_val.shape)"
      ]
    },
    {
      "cell_type": "markdown",
      "id": "07e02b66",
      "metadata": {
        "id": "07e02b66"
      },
      "source": [
        "# Shirshendu"
      ]
    },
    {
      "cell_type": "code",
      "execution_count": null,
      "id": "c4f19a08",
      "metadata": {
        "id": "c4f19a08",
        "outputId": "71355a88-54cf-41f6-f1dd-c7155ae4da04"
      },
      "outputs": [
        {
          "name": "stdout",
          "output_type": "stream",
          "text": [
            "(39591, 3)\n",
            "total sent: 2000 \n",
            "\n"
          ]
        }
      ],
      "source": [
        "shi = df.get('shirshendu')\n",
        "shir = shi.fillna(method='ffill')\n",
        "print(shir.shape)\n",
        "print('total sent:',shir['Sentence #'].nunique(),'\\n')"
      ]
    },
    {
      "cell_type": "code",
      "execution_count": null,
      "id": "7c29caf8",
      "metadata": {
        "id": "7c29caf8",
        "outputId": "f2e20d19-4e7f-4994-eef7-48b21026bc8b"
      },
      "outputs": [
        {
          "name": "stdout",
          "output_type": "stream",
          "text": [
            " shirshendu train: (31672, 3) \n",
            " shirshendu test: (3959, 3) \n",
            " shirshendu valid: (3960, 3)\n"
          ]
        }
      ],
      "source": [
        "shir_tr = shir.iloc[:31672].reset_index(drop=True)\n",
        "shir_ts = shir.iloc[31672:35631].reset_index(drop=True)\n",
        "shir_val = shir.iloc[35631:].reset_index(drop=True)\n",
        "print(' shirshendu train:',shir_tr.shape,'\\n','shirshendu test:',shir_ts.shape,'\\n','shirshendu valid:',shir_val.shape)"
      ]
    },
    {
      "cell_type": "markdown",
      "id": "944f172f",
      "metadata": {
        "id": "944f172f"
      },
      "source": [
        "# Shomresh"
      ]
    },
    {
      "cell_type": "code",
      "execution_count": null,
      "id": "8e5c1c79",
      "metadata": {
        "id": "8e5c1c79",
        "outputId": "2c3a50f5-09ba-4541-89e6-cfb335de6088"
      },
      "outputs": [
        {
          "name": "stdout",
          "output_type": "stream",
          "text": [
            "(36374, 3)\n",
            "total sent: 2000 \n",
            "\n"
          ]
        }
      ],
      "source": [
        "sho = df.get('shomresh')\n",
        "shom = sho.fillna(method='ffill')\n",
        "print(shom.shape)\n",
        "print('total sent:',shom['Sentence #'].nunique(),'\\n')"
      ]
    },
    {
      "cell_type": "code",
      "execution_count": null,
      "id": "0c676e27",
      "metadata": {
        "id": "0c676e27",
        "outputId": "5bff958b-5e52-48e3-d792-54606779a1b7"
      },
      "outputs": [
        {
          "name": "stdout",
          "output_type": "stream",
          "text": [
            " shomresh train: (29099, 3) \n",
            " shomresh test: (3637, 3) \n",
            " shomresh valid: (3638, 3)\n"
          ]
        }
      ],
      "source": [
        "shom_tr = shom.iloc[:29099].reset_index(drop=True)\n",
        "shom_ts = shom.iloc[29099:32736].reset_index(drop=True)\n",
        "shom_val = shom.iloc[32736:].reset_index(drop=True)\n",
        "print(' shomresh train:',shom_tr.shape,'\\n','shomresh test:',shom_ts.shape,'\\n','shomresh valid:',shom_val.shape)"
      ]
    },
    {
      "cell_type": "markdown",
      "id": "5eb6fb7e",
      "metadata": {
        "id": "5eb6fb7e"
      },
      "source": [
        "# Shordindu"
      ]
    },
    {
      "cell_type": "code",
      "execution_count": null,
      "id": "92b487f4",
      "metadata": {
        "id": "92b487f4",
        "outputId": "0f9a3674-8f79-4e47-821f-d33f411d2693"
      },
      "outputs": [
        {
          "name": "stdout",
          "output_type": "stream",
          "text": [
            "(40815, 3)\n",
            "total sent: 2000 \n",
            "\n"
          ]
        }
      ],
      "source": [
        "sh = df.get('shordindu')\n",
        "shor = sh.fillna(method='ffill')\n",
        "print(shor.shape)\n",
        "print('total sent:',shor['Sentence #'].nunique(),'\\n')"
      ]
    },
    {
      "cell_type": "code",
      "execution_count": null,
      "id": "12e00e5f",
      "metadata": {
        "id": "12e00e5f",
        "outputId": "2e387627-0b24-4ab0-e97b-fa11bde0cff1"
      },
      "outputs": [
        {
          "name": "stdout",
          "output_type": "stream",
          "text": [
            " shordindu train: (32652, 3) \n",
            " shordindu test: (4081, 3) \n",
            " shordindu valid: (4082, 3)\n"
          ]
        }
      ],
      "source": [
        "shor_tr = shor.iloc[:32652].reset_index(drop=True)\n",
        "shor_ts = shor.iloc[32652:36733].reset_index(drop=True)\n",
        "shor_val = shor.iloc[36733:].reset_index(drop=True)\n",
        "print(' shordindu train:',shor_tr.shape,'\\n','shordindu test:',shor_ts.shape,'\\n','shordindu valid:',shor_val.shape)"
      ]
    },
    {
      "cell_type": "markdown",
      "id": "544249d1",
      "metadata": {
        "id": "544249d1"
      },
      "source": [
        "# Shorotchandra"
      ]
    },
    {
      "cell_type": "code",
      "execution_count": null,
      "id": "f9d4c56d",
      "metadata": {
        "id": "f9d4c56d",
        "outputId": "61ff0f7b-47c1-4596-b272-ba00d922526c"
      },
      "outputs": [
        {
          "name": "stdout",
          "output_type": "stream",
          "text": [
            "(51247, 3)\n",
            "total sent: 2000 \n",
            "\n"
          ]
        }
      ],
      "source": [
        "s = df.get('shorotchandra')\n",
        "shorot = s.fillna(method='ffill')\n",
        "print(shorot.shape)\n",
        "print('total sent:',shorot['Sentence #'].nunique(),'\\n')"
      ]
    },
    {
      "cell_type": "code",
      "execution_count": null,
      "id": "cd2da74c",
      "metadata": {
        "id": "cd2da74c",
        "outputId": "067883bb-8841-4092-f64e-a0fa7d70fefa"
      },
      "outputs": [
        {
          "name": "stdout",
          "output_type": "stream",
          "text": [
            " shorotchandra train: (40997, 3) \n",
            " shorotchandra test: (5124, 3) \n",
            " shorotchandra valid: (5126, 3)\n"
          ]
        }
      ],
      "source": [
        "shorot_tr = shorot.iloc[:40997].reset_index(drop=True)\n",
        "shorot_ts = shorot.iloc[40997:46121].reset_index(drop=True)\n",
        "shorot_val = shorot.iloc[46121:].reset_index(drop=True)\n",
        "print(' shorotchandra train:',shorot_tr.shape,'\\n','shorotchandra test:',shorot_ts.shape,'\\n','shorotchandra valid:',shorot_val.shape)"
      ]
    },
    {
      "cell_type": "markdown",
      "id": "a361292c",
      "metadata": {
        "id": "a361292c"
      },
      "source": [
        "# Shottojit Roy"
      ]
    },
    {
      "cell_type": "code",
      "execution_count": null,
      "id": "dd3420a5",
      "metadata": {
        "id": "dd3420a5",
        "outputId": "44329214-2ec6-40c8-9f99-8157959f35af"
      },
      "outputs": [
        {
          "name": "stdout",
          "output_type": "stream",
          "text": [
            "(40198, 3)\n",
            "total sent: 2000 \n",
            "\n"
          ]
        }
      ],
      "source": [
        "shotto = df.get('shottojit_roy')\n",
        "shottojit = shotto.fillna(method='ffill')\n",
        "print(shottojit.shape)\n",
        "print('total sent:',shottojit['Sentence #'].nunique(),'\\n')"
      ]
    },
    {
      "cell_type": "code",
      "execution_count": null,
      "id": "5f5daa51",
      "metadata": {
        "id": "5f5daa51",
        "outputId": "a43d27e7-d1bf-44cb-84be-2cefb460a5b8"
      },
      "outputs": [
        {
          "name": "stdout",
          "output_type": "stream",
          "text": [
            " shottojit train: (32158, 3) \n",
            " shottojit test: (4019, 3) \n",
            " shottojit valid: (4021, 3)\n"
          ]
        }
      ],
      "source": [
        "shottojit_tr = shottojit.iloc[:32158].reset_index(drop=True)\n",
        "shottojit_ts = shottojit.iloc[32158:36177].reset_index(drop=True)\n",
        "shottojit_val = shottojit.iloc[36177:].reset_index(drop=True)\n",
        "print(' shottojit train:',shottojit_tr.shape,'\\n','shottojit test:',shottojit_ts.shape,'\\n','shottojit valid:',shottojit_val.shape)"
      ]
    },
    {
      "cell_type": "markdown",
      "id": "449abcfc",
      "metadata": {
        "id": "449abcfc"
      },
      "source": [
        "# Shunil Gongopaddhay"
      ]
    },
    {
      "cell_type": "code",
      "execution_count": null,
      "id": "c95a785e",
      "metadata": {
        "id": "c95a785e",
        "outputId": "fafc0750-eb6d-4ee1-847c-ae208b90ff24"
      },
      "outputs": [
        {
          "name": "stdout",
          "output_type": "stream",
          "text": [
            "(44656, 3)\n",
            "total sent: 2001 \n",
            "\n"
          ]
        }
      ],
      "source": [
        "shu = df.get('shunil_gongopaddhay')\n",
        "shunil = shu.fillna(method='ffill')\n",
        "print(shunil.shape)\n",
        "print('total sent:',shunil['Sentence #'].nunique(),'\\n')"
      ]
    },
    {
      "cell_type": "code",
      "execution_count": null,
      "id": "52057776",
      "metadata": {
        "id": "52057776",
        "outputId": "ae6ff89e-91dc-4861-b346-9e48e1d32201"
      },
      "outputs": [
        {
          "name": "stdout",
          "output_type": "stream",
          "text": [
            " shunil train: (35724, 3) \n",
            " shunil test: (4465, 3) \n",
            " shunil valid: (4467, 3)\n"
          ]
        }
      ],
      "source": [
        "shunil_tr = shunil.iloc[:35724].reset_index(drop=True)\n",
        "shunil_ts = shunil.iloc[35724:40189].reset_index(drop=True)\n",
        "shunil_val = shunil.iloc[40189:].reset_index(drop=True)\n",
        "print(' shunil train:',shunil_tr.shape,'\\n','shunil test:',shunil_ts.shape,'\\n','shunil valid:',shunil_val.shape)"
      ]
    },
    {
      "cell_type": "markdown",
      "id": "bb5c1c30",
      "metadata": {
        "id": "bb5c1c30"
      },
      "source": [
        "# Tarashonkor"
      ]
    },
    {
      "cell_type": "code",
      "execution_count": null,
      "id": "85477d39",
      "metadata": {
        "id": "85477d39",
        "outputId": "a02a1092-051c-479a-de12-14597b523036"
      },
      "outputs": [
        {
          "name": "stdout",
          "output_type": "stream",
          "text": [
            "(44158, 3)\n",
            "total sent: 2000 \n",
            "\n"
          ]
        }
      ],
      "source": [
        "tar = df.get('tarashonkor')\n",
        "tara = tar.fillna(method='ffill')\n",
        "print(tara.shape)\n",
        "print('total sent:',tara['Sentence #'].nunique(),'\\n')"
      ]
    },
    {
      "cell_type": "code",
      "execution_count": null,
      "id": "8e64550a",
      "metadata": {
        "id": "8e64550a",
        "outputId": "f6b02393-4c2f-46aa-c70b-4d62b0fb0007"
      },
      "outputs": [
        {
          "name": "stdout",
          "output_type": "stream",
          "text": [
            " tarashonkor train: (35326, 3) \n",
            " tarashonkor test: (4415, 3) \n",
            " tarashonkor valid: (4417, 3)\n"
          ]
        }
      ],
      "source": [
        "tara_tr = tara.iloc[:35326].reset_index(drop=True)\n",
        "tara_ts = tara.iloc[35326:39741].reset_index(drop=True)\n",
        "tara_val = tara.iloc[39741:].reset_index(drop=True)\n",
        "print(' tarashonkor train:',tara_tr.shape,'\\n','tarashonkor test:',tara_ts.shape,'\\n','tarashonkor valid:',tara_val.shape)"
      ]
    },
    {
      "cell_type": "markdown",
      "id": "e27aa669",
      "metadata": {
        "id": "e27aa669"
      },
      "source": [
        "# Toslima Nasrin"
      ]
    },
    {
      "cell_type": "code",
      "execution_count": null,
      "id": "f57326c3",
      "metadata": {
        "id": "f57326c3",
        "outputId": "6c5e7fa0-b4d9-4464-8416-4b9a09973e70"
      },
      "outputs": [
        {
          "name": "stdout",
          "output_type": "stream",
          "text": [
            "(44695, 3)\n",
            "total sent: 2000 \n",
            "\n"
          ]
        }
      ],
      "source": [
        "tos = df.get('toslima_nasrin')\n",
        "toslima = tos.fillna(method='ffill')\n",
        "print(toslima.shape)\n",
        "print('total sent:',toslima['Sentence #'].nunique(),'\\n')"
      ]
    },
    {
      "cell_type": "code",
      "execution_count": null,
      "id": "4b7b22a9",
      "metadata": {
        "id": "4b7b22a9",
        "outputId": "7b641d6e-7392-4fc6-fc55-65a9adb11e85"
      },
      "outputs": [
        {
          "name": "stdout",
          "output_type": "stream",
          "text": [
            " toslima train: (35756, 3) \n",
            " toslima test: (4469, 3) \n",
            " toslima valid: (4470, 3)\n"
          ]
        }
      ],
      "source": [
        "tos_tr = toslima.iloc[:35756].reset_index(drop=True)\n",
        "tos_tr_df= pd.DataFrame(tos_tr)\n",
        "tos_ts = toslima.iloc[35756:40225].reset_index(drop=True)\n",
        "tos_val = toslima.iloc[40225:].reset_index(drop=True)\n",
        "print(' toslima train:',tos_tr.shape,'\\n','toslima test:',tos_ts.shape,'\\n','toslima valid:',tos_val.shape)"
      ]
    },
    {
      "cell_type": "markdown",
      "id": "29454003",
      "metadata": {
        "id": "29454003"
      },
      "source": [
        "# Zahir Rayhan"
      ]
    },
    {
      "cell_type": "code",
      "execution_count": null,
      "id": "49505617",
      "metadata": {
        "id": "49505617",
        "outputId": "4423677f-18bf-41e0-85d1-74a377d79b30"
      },
      "outputs": [
        {
          "name": "stdout",
          "output_type": "stream",
          "text": [
            "(12405, 3)\n",
            "total sent: 660 \n",
            "\n"
          ]
        }
      ],
      "source": [
        "zah = df.get('zahir_rayhan')\n",
        "zahir = zah.fillna(method='ffill')\n",
        "print(zahir.shape)\n",
        "print('total sent:',zahir['Sentence #'].nunique(),'\\n')"
      ]
    },
    {
      "cell_type": "code",
      "execution_count": null,
      "id": "9da16c10",
      "metadata": {
        "id": "9da16c10",
        "outputId": "1c373b9d-e3d4-4bf2-f7c2-473bb9bb8791"
      },
      "outputs": [
        {
          "name": "stdout",
          "output_type": "stream",
          "text": [
            " zahir train: (9924, 3) \n",
            " zahir test: (1240, 3) \n",
            " zahir valid: (1241, 3)\n"
          ]
        }
      ],
      "source": [
        "zah_tr = zahir.iloc[:9924].reset_index(drop=True)\n",
        "zah_ts = zahir.iloc[9924:11164].reset_index(drop=True)\n",
        "zah_val = zahir.iloc[11164:].reset_index(drop=True)\n",
        "print(' zahir train:',zah_tr.shape,'\\n','zahir test:',zah_ts.shape,'\\n','zahir valid:',zah_val.shape)"
      ]
    },
    {
      "cell_type": "markdown",
      "id": "d540ba41",
      "metadata": {
        "id": "d540ba41"
      },
      "source": [
        "# Train Dataset"
      ]
    },
    {
      "cell_type": "code",
      "execution_count": null,
      "id": "4cf39271",
      "metadata": {
        "id": "4cf39271"
      },
      "outputs": [],
      "source": [
        "data_tr = pd.concat([bon_tr,hum_tr,man_tr,mz_tr,naz_tr,nih_tr,robin_tr,shir_tr,shom_tr,shor_tr,shorot_tr,shottojit_tr,shunil_tr,tara_tr,tos_tr,zah_tr]).reset_index(drop=True)"
      ]
    },
    {
      "cell_type": "code",
      "execution_count": null,
      "id": "014b21da",
      "metadata": {
        "id": "014b21da",
        "outputId": "17ed26a6-1282-408a-bef0-9866abc99bab"
      },
      "outputs": [
        {
          "name": "stdout",
          "output_type": "stream",
          "text": [
            "             Sentence #     Word    Tag\n",
            "0           Sentence: 1   নিশাকর  B-PER\n",
            "1           Sentence: 1    বলিতে      O\n",
            "2           Sentence: 1  লাগিলেন      O\n",
            "3           Sentence: 1        ,      O\n",
            "4           Sentence: 1        “      O\n",
            "...                 ...      ...    ...\n",
            "520228  Sentence: 29512     বদলে      O\n",
            "520229  Sentence: 29512    নিয়ে      O\n",
            "520230  Sentence: 29512        ,      O\n",
            "520231  Sentence: 29512       ওর      O\n",
            "520232  Sentence: 29512     কাছে      O\n",
            "\n",
            "[520233 rows x 3 columns]\n"
          ]
        }
      ],
      "source": [
        "print(data_tr)"
      ]
    },
    {
      "cell_type": "code",
      "execution_count": null,
      "id": "b8883f28",
      "metadata": {
        "id": "b8883f28"
      },
      "outputs": [],
      "source": [
        "data_tr.to_csv('Train dataset.csv',index=False)"
      ]
    },
    {
      "cell_type": "markdown",
      "id": "2324d0fb",
      "metadata": {
        "id": "2324d0fb"
      },
      "source": [
        "# Test Dataset"
      ]
    },
    {
      "cell_type": "code",
      "execution_count": null,
      "id": "d0aea1ce",
      "metadata": {
        "id": "d0aea1ce"
      },
      "outputs": [],
      "source": [
        "data_ts = pd.concat([bon_ts,hum_ts,man_ts,mz_ts,naz_ts,nih_ts,robin_ts,shir_ts,shom_ts,shor_ts,shorot_ts,shottojit_ts,shunil_ts,tara_ts,tos_ts,zah_ts]).reset_index(drop=True)"
      ]
    },
    {
      "cell_type": "code",
      "execution_count": null,
      "id": "4bc0d271",
      "metadata": {
        "id": "4bc0d271",
        "outputId": "b5351637-a016-4a07-84d8-521774f1e3bb"
      },
      "outputs": [
        {
          "name": "stdout",
          "output_type": "stream",
          "text": [
            "            Sentence #      Word Tag\n",
            "0       Sentence: 1588         ,   O\n",
            "1       Sentence: 1588        আর   O\n",
            "2       Sentence: 1588     রাজ্য   O\n",
            "3       Sentence: 1588     বেচার   O\n",
            "4       Sentence: 1588  পরামর্শে   O\n",
            "...                ...       ...  ..\n",
            "65016  Sentence: 29576         ,   O\n",
            "65017  Sentence: 29576     হ্যাঁ   O\n",
            "65018  Sentence: 29576         ,   O\n",
            "65019  Sentence: 29576       আমি   O\n",
            "65020  Sentence: 29576      জানি   O\n",
            "\n",
            "[65021 rows x 3 columns]\n"
          ]
        }
      ],
      "source": [
        "print(data_ts)"
      ]
    },
    {
      "cell_type": "code",
      "execution_count": null,
      "id": "5e8a465f",
      "metadata": {
        "id": "5e8a465f"
      },
      "outputs": [],
      "source": [
        "data_ts.to_csv('Test dataset.csv',index=False)"
      ]
    },
    {
      "cell_type": "markdown",
      "id": "08dc1591",
      "metadata": {
        "id": "08dc1591"
      },
      "source": [
        "# Valid Dataset"
      ]
    },
    {
      "cell_type": "code",
      "execution_count": null,
      "id": "25b54af8",
      "metadata": {
        "id": "25b54af8"
      },
      "outputs": [],
      "source": [
        "data_val = pd.concat([bon_val,hum_val,man_val,mz_val,naz_val,nih_val,robin_val,shir_val,shom_val,shor_val,shorot_val,shottojit_val,shunil_val,tara_val,tos_val,zah_val]).reset_index(drop=True)"
      ]
    },
    {
      "cell_type": "code",
      "execution_count": null,
      "id": "5043020e",
      "metadata": {
        "id": "5043020e",
        "outputId": "458095fd-ed42-48ef-bde3-b2a865986d4d"
      },
      "outputs": [
        {
          "name": "stdout",
          "output_type": "stream",
          "text": [
            "            Sentence #     Word    Tag\n",
            "0       Sentence: 1791       হই      O\n",
            "1       Sentence: 1791        ,      O\n",
            "2       Sentence: 1791       আর      O\n",
            "3       Sentence: 1791  মিলাইতে      O\n",
            "4       Sentence: 1791     পারি      O\n",
            "...                ...      ...    ...\n",
            "65040  Sentence: 29638  মনসুরটা  B-PER\n",
            "65041  Sentence: 29638       তো      O\n",
            "65042  Sentence: 29638       আজ  B-TIM\n",
            "65043  Sentence: 29638      এলো      O\n",
            "65044  Sentence: 29638       না      O\n",
            "\n",
            "[65045 rows x 3 columns]\n"
          ]
        }
      ],
      "source": [
        "print(data_val)"
      ]
    },
    {
      "cell_type": "code",
      "execution_count": null,
      "id": "436ba696",
      "metadata": {
        "id": "436ba696"
      },
      "outputs": [],
      "source": [
        "data_val.to_csv('Valid dataset.csv',index=False)"
      ]
    },
    {
      "cell_type": "markdown",
      "id": "722513c2",
      "metadata": {
        "id": "722513c2"
      },
      "source": [
        "# Dataset Convert to JSON"
      ]
    },
    {
      "cell_type": "code",
      "execution_count": null,
      "id": "a8f7368f",
      "metadata": {
        "id": "a8f7368f"
      },
      "outputs": [],
      "source": [
        "dataset = {\n",
        "    'train' : [],\n",
        "    'test' : [],\n",
        "    'validation' : []\n",
        "    }"
      ]
    },
    {
      "cell_type": "code",
      "execution_count": null,
      "id": "ff5f8268",
      "metadata": {
        "id": "ff5f8268"
      },
      "outputs": [],
      "source": [
        "def conv_to_dict(df, df_name):\n",
        "\n",
        "    for i in range(len(df)):\n",
        "\n",
        "        ner_tag = df['Tag'][i]\n",
        "        token =  df['Word'][i]\n",
        "\n",
        "        temp = {\n",
        "            'ner_tags': ner_tag,\n",
        "            'tokens': token\n",
        "        }\n",
        "\n",
        "\n",
        "        dataset[df_name].append(temp)\n",
        ""
      ]
    },
    {
      "cell_type": "code",
      "execution_count": null,
      "id": "99c3d963",
      "metadata": {
        "id": "99c3d963"
      },
      "outputs": [],
      "source": [
        "conv_to_dict(data_tr, 'train')"
      ]
    },
    {
      "cell_type": "code",
      "execution_count": null,
      "id": "5f02dfd7",
      "metadata": {
        "id": "5f02dfd7",
        "outputId": "910a5bc3-0805-40db-f840-2f1c23d44188"
      },
      "outputs": [
        {
          "data": {
            "text/plain": [
              "{'train': [{'ner_tags': 'B-PER', 'tokens': 'নিশাকর'},\n",
              "  {'ner_tags': 'O', 'tokens': 'বলিতে'},\n",
              "  {'ner_tags': 'O', 'tokens': 'লাগিলেন'},\n",
              "  {'ner_tags': 'O', 'tokens': ','},\n",
              "  {'ner_tags': 'O', 'tokens': '“'},\n",
              "  {'ner_tags': 'O', 'tokens': 'আপনার'},\n",
              "  {'ner_tags': 'O', 'tokens': 'ভার্যা'},\n",
              "  {'ner_tags': 'O', 'tokens': 'আমাকে'},\n",
              "  {'ner_tags': 'O', 'tokens': 'বিষয়গুলি'},\n",
              "  {'ner_tags': 'O', 'tokens': 'পত্তনি'},\n",
              "  {'ner_tags': 'O', 'tokens': 'দিতে'},\n",
              "  {'ner_tags': 'O', 'tokens': 'স্বীকৃত'},\n",
              "  {'ner_tags': 'O', 'tokens': 'হইয়াছেন'},\n",
              "  {'ner_tags': 'O', 'tokens': ','},\n",
              "  {'ner_tags': 'O', 'tokens': 'কিন্তু'},\n",
              "  {'ner_tags': 'O', 'tokens': 'আপনার'},\n",
              "  {'ner_tags': 'O', 'tokens': 'অনুমতিসাপেক্ষ'},\n",
              "  {'ner_tags': 'O', 'tokens': 'সেটা'},\n",
              "  {'ner_tags': 'O', 'tokens': 'পলায়ন'},\n",
              "  {'ner_tags': 'O', 'tokens': 'অবধি'},\n",
              "  {'ner_tags': 'O', 'tokens': 'রাজার'},\n",
              "  {'ner_tags': 'O', 'tokens': 'মেজাজ'},\n",
              "  {'ner_tags': 'O', 'tokens': 'এমন'},\n",
              "  {'ner_tags': 'O', 'tokens': 'গরম'},\n",
              "  {'ner_tags': 'O', 'tokens': 'যে'},\n",
              "  {'ner_tags': 'O', 'tokens': ','},\n",
              "  {'ner_tags': 'O', 'tokens': 'কাক'},\n",
              "  {'ner_tags': 'O', 'tokens': 'পক্ষী'},\n",
              "  {'ner_tags': 'O', 'tokens': 'কাছে'},\n",
              "  {'ner_tags': 'O', 'tokens': 'যেতে'},\n",
              "  {'ner_tags': 'O', 'tokens': 'পাচ্চে'},\n",
              "  {'ner_tags': 'O', 'tokens': 'না'},\n",
              "  {'ner_tags': 'O', 'tokens': 'কন্যার'},\n",
              "  {'ner_tags': 'O', 'tokens': 'পিতা'},\n",
              "  {'ner_tags': 'O', 'tokens': 'পুত্রহীন'},\n",
              "  {'ner_tags': 'O', 'tokens': ','},\n",
              "  {'ner_tags': 'O', 'tokens': 'এজন্য'},\n",
              "  {'ner_tags': 'O', 'tokens': 'এই'},\n",
              "  {'ner_tags': 'O', 'tokens': 'বিবাহে'},\n",
              "  {'ner_tags': 'B-PER', 'tokens': 'বীরেন্দ্রের'},\n",
              "  {'ner_tags': 'O', 'tokens': 'সম্পত্তিবৃদ্ধির'},\n",
              "  {'ner_tags': 'O', 'tokens': 'সম্ভাবনা'},\n",
              "  {'ner_tags': 'O', 'tokens': ';'},\n",
              "  {'ner_tags': 'O', 'tokens': 'কন্যাও'},\n",
              "  {'ner_tags': 'O', 'tokens': 'সুন্দরী'},\n",
              "  {'ner_tags': 'O', 'tokens': 'বটে'},\n",
              "  {'ner_tags': 'O', 'tokens': ','},\n",
              "  {'ner_tags': 'O', 'tokens': 'সুতরাং'},\n",
              "  {'ner_tags': 'O', 'tokens': 'এমত'},\n",
              "  {'ner_tags': 'O', 'tokens': 'সম্বন্ধ'},\n",
              "  {'ner_tags': 'O', 'tokens': 'বৃদ্ধের'},\n",
              "  {'ner_tags': 'O', 'tokens': 'বিবেচনায়'},\n",
              "  {'ner_tags': 'O', 'tokens': 'অতি'},\n",
              "  {'ner_tags': 'O', 'tokens': 'আদরণীয়'},\n",
              "  {'ner_tags': 'O', 'tokens': 'বোধ'},\n",
              "  {'ner_tags': 'O', 'tokens': 'হইল'},\n",
              "  {'ner_tags': 'O', 'tokens': ';'},\n",
              "  {'ner_tags': 'O', 'tokens': 'তিনি'},\n",
              "  {'ner_tags': 'O', 'tokens': 'বিবাহের'},\n",
              "  {'ner_tags': 'O', 'tokens': 'উদ্যোগ'},\n",
              "  {'ner_tags': 'O', 'tokens': 'করিতে'},\n",
              "  {'ner_tags': 'O', 'tokens': 'লাগিলেন'},\n",
              "  {'ner_tags': 'O', 'tokens': 'কিন্তু'},\n",
              "  {'ner_tags': 'O', 'tokens': 'চাহিয়া'},\n",
              "  {'ner_tags': 'O', 'tokens': 'দেখিয়া'},\n",
              "  {'ner_tags': 'B-PER', 'tokens': 'নসীরামকে'},\n",
              "  {'ner_tags': 'O', 'tokens': 'চিনিতে'},\n",
              "  {'ner_tags': 'O', 'tokens': 'পারিলাম'},\n",
              "  {'ner_tags': 'O', 'tokens': 'না'},\n",
              "  {'ner_tags': 'O', 'tokens': '-'},\n",
              "  {'ner_tags': 'O', 'tokens': 'দেখিলাম'},\n",
              "  {'ner_tags': 'O', 'tokens': ','},\n",
              "  {'ner_tags': 'O', 'tokens': 'মনে'},\n",
              "  {'ner_tags': 'O', 'tokens': 'হইল'},\n",
              "  {'ner_tags': 'O', 'tokens': ','},\n",
              "  {'ner_tags': 'O', 'tokens': 'একটা'},\n",
              "  {'ner_tags': 'O', 'tokens': 'বৃহৎ'},\n",
              "  {'ner_tags': 'O', 'tokens': 'পতঙ্গ'},\n",
              "  {'ner_tags': 'O', 'tokens': 'বালিশ'},\n",
              "  {'ner_tags': 'O', 'tokens': 'ঠেসান'},\n",
              "  {'ner_tags': 'O', 'tokens': 'দিয়া'},\n",
              "  {'ner_tags': 'O', 'tokens': 'তামাকু'},\n",
              "  {'ner_tags': 'O', 'tokens': 'টানিতেছে'},\n",
              "  {'ner_tags': 'B-PER', 'tokens': 'রজনীর'},\n",
              "  {'ner_tags': 'O', 'tokens': 'সঙ্গে'},\n",
              "  {'ner_tags': 'O', 'tokens': 'আমার'},\n",
              "  {'ner_tags': 'O', 'tokens': 'বিবাহের'},\n",
              "  {'ner_tags': 'O', 'tokens': 'কথা'},\n",
              "  {'ner_tags': 'O', 'tokens': 'উত্থাপিত'},\n",
              "  {'ner_tags': 'O', 'tokens': 'হওয়া'},\n",
              "  {'ner_tags': 'O', 'tokens': 'অবধি'},\n",
              "  {'ner_tags': 'O', 'tokens': 'আমি'},\n",
              "  {'ner_tags': 'O', 'tokens': 'আর'},\n",
              "  {'ner_tags': 'B-PER', 'tokens': 'রজনীর'},\n",
              "  {'ner_tags': 'O', 'tokens': 'সঙ্গে'},\n",
              "  {'ner_tags': 'O', 'tokens': 'সাক্ষাৎ'},\n",
              "  {'ner_tags': 'O', 'tokens': 'করিতে'},\n",
              "  {'ner_tags': 'O', 'tokens': 'বড়'},\n",
              "  {'ner_tags': 'O', 'tokens': 'যাইতাম'},\n",
              "  {'ner_tags': 'O', 'tokens': 'না'},\n",
              "  {'ner_tags': 'O', 'tokens': '-'},\n",
              "  {'ner_tags': 'O', 'tokens': 'কেন'},\n",
              "  {'ner_tags': 'O', 'tokens': 'না'},\n",
              "  {'ner_tags': 'O', 'tokens': ','},\n",
              "  {'ner_tags': 'O', 'tokens': 'এখন'},\n",
              "  {'ner_tags': 'O', 'tokens': 'আমাকে'},\n",
              "  {'ner_tags': 'O', 'tokens': 'দেখিলে'},\n",
              "  {'ner_tags': 'B-PER', 'tokens': 'রজনী'},\n",
              "  {'ner_tags': 'O', 'tokens': 'কিছু'},\n",
              "  {'ner_tags': 'O', 'tokens': 'লজ্জিতা'},\n",
              "  {'ner_tags': 'O', 'tokens': 'হইত'},\n",
              "  {'ner_tags': 'O', 'tokens': 'গৃহ'},\n",
              "  {'ner_tags': 'O', 'tokens': 'যাহাতে'},\n",
              "  {'ner_tags': 'O', 'tokens': 'আলো'},\n",
              "  {'ner_tags': 'O', 'tokens': 'হয়'},\n",
              "  {'ner_tags': 'O', 'tokens': ','},\n",
              "  {'ner_tags': 'O', 'tokens': 'স্ত্রী'},\n",
              "  {'ner_tags': 'O', 'tokens': 'পুত্র'},\n",
              "  {'ner_tags': 'O', 'tokens': 'পরিবার'},\n",
              "  {'ner_tags': 'O', 'tokens': '-'},\n",
              "  {'ner_tags': 'O', 'tokens': 'এ'},\n",
              "  {'ner_tags': 'O', 'tokens': 'সকলই'},\n",
              "  {'ner_tags': 'O', 'tokens': 'তাঁহার'},\n",
              "  {'ner_tags': 'O', 'tokens': 'গৃহে'},\n",
              "  {'ner_tags': 'O', 'tokens': 'ছিল'},\n",
              "  {'ner_tags': 'O', 'tokens': 'না'},\n",
              "  {'ner_tags': 'O', 'tokens': 'তা'},\n",
              "  {'ner_tags': 'O', 'tokens': 'কেমন'},\n",
              "  {'ner_tags': 'O', 'tokens': 'ক'},\n",
              "  {'ner_tags': 'O', 'tokens': '’'},\n",
              "  {'ner_tags': 'O', 'tokens': 'রে'},\n",
              "  {'ner_tags': 'O', 'tokens': 'হবে'},\n",
              "  {'ner_tags': 'O', 'tokens': '?'},\n",
              "  {'ner_tags': 'O', 'tokens': 'সে'},\n",
              "  {'ner_tags': 'O', 'tokens': 'তোমার'},\n",
              "  {'ner_tags': 'O', 'tokens': 'জিজ্ঞাসা'},\n",
              "  {'ner_tags': 'O', 'tokens': 'কর্\\u200cলে'},\n",
              "  {'ner_tags': 'O', 'tokens': ','},\n",
              "  {'ner_tags': 'O', 'tokens': '“'},\n",
              "  {'ner_tags': 'O', 'tokens': 'তুমি'},\n",
              "  {'ner_tags': 'O', 'tokens': 'কেমন'},\n",
              "  {'ner_tags': 'O', 'tokens': 'আছ'},\n",
              "  {'ner_tags': 'O', 'tokens': ','},\n",
              "  {'ner_tags': 'O', 'tokens': '”'},\n",
              "  {'ner_tags': 'O', 'tokens': 'তুমি'},\n",
              "  {'ner_tags': 'O', 'tokens': 'ত'},\n",
              "  {'ner_tags': 'O', 'tokens': 'কৈ'},\n",
              "  {'ner_tags': 'O', 'tokens': 'তার'},\n",
              "  {'ner_tags': 'O', 'tokens': 'কোন'},\n",
              "  {'ner_tags': 'O', 'tokens': 'উত্তর'},\n",
              "  {'ner_tags': 'O', 'tokens': 'দিলে'},\n",
              "  {'ner_tags': 'O', 'tokens': 'না'},\n",
              "  {'ner_tags': 'O', 'tokens': ','},\n",
              "  {'ner_tags': 'O', 'tokens': '-'},\n",
              "  {'ner_tags': 'O', 'tokens': 'তুমি'},\n",
              "  {'ner_tags': 'O', 'tokens': 'সেই'},\n",
              "  {'ner_tags': 'O', 'tokens': 'কথাই'},\n",
              "  {'ner_tags': 'O', 'tokens': 'পালটিয়া'},\n",
              "  {'ner_tags': 'O', 'tokens': 'বলিলে'},\n",
              "  {'ner_tags': 'O', 'tokens': '!'},\n",
              "  {'ner_tags': 'B-PER', 'tokens': 'রামবাবু'},\n",
              "  {'ner_tags': 'O', 'tokens': 'নিকটে'},\n",
              "  {'ner_tags': 'B-PER', 'tokens': 'রাজমহিষী'},\n",
              "  {'ner_tags': 'O', 'tokens': 'ছিলেন'},\n",
              "  {'ner_tags': 'O', 'tokens': '-'},\n",
              "  {'ner_tags': 'O', 'tokens': 'রাজা'},\n",
              "  {'ner_tags': 'B-PER', 'tokens': 'ভোজনপাত্রের'},\n",
              "  {'ner_tags': 'O', 'tokens': 'উপর'},\n",
              "  {'ner_tags': 'O', 'tokens': 'পড়িয়া'},\n",
              "  {'ner_tags': 'O', 'tokens': 'যান'},\n",
              "  {'ner_tags': 'O', 'tokens': 'দেখিয়া'},\n",
              "  {'ner_tags': 'O', 'tokens': ','},\n",
              "  {'ner_tags': 'O', 'tokens': 'মহিষী'},\n",
              "  {'ner_tags': 'O', 'tokens': 'তাঁহার'},\n",
              "  {'ner_tags': 'O', 'tokens': 'হস্ত'},\n",
              "  {'ner_tags': 'O', 'tokens': 'ধরিলেন'},\n",
              "  {'ner_tags': 'O', 'tokens': ';'},\n",
              "  {'ner_tags': 'O', 'tokens': 'কহিলেন'},\n",
              "  {'ner_tags': 'O', 'tokens': ','},\n",
              "  {'ner_tags': 'O', 'tokens': '“'},\n",
              "  {'ner_tags': 'O', 'tokens': 'চিন্তা'},\n",
              "  {'ner_tags': 'O', 'tokens': 'নাই'},\n",
              "  {'ner_tags': 'O', 'tokens': '-'},\n",
              "  {'ner_tags': 'O', 'tokens': 'আপনি'},\n",
              "  {'ner_tags': 'O', 'tokens': 'উঠুন'},\n",
              "  {'ner_tags': 'O', 'tokens': 'কোথা'},\n",
              "  {'ner_tags': 'O', 'tokens': 'হইতে'},\n",
              "  {'ner_tags': 'O', 'tokens': 'ঢেঁকির'},\n",
              "  {'ner_tags': 'O', 'tokens': 'এই'},\n",
              "  {'ner_tags': 'O', 'tokens': 'কার্য্যদক্ষতা'},\n",
              "  {'ner_tags': 'O', 'tokens': '!'},\n",
              "  {'ner_tags': 'O', 'tokens': 'এই'},\n",
              "  {'ner_tags': 'O', 'tokens': 'পরোপকারে'},\n",
              "  {'ner_tags': 'O', 'tokens': 'মতি'},\n",
              "  {'ner_tags': 'O', 'tokens': '!'},\n",
              "  {'ner_tags': 'O', 'tokens': 'এই'},\n",
              "  {'ner_tags': 'O', 'tokens': '?'},\n",
              "  {'ner_tags': 'O', 'tokens': 'না'},\n",
              "  {'ner_tags': 'O', 'tokens': 'বস্তু'},\n",
              "  {'ner_tags': 'O', 'tokens': 'না'},\n",
              "  {'ner_tags': 'O', 'tokens': 'বস্তুসিদ্ধি'},\n",
              "  {'ner_tags': 'O', 'tokens': '?'},\n",
              "  {'ner_tags': 'O', 'tokens': '-'},\n",
              "  {'ner_tags': 'O', 'tokens': 'বিনা'},\n",
              "  {'ner_tags': 'O', 'tokens': 'কারণে'},\n",
              "  {'ner_tags': 'O', 'tokens': 'কি'},\n",
              "  {'ner_tags': 'O', 'tokens': 'ইহা'},\n",
              "  {'ner_tags': 'O', 'tokens': 'জন্মে'},\n",
              "  {'ner_tags': 'O', 'tokens': '?'},\n",
              "  {'ner_tags': 'O', 'tokens': 'অনুসন্ধাননার্থ'},\n",
              "  {'ner_tags': 'O', 'tokens': 'আমি'},\n",
              "  {'ner_tags': 'B-LOC', 'tokens': 'ঢেঁকিশালে'},\n",
              "  {'ner_tags': 'O', 'tokens': 'গেলাম'},\n",
              "  {'ner_tags': 'B-LOC', 'tokens': 'প্রসাদপুরের'},\n",
              "  {'ner_tags': 'I-LOC', 'tokens': 'বাজারে'},\n",
              "  {'ner_tags': 'O', 'tokens': 'দুই'},\n",
              "  {'ner_tags': 'O', 'tokens': 'এক'},\n",
              "  {'ner_tags': 'B-TIM', 'tokens': 'দিন'},\n",
              "  {'ner_tags': 'O', 'tokens': 'বাস'},\n",
              "  {'ner_tags': 'O', 'tokens': 'করিয়া'},\n",
              "  {'ner_tags': 'B-PER', 'tokens': 'গোবিন্দলাল'},\n",
              "  {'ner_tags': 'O', 'tokens': ','},\n",
              "  {'ner_tags': 'O', 'tokens': 'বাড়ীর'},\n",
              "  {'ner_tags': 'O', 'tokens': 'অবশিষ্ট'},\n",
              "  {'ner_tags': 'O', 'tokens': 'ইট'},\n",
              "  {'ner_tags': 'O', 'tokens': 'কাঠ'},\n",
              "  {'ner_tags': 'O', 'tokens': 'জলের'},\n",
              "  {'ner_tags': 'O', 'tokens': 'দামে'},\n",
              "  {'ner_tags': 'O', 'tokens': 'এক'},\n",
              "  {'ner_tags': 'O', 'tokens': 'ব্যক্তিকে'},\n",
              "  {'ner_tags': 'O', 'tokens': 'বিক্রয়'},\n",
              "  {'ner_tags': 'O', 'tokens': 'করিয়া'},\n",
              "  {'ner_tags': 'O', 'tokens': 'যাহা'},\n",
              "  {'ner_tags': 'O', 'tokens': 'কিছু'},\n",
              "  {'ner_tags': 'O', 'tokens': 'পাইলেন'},\n",
              "  {'ner_tags': 'O', 'tokens': ','},\n",
              "  {'ner_tags': 'O', 'tokens': 'তাহা'},\n",
              "  {'ner_tags': 'O', 'tokens': 'লইয়া'},\n",
              "  {'ner_tags': 'B-LOC', 'tokens': 'কলিকাতায়'},\n",
              "  {'ner_tags': 'O', 'tokens': 'গেলেন'},\n",
              "  {'ner_tags': 'O', 'tokens': 'অনেকগুলা'},\n",
              "  {'ner_tags': 'O', 'tokens': 'কবিরাজ'},\n",
              "  {'ner_tags': 'O', 'tokens': 'রাজবাড়ীতে'},\n",
              "  {'ner_tags': 'O', 'tokens': 'চাকরি'},\n",
              "  {'ner_tags': 'O', 'tokens': 'করে'},\n",
              "  {'ner_tags': 'O', 'tokens': ','},\n",
              "  {'ner_tags': 'O', 'tokens': 'তত'},\n",
              "  {'ner_tags': 'O', 'tokens': 'কর্ম'},\n",
              "  {'ner_tags': 'O', 'tokens': 'নাই'},\n",
              "  {'ner_tags': 'O', 'tokens': ','},\n",
              "  {'ner_tags': 'O', 'tokens': 'সচরাচর'},\n",
              "  {'ner_tags': 'O', 'tokens': 'ভৃত্যবর্গকে'},\n",
              "  {'ner_tags': 'O', 'tokens': 'মসলা'},\n",
              "  {'ner_tags': 'O', 'tokens': 'খাওয়াইয়া'},\n",
              "  {'ner_tags': 'O', 'tokens': ','},\n",
              "  {'ner_tags': 'O', 'tokens': 'এবং'},\n",
              "  {'ner_tags': 'O', 'tokens': 'পরিচারিকাকে'},\n",
              "  {'ner_tags': 'O', 'tokens': 'পোষ্টাই'},\n",
              "  {'ner_tags': 'O', 'tokens': 'দিয়া'},\n",
              "  {'ner_tags': 'O', 'tokens': 'কালাতিপাত'},\n",
              "  {'ner_tags': 'O', 'tokens': 'করে'},\n",
              "  {'ner_tags': 'O', 'tokens': ';'},\n",
              "  {'ner_tags': 'O', 'tokens': 'এক্ষণে'},\n",
              "  {'ner_tags': 'O', 'tokens': 'ছোট'},\n",
              "  {'ner_tags': 'O', 'tokens': 'রাণীকে'},\n",
              "  {'ner_tags': 'O', 'tokens': 'রোগী'},\n",
              "  {'ner_tags': 'O', 'tokens': 'পাইয়া'},\n",
              "  {'ner_tags': 'O', 'tokens': 'কবিরাজ'},\n",
              "  {'ner_tags': 'O', 'tokens': 'মহাশয়েরা'},\n",
              "  {'ner_tags': 'O', 'tokens': 'হঠাৎ'},\n",
              "  {'ner_tags': 'O', 'tokens': 'বড়লোক'},\n",
              "  {'ner_tags': 'O', 'tokens': 'হইয়া'},\n",
              "  {'ner_tags': 'O', 'tokens': 'বসিলেন'},\n",
              "  {'ner_tags': 'O', 'tokens': ','},\n",
              "  {'ner_tags': 'O', 'tokens': 'তখন'},\n",
              "  {'ner_tags': 'O', 'tokens': 'রোগনির্ণয়'},\n",
              "  {'ner_tags': 'O', 'tokens': 'লইয়া'},\n",
              "  {'ner_tags': 'O', 'tokens': 'মহা'},\n",
              "  {'ner_tags': 'O', 'tokens': 'হুলস্থূল'},\n",
              "  {'ner_tags': 'O', 'tokens': 'পড়িয়া'},\n",
              "  {'ner_tags': 'O', 'tokens': 'গেল'},\n",
              "  {'ner_tags': 'O', 'tokens': 'তোমরা'},\n",
              "  {'ner_tags': 'O', 'tokens': 'প্রাণ'},\n",
              "  {'ner_tags': 'O', 'tokens': 'দিয়া'},\n",
              "  {'ner_tags': 'O', 'tokens': 'আমায়'},\n",
              "  {'ner_tags': 'O', 'tokens': 'বাঁচাইতে'},\n",
              "  {'ner_tags': 'O', 'tokens': 'পারিবে'},\n",
              "  {'ner_tags': 'O', 'tokens': 'না–এ'},\n",
              "  {'ner_tags': 'O', 'tokens': 'সিপাহীর'},\n",
              "  {'ner_tags': 'O', 'tokens': 'বন্দুকের'},\n",
              "  {'ner_tags': 'O', 'tokens': 'কাছে'},\n",
              "  {'ner_tags': 'O', 'tokens': 'লাঠি'},\n",
              "  {'ner_tags': 'O', 'tokens': 'সোঁটা'},\n",
              "  {'ner_tags': 'O', 'tokens': 'কি'},\n",
              "  {'ner_tags': 'O', 'tokens': 'করিবে'},\n",
              "  {'ner_tags': 'O', 'tokens': '?'},\n",
              "  {'ner_tags': 'O', 'tokens': 'র'},\n",
              "  {'ner_tags': 'O', 'tokens': 'আমি'},\n",
              "  {'ner_tags': 'O', 'tokens': 'যাহা'},\n",
              "  {'ner_tags': 'O', 'tokens': 'চাহিতেছি'},\n",
              "  {'ner_tags': 'O', 'tokens': ','},\n",
              "  {'ner_tags': 'O', 'tokens': 'তাহা'},\n",
              "  {'ner_tags': 'O', 'tokens': 'এই'},\n",
              "  {'ner_tags': 'O', 'tokens': 'মুহূর্তে'},\n",
              "  {'ner_tags': 'O', 'tokens': 'আমাকে'},\n",
              "  {'ner_tags': 'O', 'tokens': 'দাও'},\n",
              "  {'ner_tags': 'O', 'tokens': ','},\n",
              "  {'ner_tags': 'O', 'tokens': 'নচেৎ'},\n",
              "  {'ner_tags': 'O', 'tokens': 'এই'},\n",
              "  {'ner_tags': 'O', 'tokens': 'ত্রিশূলাঘাতে'},\n",
              "  {'ner_tags': 'O', 'tokens': 'তোমাকে'},\n",
              "  {'ner_tags': 'O', 'tokens': 'বধ'},\n",
              "  {'ner_tags': 'O', 'tokens': 'করিব'},\n",
              "  {'ner_tags': 'B-PER', 'tokens': 'বিমলা'},\n",
              "  {'ner_tags': 'O', 'tokens': 'কহিলেন'},\n",
              "  {'ner_tags': 'O', 'tokens': ','},\n",
              "  {'ner_tags': 'O', 'tokens': '“'},\n",
              "  {'ner_tags': 'O', 'tokens': 'আবার'},\n",
              "  {'ner_tags': 'O', 'tokens': '!'},\n",
              "  {'ner_tags': 'O', 'tokens': '”'},\n",
              "  {'ner_tags': 'O', 'tokens': 'রাজপু্ত্র'},\n",
              "  {'ner_tags': 'O', 'tokens': 'কহিলেন'},\n",
              "  {'ner_tags': 'O', 'tokens': ','},\n",
              "  {'ner_tags': 'O', 'tokens': '“'},\n",
              "  {'ner_tags': 'O', 'tokens': 'তুমি'},\n",
              "  {'ner_tags': 'O', 'tokens': 'পুনরপি'},\n",
              "  {'ner_tags': 'B-TIM', 'tokens': 'ক্ষণেক'},\n",
              "  {'ner_tags': 'O', 'tokens': 'দাঁড়াও'},\n",
              "  {'ner_tags': 'O', 'tokens': ','},\n",
              "  {'ner_tags': 'O', 'tokens': 'আমি'},\n",
              "  {'ner_tags': 'O', 'tokens': 'দেখিয়া'},\n",
              "  {'ner_tags': 'O', 'tokens': 'আসি'},\n",
              "  {'ner_tags': 'O', 'tokens': 'মনুষ্যমধ্যে'},\n",
              "  {'ner_tags': 'O', 'tokens': 'বিশেষ'},\n",
              "  {'ner_tags': 'O', 'tokens': 'এক'},\n",
              "  {'ner_tags': 'O', 'tokens': 'প্রকার'},\n",
              "  {'ner_tags': 'O', 'tokens': 'নৈমিত্তিক'},\n",
              "  {'ner_tags': 'O', 'tokens': 'বিবাহ'},\n",
              "  {'ner_tags': 'O', 'tokens': 'প্রচলিত'},\n",
              "  {'ner_tags': 'O', 'tokens': 'আছে'},\n",
              "  {'ner_tags': 'O', 'tokens': ','},\n",
              "  {'ner_tags': 'O', 'tokens': 'তাহাকে'},\n",
              "  {'ner_tags': 'O', 'tokens': 'মৌদ্রিক'},\n",
              "  {'ner_tags': 'O', 'tokens': 'বিবাহ'},\n",
              "  {'ner_tags': 'O', 'tokens': 'বলা'},\n",
              "  {'ner_tags': 'O', 'tokens': 'যাইতে'},\n",
              "  {'ner_tags': 'O', 'tokens': 'পারে'},\n",
              "  {'ner_tags': 'O', 'tokens': 'ছাড়িবামাত্র'},\n",
              "  {'ner_tags': 'B-PER', 'tokens': 'মঙ্গলা'},\n",
              "  {'ner_tags': 'O', 'tokens': ','},\n",
              "  {'ner_tags': 'O', 'tokens': 'ঊর্দ্ধ্বপুচ্ছে'},\n",
              "  {'ner_tags': 'O', 'tokens': ','},\n",
              "  {'ner_tags': 'O', 'tokens': 'প্রণতশৃঙ্গে'},\n",
              "  {'ner_tags': 'O', 'tokens': 'ধাবমানা'},\n",
              "  {'ner_tags': 'O', 'tokens': '!'},\n",
              "  {'ner_tags': 'O', 'tokens': 'কি'},\n",
              "  {'ner_tags': 'O', 'tokens': 'ভাবিয়া'},\n",
              "  {'ner_tags': 'B-PER', 'tokens': 'মঙ্গলা'},\n",
              "  {'ner_tags': 'O', 'tokens': 'ছুটিল'},\n",
              "  {'ner_tags': 'O', 'tokens': 'তা'},\n",
              "  {'ner_tags': 'O', 'tokens': 'বলিতে'},\n",
              "  {'ner_tags': 'O', 'tokens': 'পারি'},\n",
              "  {'ner_tags': 'O', 'tokens': 'না'},\n",
              "  {'ner_tags': 'O', 'tokens': ','},\n",
              "  {'ner_tags': 'O', 'tokens': '-'},\n",
              "  {'ner_tags': 'O', 'tokens': 'স্ত্রীজাতি'},\n",
              "  {'ner_tags': 'O', 'tokens': 'ও'},\n",
              "  {'ner_tags': 'O', 'tokens': 'গোজাতির'},\n",
              "  {'ner_tags': 'O', 'tokens': 'মনের'},\n",
              "  {'ner_tags': 'O', 'tokens': 'কথা'},\n",
              "  {'ner_tags': 'O', 'tokens': 'কি'},\n",
              "  {'ner_tags': 'O', 'tokens': 'প্রকারে'},\n",
              "  {'ner_tags': 'O', 'tokens': 'বলিব'},\n",
              "  {'ner_tags': 'O', 'tokens': '?'},\n",
              "  {'ner_tags': 'O', 'tokens': 'কিন্তু'},\n",
              "  {'ner_tags': 'O', 'tokens': 'আমি'},\n",
              "  {'ner_tags': 'O', 'tokens': 'ভাবিলাম'},\n",
              "  {'ner_tags': 'O', 'tokens': ','},\n",
              "  {'ner_tags': 'O', 'tokens': 'আমিই'},\n",
              "  {'ner_tags': 'O', 'tokens': 'তাহার'},\n",
              "  {'ner_tags': 'O', 'tokens': 'উভয়'},\n",
              "  {'ner_tags': 'O', 'tokens': 'শৃঙ্গের'},\n",
              "  {'ner_tags': 'O', 'tokens': 'একমাত্র'},\n",
              "  {'ner_tags': 'O', 'tokens': 'লক্ষ্য'},\n",
              "  {'ner_tags': 'B-PER', 'tokens': 'গিরিজায়া'},\n",
              "  {'ner_tags': 'O', 'tokens': 'বলিল'},\n",
              "  {'ner_tags': 'O', 'tokens': ','},\n",
              "  {'ner_tags': 'O', 'tokens': '“'},\n",
              "  {'ner_tags': 'O', 'tokens': 'কেও'},\n",
              "  {'ner_tags': 'B-PER', 'tokens': 'দিব্বিজয়'},\n",
              "  {'ner_tags': 'O', 'tokens': '?'},\n",
              "  {'ner_tags': 'O', 'tokens': '”'},\n",
              "  {'ner_tags': 'B-PER', 'tokens': 'দিগ্বিজয়'},\n",
              "  {'ner_tags': 'O', 'tokens': 'রাগ'},\n",
              "  {'ner_tags': 'O', 'tokens': 'করিয়া'},\n",
              "  {'ner_tags': 'O', 'tokens': 'কহিল'},\n",
              "  {'ner_tags': 'O', 'tokens': ','},\n",
              "  {'ner_tags': 'O', 'tokens': '“'},\n",
              "  {'ner_tags': 'O', 'tokens': 'আমার'},\n",
              "  {'ner_tags': 'O', 'tokens': 'নাম'},\n",
              "  {'ner_tags': 'B-PER', 'tokens': 'দিগ্বিজয়'},\n",
              "  {'ner_tags': 'O', 'tokens': '|'},\n",
              "  {'ner_tags': 'O', 'tokens': '”'},\n",
              "  {'ner_tags': 'O', 'tokens': 'গি'},\n",
              "  {'ner_tags': 'O', 'tokens': 'এখন'},\n",
              "  {'ner_tags': 'O', 'tokens': 'জল'},\n",
              "  {'ner_tags': 'O', 'tokens': 'খাও'},\n",
              "  {'ner_tags': 'O', 'tokens': '|'},\n",
              "  {'ner_tags': 'O', 'tokens': '”'},\n",
              "  {'ner_tags': 'B-PER', 'tokens': 'কালীকান্ত'},\n",
              "  {'ner_tags': 'O', 'tokens': 'মনে'},\n",
              "  {'ner_tags': 'O', 'tokens': 'করিল'},\n",
              "  {'ner_tags': 'O', 'tokens': ','},\n",
              "  {'ner_tags': 'O', 'tokens': '“'},\n",
              "  {'ner_tags': 'O', 'tokens': 'বাবা'},\n",
              "  {'ner_tags': 'O', 'tokens': ','},\n",
              "  {'ner_tags': 'O', 'tokens': 'এঁর'},\n",
              "  {'ner_tags': 'O', 'tokens': 'কথার'},\n",
              "  {'ner_tags': 'O', 'tokens': 'ভাব'},\n",
              "  {'ner_tags': 'O', 'tokens': 'যে'},\n",
              "  {'ner_tags': 'O', 'tokens': 'কেমন'},\n",
              "  {'ner_tags': 'O', 'tokens': 'কেমন'},\n",
              "  {'ner_tags': 'O', 'tokens': 'কোকিল'},\n",
              "  {'ner_tags': 'O', 'tokens': 'আবার'},\n",
              "  {'ner_tags': 'O', 'tokens': 'এক'},\n",
              "  {'ner_tags': 'O', 'tokens': 'অশোকের'},\n",
              "  {'ner_tags': 'O', 'tokens': 'উপর'},\n",
              "  {'ner_tags': 'O', 'tokens': 'হইতে'},\n",
              "  {'ner_tags': 'O', 'tokens': 'ডাকিল'},\n",
              "  {'ner_tags': 'O', 'tokens': '“'},\n",
              "  {'ner_tags': 'O', 'tokens': 'কু'},\n",
              "  {'ner_tags': 'O', 'tokens': 'উ'},\n",
              "  {'ner_tags': 'O', 'tokens': '|'},\n",
              "  {'ner_tags': 'O', 'tokens': '”'},\n",
              "  {'ner_tags': 'O', 'tokens': 'তখন'},\n",
              "  {'ner_tags': 'B-PER', 'tokens': 'রোহিণী'},\n",
              "  {'ner_tags': 'O', 'tokens': 'সরোবরসোপান'},\n",
              "  {'ner_tags': 'O', 'tokens': 'অবতরণ'},\n",
              "  {'ner_tags': 'O', 'tokens': 'করিতেছিল'},\n",
              "  {'ner_tags': 'O', 'tokens': 'খরচা'},\n",
              "  {'ner_tags': 'O', 'tokens': 'ও'},\n",
              "  {'ner_tags': 'O', 'tokens': 'ওয়াশিলাত'},\n",
              "  {'ner_tags': 'O', 'tokens': 'দিতে'},\n",
              "  {'ner_tags': 'O', 'tokens': 'নগদ'},\n",
              "  {'ner_tags': 'O', 'tokens': 'যাহা'},\n",
              "  {'ner_tags': 'O', 'tokens': 'ছিল'},\n",
              "  {'ner_tags': 'O', 'tokens': ','},\n",
              "  {'ner_tags': 'O', 'tokens': 'তাহাও'},\n",
              "  {'ner_tags': 'O', 'tokens': 'গেল'},\n",
              "  {'ner_tags': 'O', 'tokens': ';'},\n",
              "  {'ner_tags': 'B-PER', 'tokens': 'রাধারাণীর'},\n",
              "  {'ner_tags': 'O', 'tokens': 'মাতা'},\n",
              "  {'ner_tags': 'O', 'tokens': ','},\n",
              "  {'ner_tags': 'O', 'tokens': 'অলঙ্কারাদি'},\n",
              "  {'ner_tags': 'O', 'tokens': 'বিক্রয়'},\n",
              "  {'ner_tags': 'O', 'tokens': 'করিয়া'},\n",
              "  {'ner_tags': 'O', 'tokens': ','},\n",
              "  {'ner_tags': 'B-ORG', 'tokens': 'প্রিবি'},\n",
              "  {'ner_tags': 'I-ORG', 'tokens': 'কৌন্সিলে'},\n",
              "  {'ner_tags': 'O', 'tokens': 'একটি'},\n",
              "  {'ner_tags': 'O', 'tokens': 'আপীল'},\n",
              "  {'ner_tags': 'O', 'tokens': 'করিল'},\n",
              "  {'ner_tags': 'O', 'tokens': 'অনেক'},\n",
              "  {'ner_tags': 'O', 'tokens': 'সময়েই'},\n",
              "  {'ner_tags': 'O', 'tokens': 'শুনা'},\n",
              "  {'ner_tags': 'O', 'tokens': 'যায়'},\n",
              "  {'ner_tags': 'O', 'tokens': ','},\n",
              "  {'ner_tags': 'O', 'tokens': 'অনেকের'},\n",
              "  {'ner_tags': 'O', 'tokens': 'বিষয়'},\n",
              "  {'ner_tags': 'O', 'tokens': 'লইয়া'},\n",
              "  {'ner_tags': 'O', 'tokens': 'ভূতগণ'},\n",
              "  {'ner_tags': 'O', 'tokens': 'আপনাদিগের'},\n",
              "  {'ner_tags': 'O', 'tokens': 'পিতৃকৃত্য'},\n",
              "  {'ner_tags': 'O', 'tokens': 'সম্পন্ন'},\n",
              "  {'ner_tags': 'O', 'tokens': 'করে'},\n",
              "  {'ner_tags': 'B-TIM', 'tokens': 'প্রাত'},\n",
              "  {'ner_tags': 'O', 'tokens': ':'},\n",
              "  {'ner_tags': 'I-TIM', 'tokens': 'কাল'},\n",
              "  {'ner_tags': 'O', 'tokens': 'উপস্থিত'},\n",
              "  {'ner_tags': 'O', 'tokens': 'দেখিয়া'},\n",
              "  {'ner_tags': 'O', 'tokens': 'তিনি'},\n",
              "  {'ner_tags': 'O', 'tokens': 'শূলদণ্ডে'},\n",
              "  {'ner_tags': 'O', 'tokens': 'ভর'},\n",
              "  {'ner_tags': 'O', 'tokens': 'করিয়া'},\n",
              "  {'ner_tags': 'O', 'tokens': 'গাত্রোত্থান'},\n",
              "  {'ner_tags': 'O', 'tokens': 'করিলেন'},\n",
              "  {'ner_tags': 'O', 'tokens': ','},\n",
              "  {'ner_tags': 'O', 'tokens': 'এবং'},\n",
              "  {'ner_tags': 'O', 'tokens': 'ধীরে'},\n",
              "  {'ner_tags': 'O', 'tokens': 'ধীরে'},\n",
              "  {'ner_tags': 'O', 'tokens': 'গৃহাভিমুখে'},\n",
              "  {'ner_tags': 'O', 'tokens': 'চলিলেন'},\n",
              "  {'ner_tags': 'O', 'tokens': 'বঙ্গভূমির'},\n",
              "  {'ner_tags': 'O', 'tokens': 'অদৃষ্টলিপি'},\n",
              "  {'ner_tags': 'O', 'tokens': 'এই'},\n",
              "  {'ner_tags': 'O', 'tokens': 'যে'},\n",
              "  {'ner_tags': 'O', 'tokens': ','},\n",
              "  {'ner_tags': 'O', 'tokens': 'এ'},\n",
              "  {'ner_tags': 'O', 'tokens': 'ভূমি'},\n",
              "  {'ner_tags': 'O', 'tokens': 'যুদ্ধে'},\n",
              "  {'ner_tags': 'O', 'tokens': 'জিত'},\n",
              "  {'ner_tags': 'O', 'tokens': 'হইবে'},\n",
              "  {'ner_tags': 'O', 'tokens': 'না'},\n",
              "  {'ner_tags': 'O', 'tokens': ';'},\n",
              "  {'ner_tags': 'O', 'tokens': 'চাতুর্যেই'},\n",
              "  {'ner_tags': 'O', 'tokens': 'ইহার'},\n",
              "  {'ner_tags': 'O', 'tokens': 'জয়'},\n",
              "  {'ner_tags': 'B-PER', 'tokens': 'প্রফুল্লের'},\n",
              "  {'ner_tags': 'O', 'tokens': 'একটু'},\n",
              "  {'ner_tags': 'O', 'tokens': 'একটু'},\n",
              "  {'ner_tags': 'O', 'tokens': 'ভয়'},\n",
              "  {'ner_tags': 'O', 'tokens': 'করিতে'},\n",
              "  {'ner_tags': 'O', 'tokens': 'লাগিল'},\n",
              "  {'ner_tags': 'O', 'tokens': ','},\n",
              "  {'ner_tags': 'O', 'tokens': 'কিন্তু'},\n",
              "  {'ner_tags': 'O', 'tokens': 'এ'},\n",
              "  {'ner_tags': 'O', 'tokens': 'বনে'},\n",
              "  {'ner_tags': 'O', 'tokens': 'কোথায়'},\n",
              "  {'ner_tags': 'O', 'tokens': 'বা'},\n",
              "  {'ner_tags': 'O', 'tokens': 'ভয়'},\n",
              "  {'ner_tags': 'O', 'tokens': 'নাই'},\n",
              "  {'ner_tags': 'O', 'tokens': '?'},\n",
              "  {'ner_tags': 'O', 'tokens': 'দেখিল'},\n",
              "  {'ner_tags': 'O', 'tokens': ','},\n",
              "  {'ner_tags': 'O', 'tokens': 'সেখানে'},\n",
              "  {'ner_tags': 'O', 'tokens': 'একখানি'},\n",
              "  {'ner_tags': 'O', 'tokens': 'কুটীর'},\n",
              "  {'ner_tags': 'O', 'tokens': 'আছে–তালাচাবি'},\n",
              "  {'ner_tags': 'O', 'tokens': 'বন্ধ'},\n",
              "  {'ner_tags': 'O', 'tokens': ','},\n",
              "  {'ner_tags': 'O', 'tokens': 'কেহ'},\n",
              "  {'ner_tags': 'O', 'tokens': 'নাই'},\n",
              "  {'ner_tags': 'O', 'tokens': 'তাহার'},\n",
              "  {'ner_tags': 'O', 'tokens': 'বসন'},\n",
              "  {'ner_tags': 'O', 'tokens': 'অতি'},\n",
              "  {'ner_tags': 'O', 'tokens': 'মলিন'},\n",
              "  {'ner_tags': 'O', 'tokens': ','},\n",
              "  {'ner_tags': 'O', 'tokens': 'শতধা'},\n",
              "  {'ner_tags': 'O', 'tokens': 'ছিন্ন'},\n",
              "  {'ner_tags': 'O', 'tokens': ','},\n",
              "  {'ner_tags': 'O', 'tokens': 'শতগ্রন্থিবিশিষ্ট'},\n",
              "  {'ner_tags': 'O', 'tokens': 'এবং'},\n",
              "  {'ner_tags': 'O', 'tokens': 'এত'},\n",
              "  {'ner_tags': 'O', 'tokens': 'অল্পায়ত'},\n",
              "  {'ner_tags': 'O', 'tokens': 'যে'},\n",
              "  {'ner_tags': 'O', 'tokens': ','},\n",
              "  {'ner_tags': 'O', 'tokens': 'তাহা'},\n",
              "  {'ner_tags': 'O', 'tokens': 'জানুর'},\n",
              "  {'ner_tags': 'O', 'tokens': 'নীচে'},\n",
              "  {'ner_tags': 'O', 'tokens': 'পড়ে'},\n",
              "  {'ner_tags': 'O', 'tokens': 'নাই'},\n",
              "  {'ner_tags': 'O', 'tokens': ','},\n",
              "  {'ner_tags': 'O', 'tokens': 'এবং'},\n",
              "  {'ner_tags': 'O', 'tokens': 'তদ্দ্বারা'},\n",
              "  {'ner_tags': 'O', 'tokens': 'পৃষ্ঠ'},\n",
              "  {'ner_tags': 'O', 'tokens': 'ও'},\n",
              "  {'ner_tags': 'O', 'tokens': 'মস্তক'},\n",
              "  {'ner_tags': 'O', 'tokens': 'আবৃত'},\n",
              "  {'ner_tags': 'O', 'tokens': 'হয়'},\n",
              "  {'ner_tags': 'O', 'tokens': 'নাই'},\n",
              "  {'ner_tags': 'O', 'tokens': 'তা'},\n",
              "  {'ner_tags': 'O', 'tokens': 'না'},\n",
              "  {'ner_tags': 'O', 'tokens': 'ত'},\n",
              "  {'ner_tags': 'O', 'tokens': 'কি'},\n",
              "  {'ner_tags': 'O', 'tokens': '?'},\n",
              "  {'ner_tags': 'O', 'tokens': 'আমি'},\n",
              "  {'ner_tags': 'O', 'tokens': 'তাই'},\n",
              "  {'ner_tags': 'O', 'tokens': 'বল্\\u200cতে'},\n",
              "  {'ner_tags': 'O', 'tokens': 'পারি'},\n",
              "  {'ner_tags': 'O', 'tokens': 'নাই'},\n",
              "  {'ner_tags': 'O', 'tokens': 'ব'},\n",
              "  {'ner_tags': 'O', 'tokens': '’'},\n",
              "  {'ner_tags': 'O', 'tokens': 'লে'},\n",
              "  {'ner_tags': 'O', 'tokens': 'পণ্ডিত'},\n",
              "  {'ner_tags': 'O', 'tokens': 'মশাই'},\n",
              "  {'ner_tags': 'O', 'tokens': 'আমায়'},\n",
              "  {'ner_tags': 'O', 'tokens': 'মেরেছে'},\n",
              "  {'ner_tags': 'O', 'tokens': 'বলিব'},\n",
              "  {'ner_tags': 'O', 'tokens': 'কি'},\n",
              "  {'ner_tags': 'O', 'tokens': '?'},\n",
              "  {'ner_tags': 'O', 'tokens': 'ঘুষাঘুষির'},\n",
              "  {'ner_tags': 'O', 'tokens': 'উদ্যোগ'},\n",
              "  {'ner_tags': 'O', 'tokens': 'দেখিয়া'},\n",
              "  {'ner_tags': 'O', 'tokens': 'অলঙ্কারগুলি'},\n",
              "  {'ner_tags': 'O', 'tokens': 'সকল'},\n",
              "  {'ner_tags': 'O', 'tokens': 'দারোগা'},\n",
              "  {'ner_tags': 'O', 'tokens': 'মহাশয়ের'},\n",
              "  {'ner_tags': 'O', 'tokens': 'পাদপদ্মে'},\n",
              "  {'ner_tags': 'O', 'tokens': 'ঢালিয়া'},\n",
              "  {'ner_tags': 'O', 'tokens': 'দিলাম'},\n",
              "  {'ner_tags': 'O', 'tokens': ','},\n",
              "  {'ner_tags': 'O', 'tokens': 'তাহার'},\n",
              "  {'ner_tags': 'O', 'tokens': 'উপর'},\n",
              "  {'ner_tags': 'O', 'tokens': 'পঞ্চাশটাকা'},\n",
              "  {'ner_tags': 'O', 'tokens': 'নগদ'},\n",
              "  {'ner_tags': 'O', 'tokens': 'দিয়া'},\n",
              "  {'ner_tags': 'O', 'tokens': 'নিষ্কৃতি'},\n",
              "  {'ner_tags': 'O', 'tokens': 'পাইলাম'},\n",
              "  {'ner_tags': 'O', 'tokens': 'তিনি'},\n",
              "  {'ner_tags': 'O', 'tokens': 'কোরাণের'},\n",
              "  {'ner_tags': 'O', 'tokens': 'বচন'},\n",
              "  {'ner_tags': 'O', 'tokens': 'উদ্ধৃত'},\n",
              "  {'ner_tags': 'O', 'tokens': 'করিয়া'},\n",
              "  {'ner_tags': 'O', 'tokens': 'প্রমাণ'},\n",
              "  {'ner_tags': 'O', 'tokens': 'করিলেন'},\n",
              "  {'ner_tags': 'O', 'tokens': 'যে'},\n",
              "  {'ner_tags': 'O', 'tokens': ','},\n",
              "  {'ner_tags': 'O', 'tokens': 'ইসলাঙম'},\n",
              "  {'ner_tags': 'O', 'tokens': 'ধর্মাইনুসারে'},\n",
              "  {'ner_tags': 'O', 'tokens': 'তিনি'},\n",
              "  {'ner_tags': 'O', 'tokens': 'অগ্রজপত্নী'},\n",
              "  {'ner_tags': 'O', 'tokens': 'বিবাহ'},\n",
              "  {'ner_tags': 'O', 'tokens': 'করিতে'},\n",
              "  {'ner_tags': 'O', 'tokens': 'বাধ্য'},\n",
              "  {'ner_tags': 'O', 'tokens': 'কিন্তু'},\n",
              "  {'ner_tags': 'O', 'tokens': 'সে'},\n",
              "  {'ner_tags': 'O', 'tokens': 'প্রকাশ'},\n",
              "  {'ner_tags': 'O', 'tokens': 'করিলেন'},\n",
              "  {'ner_tags': 'O', 'tokens': 'না–কেবল'},\n",
              "  {'ner_tags': 'O', 'tokens': 'বলিলেন'},\n",
              "  {'ner_tags': 'O', 'tokens': ','},\n",
              "  {'ner_tags': 'O', 'tokens': '“'},\n",
              "  {'ner_tags': 'B-TIM', 'tokens': 'আজ'},\n",
              "  {'ner_tags': 'O', 'tokens': 'আর'},\n",
              "  {'ner_tags': 'O', 'tokens': 'কোথায়'},\n",
              "  {'ner_tags': 'O', 'tokens': 'যাইবে'},\n",
              "  {'ner_tags': 'O', 'tokens': '?'},\n",
              "  {'ner_tags': 'B-TIM', 'tokens': 'আজ'},\n",
              "  {'ner_tags': 'O', 'tokens': 'এইখানে'},\n",
              "  {'ner_tags': 'O', 'tokens': 'থাক'},\n",
              "  {'ner_tags': 'B-LOC', 'tokens': 'মেবারে'},\n",
              "  {'ner_tags': 'O', 'tokens': 'গোহত্যা'},\n",
              "  {'ner_tags': 'O', 'tokens': 'ও'},\n",
              "  {'ner_tags': 'O', 'tokens': 'দেবালয়ভঙ্গ'},\n",
              "  {'ner_tags': 'O', 'tokens': 'নিবারণ'},\n",
              "  {'ner_tags': 'O', 'tokens': 'করিবেন'},\n",
              "  {'ner_tags': 'O', 'tokens': ','},\n",
              "  {'ner_tags': 'O', 'tokens': 'এবং'},\n",
              "  {'ner_tags': 'B-PER', 'tokens': 'জেজেয়ার'},\n",
              "  {'ner_tags': 'O', 'tokens': 'কোন'},\n",
              "  {'ner_tags': 'O', 'tokens': 'দাবি'},\n",
              "  {'ner_tags': 'O', 'tokens': 'করিবেন'},\n",
              "  {'ner_tags': 'O', 'tokens': 'না'},\n",
              "  {'ner_tags': 'B-PER', 'tokens': 'হেমচন্দ্র'},\n",
              "  {'ner_tags': 'O', 'tokens': 'দীর্ঘনিশ্বাস'},\n",
              "  {'ner_tags': 'O', 'tokens': 'ত্যাগ'},\n",
              "  {'ner_tags': 'O', 'tokens': 'করিয়া'},\n",
              "  {'ner_tags': 'O', 'tokens': 'অস্ফুটস্বরে'},\n",
              "  {'ner_tags': 'O', 'tokens': ','},\n",
              "  {'ner_tags': 'O', 'tokens': 'যেন'},\n",
              "  {'ner_tags': 'O', 'tokens': 'আপনা'},\n",
              "  {'ner_tags': 'O', 'tokens': 'আপনি'},\n",
              "  {'ner_tags': 'O', 'tokens': 'কহিতে'},\n",
              "  {'ner_tags': 'O', 'tokens': 'লাগিলেন'},\n",
              "  {'ner_tags': 'O', 'tokens': '“'},\n",
              "  {'ner_tags': 'O', 'tokens': 'এত'},\n",
              "  {'ner_tags': 'O', 'tokens': 'যত্নেও'},\n",
              "  {'ner_tags': 'O', 'tokens': 'যদি'},\n",
              "  {'ner_tags': 'O', 'tokens': 'সন্ধান'},\n",
              "  {'ner_tags': 'O', 'tokens': 'না'},\n",
              "  {'ner_tags': 'O', 'tokens': 'পাইলাম'},\n",
              "  {'ner_tags': 'O', 'tokens': ','},\n",
              "  {'ner_tags': 'O', 'tokens': 'তবে'},\n",
              "  {'ner_tags': 'O', 'tokens': 'আর'},\n",
              "  {'ner_tags': 'O', 'tokens': 'বৃথা'},\n",
              "  {'ner_tags': 'O', 'tokens': 'আশা'},\n",
              "  {'ner_tags': 'O', 'tokens': '-'},\n",
              "  {'ner_tags': 'O', 'tokens': 'কেন'},\n",
              "  {'ner_tags': 'O', 'tokens': 'মিছা'},\n",
              "  {'ner_tags': 'O', 'tokens': 'কালক্ষেপ'},\n",
              "  {'ner_tags': 'O', 'tokens': 'করিয়া'},\n",
              "  {'ner_tags': 'O', 'tokens': 'আত্মকর্ম'},\n",
              "  {'ner_tags': 'O', 'tokens': 'নষ্ট'},\n",
              "  {'ner_tags': 'O', 'tokens': 'করি'},\n",
              "  {'ner_tags': 'O', 'tokens': ';'},\n",
              "  {'ner_tags': 'B-PER', 'tokens': 'গিরিজায়ে'},\n",
              "  {'ner_tags': 'O', 'tokens': ','},\n",
              "  {'ner_tags': 'B-TIM', 'tokens': 'কালি'},\n",
              "  {'ner_tags': 'O', 'tokens': 'তোমাদিগের'},\n",
              "  {'ner_tags': 'O', 'tokens': 'নগর'},\n",
              "  {'ner_tags': 'O', 'tokens': 'হইতে'},\n",
              "  {'ner_tags': 'O', 'tokens': 'বিদায়'},\n",
              "  {'ner_tags': 'O', 'tokens': 'হইব'},\n",
              "  {'ner_tags': 'O', 'tokens': '|'},\n",
              "  {'ner_tags': 'O', 'tokens': '”'},\n",
              "  {'ner_tags': 'O', 'tokens': '“'},\n",
              "  {'ner_tags': 'O', 'tokens': 'তথাস্তু'},\n",
              "  {'ner_tags': 'O', 'tokens': '”'},\n",
              "  {'ner_tags': 'O', 'tokens': 'বলিয়া'},\n",
              "  {'ner_tags': 'B-PER', 'tokens': 'গিরিজায়া'},\n",
              "  {'ner_tags': 'O', 'tokens': 'মৃদু'},\n",
              "  {'ner_tags': 'O', 'tokens': 'মৃদু'},\n",
              "  {'ner_tags': 'O', 'tokens': 'গান'},\n",
              "  {'ner_tags': 'O', 'tokens': 'করিতে'},\n",
              "  {'ner_tags': 'O', 'tokens': 'লাগিল'},\n",
              "  {'ner_tags': 'O', 'tokens': ','},\n",
              "  {'ner_tags': 'O', 'tokens': '-'},\n",
              "  {'ner_tags': 'O', 'tokens': '“'},\n",
              "  {'ner_tags': 'O', 'tokens': 'শুনি'},\n",
              "  {'ner_tags': 'O', 'tokens': 'যাওয়ে'},\n",
              "  {'ner_tags': 'O', 'tokens': 'চলি'},\n",
              "  {'ner_tags': 'O', 'tokens': ','},\n",
              "  {'ner_tags': 'O', 'tokens': 'বাজয়ি'},\n",
              "  {'ner_tags': 'O', 'tokens': 'মুরলী'},\n",
              "  {'ner_tags': 'O', 'tokens': ','},\n",
              "  {'ner_tags': 'O', 'tokens': 'বনে'},\n",
              "  {'ner_tags': 'O', 'tokens': 'বনে'},\n",
              "  {'ner_tags': 'O', 'tokens': 'একা'},\n",
              "  {'ner_tags': 'O', 'tokens': 'রে'},\n",
              "  {'ner_tags': 'O', 'tokens': '|'},\n",
              "  {'ner_tags': 'O', 'tokens': '”'},\n",
              "  {'ner_tags': 'B-PER', 'tokens': 'হেমচন্দ্র'},\n",
              "  {'ner_tags': 'O', 'tokens': 'কহিলেন'},\n",
              "  {'ner_tags': 'O', 'tokens': ','},\n",
              "  {'ner_tags': 'O', 'tokens': '“'},\n",
              "  {'ner_tags': 'O', 'tokens': 'ও'},\n",
              "  {'ner_tags': 'O', 'tokens': 'গান'},\n",
              "  {'ner_tags': 'O', 'tokens': 'এই'},\n",
              "  {'ner_tags': 'B-PER', 'tokens': 'দিবা'},\n",
              "  {'ner_tags': 'O', 'tokens': 'বলিতেছিল–দিবা'},\n",
              "  {'ner_tags': 'O', 'tokens': 'অশিক্ষিতা'},\n",
              "  {'ner_tags': 'O', 'tokens': ','},\n",
              "  {'ner_tags': 'O', 'tokens': 'ইহা'},\n",
              "  {'ner_tags': 'O', 'tokens': 'পাঠকের'},\n",
              "  {'ner_tags': 'O', 'tokens': 'স্মরণ'},\n",
              "  {'ner_tags': 'O', 'tokens': 'রাখা'},\n",
              "  {'ner_tags': 'O', 'tokens': 'উচিত–বলিতেছিল'},\n",
              "  {'ner_tags': 'O', 'tokens': ','},\n",
              "  {'ner_tags': 'O', 'tokens': '“'},\n",
              "  {'ner_tags': 'O', 'tokens': 'হাঁঃ'},\n",
              "  {'ner_tags': 'O', 'tokens': ','},\n",
              "  {'ner_tags': 'B-PER', 'tokens': 'পরমেশ্বরকে'},\n",
              "  {'ner_tags': 'O', 'tokens': 'না'},\n",
              "  {'ner_tags': 'O', 'tokens': 'কি'},\n",
              "  {'ner_tags': 'O', 'tokens': 'আবার'},\n",
              "  {'ner_tags': 'O', 'tokens': 'প্রত্যক্ষ'},\n",
              "  {'ner_tags': 'O', 'tokens': 'দেখা'},\n",
              "  {'ner_tags': 'O', 'tokens': 'যায়'},\n",
              "  {'ner_tags': 'O', 'tokens': '?'},\n",
              "  {'ner_tags': 'O', 'tokens': '”'},\n",
              "  {'ner_tags': 'B-PER', 'tokens': 'প্রফুল্ল'},\n",
              "  {'ner_tags': 'O', 'tokens': 'বলিল'},\n",
              "  {'ner_tags': 'O', 'tokens': ','},\n",
              "  {'ner_tags': 'O', 'tokens': '“'},\n",
              "  {'ner_tags': 'O', 'tokens': 'না'},\n",
              "  {'ner_tags': 'O', 'tokens': ','},\n",
              "  {'ner_tags': 'O', 'tokens': 'প্রত্যক্ষ'},\n",
              "  {'ner_tags': 'O', 'tokens': 'দেখা'},\n",
              "  {'ner_tags': 'O', 'tokens': 'যায়'},\n",
              "  {'ner_tags': 'O', 'tokens': 'না'},\n",
              "  {'ner_tags': 'B-PER', 'tokens': 'তকি'},\n",
              "  {'ner_tags': 'I-PER', 'tokens': 'খাঁ'},\n",
              "  {'ner_tags': 'O', 'tokens': 'এতদিন'},\n",
              "  {'ner_tags': 'O', 'tokens': 'ইতস্ততঃ'},\n",
              "  {'ner_tags': 'O', 'tokens': 'করিতেছিলেন'},\n",
              "  {'ner_tags': 'O', 'tokens': ','},\n",
              "  {'ner_tags': 'O', 'tokens': 'কোন্'},\n",
              "  {'ner_tags': 'O', 'tokens': 'পক্ষে'},\n",
              "  {'ner_tags': 'O', 'tokens': 'যাই'},\n",
              "  {'ner_tags': 'O', 'tokens': ';'},\n",
              "  {'ner_tags': 'O', 'tokens': 'এই'},\n",
              "  {'ner_tags': 'O', 'tokens': 'জন্য'},\n",
              "  {'ner_tags': 'O', 'tokens': 'শত্রুপক্ষে'},\n",
              "  {'ner_tags': 'B-TIM', 'tokens': 'আজিও'},\n",
              "  {'ner_tags': 'O', 'tokens': 'মিলিতে'},\n",
              "  {'ner_tags': 'O', 'tokens': 'পারেন'},\n",
              "  {'ner_tags': 'O', 'tokens': 'নাই'},\n",
              "  {'ner_tags': 'O', 'tokens': 'আমরা'},\n",
              "  {'ner_tags': 'O', 'tokens': 'রাজ্য'},\n",
              "  {'ner_tags': 'O', 'tokens': 'চাহি'},\n",
              "  {'ner_tags': 'O', 'tokens': 'না'},\n",
              "  {'ner_tags': 'O', 'tokens': '–'},\n",
              "  {'ner_tags': 'O', 'tokens': 'কেবল'},\n",
              "  {'ner_tags': 'O', 'tokens': 'মুসলমানেরা'},\n",
              "  {'ner_tags': 'O', 'tokens': 'ভগবানের'},\n",
              "  {'ner_tags': 'O', 'tokens': 'বিদ্বেষী'},\n",
              "  {'ner_tags': 'O', 'tokens': 'বলিয়া'},\n",
              "  {'ner_tags': 'O', 'tokens': 'তাহাদের'},\n",
              "  {'ner_tags': 'O', 'tokens': 'সবংশে'},\n",
              "  {'ner_tags': 'O', 'tokens': 'নিপাত'},\n",
              "  {'ner_tags': 'O', 'tokens': 'করিতে'},\n",
              "  {'ner_tags': 'O', 'tokens': 'চাই'},\n",
              "  {'ner_tags': 'O', 'tokens': 'প্রথমে'},\n",
              "  {'ner_tags': 'B-PER', 'tokens': 'শ্রীশচন্দ্র'},\n",
              "  {'ner_tags': 'O', 'tokens': ','},\n",
              "  {'ner_tags': 'B-PER', 'tokens': 'নগেন্দ্র'},\n",
              "  {'ner_tags': 'O', 'tokens': 'এবং'},\n",
              "  {'ner_tags': 'B-PER', 'tokens': 'কমলকে'},\n",
              "  {'ner_tags': 'O', 'tokens': 'ভরসা'},\n",
              "  {'ner_tags': 'O', 'tokens': 'দিতে'},\n",
              "  {'ner_tags': 'O', 'tokens': 'লাগিলেন'},\n",
              "  {'ner_tags': 'O', 'tokens': ','},\n",
              "  {'ner_tags': 'O', 'tokens': '“'},\n",
              "  {'ner_tags': 'O', 'tokens': 'তিনি'},\n",
              "  {'ner_tags': 'O', 'tokens': 'কখনও'},\n",
              "  {'ner_tags': 'O', 'tokens': 'পথ'},\n",
              "  {'ner_tags': 'O', 'tokens': 'হাঁটেন'},\n",
              "  {'ner_tags': 'O', 'tokens': 'নাই–কত'},\n",
              "  {'ner_tags': 'O', 'tokens': 'দূর'},\n",
              "  {'ner_tags': 'O', 'tokens': 'যাইবেন'},\n",
              "  {'ner_tags': 'O', 'tokens': '?'},\n",
              "  {'ner_tags': 'O', 'tokens': 'এক'},\n",
              "  {'ner_tags': 'O', 'tokens': 'পোওয়া'},\n",
              "  {'ner_tags': 'O', 'tokens': 'আধ'},\n",
              "  {'ner_tags': 'O', 'tokens': 'ক্রোশ'},\n",
              "  {'ner_tags': 'O', 'tokens': 'পথ'},\n",
              "  {'ner_tags': 'O', 'tokens': 'গিয়া'},\n",
              "  {'ner_tags': 'O', 'tokens': 'কোথাও'},\n",
              "  {'ner_tags': 'O', 'tokens': 'বসিয়া'},\n",
              "  {'ner_tags': 'O', 'tokens': 'আছেন'},\n",
              "  {'ner_tags': 'O', 'tokens': ','},\n",
              "  {'ner_tags': 'O', 'tokens': 'এখনই'},\n",
              "  {'ner_tags': 'O', 'tokens': 'সন্ধান'},\n",
              "  {'ner_tags': 'O', 'tokens': 'পাইব'},\n",
              "  {'ner_tags': 'O', 'tokens': '|'},\n",
              "  {'ner_tags': 'O', 'tokens': '”'},\n",
              "  {'ner_tags': 'O', 'tokens': 'কিন্তু'},\n",
              "  {'ner_tags': 'O', 'tokens': 'যখন'},\n",
              "  {'ner_tags': 'B-TIM', 'tokens': 'দুই'},\n",
              "  {'ner_tags': 'I-TIM', 'tokens': 'তিন'},\n",
              "  {'ner_tags': 'I-TIM', 'tokens': 'ঘণ্টা'},\n",
              "  {'ner_tags': 'O', 'tokens': 'অতীত'},\n",
              "  {'ner_tags': 'O', 'tokens': 'হইল'},\n",
              "  {'ner_tags': 'O', 'tokens': ','},\n",
              "  {'ner_tags': 'O', 'tokens': 'অথচ'},\n",
              "  {'ner_tags': 'B-PER', 'tokens': 'সূর্যমুখীর'},\n",
              "  {'ner_tags': 'O', 'tokens': 'কোন'},\n",
              "  {'ner_tags': 'O', 'tokens': 'সংবাদ'},\n",
              "  {'ner_tags': 'O', 'tokens': 'পাওয়া'},\n",
              "  {'ner_tags': 'O', 'tokens': 'গেল'},\n",
              "  {'ner_tags': 'O', 'tokens': 'না'},\n",
              "  {'ner_tags': 'O', 'tokens': ','},\n",
              "  {'ner_tags': 'O', 'tokens': 'তখন'},\n",
              "  {'ner_tags': 'B-PER', 'tokens': 'নগেন্দ্র'},\n",
              "  {'ner_tags': 'O', 'tokens': 'স্বয়ং'},\n",
              "  {'ner_tags': 'O', 'tokens': 'তাহার'},\n",
              "  {'ner_tags': 'O', 'tokens': 'সন্ধানে'},\n",
              "  {'ner_tags': 'O', 'tokens': 'বাহির'},\n",
              "  {'ner_tags': 'O', 'tokens': 'হইলেন'},\n",
              "  {'ner_tags': 'O', 'tokens': 'সুখ'},\n",
              "  {'ner_tags': 'O', 'tokens': 'দূরে'},\n",
              "  {'ner_tags': 'O', 'tokens': 'থাকুক–দেবেন্দ্র'},\n",
              "  {'ner_tags': 'O', 'tokens': 'দেখিলেন'},\n",
              "  {'ner_tags': 'O', 'tokens': 'যে'},\n",
              "  {'ner_tags': 'O', 'tokens': ','},\n",
              "  {'ner_tags': 'B-PER', 'tokens': 'হৈমবতীর'},\n",
              "  {'ner_tags': 'O', 'tokens': 'রসনাবর্ষিত'},\n",
              "  {'ner_tags': 'O', 'tokens': 'বিষের'},\n",
              "  {'ner_tags': 'O', 'tokens': 'জ্বালায়'},\n",
              "  {'ner_tags': 'O', 'tokens': 'গৃহে'},\n",
              "  {'ner_tags': 'O', 'tokens': 'তিষ্ঠানও'},\n",
              "  {'ner_tags': 'O', 'tokens': 'ভার'},\n",
              "  {'ner_tags': 'O', 'tokens': 'কেহ'},\n",
              "  {'ner_tags': 'O', 'tokens': 'কেহ'},\n",
              "  {'ner_tags': 'O', 'tokens': 'সেই'},\n",
              "  {'ner_tags': 'B-TIM', 'tokens': 'রাত্রে'},\n",
              "  {'ner_tags': 'O', 'tokens': 'দলবদ্ধ'},\n",
              "  {'ner_tags': 'O', 'tokens': 'হইয়া'},\n",
              "  {'ner_tags': 'O', 'tokens': 'মুসলমানদিগের'},\n",
              "  {'ner_tags': 'O', 'tokens': 'পাড়ায়'},\n",
              "  {'ner_tags': 'O', 'tokens': 'গিয়া'},\n",
              "  {'ner_tags': 'O', 'tokens': 'তাহাদের'},\n",
              "  {'ner_tags': 'O', 'tokens': 'ঘরে'},\n",
              "  {'ner_tags': 'O', 'tokens': 'আগুন'},\n",
              "  {'ner_tags': 'O', 'tokens': 'দিয়া'},\n",
              "  {'ner_tags': 'O', 'tokens': 'সর্বস্ব'},\n",
              "  {'ner_tags': 'O', 'tokens': 'লুঠিয়া'},\n",
              "  {'ner_tags': 'O', 'tokens': 'লইতে'},\n",
              "  {'ner_tags': 'O', 'tokens': 'লাগিল'},\n",
              "  {'ner_tags': 'O', 'tokens': 'এমন'},\n",
              "  {'ner_tags': 'O', 'tokens': 'কি'},\n",
              "  {'ner_tags': 'O', 'tokens': ','},\n",
              "  {'ner_tags': 'O', 'tokens': 'দুই'},\n",
              "  {'ner_tags': 'O', 'tokens': 'চারিটা'},\n",
              "  {'ner_tags': 'O', 'tokens': 'কাওরা'},\n",
              "  {'ner_tags': 'O', 'tokens': 'তিওরের'},\n",
              "  {'ner_tags': 'O', 'tokens': 'বিধবা'},\n",
              "  {'ner_tags': 'O', 'tokens': 'মেয়ের'},\n",
              "  {'ner_tags': 'O', 'tokens': 'বিবাহ'},\n",
              "  {'ner_tags': 'O', 'tokens': 'দিয়া'},\n",
              "  {'ner_tags': 'O', 'tokens': 'ফেলিয়াছিলেন'},\n",
              "  {'ner_tags': 'O', 'tokens': ','},\n",
              "  {'ner_tags': 'O', 'tokens': 'কিন্তু'},\n",
              "  {'ner_tags': 'O', 'tokens': 'সে'},\n",
              "  {'ner_tags': 'O', 'tokens': 'বরকন্যার'},\n",
              "  {'ner_tags': 'O', 'tokens': 'গুণে'},\n",
              "  {'ner_tags': 'O', 'tokens': 'ক্রমে'},\n",
              "  {'ner_tags': 'B-PER', 'tokens': 'কুন্দ'},\n",
              "  {'ner_tags': 'O', 'tokens': 'ভাবিতে'},\n",
              "  {'ner_tags': 'O', 'tokens': 'লাগিল'},\n",
              "  {'ner_tags': 'O', 'tokens': ','},\n",
              "  {'ner_tags': 'O', 'tokens': '“'},\n",
              "  {'ner_tags': 'O', 'tokens': 'আমি'},\n",
              "  {'ner_tags': 'O', 'tokens': 'কেন'},\n",
              "  {'ner_tags': 'O', 'tokens': 'সে'},\n",
              "  {'ner_tags': 'O', 'tokens': 'গৃহ'},\n",
              "  {'ner_tags': 'O', 'tokens': 'ত্যাগ'},\n",
              "  {'ner_tags': 'O', 'tokens': 'করিয়া'},\n",
              "  {'ner_tags': 'O', 'tokens': 'আসিলাম'},\n",
              "  {'ner_tags': 'O', 'tokens': '?'},\n",
              "  {'ner_tags': 'O', 'tokens': 'দুটো'},\n",
              "  {'ner_tags': 'O', 'tokens': 'কথায়'},\n",
              "  {'ner_tags': 'O', 'tokens': 'আমার'},\n",
              "  {'ner_tags': 'O', 'tokens': 'কি'},\n",
              "  {'ner_tags': 'O', 'tokens': 'ক্ষতি'},\n",
              "  {'ner_tags': 'O', 'tokens': 'হইয়াছিল'},\n",
              "  {'ner_tags': 'O', 'tokens': '?'},\n",
              "  {'ner_tags': 'O', 'tokens': 'আমি'},\n",
              "  {'ner_tags': 'O', 'tokens': 'ত'},\n",
              "  {'ner_tags': 'B-PER', 'tokens': 'নগেন্দ্রকে'},\n",
              "  {'ner_tags': 'O', 'tokens': 'দেখিতাম'},\n",
              "  {'ner_tags': 'O', 'tokens': 'যে'},\n",
              "  {'ner_tags': 'O', 'tokens': ','},\n",
              "  {'ner_tags': 'O', 'tokens': 'যে'},\n",
              "  {'ner_tags': 'O', 'tokens': 'অলঙ্কার'},\n",
              "  {'ner_tags': 'O', 'tokens': 'ভাগে'},\n",
              "  {'ner_tags': 'O', 'tokens': 'পাইয়াছিল'},\n",
              "  {'ner_tags': 'O', 'tokens': ','},\n",
              "  {'ner_tags': 'O', 'tokens': 'সে'},\n",
              "  {'ner_tags': 'O', 'tokens': ','},\n",
              "  {'ner_tags': 'O', 'tokens': 'সে'},\n",
              "  {'ner_tags': 'O', 'tokens': 'অলঙ্কার'},\n",
              "  {'ner_tags': 'O', 'tokens': 'রাগে'},\n",
              "  {'ner_tags': 'O', 'tokens': 'তাহার'},\n",
              "  {'ner_tags': 'O', 'tokens': 'দলপতির'},\n",
              "  {'ner_tags': 'O', 'tokens': 'গায়ে'},\n",
              "  {'ner_tags': 'O', 'tokens': 'ছুঁড়িয়া'},\n",
              "  {'ner_tags': 'O', 'tokens': 'মারিল'},\n",
              "  {'ner_tags': 'O', 'tokens': 'তা'},\n",
              "  {'ner_tags': 'O', 'tokens': ','},\n",
              "  {'ner_tags': 'O', 'tokens': 'আমার'},\n",
              "  {'ner_tags': 'O', 'tokens': 'সবাই'},\n",
              "  {'ner_tags': 'O', 'tokens': 'ভাল'},\n",
              "  {'ner_tags': 'O', 'tokens': '|'},\n",
              "  {'ner_tags': 'O', 'tokens': '”'},\n",
              "  {'ner_tags': 'O', 'tokens': 'এই'},\n",
              "  {'ner_tags': 'O', 'tokens': 'ভাবিয়া'},\n",
              "  {'ner_tags': 'B-PER', 'tokens': 'কালীকান্ত'},\n",
              "  {'ner_tags': 'O', 'tokens': 'পুনর্ব্বার'},\n",
              "  {'ner_tags': 'O', 'tokens': 'ভক্তিভাবে'},\n",
              "  {'ner_tags': 'O', 'tokens': 'প্রণাম'},\n",
              "  {'ner_tags': 'O', 'tokens': 'করিয়া'},\n",
              "  {'ner_tags': 'O', 'tokens': 'পলাইবার'},\n",
              "  {'ner_tags': 'O', 'tokens': 'উদ্যোগ'},\n",
              "  {'ner_tags': 'O', 'tokens': 'করিতেছিলেন'},\n",
              "  {'ner_tags': 'O', 'tokens': ','},\n",
              "  {'ner_tags': 'O', 'tokens': 'দেখিয়া'},\n",
              "  {'ner_tags': 'B-PER', 'tokens': 'কামসুন্দরী'},\n",
              "  {'ner_tags': 'O', 'tokens': 'আসিয়া'},\n",
              "  {'ner_tags': 'O', 'tokens': 'তাঁহার'},\n",
              "  {'ner_tags': 'O', 'tokens': 'গাত্রবস্ত্র'},\n",
              "  {'ner_tags': 'O', 'tokens': 'ধরিল'},\n",
              "  {'ner_tags': 'O', 'tokens': ';'},\n",
              "  {'ner_tags': 'O', 'tokens': 'বলিল'},\n",
              "  {'ner_tags': 'O', 'tokens': ','},\n",
              "  {'ner_tags': 'O', 'tokens': '“'},\n",
              "  {'ner_tags': 'O', 'tokens': 'ওরে'},\n",
              "  {'ner_tags': 'O', 'tokens': 'আমার'},\n",
              "  {'ner_tags': 'O', 'tokens': 'সোণারচাঁদ'},\n",
              "  {'ner_tags': 'O', 'tokens': '!'},\n",
              "  {'ner_tags': 'O', 'tokens': 'আমার'},\n",
              "  {'ner_tags': 'O', 'tokens': 'সাত'},\n",
              "  {'ner_tags': 'O', 'tokens': 'রাজার'},\n",
              "  {'ner_tags': 'O', 'tokens': 'ধন'},\n",
              "  {'ner_tags': 'O', 'tokens': 'এক'},\n",
              "  {'ner_tags': 'O', 'tokens': 'মাণিক'},\n",
              "  {'ner_tags': 'O', 'tokens': '!'},\n",
              "  {'ner_tags': 'O', 'tokens': 'আমার'},\n",
              "  {'ner_tags': 'O', 'tokens': 'কাছ'},\n",
              "  {'ner_tags': 'O', 'tokens': 'থেকে'},\n",
              "  {'ner_tags': 'O', 'tokens': 'আর'},\n",
              "  {'ner_tags': 'O', 'tokens': 'পলাতে'},\n",
              "  {'ner_tags': 'O', 'tokens': 'হয়'},\n",
              "  {'ner_tags': 'O', 'tokens': 'না'},\n",
              "  {'ner_tags': 'O', 'tokens': '|'},\n",
              "  {'ner_tags': 'O', 'tokens': '”'},\n",
              "  {'ner_tags': 'O', 'tokens': 'এই'},\n",
              "  {'ner_tags': 'O', 'tokens': 'বলিয়া'},\n",
              "  {'ner_tags': 'B-PER', 'tokens': 'কামসুন্দরী'},\n",
              "  {'ner_tags': 'O', 'tokens': 'স্বামীকে'},\n",
              "  {'ner_tags': 'O', 'tokens': 'আসনের'},\n",
              "  {'ner_tags': 'O', 'tokens': 'দিকে'},\n",
              "  {'ner_tags': 'O', 'tokens': 'টানিতে'},\n",
              "  {'ner_tags': 'O', 'tokens': 'লাগিল'},\n",
              "  {'ner_tags': 'O', 'tokens': '”'},\n",
              "  {'ner_tags': 'B-PER', 'tokens': 'রাজপুত্র'},\n",
              "  {'ner_tags': 'O', 'tokens': 'ক্ষীণস্বরে'},\n",
              "  {'ner_tags': 'O', 'tokens': 'কহিলেন'},\n",
              "  {'ner_tags': 'O', 'tokens': ','},\n",
              "  {'ner_tags': 'O', 'tokens': '“'},\n",
              "  {'ner_tags': 'O', 'tokens': 'আমি'},\n",
              "  {'ner_tags': 'O', 'tokens': 'কোথায়'},\n",
              "  {'ner_tags': 'O', 'tokens': '?'},\n",
              "  {'ner_tags': 'O', 'tokens': '”'},\n",
              "  {'ner_tags': 'O', 'tokens': 'সেই'},\n",
              "  {'ner_tags': 'O', 'tokens': 'মধুর'},\n",
              "  {'ner_tags': 'O', 'tokens': 'স্বরে'},\n",
              "  {'ner_tags': 'O', 'tokens': 'উত্তর'},\n",
              "  {'ner_tags': 'O', 'tokens': 'হইল'},\n",
              "  {'ner_tags': 'O', 'tokens': ','},\n",
              "  ...],\n",
              " 'test': [],\n",
              " 'validation': []}"
            ]
          },
          "execution_count": 189,
          "metadata": {},
          "output_type": "execute_result"
        }
      ],
      "source": [
        "dataset"
      ]
    },
    {
      "cell_type": "code",
      "execution_count": null,
      "id": "4149b622",
      "metadata": {
        "id": "4149b622"
      },
      "outputs": [],
      "source": [
        "conv_to_dict(data_ts, 'test')"
      ]
    },
    {
      "cell_type": "code",
      "execution_count": null,
      "id": "f687c4aa",
      "metadata": {
        "id": "f687c4aa"
      },
      "outputs": [],
      "source": [
        "conv_to_dict(data_val, 'validation')"
      ]
    },
    {
      "cell_type": "code",
      "execution_count": null,
      "id": "dc567777",
      "metadata": {
        "id": "dc567777"
      },
      "outputs": [],
      "source": [
        "import json"
      ]
    },
    {
      "cell_type": "code",
      "execution_count": null,
      "id": "68cb6cc5",
      "metadata": {
        "id": "68cb6cc5"
      },
      "outputs": [],
      "source": [
        "s = json.dumps(dataset)\n",
        "\n",
        "with open('ner dataset.json','w') as f:\n",
        "    f.write(s)"
      ]
    },
    {
      "cell_type": "code",
      "execution_count": null,
      "id": "f4cba067",
      "metadata": {
        "id": "f4cba067"
      },
      "outputs": [],
      "source": []
    }
  ],
  "metadata": {
    "kernelspec": {
      "display_name": "Python 3 (ipykernel)",
      "language": "python",
      "name": "python3"
    },
    "language_info": {
      "codemirror_mode": {
        "name": "ipython",
        "version": 3
      },
      "file_extension": ".py",
      "mimetype": "text/x-python",
      "name": "python",
      "nbconvert_exporter": "python",
      "pygments_lexer": "ipython3",
      "version": "3.9.13"
    },
    "colab": {
      "provenance": []
    }
  },
  "nbformat": 4,
  "nbformat_minor": 5
}