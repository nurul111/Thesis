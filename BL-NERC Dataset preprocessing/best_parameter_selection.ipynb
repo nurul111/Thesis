{
  "metadata": {
    "accelerator": "GPU",
    "colab": {
      "provenance": [],
      "gpuType": "T4"
    },
    "kernelspec": {
      "name": "python3",
      "display_name": "Python 3",
      "language": "python"
    },
    "language_info": {
      "name": "python",
      "version": "3.10.13",
      "mimetype": "text/x-python",
      "codemirror_mode": {
        "name": "ipython",
        "version": 3
      },
      "pygments_lexer": "ipython3",
      "nbconvert_exporter": "python",
      "file_extension": ".py"
    },
    "vscode": {
      "interpreter": {
        "hash": "3196968d684371006099b3d55edeef8ed90365227a30deaef86e5d4aa8519be0"
      }
    },
    "widgets": {
      "application/vnd.jupyter.widget-state+json": {
        "d394a601d0ec49c79b488942c4cb97e9": {
          "model_module": "@jupyter-widgets/controls",
          "model_name": "HBoxModel",
          "model_module_version": "1.5.0",
          "state": {
            "_dom_classes": [],
            "_model_module": "@jupyter-widgets/controls",
            "_model_module_version": "1.5.0",
            "_model_name": "HBoxModel",
            "_view_count": null,
            "_view_module": "@jupyter-widgets/controls",
            "_view_module_version": "1.5.0",
            "_view_name": "HBoxView",
            "box_style": "",
            "children": [
              "IPY_MODEL_0beadccc4dac476980cf93a152770741",
              "IPY_MODEL_2e427aab39bb4742be40b29b41e79f5f",
              "IPY_MODEL_b6c32fc961f444a599d9cda9c19a7b4b"
            ],
            "layout": "IPY_MODEL_83d5fc13246e497eb59621950c531b0d"
          }
        },
        "0beadccc4dac476980cf93a152770741": {
          "model_module": "@jupyter-widgets/controls",
          "model_name": "HTMLModel",
          "model_module_version": "1.5.0",
          "state": {
            "_dom_classes": [],
            "_model_module": "@jupyter-widgets/controls",
            "_model_module_version": "1.5.0",
            "_model_name": "HTMLModel",
            "_view_count": null,
            "_view_module": "@jupyter-widgets/controls",
            "_view_module_version": "1.5.0",
            "_view_name": "HTMLView",
            "description": "",
            "description_tooltip": null,
            "layout": "IPY_MODEL_a97014f72dee4b449409ee488687aa1a",
            "placeholder": "​",
            "style": "IPY_MODEL_33f27bbaa4294ca2b90bc873ff982359",
            "value": "Downloading builder script: "
          }
        },
        "2e427aab39bb4742be40b29b41e79f5f": {
          "model_module": "@jupyter-widgets/controls",
          "model_name": "FloatProgressModel",
          "model_module_version": "1.5.0",
          "state": {
            "_dom_classes": [],
            "_model_module": "@jupyter-widgets/controls",
            "_model_module_version": "1.5.0",
            "_model_name": "FloatProgressModel",
            "_view_count": null,
            "_view_module": "@jupyter-widgets/controls",
            "_view_module_version": "1.5.0",
            "_view_name": "ProgressView",
            "bar_style": "success",
            "description": "",
            "description_tooltip": null,
            "layout": "IPY_MODEL_460741462b1e45c68c98e6a5939082ae",
            "max": 2471,
            "min": 0,
            "orientation": "horizontal",
            "style": "IPY_MODEL_69a2ac65ba4447cfa3eb32263c86929c",
            "value": 2471
          }
        },
        "b6c32fc961f444a599d9cda9c19a7b4b": {
          "model_module": "@jupyter-widgets/controls",
          "model_name": "HTMLModel",
          "model_module_version": "1.5.0",
          "state": {
            "_dom_classes": [],
            "_model_module": "@jupyter-widgets/controls",
            "_model_module_version": "1.5.0",
            "_model_name": "HTMLModel",
            "_view_count": null,
            "_view_module": "@jupyter-widgets/controls",
            "_view_module_version": "1.5.0",
            "_view_name": "HTMLView",
            "description": "",
            "description_tooltip": null,
            "layout": "IPY_MODEL_999f6310264f4bfda89a65a5c9d6b8a8",
            "placeholder": "​",
            "style": "IPY_MODEL_70f14687d8b0418fba65e72d9ed05843",
            "value": " 6.33k/? [00:00&lt;00:00, 374kB/s]"
          }
        },
        "83d5fc13246e497eb59621950c531b0d": {
          "model_module": "@jupyter-widgets/base",
          "model_name": "LayoutModel",
          "model_module_version": "1.2.0",
          "state": {
            "_model_module": "@jupyter-widgets/base",
            "_model_module_version": "1.2.0",
            "_model_name": "LayoutModel",
            "_view_count": null,
            "_view_module": "@jupyter-widgets/base",
            "_view_module_version": "1.2.0",
            "_view_name": "LayoutView",
            "align_content": null,
            "align_items": null,
            "align_self": null,
            "border": null,
            "bottom": null,
            "display": null,
            "flex": null,
            "flex_flow": null,
            "grid_area": null,
            "grid_auto_columns": null,
            "grid_auto_flow": null,
            "grid_auto_rows": null,
            "grid_column": null,
            "grid_gap": null,
            "grid_row": null,
            "grid_template_areas": null,
            "grid_template_columns": null,
            "grid_template_rows": null,
            "height": null,
            "justify_content": null,
            "justify_items": null,
            "left": null,
            "margin": null,
            "max_height": null,
            "max_width": null,
            "min_height": null,
            "min_width": null,
            "object_fit": null,
            "object_position": null,
            "order": null,
            "overflow": null,
            "overflow_x": null,
            "overflow_y": null,
            "padding": null,
            "right": null,
            "top": null,
            "visibility": null,
            "width": null
          }
        },
        "a97014f72dee4b449409ee488687aa1a": {
          "model_module": "@jupyter-widgets/base",
          "model_name": "LayoutModel",
          "model_module_version": "1.2.0",
          "state": {
            "_model_module": "@jupyter-widgets/base",
            "_model_module_version": "1.2.0",
            "_model_name": "LayoutModel",
            "_view_count": null,
            "_view_module": "@jupyter-widgets/base",
            "_view_module_version": "1.2.0",
            "_view_name": "LayoutView",
            "align_content": null,
            "align_items": null,
            "align_self": null,
            "border": null,
            "bottom": null,
            "display": null,
            "flex": null,
            "flex_flow": null,
            "grid_area": null,
            "grid_auto_columns": null,
            "grid_auto_flow": null,
            "grid_auto_rows": null,
            "grid_column": null,
            "grid_gap": null,
            "grid_row": null,
            "grid_template_areas": null,
            "grid_template_columns": null,
            "grid_template_rows": null,
            "height": null,
            "justify_content": null,
            "justify_items": null,
            "left": null,
            "margin": null,
            "max_height": null,
            "max_width": null,
            "min_height": null,
            "min_width": null,
            "object_fit": null,
            "object_position": null,
            "order": null,
            "overflow": null,
            "overflow_x": null,
            "overflow_y": null,
            "padding": null,
            "right": null,
            "top": null,
            "visibility": null,
            "width": null
          }
        },
        "33f27bbaa4294ca2b90bc873ff982359": {
          "model_module": "@jupyter-widgets/controls",
          "model_name": "DescriptionStyleModel",
          "model_module_version": "1.5.0",
          "state": {
            "_model_module": "@jupyter-widgets/controls",
            "_model_module_version": "1.5.0",
            "_model_name": "DescriptionStyleModel",
            "_view_count": null,
            "_view_module": "@jupyter-widgets/base",
            "_view_module_version": "1.2.0",
            "_view_name": "StyleView",
            "description_width": ""
          }
        },
        "460741462b1e45c68c98e6a5939082ae": {
          "model_module": "@jupyter-widgets/base",
          "model_name": "LayoutModel",
          "model_module_version": "1.2.0",
          "state": {
            "_model_module": "@jupyter-widgets/base",
            "_model_module_version": "1.2.0",
            "_model_name": "LayoutModel",
            "_view_count": null,
            "_view_module": "@jupyter-widgets/base",
            "_view_module_version": "1.2.0",
            "_view_name": "LayoutView",
            "align_content": null,
            "align_items": null,
            "align_self": null,
            "border": null,
            "bottom": null,
            "display": null,
            "flex": null,
            "flex_flow": null,
            "grid_area": null,
            "grid_auto_columns": null,
            "grid_auto_flow": null,
            "grid_auto_rows": null,
            "grid_column": null,
            "grid_gap": null,
            "grid_row": null,
            "grid_template_areas": null,
            "grid_template_columns": null,
            "grid_template_rows": null,
            "height": null,
            "justify_content": null,
            "justify_items": null,
            "left": null,
            "margin": null,
            "max_height": null,
            "max_width": null,
            "min_height": null,
            "min_width": null,
            "object_fit": null,
            "object_position": null,
            "order": null,
            "overflow": null,
            "overflow_x": null,
            "overflow_y": null,
            "padding": null,
            "right": null,
            "top": null,
            "visibility": null,
            "width": null
          }
        },
        "69a2ac65ba4447cfa3eb32263c86929c": {
          "model_module": "@jupyter-widgets/controls",
          "model_name": "ProgressStyleModel",
          "model_module_version": "1.5.0",
          "state": {
            "_model_module": "@jupyter-widgets/controls",
            "_model_module_version": "1.5.0",
            "_model_name": "ProgressStyleModel",
            "_view_count": null,
            "_view_module": "@jupyter-widgets/base",
            "_view_module_version": "1.2.0",
            "_view_name": "StyleView",
            "bar_color": null,
            "description_width": ""
          }
        },
        "999f6310264f4bfda89a65a5c9d6b8a8": {
          "model_module": "@jupyter-widgets/base",
          "model_name": "LayoutModel",
          "model_module_version": "1.2.0",
          "state": {
            "_model_module": "@jupyter-widgets/base",
            "_model_module_version": "1.2.0",
            "_model_name": "LayoutModel",
            "_view_count": null,
            "_view_module": "@jupyter-widgets/base",
            "_view_module_version": "1.2.0",
            "_view_name": "LayoutView",
            "align_content": null,
            "align_items": null,
            "align_self": null,
            "border": null,
            "bottom": null,
            "display": null,
            "flex": null,
            "flex_flow": null,
            "grid_area": null,
            "grid_auto_columns": null,
            "grid_auto_flow": null,
            "grid_auto_rows": null,
            "grid_column": null,
            "grid_gap": null,
            "grid_row": null,
            "grid_template_areas": null,
            "grid_template_columns": null,
            "grid_template_rows": null,
            "height": null,
            "justify_content": null,
            "justify_items": null,
            "left": null,
            "margin": null,
            "max_height": null,
            "max_width": null,
            "min_height": null,
            "min_width": null,
            "object_fit": null,
            "object_position": null,
            "order": null,
            "overflow": null,
            "overflow_x": null,
            "overflow_y": null,
            "padding": null,
            "right": null,
            "top": null,
            "visibility": null,
            "width": null
          }
        },
        "70f14687d8b0418fba65e72d9ed05843": {
          "model_module": "@jupyter-widgets/controls",
          "model_name": "DescriptionStyleModel",
          "model_module_version": "1.5.0",
          "state": {
            "_model_module": "@jupyter-widgets/controls",
            "_model_module_version": "1.5.0",
            "_model_name": "DescriptionStyleModel",
            "_view_count": null,
            "_view_module": "@jupyter-widgets/base",
            "_view_module_version": "1.2.0",
            "_view_name": "StyleView",
            "description_width": ""
          }
        },
        "43cc5983277843b48e7ea148e3a9835e": {
          "model_module": "@jupyter-widgets/controls",
          "model_name": "HBoxModel",
          "model_module_version": "1.5.0",
          "state": {
            "_dom_classes": [],
            "_model_module": "@jupyter-widgets/controls",
            "_model_module_version": "1.5.0",
            "_model_name": "HBoxModel",
            "_view_count": null,
            "_view_module": "@jupyter-widgets/controls",
            "_view_module_version": "1.5.0",
            "_view_name": "HBoxView",
            "box_style": "",
            "children": [
              "IPY_MODEL_6ad4d79e42444936b14c372031ab0c6f",
              "IPY_MODEL_6e47aa7d3be84894bff6789df36dd790",
              "IPY_MODEL_5476faebf8534d65bd9c60fc5afe133a"
            ],
            "layout": "IPY_MODEL_b8e6dfb585c4493d9bcef244db04e6a4"
          }
        },
        "6ad4d79e42444936b14c372031ab0c6f": {
          "model_module": "@jupyter-widgets/controls",
          "model_name": "HTMLModel",
          "model_module_version": "1.5.0",
          "state": {
            "_dom_classes": [],
            "_model_module": "@jupyter-widgets/controls",
            "_model_module_version": "1.5.0",
            "_model_name": "HTMLModel",
            "_view_count": null,
            "_view_module": "@jupyter-widgets/controls",
            "_view_module_version": "1.5.0",
            "_view_name": "HTMLView",
            "description": "",
            "description_tooltip": null,
            "layout": "IPY_MODEL_6841168aeccb474480c250a51bb451d5",
            "placeholder": "​",
            "style": "IPY_MODEL_318a7714a16a46fba1442b60c266e8ea",
            "value": "Generating train split: "
          }
        },
        "6e47aa7d3be84894bff6789df36dd790": {
          "model_module": "@jupyter-widgets/controls",
          "model_name": "FloatProgressModel",
          "model_module_version": "1.5.0",
          "state": {
            "_dom_classes": [],
            "_model_module": "@jupyter-widgets/controls",
            "_model_module_version": "1.5.0",
            "_model_name": "FloatProgressModel",
            "_view_count": null,
            "_view_module": "@jupyter-widgets/controls",
            "_view_module_version": "1.5.0",
            "_view_name": "ProgressView",
            "bar_style": "success",
            "description": "",
            "description_tooltip": null,
            "layout": "IPY_MODEL_d4ec886a349a48538482863786059694",
            "max": 1,
            "min": 0,
            "orientation": "horizontal",
            "style": "IPY_MODEL_9d32ae936dce4e63a87f3f106f6b11b5",
            "value": 1
          }
        },
        "5476faebf8534d65bd9c60fc5afe133a": {
          "model_module": "@jupyter-widgets/controls",
          "model_name": "HTMLModel",
          "model_module_version": "1.5.0",
          "state": {
            "_dom_classes": [],
            "_model_module": "@jupyter-widgets/controls",
            "_model_module_version": "1.5.0",
            "_model_name": "HTMLModel",
            "_view_count": null,
            "_view_module": "@jupyter-widgets/controls",
            "_view_module_version": "1.5.0",
            "_view_name": "HTMLView",
            "description": "",
            "description_tooltip": null,
            "layout": "IPY_MODEL_0ab3d01212844477b826984fcecc96cc",
            "placeholder": "​",
            "style": "IPY_MODEL_8f4a00872ffe48659a290167bdde9fe2",
            "value": " 23703/0 [00:02&lt;00:00, 10721.83 examples/s]"
          }
        },
        "b8e6dfb585c4493d9bcef244db04e6a4": {
          "model_module": "@jupyter-widgets/base",
          "model_name": "LayoutModel",
          "model_module_version": "1.2.0",
          "state": {
            "_model_module": "@jupyter-widgets/base",
            "_model_module_version": "1.2.0",
            "_model_name": "LayoutModel",
            "_view_count": null,
            "_view_module": "@jupyter-widgets/base",
            "_view_module_version": "1.2.0",
            "_view_name": "LayoutView",
            "align_content": null,
            "align_items": null,
            "align_self": null,
            "border": null,
            "bottom": null,
            "display": null,
            "flex": null,
            "flex_flow": null,
            "grid_area": null,
            "grid_auto_columns": null,
            "grid_auto_flow": null,
            "grid_auto_rows": null,
            "grid_column": null,
            "grid_gap": null,
            "grid_row": null,
            "grid_template_areas": null,
            "grid_template_columns": null,
            "grid_template_rows": null,
            "height": null,
            "justify_content": null,
            "justify_items": null,
            "left": null,
            "margin": null,
            "max_height": null,
            "max_width": null,
            "min_height": null,
            "min_width": null,
            "object_fit": null,
            "object_position": null,
            "order": null,
            "overflow": null,
            "overflow_x": null,
            "overflow_y": null,
            "padding": null,
            "right": null,
            "top": null,
            "visibility": null,
            "width": null
          }
        },
        "6841168aeccb474480c250a51bb451d5": {
          "model_module": "@jupyter-widgets/base",
          "model_name": "LayoutModel",
          "model_module_version": "1.2.0",
          "state": {
            "_model_module": "@jupyter-widgets/base",
            "_model_module_version": "1.2.0",
            "_model_name": "LayoutModel",
            "_view_count": null,
            "_view_module": "@jupyter-widgets/base",
            "_view_module_version": "1.2.0",
            "_view_name": "LayoutView",
            "align_content": null,
            "align_items": null,
            "align_self": null,
            "border": null,
            "bottom": null,
            "display": null,
            "flex": null,
            "flex_flow": null,
            "grid_area": null,
            "grid_auto_columns": null,
            "grid_auto_flow": null,
            "grid_auto_rows": null,
            "grid_column": null,
            "grid_gap": null,
            "grid_row": null,
            "grid_template_areas": null,
            "grid_template_columns": null,
            "grid_template_rows": null,
            "height": null,
            "justify_content": null,
            "justify_items": null,
            "left": null,
            "margin": null,
            "max_height": null,
            "max_width": null,
            "min_height": null,
            "min_width": null,
            "object_fit": null,
            "object_position": null,
            "order": null,
            "overflow": null,
            "overflow_x": null,
            "overflow_y": null,
            "padding": null,
            "right": null,
            "top": null,
            "visibility": null,
            "width": null
          }
        },
        "318a7714a16a46fba1442b60c266e8ea": {
          "model_module": "@jupyter-widgets/controls",
          "model_name": "DescriptionStyleModel",
          "model_module_version": "1.5.0",
          "state": {
            "_model_module": "@jupyter-widgets/controls",
            "_model_module_version": "1.5.0",
            "_model_name": "DescriptionStyleModel",
            "_view_count": null,
            "_view_module": "@jupyter-widgets/base",
            "_view_module_version": "1.2.0",
            "_view_name": "StyleView",
            "description_width": ""
          }
        },
        "d4ec886a349a48538482863786059694": {
          "model_module": "@jupyter-widgets/base",
          "model_name": "LayoutModel",
          "model_module_version": "1.2.0",
          "state": {
            "_model_module": "@jupyter-widgets/base",
            "_model_module_version": "1.2.0",
            "_model_name": "LayoutModel",
            "_view_count": null,
            "_view_module": "@jupyter-widgets/base",
            "_view_module_version": "1.2.0",
            "_view_name": "LayoutView",
            "align_content": null,
            "align_items": null,
            "align_self": null,
            "border": null,
            "bottom": null,
            "display": null,
            "flex": null,
            "flex_flow": null,
            "grid_area": null,
            "grid_auto_columns": null,
            "grid_auto_flow": null,
            "grid_auto_rows": null,
            "grid_column": null,
            "grid_gap": null,
            "grid_row": null,
            "grid_template_areas": null,
            "grid_template_columns": null,
            "grid_template_rows": null,
            "height": null,
            "justify_content": null,
            "justify_items": null,
            "left": null,
            "margin": null,
            "max_height": null,
            "max_width": null,
            "min_height": null,
            "min_width": null,
            "object_fit": null,
            "object_position": null,
            "order": null,
            "overflow": null,
            "overflow_x": null,
            "overflow_y": null,
            "padding": null,
            "right": null,
            "top": null,
            "visibility": null,
            "width": "20px"
          }
        },
        "9d32ae936dce4e63a87f3f106f6b11b5": {
          "model_module": "@jupyter-widgets/controls",
          "model_name": "ProgressStyleModel",
          "model_module_version": "1.5.0",
          "state": {
            "_model_module": "@jupyter-widgets/controls",
            "_model_module_version": "1.5.0",
            "_model_name": "ProgressStyleModel",
            "_view_count": null,
            "_view_module": "@jupyter-widgets/base",
            "_view_module_version": "1.2.0",
            "_view_name": "StyleView",
            "bar_color": null,
            "description_width": ""
          }
        },
        "0ab3d01212844477b826984fcecc96cc": {
          "model_module": "@jupyter-widgets/base",
          "model_name": "LayoutModel",
          "model_module_version": "1.2.0",
          "state": {
            "_model_module": "@jupyter-widgets/base",
            "_model_module_version": "1.2.0",
            "_model_name": "LayoutModel",
            "_view_count": null,
            "_view_module": "@jupyter-widgets/base",
            "_view_module_version": "1.2.0",
            "_view_name": "LayoutView",
            "align_content": null,
            "align_items": null,
            "align_self": null,
            "border": null,
            "bottom": null,
            "display": null,
            "flex": null,
            "flex_flow": null,
            "grid_area": null,
            "grid_auto_columns": null,
            "grid_auto_flow": null,
            "grid_auto_rows": null,
            "grid_column": null,
            "grid_gap": null,
            "grid_row": null,
            "grid_template_areas": null,
            "grid_template_columns": null,
            "grid_template_rows": null,
            "height": null,
            "justify_content": null,
            "justify_items": null,
            "left": null,
            "margin": null,
            "max_height": null,
            "max_width": null,
            "min_height": null,
            "min_width": null,
            "object_fit": null,
            "object_position": null,
            "order": null,
            "overflow": null,
            "overflow_x": null,
            "overflow_y": null,
            "padding": null,
            "right": null,
            "top": null,
            "visibility": null,
            "width": null
          }
        },
        "8f4a00872ffe48659a290167bdde9fe2": {
          "model_module": "@jupyter-widgets/controls",
          "model_name": "DescriptionStyleModel",
          "model_module_version": "1.5.0",
          "state": {
            "_model_module": "@jupyter-widgets/controls",
            "_model_module_version": "1.5.0",
            "_model_name": "DescriptionStyleModel",
            "_view_count": null,
            "_view_module": "@jupyter-widgets/base",
            "_view_module_version": "1.2.0",
            "_view_name": "StyleView",
            "description_width": ""
          }
        },
        "82140844c2534a259637bd1a20ed6cd7": {
          "model_module": "@jupyter-widgets/controls",
          "model_name": "HBoxModel",
          "model_module_version": "1.5.0",
          "state": {
            "_dom_classes": [],
            "_model_module": "@jupyter-widgets/controls",
            "_model_module_version": "1.5.0",
            "_model_name": "HBoxModel",
            "_view_count": null,
            "_view_module": "@jupyter-widgets/controls",
            "_view_module_version": "1.5.0",
            "_view_name": "HBoxView",
            "box_style": "",
            "children": [
              "IPY_MODEL_d8c7a86268bc4091b28edf7d13922457",
              "IPY_MODEL_b58014ed6a104bd2a354e913d9d5476e",
              "IPY_MODEL_d7eede52f0a0438f829b6f26d098fa1e"
            ],
            "layout": "IPY_MODEL_1573db38357b4c82b479e9ea9fc9a0a6"
          }
        },
        "d8c7a86268bc4091b28edf7d13922457": {
          "model_module": "@jupyter-widgets/controls",
          "model_name": "HTMLModel",
          "model_module_version": "1.5.0",
          "state": {
            "_dom_classes": [],
            "_model_module": "@jupyter-widgets/controls",
            "_model_module_version": "1.5.0",
            "_model_name": "HTMLModel",
            "_view_count": null,
            "_view_module": "@jupyter-widgets/controls",
            "_view_module_version": "1.5.0",
            "_view_name": "HTMLView",
            "description": "",
            "description_tooltip": null,
            "layout": "IPY_MODEL_393c9fb4bffb4117bb563a5f1aa3801b",
            "placeholder": "​",
            "style": "IPY_MODEL_54cd749c84914b9e92cde5912d5621cb",
            "value": "Generating validation split: "
          }
        },
        "b58014ed6a104bd2a354e913d9d5476e": {
          "model_module": "@jupyter-widgets/controls",
          "model_name": "FloatProgressModel",
          "model_module_version": "1.5.0",
          "state": {
            "_dom_classes": [],
            "_model_module": "@jupyter-widgets/controls",
            "_model_module_version": "1.5.0",
            "_model_name": "FloatProgressModel",
            "_view_count": null,
            "_view_module": "@jupyter-widgets/controls",
            "_view_module_version": "1.5.0",
            "_view_name": "ProgressView",
            "bar_style": "success",
            "description": "",
            "description_tooltip": null,
            "layout": "IPY_MODEL_c5198e08002e4e18bfb885058934f404",
            "max": 1,
            "min": 0,
            "orientation": "horizontal",
            "style": "IPY_MODEL_45431868f1214b5398f6c0032288245d",
            "value": 1
          }
        },
        "d7eede52f0a0438f829b6f26d098fa1e": {
          "model_module": "@jupyter-widgets/controls",
          "model_name": "HTMLModel",
          "model_module_version": "1.5.0",
          "state": {
            "_dom_classes": [],
            "_model_module": "@jupyter-widgets/controls",
            "_model_module_version": "1.5.0",
            "_model_name": "HTMLModel",
            "_view_count": null,
            "_view_module": "@jupyter-widgets/controls",
            "_view_module_version": "1.5.0",
            "_view_name": "HTMLView",
            "description": "",
            "description_tooltip": null,
            "layout": "IPY_MODEL_ce78bc793a8744cf819d5b5b20ca3427",
            "placeholder": "​",
            "style": "IPY_MODEL_efa49becdd5240b2916abb4dd613ef03",
            "value": " 2967/0 [00:00&lt;00:00, 4977.57 examples/s]"
          }
        },
        "1573db38357b4c82b479e9ea9fc9a0a6": {
          "model_module": "@jupyter-widgets/base",
          "model_name": "LayoutModel",
          "model_module_version": "1.2.0",
          "state": {
            "_model_module": "@jupyter-widgets/base",
            "_model_module_version": "1.2.0",
            "_model_name": "LayoutModel",
            "_view_count": null,
            "_view_module": "@jupyter-widgets/base",
            "_view_module_version": "1.2.0",
            "_view_name": "LayoutView",
            "align_content": null,
            "align_items": null,
            "align_self": null,
            "border": null,
            "bottom": null,
            "display": null,
            "flex": null,
            "flex_flow": null,
            "grid_area": null,
            "grid_auto_columns": null,
            "grid_auto_flow": null,
            "grid_auto_rows": null,
            "grid_column": null,
            "grid_gap": null,
            "grid_row": null,
            "grid_template_areas": null,
            "grid_template_columns": null,
            "grid_template_rows": null,
            "height": null,
            "justify_content": null,
            "justify_items": null,
            "left": null,
            "margin": null,
            "max_height": null,
            "max_width": null,
            "min_height": null,
            "min_width": null,
            "object_fit": null,
            "object_position": null,
            "order": null,
            "overflow": null,
            "overflow_x": null,
            "overflow_y": null,
            "padding": null,
            "right": null,
            "top": null,
            "visibility": null,
            "width": null
          }
        },
        "393c9fb4bffb4117bb563a5f1aa3801b": {
          "model_module": "@jupyter-widgets/base",
          "model_name": "LayoutModel",
          "model_module_version": "1.2.0",
          "state": {
            "_model_module": "@jupyter-widgets/base",
            "_model_module_version": "1.2.0",
            "_model_name": "LayoutModel",
            "_view_count": null,
            "_view_module": "@jupyter-widgets/base",
            "_view_module_version": "1.2.0",
            "_view_name": "LayoutView",
            "align_content": null,
            "align_items": null,
            "align_self": null,
            "border": null,
            "bottom": null,
            "display": null,
            "flex": null,
            "flex_flow": null,
            "grid_area": null,
            "grid_auto_columns": null,
            "grid_auto_flow": null,
            "grid_auto_rows": null,
            "grid_column": null,
            "grid_gap": null,
            "grid_row": null,
            "grid_template_areas": null,
            "grid_template_columns": null,
            "grid_template_rows": null,
            "height": null,
            "justify_content": null,
            "justify_items": null,
            "left": null,
            "margin": null,
            "max_height": null,
            "max_width": null,
            "min_height": null,
            "min_width": null,
            "object_fit": null,
            "object_position": null,
            "order": null,
            "overflow": null,
            "overflow_x": null,
            "overflow_y": null,
            "padding": null,
            "right": null,
            "top": null,
            "visibility": null,
            "width": null
          }
        },
        "54cd749c84914b9e92cde5912d5621cb": {
          "model_module": "@jupyter-widgets/controls",
          "model_name": "DescriptionStyleModel",
          "model_module_version": "1.5.0",
          "state": {
            "_model_module": "@jupyter-widgets/controls",
            "_model_module_version": "1.5.0",
            "_model_name": "DescriptionStyleModel",
            "_view_count": null,
            "_view_module": "@jupyter-widgets/base",
            "_view_module_version": "1.2.0",
            "_view_name": "StyleView",
            "description_width": ""
          }
        },
        "c5198e08002e4e18bfb885058934f404": {
          "model_module": "@jupyter-widgets/base",
          "model_name": "LayoutModel",
          "model_module_version": "1.2.0",
          "state": {
            "_model_module": "@jupyter-widgets/base",
            "_model_module_version": "1.2.0",
            "_model_name": "LayoutModel",
            "_view_count": null,
            "_view_module": "@jupyter-widgets/base",
            "_view_module_version": "1.2.0",
            "_view_name": "LayoutView",
            "align_content": null,
            "align_items": null,
            "align_self": null,
            "border": null,
            "bottom": null,
            "display": null,
            "flex": null,
            "flex_flow": null,
            "grid_area": null,
            "grid_auto_columns": null,
            "grid_auto_flow": null,
            "grid_auto_rows": null,
            "grid_column": null,
            "grid_gap": null,
            "grid_row": null,
            "grid_template_areas": null,
            "grid_template_columns": null,
            "grid_template_rows": null,
            "height": null,
            "justify_content": null,
            "justify_items": null,
            "left": null,
            "margin": null,
            "max_height": null,
            "max_width": null,
            "min_height": null,
            "min_width": null,
            "object_fit": null,
            "object_position": null,
            "order": null,
            "overflow": null,
            "overflow_x": null,
            "overflow_y": null,
            "padding": null,
            "right": null,
            "top": null,
            "visibility": null,
            "width": "20px"
          }
        },
        "45431868f1214b5398f6c0032288245d": {
          "model_module": "@jupyter-widgets/controls",
          "model_name": "ProgressStyleModel",
          "model_module_version": "1.5.0",
          "state": {
            "_model_module": "@jupyter-widgets/controls",
            "_model_module_version": "1.5.0",
            "_model_name": "ProgressStyleModel",
            "_view_count": null,
            "_view_module": "@jupyter-widgets/base",
            "_view_module_version": "1.2.0",
            "_view_name": "StyleView",
            "bar_color": null,
            "description_width": ""
          }
        },
        "ce78bc793a8744cf819d5b5b20ca3427": {
          "model_module": "@jupyter-widgets/base",
          "model_name": "LayoutModel",
          "model_module_version": "1.2.0",
          "state": {
            "_model_module": "@jupyter-widgets/base",
            "_model_module_version": "1.2.0",
            "_model_name": "LayoutModel",
            "_view_count": null,
            "_view_module": "@jupyter-widgets/base",
            "_view_module_version": "1.2.0",
            "_view_name": "LayoutView",
            "align_content": null,
            "align_items": null,
            "align_self": null,
            "border": null,
            "bottom": null,
            "display": null,
            "flex": null,
            "flex_flow": null,
            "grid_area": null,
            "grid_auto_columns": null,
            "grid_auto_flow": null,
            "grid_auto_rows": null,
            "grid_column": null,
            "grid_gap": null,
            "grid_row": null,
            "grid_template_areas": null,
            "grid_template_columns": null,
            "grid_template_rows": null,
            "height": null,
            "justify_content": null,
            "justify_items": null,
            "left": null,
            "margin": null,
            "max_height": null,
            "max_width": null,
            "min_height": null,
            "min_width": null,
            "object_fit": null,
            "object_position": null,
            "order": null,
            "overflow": null,
            "overflow_x": null,
            "overflow_y": null,
            "padding": null,
            "right": null,
            "top": null,
            "visibility": null,
            "width": null
          }
        },
        "efa49becdd5240b2916abb4dd613ef03": {
          "model_module": "@jupyter-widgets/controls",
          "model_name": "DescriptionStyleModel",
          "model_module_version": "1.5.0",
          "state": {
            "_model_module": "@jupyter-widgets/controls",
            "_model_module_version": "1.5.0",
            "_model_name": "DescriptionStyleModel",
            "_view_count": null,
            "_view_module": "@jupyter-widgets/base",
            "_view_module_version": "1.2.0",
            "_view_name": "StyleView",
            "description_width": ""
          }
        },
        "2bfa536038844979a8635f55217ba1a1": {
          "model_module": "@jupyter-widgets/controls",
          "model_name": "HBoxModel",
          "model_module_version": "1.5.0",
          "state": {
            "_dom_classes": [],
            "_model_module": "@jupyter-widgets/controls",
            "_model_module_version": "1.5.0",
            "_model_name": "HBoxModel",
            "_view_count": null,
            "_view_module": "@jupyter-widgets/controls",
            "_view_module_version": "1.5.0",
            "_view_name": "HBoxView",
            "box_style": "",
            "children": [
              "IPY_MODEL_2c91381b75a64eea8a873b8dfda2426d",
              "IPY_MODEL_e19985498794487daa74d0e38f247747",
              "IPY_MODEL_5455745dc07a4072a072a533ee6cdc9c"
            ],
            "layout": "IPY_MODEL_45bdc20aa9fe4d02b5f93eee59c482a2"
          }
        },
        "2c91381b75a64eea8a873b8dfda2426d": {
          "model_module": "@jupyter-widgets/controls",
          "model_name": "HTMLModel",
          "model_module_version": "1.5.0",
          "state": {
            "_dom_classes": [],
            "_model_module": "@jupyter-widgets/controls",
            "_model_module_version": "1.5.0",
            "_model_name": "HTMLModel",
            "_view_count": null,
            "_view_module": "@jupyter-widgets/controls",
            "_view_module_version": "1.5.0",
            "_view_name": "HTMLView",
            "description": "",
            "description_tooltip": null,
            "layout": "IPY_MODEL_f44cac1e48c347e388eb83a24acfa41b",
            "placeholder": "​",
            "style": "IPY_MODEL_e929c32ccc03498fb0f8f64a2d8e9997",
            "value": "Generating test split: "
          }
        },
        "e19985498794487daa74d0e38f247747": {
          "model_module": "@jupyter-widgets/controls",
          "model_name": "FloatProgressModel",
          "model_module_version": "1.5.0",
          "state": {
            "_dom_classes": [],
            "_model_module": "@jupyter-widgets/controls",
            "_model_module_version": "1.5.0",
            "_model_name": "FloatProgressModel",
            "_view_count": null,
            "_view_module": "@jupyter-widgets/controls",
            "_view_module_version": "1.5.0",
            "_view_name": "ProgressView",
            "bar_style": "success",
            "description": "",
            "description_tooltip": null,
            "layout": "IPY_MODEL_d512cbf2895840418b61f3829cde2d6e",
            "max": 1,
            "min": 0,
            "orientation": "horizontal",
            "style": "IPY_MODEL_056f02b378cd4ab8a8c893842365e595",
            "value": 1
          }
        },
        "5455745dc07a4072a072a533ee6cdc9c": {
          "model_module": "@jupyter-widgets/controls",
          "model_name": "HTMLModel",
          "model_module_version": "1.5.0",
          "state": {
            "_dom_classes": [],
            "_model_module": "@jupyter-widgets/controls",
            "_model_module_version": "1.5.0",
            "_model_name": "HTMLModel",
            "_view_count": null,
            "_view_module": "@jupyter-widgets/controls",
            "_view_module_version": "1.5.0",
            "_view_name": "HTMLView",
            "description": "",
            "description_tooltip": null,
            "layout": "IPY_MODEL_de62c7db5ee94637a190c3d966526ea5",
            "placeholder": "​",
            "style": "IPY_MODEL_39db55862e2c4da5a935426252344dcb",
            "value": " 2963/0 [00:00&lt;00:00, 4987.52 examples/s]"
          }
        },
        "45bdc20aa9fe4d02b5f93eee59c482a2": {
          "model_module": "@jupyter-widgets/base",
          "model_name": "LayoutModel",
          "model_module_version": "1.2.0",
          "state": {
            "_model_module": "@jupyter-widgets/base",
            "_model_module_version": "1.2.0",
            "_model_name": "LayoutModel",
            "_view_count": null,
            "_view_module": "@jupyter-widgets/base",
            "_view_module_version": "1.2.0",
            "_view_name": "LayoutView",
            "align_content": null,
            "align_items": null,
            "align_self": null,
            "border": null,
            "bottom": null,
            "display": null,
            "flex": null,
            "flex_flow": null,
            "grid_area": null,
            "grid_auto_columns": null,
            "grid_auto_flow": null,
            "grid_auto_rows": null,
            "grid_column": null,
            "grid_gap": null,
            "grid_row": null,
            "grid_template_areas": null,
            "grid_template_columns": null,
            "grid_template_rows": null,
            "height": null,
            "justify_content": null,
            "justify_items": null,
            "left": null,
            "margin": null,
            "max_height": null,
            "max_width": null,
            "min_height": null,
            "min_width": null,
            "object_fit": null,
            "object_position": null,
            "order": null,
            "overflow": null,
            "overflow_x": null,
            "overflow_y": null,
            "padding": null,
            "right": null,
            "top": null,
            "visibility": null,
            "width": null
          }
        },
        "f44cac1e48c347e388eb83a24acfa41b": {
          "model_module": "@jupyter-widgets/base",
          "model_name": "LayoutModel",
          "model_module_version": "1.2.0",
          "state": {
            "_model_module": "@jupyter-widgets/base",
            "_model_module_version": "1.2.0",
            "_model_name": "LayoutModel",
            "_view_count": null,
            "_view_module": "@jupyter-widgets/base",
            "_view_module_version": "1.2.0",
            "_view_name": "LayoutView",
            "align_content": null,
            "align_items": null,
            "align_self": null,
            "border": null,
            "bottom": null,
            "display": null,
            "flex": null,
            "flex_flow": null,
            "grid_area": null,
            "grid_auto_columns": null,
            "grid_auto_flow": null,
            "grid_auto_rows": null,
            "grid_column": null,
            "grid_gap": null,
            "grid_row": null,
            "grid_template_areas": null,
            "grid_template_columns": null,
            "grid_template_rows": null,
            "height": null,
            "justify_content": null,
            "justify_items": null,
            "left": null,
            "margin": null,
            "max_height": null,
            "max_width": null,
            "min_height": null,
            "min_width": null,
            "object_fit": null,
            "object_position": null,
            "order": null,
            "overflow": null,
            "overflow_x": null,
            "overflow_y": null,
            "padding": null,
            "right": null,
            "top": null,
            "visibility": null,
            "width": null
          }
        },
        "e929c32ccc03498fb0f8f64a2d8e9997": {
          "model_module": "@jupyter-widgets/controls",
          "model_name": "DescriptionStyleModel",
          "model_module_version": "1.5.0",
          "state": {
            "_model_module": "@jupyter-widgets/controls",
            "_model_module_version": "1.5.0",
            "_model_name": "DescriptionStyleModel",
            "_view_count": null,
            "_view_module": "@jupyter-widgets/base",
            "_view_module_version": "1.2.0",
            "_view_name": "StyleView",
            "description_width": ""
          }
        },
        "d512cbf2895840418b61f3829cde2d6e": {
          "model_module": "@jupyter-widgets/base",
          "model_name": "LayoutModel",
          "model_module_version": "1.2.0",
          "state": {
            "_model_module": "@jupyter-widgets/base",
            "_model_module_version": "1.2.0",
            "_model_name": "LayoutModel",
            "_view_count": null,
            "_view_module": "@jupyter-widgets/base",
            "_view_module_version": "1.2.0",
            "_view_name": "LayoutView",
            "align_content": null,
            "align_items": null,
            "align_self": null,
            "border": null,
            "bottom": null,
            "display": null,
            "flex": null,
            "flex_flow": null,
            "grid_area": null,
            "grid_auto_columns": null,
            "grid_auto_flow": null,
            "grid_auto_rows": null,
            "grid_column": null,
            "grid_gap": null,
            "grid_row": null,
            "grid_template_areas": null,
            "grid_template_columns": null,
            "grid_template_rows": null,
            "height": null,
            "justify_content": null,
            "justify_items": null,
            "left": null,
            "margin": null,
            "max_height": null,
            "max_width": null,
            "min_height": null,
            "min_width": null,
            "object_fit": null,
            "object_position": null,
            "order": null,
            "overflow": null,
            "overflow_x": null,
            "overflow_y": null,
            "padding": null,
            "right": null,
            "top": null,
            "visibility": null,
            "width": "20px"
          }
        },
        "056f02b378cd4ab8a8c893842365e595": {
          "model_module": "@jupyter-widgets/controls",
          "model_name": "ProgressStyleModel",
          "model_module_version": "1.5.0",
          "state": {
            "_model_module": "@jupyter-widgets/controls",
            "_model_module_version": "1.5.0",
            "_model_name": "ProgressStyleModel",
            "_view_count": null,
            "_view_module": "@jupyter-widgets/base",
            "_view_module_version": "1.2.0",
            "_view_name": "StyleView",
            "bar_color": null,
            "description_width": ""
          }
        },
        "de62c7db5ee94637a190c3d966526ea5": {
          "model_module": "@jupyter-widgets/base",
          "model_name": "LayoutModel",
          "model_module_version": "1.2.0",
          "state": {
            "_model_module": "@jupyter-widgets/base",
            "_model_module_version": "1.2.0",
            "_model_name": "LayoutModel",
            "_view_count": null,
            "_view_module": "@jupyter-widgets/base",
            "_view_module_version": "1.2.0",
            "_view_name": "LayoutView",
            "align_content": null,
            "align_items": null,
            "align_self": null,
            "border": null,
            "bottom": null,
            "display": null,
            "flex": null,
            "flex_flow": null,
            "grid_area": null,
            "grid_auto_columns": null,
            "grid_auto_flow": null,
            "grid_auto_rows": null,
            "grid_column": null,
            "grid_gap": null,
            "grid_row": null,
            "grid_template_areas": null,
            "grid_template_columns": null,
            "grid_template_rows": null,
            "height": null,
            "justify_content": null,
            "justify_items": null,
            "left": null,
            "margin": null,
            "max_height": null,
            "max_width": null,
            "min_height": null,
            "min_width": null,
            "object_fit": null,
            "object_position": null,
            "order": null,
            "overflow": null,
            "overflow_x": null,
            "overflow_y": null,
            "padding": null,
            "right": null,
            "top": null,
            "visibility": null,
            "width": null
          }
        },
        "39db55862e2c4da5a935426252344dcb": {
          "model_module": "@jupyter-widgets/controls",
          "model_name": "DescriptionStyleModel",
          "model_module_version": "1.5.0",
          "state": {
            "_model_module": "@jupyter-widgets/controls",
            "_model_module_version": "1.5.0",
            "_model_name": "DescriptionStyleModel",
            "_view_count": null,
            "_view_module": "@jupyter-widgets/base",
            "_view_module_version": "1.2.0",
            "_view_name": "StyleView",
            "description_width": ""
          }
        },
        "045f8b792958465395ad040bd4f49bca": {
          "model_module": "@jupyter-widgets/controls",
          "model_name": "HBoxModel",
          "model_module_version": "1.5.0",
          "state": {
            "_dom_classes": [],
            "_model_module": "@jupyter-widgets/controls",
            "_model_module_version": "1.5.0",
            "_model_name": "HBoxModel",
            "_view_count": null,
            "_view_module": "@jupyter-widgets/controls",
            "_view_module_version": "1.5.0",
            "_view_name": "HBoxView",
            "box_style": "",
            "children": [
              "IPY_MODEL_e2c0043db502477a895bd5ee09dd3ed7",
              "IPY_MODEL_d409c50d766e4c698dcac4f89183e69e",
              "IPY_MODEL_1ab2d61012ba42a68127c61ee10494da"
            ],
            "layout": "IPY_MODEL_c58d0d0f0abb43afb4e1077a63ebb7ee"
          }
        },
        "e2c0043db502477a895bd5ee09dd3ed7": {
          "model_module": "@jupyter-widgets/controls",
          "model_name": "HTMLModel",
          "model_module_version": "1.5.0",
          "state": {
            "_dom_classes": [],
            "_model_module": "@jupyter-widgets/controls",
            "_model_module_version": "1.5.0",
            "_model_name": "HTMLModel",
            "_view_count": null,
            "_view_module": "@jupyter-widgets/controls",
            "_view_module_version": "1.5.0",
            "_view_name": "HTMLView",
            "description": "",
            "description_tooltip": null,
            "layout": "IPY_MODEL_0d9b35d375fe44ecba59d6014d156dd1",
            "placeholder": "​",
            "style": "IPY_MODEL_5e42990f6d474cbb8d64bdeab750857d",
            "value": "tokenizer_config.json: 100%"
          }
        },
        "d409c50d766e4c698dcac4f89183e69e": {
          "model_module": "@jupyter-widgets/controls",
          "model_name": "FloatProgressModel",
          "model_module_version": "1.5.0",
          "state": {
            "_dom_classes": [],
            "_model_module": "@jupyter-widgets/controls",
            "_model_module_version": "1.5.0",
            "_model_name": "FloatProgressModel",
            "_view_count": null,
            "_view_module": "@jupyter-widgets/controls",
            "_view_module_version": "1.5.0",
            "_view_name": "ProgressView",
            "bar_style": "success",
            "description": "",
            "description_tooltip": null,
            "layout": "IPY_MODEL_ab2b0cfca74c4cd6a62a0b5facf29fd7",
            "max": 222,
            "min": 0,
            "orientation": "horizontal",
            "style": "IPY_MODEL_932bb9131c6047cc926718f20a1bafc9",
            "value": 222
          }
        },
        "1ab2d61012ba42a68127c61ee10494da": {
          "model_module": "@jupyter-widgets/controls",
          "model_name": "HTMLModel",
          "model_module_version": "1.5.0",
          "state": {
            "_dom_classes": [],
            "_model_module": "@jupyter-widgets/controls",
            "_model_module_version": "1.5.0",
            "_model_name": "HTMLModel",
            "_view_count": null,
            "_view_module": "@jupyter-widgets/controls",
            "_view_module_version": "1.5.0",
            "_view_name": "HTMLView",
            "description": "",
            "description_tooltip": null,
            "layout": "IPY_MODEL_01cc19321dfd4d2a9451dff62f1aaa9b",
            "placeholder": "​",
            "style": "IPY_MODEL_d46978ea3eb24cfb9ce14923914ec9fb",
            "value": " 222/222 [00:00&lt;00:00, 14.9kB/s]"
          }
        },
        "c58d0d0f0abb43afb4e1077a63ebb7ee": {
          "model_module": "@jupyter-widgets/base",
          "model_name": "LayoutModel",
          "model_module_version": "1.2.0",
          "state": {
            "_model_module": "@jupyter-widgets/base",
            "_model_module_version": "1.2.0",
            "_model_name": "LayoutModel",
            "_view_count": null,
            "_view_module": "@jupyter-widgets/base",
            "_view_module_version": "1.2.0",
            "_view_name": "LayoutView",
            "align_content": null,
            "align_items": null,
            "align_self": null,
            "border": null,
            "bottom": null,
            "display": null,
            "flex": null,
            "flex_flow": null,
            "grid_area": null,
            "grid_auto_columns": null,
            "grid_auto_flow": null,
            "grid_auto_rows": null,
            "grid_column": null,
            "grid_gap": null,
            "grid_row": null,
            "grid_template_areas": null,
            "grid_template_columns": null,
            "grid_template_rows": null,
            "height": null,
            "justify_content": null,
            "justify_items": null,
            "left": null,
            "margin": null,
            "max_height": null,
            "max_width": null,
            "min_height": null,
            "min_width": null,
            "object_fit": null,
            "object_position": null,
            "order": null,
            "overflow": null,
            "overflow_x": null,
            "overflow_y": null,
            "padding": null,
            "right": null,
            "top": null,
            "visibility": null,
            "width": null
          }
        },
        "0d9b35d375fe44ecba59d6014d156dd1": {
          "model_module": "@jupyter-widgets/base",
          "model_name": "LayoutModel",
          "model_module_version": "1.2.0",
          "state": {
            "_model_module": "@jupyter-widgets/base",
            "_model_module_version": "1.2.0",
            "_model_name": "LayoutModel",
            "_view_count": null,
            "_view_module": "@jupyter-widgets/base",
            "_view_module_version": "1.2.0",
            "_view_name": "LayoutView",
            "align_content": null,
            "align_items": null,
            "align_self": null,
            "border": null,
            "bottom": null,
            "display": null,
            "flex": null,
            "flex_flow": null,
            "grid_area": null,
            "grid_auto_columns": null,
            "grid_auto_flow": null,
            "grid_auto_rows": null,
            "grid_column": null,
            "grid_gap": null,
            "grid_row": null,
            "grid_template_areas": null,
            "grid_template_columns": null,
            "grid_template_rows": null,
            "height": null,
            "justify_content": null,
            "justify_items": null,
            "left": null,
            "margin": null,
            "max_height": null,
            "max_width": null,
            "min_height": null,
            "min_width": null,
            "object_fit": null,
            "object_position": null,
            "order": null,
            "overflow": null,
            "overflow_x": null,
            "overflow_y": null,
            "padding": null,
            "right": null,
            "top": null,
            "visibility": null,
            "width": null
          }
        },
        "5e42990f6d474cbb8d64bdeab750857d": {
          "model_module": "@jupyter-widgets/controls",
          "model_name": "DescriptionStyleModel",
          "model_module_version": "1.5.0",
          "state": {
            "_model_module": "@jupyter-widgets/controls",
            "_model_module_version": "1.5.0",
            "_model_name": "DescriptionStyleModel",
            "_view_count": null,
            "_view_module": "@jupyter-widgets/base",
            "_view_module_version": "1.2.0",
            "_view_name": "StyleView",
            "description_width": ""
          }
        },
        "ab2b0cfca74c4cd6a62a0b5facf29fd7": {
          "model_module": "@jupyter-widgets/base",
          "model_name": "LayoutModel",
          "model_module_version": "1.2.0",
          "state": {
            "_model_module": "@jupyter-widgets/base",
            "_model_module_version": "1.2.0",
            "_model_name": "LayoutModel",
            "_view_count": null,
            "_view_module": "@jupyter-widgets/base",
            "_view_module_version": "1.2.0",
            "_view_name": "LayoutView",
            "align_content": null,
            "align_items": null,
            "align_self": null,
            "border": null,
            "bottom": null,
            "display": null,
            "flex": null,
            "flex_flow": null,
            "grid_area": null,
            "grid_auto_columns": null,
            "grid_auto_flow": null,
            "grid_auto_rows": null,
            "grid_column": null,
            "grid_gap": null,
            "grid_row": null,
            "grid_template_areas": null,
            "grid_template_columns": null,
            "grid_template_rows": null,
            "height": null,
            "justify_content": null,
            "justify_items": null,
            "left": null,
            "margin": null,
            "max_height": null,
            "max_width": null,
            "min_height": null,
            "min_width": null,
            "object_fit": null,
            "object_position": null,
            "order": null,
            "overflow": null,
            "overflow_x": null,
            "overflow_y": null,
            "padding": null,
            "right": null,
            "top": null,
            "visibility": null,
            "width": null
          }
        },
        "932bb9131c6047cc926718f20a1bafc9": {
          "model_module": "@jupyter-widgets/controls",
          "model_name": "ProgressStyleModel",
          "model_module_version": "1.5.0",
          "state": {
            "_model_module": "@jupyter-widgets/controls",
            "_model_module_version": "1.5.0",
            "_model_name": "ProgressStyleModel",
            "_view_count": null,
            "_view_module": "@jupyter-widgets/base",
            "_view_module_version": "1.2.0",
            "_view_name": "StyleView",
            "bar_color": null,
            "description_width": ""
          }
        },
        "01cc19321dfd4d2a9451dff62f1aaa9b": {
          "model_module": "@jupyter-widgets/base",
          "model_name": "LayoutModel",
          "model_module_version": "1.2.0",
          "state": {
            "_model_module": "@jupyter-widgets/base",
            "_model_module_version": "1.2.0",
            "_model_name": "LayoutModel",
            "_view_count": null,
            "_view_module": "@jupyter-widgets/base",
            "_view_module_version": "1.2.0",
            "_view_name": "LayoutView",
            "align_content": null,
            "align_items": null,
            "align_self": null,
            "border": null,
            "bottom": null,
            "display": null,
            "flex": null,
            "flex_flow": null,
            "grid_area": null,
            "grid_auto_columns": null,
            "grid_auto_flow": null,
            "grid_auto_rows": null,
            "grid_column": null,
            "grid_gap": null,
            "grid_row": null,
            "grid_template_areas": null,
            "grid_template_columns": null,
            "grid_template_rows": null,
            "height": null,
            "justify_content": null,
            "justify_items": null,
            "left": null,
            "margin": null,
            "max_height": null,
            "max_width": null,
            "min_height": null,
            "min_width": null,
            "object_fit": null,
            "object_position": null,
            "order": null,
            "overflow": null,
            "overflow_x": null,
            "overflow_y": null,
            "padding": null,
            "right": null,
            "top": null,
            "visibility": null,
            "width": null
          }
        },
        "d46978ea3eb24cfb9ce14923914ec9fb": {
          "model_module": "@jupyter-widgets/controls",
          "model_name": "DescriptionStyleModel",
          "model_module_version": "1.5.0",
          "state": {
            "_model_module": "@jupyter-widgets/controls",
            "_model_module_version": "1.5.0",
            "_model_name": "DescriptionStyleModel",
            "_view_count": null,
            "_view_module": "@jupyter-widgets/base",
            "_view_module_version": "1.2.0",
            "_view_name": "StyleView",
            "description_width": ""
          }
        },
        "52454566f2314a00a8ffa76c785c9bd7": {
          "model_module": "@jupyter-widgets/controls",
          "model_name": "HBoxModel",
          "model_module_version": "1.5.0",
          "state": {
            "_dom_classes": [],
            "_model_module": "@jupyter-widgets/controls",
            "_model_module_version": "1.5.0",
            "_model_name": "HBoxModel",
            "_view_count": null,
            "_view_module": "@jupyter-widgets/controls",
            "_view_module_version": "1.5.0",
            "_view_name": "HBoxView",
            "box_style": "",
            "children": [
              "IPY_MODEL_62d119aa66ad442c885db9ef1e9f2ac7",
              "IPY_MODEL_e668fafe04614073ad96aa5c6a2bd3d1",
              "IPY_MODEL_bac384de2b6e461ea15a337244a723ae"
            ],
            "layout": "IPY_MODEL_de58a799e33049c5852b6628290745bc"
          }
        },
        "62d119aa66ad442c885db9ef1e9f2ac7": {
          "model_module": "@jupyter-widgets/controls",
          "model_name": "HTMLModel",
          "model_module_version": "1.5.0",
          "state": {
            "_dom_classes": [],
            "_model_module": "@jupyter-widgets/controls",
            "_model_module_version": "1.5.0",
            "_model_name": "HTMLModel",
            "_view_count": null,
            "_view_module": "@jupyter-widgets/controls",
            "_view_module_version": "1.5.0",
            "_view_name": "HTMLView",
            "description": "",
            "description_tooltip": null,
            "layout": "IPY_MODEL_51e252c9307a400f91850fbac35ec500",
            "placeholder": "​",
            "style": "IPY_MODEL_8402abfec83d4db78d09ad30e79b952e",
            "value": "tokenizer.json: 100%"
          }
        },
        "e668fafe04614073ad96aa5c6a2bd3d1": {
          "model_module": "@jupyter-widgets/controls",
          "model_name": "FloatProgressModel",
          "model_module_version": "1.5.0",
          "state": {
            "_dom_classes": [],
            "_model_module": "@jupyter-widgets/controls",
            "_model_module_version": "1.5.0",
            "_model_name": "FloatProgressModel",
            "_view_count": null,
            "_view_module": "@jupyter-widgets/controls",
            "_view_module_version": "1.5.0",
            "_view_name": "ProgressView",
            "bar_style": "success",
            "description": "",
            "description_tooltip": null,
            "layout": "IPY_MODEL_92a6214ef3f7425ba9be48f97edb11a1",
            "max": 14500438,
            "min": 0,
            "orientation": "horizontal",
            "style": "IPY_MODEL_fb3668fe82ef4c77b75143b86cab79d7",
            "value": 14500438
          }
        },
        "bac384de2b6e461ea15a337244a723ae": {
          "model_module": "@jupyter-widgets/controls",
          "model_name": "HTMLModel",
          "model_module_version": "1.5.0",
          "state": {
            "_dom_classes": [],
            "_model_module": "@jupyter-widgets/controls",
            "_model_module_version": "1.5.0",
            "_model_name": "HTMLModel",
            "_view_count": null,
            "_view_module": "@jupyter-widgets/controls",
            "_view_module_version": "1.5.0",
            "_view_name": "HTMLView",
            "description": "",
            "description_tooltip": null,
            "layout": "IPY_MODEL_b3c2d8c652bd49b7adc027d151097344",
            "placeholder": "​",
            "style": "IPY_MODEL_f7781b79ce354b36b11cb2f385c61c77",
            "value": " 14.5M/14.5M [00:00&lt;00:00, 43.2MB/s]"
          }
        },
        "de58a799e33049c5852b6628290745bc": {
          "model_module": "@jupyter-widgets/base",
          "model_name": "LayoutModel",
          "model_module_version": "1.2.0",
          "state": {
            "_model_module": "@jupyter-widgets/base",
            "_model_module_version": "1.2.0",
            "_model_name": "LayoutModel",
            "_view_count": null,
            "_view_module": "@jupyter-widgets/base",
            "_view_module_version": "1.2.0",
            "_view_name": "LayoutView",
            "align_content": null,
            "align_items": null,
            "align_self": null,
            "border": null,
            "bottom": null,
            "display": null,
            "flex": null,
            "flex_flow": null,
            "grid_area": null,
            "grid_auto_columns": null,
            "grid_auto_flow": null,
            "grid_auto_rows": null,
            "grid_column": null,
            "grid_gap": null,
            "grid_row": null,
            "grid_template_areas": null,
            "grid_template_columns": null,
            "grid_template_rows": null,
            "height": null,
            "justify_content": null,
            "justify_items": null,
            "left": null,
            "margin": null,
            "max_height": null,
            "max_width": null,
            "min_height": null,
            "min_width": null,
            "object_fit": null,
            "object_position": null,
            "order": null,
            "overflow": null,
            "overflow_x": null,
            "overflow_y": null,
            "padding": null,
            "right": null,
            "top": null,
            "visibility": null,
            "width": null
          }
        },
        "51e252c9307a400f91850fbac35ec500": {
          "model_module": "@jupyter-widgets/base",
          "model_name": "LayoutModel",
          "model_module_version": "1.2.0",
          "state": {
            "_model_module": "@jupyter-widgets/base",
            "_model_module_version": "1.2.0",
            "_model_name": "LayoutModel",
            "_view_count": null,
            "_view_module": "@jupyter-widgets/base",
            "_view_module_version": "1.2.0",
            "_view_name": "LayoutView",
            "align_content": null,
            "align_items": null,
            "align_self": null,
            "border": null,
            "bottom": null,
            "display": null,
            "flex": null,
            "flex_flow": null,
            "grid_area": null,
            "grid_auto_columns": null,
            "grid_auto_flow": null,
            "grid_auto_rows": null,
            "grid_column": null,
            "grid_gap": null,
            "grid_row": null,
            "grid_template_areas": null,
            "grid_template_columns": null,
            "grid_template_rows": null,
            "height": null,
            "justify_content": null,
            "justify_items": null,
            "left": null,
            "margin": null,
            "max_height": null,
            "max_width": null,
            "min_height": null,
            "min_width": null,
            "object_fit": null,
            "object_position": null,
            "order": null,
            "overflow": null,
            "overflow_x": null,
            "overflow_y": null,
            "padding": null,
            "right": null,
            "top": null,
            "visibility": null,
            "width": null
          }
        },
        "8402abfec83d4db78d09ad30e79b952e": {
          "model_module": "@jupyter-widgets/controls",
          "model_name": "DescriptionStyleModel",
          "model_module_version": "1.5.0",
          "state": {
            "_model_module": "@jupyter-widgets/controls",
            "_model_module_version": "1.5.0",
            "_model_name": "DescriptionStyleModel",
            "_view_count": null,
            "_view_module": "@jupyter-widgets/base",
            "_view_module_version": "1.2.0",
            "_view_name": "StyleView",
            "description_width": ""
          }
        },
        "92a6214ef3f7425ba9be48f97edb11a1": {
          "model_module": "@jupyter-widgets/base",
          "model_name": "LayoutModel",
          "model_module_version": "1.2.0",
          "state": {
            "_model_module": "@jupyter-widgets/base",
            "_model_module_version": "1.2.0",
            "_model_name": "LayoutModel",
            "_view_count": null,
            "_view_module": "@jupyter-widgets/base",
            "_view_module_version": "1.2.0",
            "_view_name": "LayoutView",
            "align_content": null,
            "align_items": null,
            "align_self": null,
            "border": null,
            "bottom": null,
            "display": null,
            "flex": null,
            "flex_flow": null,
            "grid_area": null,
            "grid_auto_columns": null,
            "grid_auto_flow": null,
            "grid_auto_rows": null,
            "grid_column": null,
            "grid_gap": null,
            "grid_row": null,
            "grid_template_areas": null,
            "grid_template_columns": null,
            "grid_template_rows": null,
            "height": null,
            "justify_content": null,
            "justify_items": null,
            "left": null,
            "margin": null,
            "max_height": null,
            "max_width": null,
            "min_height": null,
            "min_width": null,
            "object_fit": null,
            "object_position": null,
            "order": null,
            "overflow": null,
            "overflow_x": null,
            "overflow_y": null,
            "padding": null,
            "right": null,
            "top": null,
            "visibility": null,
            "width": null
          }
        },
        "fb3668fe82ef4c77b75143b86cab79d7": {
          "model_module": "@jupyter-widgets/controls",
          "model_name": "ProgressStyleModel",
          "model_module_version": "1.5.0",
          "state": {
            "_model_module": "@jupyter-widgets/controls",
            "_model_module_version": "1.5.0",
            "_model_name": "ProgressStyleModel",
            "_view_count": null,
            "_view_module": "@jupyter-widgets/base",
            "_view_module_version": "1.2.0",
            "_view_name": "StyleView",
            "bar_color": null,
            "description_width": ""
          }
        },
        "b3c2d8c652bd49b7adc027d151097344": {
          "model_module": "@jupyter-widgets/base",
          "model_name": "LayoutModel",
          "model_module_version": "1.2.0",
          "state": {
            "_model_module": "@jupyter-widgets/base",
            "_model_module_version": "1.2.0",
            "_model_name": "LayoutModel",
            "_view_count": null,
            "_view_module": "@jupyter-widgets/base",
            "_view_module_version": "1.2.0",
            "_view_name": "LayoutView",
            "align_content": null,
            "align_items": null,
            "align_self": null,
            "border": null,
            "bottom": null,
            "display": null,
            "flex": null,
            "flex_flow": null,
            "grid_area": null,
            "grid_auto_columns": null,
            "grid_auto_flow": null,
            "grid_auto_rows": null,
            "grid_column": null,
            "grid_gap": null,
            "grid_row": null,
            "grid_template_areas": null,
            "grid_template_columns": null,
            "grid_template_rows": null,
            "height": null,
            "justify_content": null,
            "justify_items": null,
            "left": null,
            "margin": null,
            "max_height": null,
            "max_width": null,
            "min_height": null,
            "min_width": null,
            "object_fit": null,
            "object_position": null,
            "order": null,
            "overflow": null,
            "overflow_x": null,
            "overflow_y": null,
            "padding": null,
            "right": null,
            "top": null,
            "visibility": null,
            "width": null
          }
        },
        "f7781b79ce354b36b11cb2f385c61c77": {
          "model_module": "@jupyter-widgets/controls",
          "model_name": "DescriptionStyleModel",
          "model_module_version": "1.5.0",
          "state": {
            "_model_module": "@jupyter-widgets/controls",
            "_model_module_version": "1.5.0",
            "_model_name": "DescriptionStyleModel",
            "_view_count": null,
            "_view_module": "@jupyter-widgets/base",
            "_view_module_version": "1.2.0",
            "_view_name": "StyleView",
            "description_width": ""
          }
        },
        "2e957d201cc348848430959c22a993c7": {
          "model_module": "@jupyter-widgets/controls",
          "model_name": "HBoxModel",
          "model_module_version": "1.5.0",
          "state": {
            "_dom_classes": [],
            "_model_module": "@jupyter-widgets/controls",
            "_model_module_version": "1.5.0",
            "_model_name": "HBoxModel",
            "_view_count": null,
            "_view_module": "@jupyter-widgets/controls",
            "_view_module_version": "1.5.0",
            "_view_name": "HBoxView",
            "box_style": "",
            "children": [
              "IPY_MODEL_9236ff5250a04393a5b24b6dc88d856d",
              "IPY_MODEL_48d687b80e064c1d83b3cb6fe5ab4581",
              "IPY_MODEL_08bd2463931845c3a3b6569fa65efc47"
            ],
            "layout": "IPY_MODEL_c843a7ceeace4db7a07324b1809b5f9b"
          }
        },
        "9236ff5250a04393a5b24b6dc88d856d": {
          "model_module": "@jupyter-widgets/controls",
          "model_name": "HTMLModel",
          "model_module_version": "1.5.0",
          "state": {
            "_dom_classes": [],
            "_model_module": "@jupyter-widgets/controls",
            "_model_module_version": "1.5.0",
            "_model_name": "HTMLModel",
            "_view_count": null,
            "_view_module": "@jupyter-widgets/controls",
            "_view_module_version": "1.5.0",
            "_view_name": "HTMLView",
            "description": "",
            "description_tooltip": null,
            "layout": "IPY_MODEL_380b5319e7134a28bf1778232a35a847",
            "placeholder": "​",
            "style": "IPY_MODEL_c7d679181d6b4810a298cf356ead9e06",
            "value": "special_tokens_map.json: 100%"
          }
        },
        "48d687b80e064c1d83b3cb6fe5ab4581": {
          "model_module": "@jupyter-widgets/controls",
          "model_name": "FloatProgressModel",
          "model_module_version": "1.5.0",
          "state": {
            "_dom_classes": [],
            "_model_module": "@jupyter-widgets/controls",
            "_model_module_version": "1.5.0",
            "_model_name": "FloatProgressModel",
            "_view_count": null,
            "_view_module": "@jupyter-widgets/controls",
            "_view_module_version": "1.5.0",
            "_view_name": "ProgressView",
            "bar_style": "success",
            "description": "",
            "description_tooltip": null,
            "layout": "IPY_MODEL_27f84481aab744e78571258bb15e7740",
            "max": 85,
            "min": 0,
            "orientation": "horizontal",
            "style": "IPY_MODEL_52158e74dbe24023b1f4463327094999",
            "value": 85
          }
        },
        "08bd2463931845c3a3b6569fa65efc47": {
          "model_module": "@jupyter-widgets/controls",
          "model_name": "HTMLModel",
          "model_module_version": "1.5.0",
          "state": {
            "_dom_classes": [],
            "_model_module": "@jupyter-widgets/controls",
            "_model_module_version": "1.5.0",
            "_model_name": "HTMLModel",
            "_view_count": null,
            "_view_module": "@jupyter-widgets/controls",
            "_view_module_version": "1.5.0",
            "_view_name": "HTMLView",
            "description": "",
            "description_tooltip": null,
            "layout": "IPY_MODEL_2b8f7958033c48fea41b72a5cdde8aa5",
            "placeholder": "​",
            "style": "IPY_MODEL_ea1ebaf71d3b47529bcfb365ac9f364a",
            "value": " 85.0/85.0 [00:00&lt;00:00, 5.91kB/s]"
          }
        },
        "c843a7ceeace4db7a07324b1809b5f9b": {
          "model_module": "@jupyter-widgets/base",
          "model_name": "LayoutModel",
          "model_module_version": "1.2.0",
          "state": {
            "_model_module": "@jupyter-widgets/base",
            "_model_module_version": "1.2.0",
            "_model_name": "LayoutModel",
            "_view_count": null,
            "_view_module": "@jupyter-widgets/base",
            "_view_module_version": "1.2.0",
            "_view_name": "LayoutView",
            "align_content": null,
            "align_items": null,
            "align_self": null,
            "border": null,
            "bottom": null,
            "display": null,
            "flex": null,
            "flex_flow": null,
            "grid_area": null,
            "grid_auto_columns": null,
            "grid_auto_flow": null,
            "grid_auto_rows": null,
            "grid_column": null,
            "grid_gap": null,
            "grid_row": null,
            "grid_template_areas": null,
            "grid_template_columns": null,
            "grid_template_rows": null,
            "height": null,
            "justify_content": null,
            "justify_items": null,
            "left": null,
            "margin": null,
            "max_height": null,
            "max_width": null,
            "min_height": null,
            "min_width": null,
            "object_fit": null,
            "object_position": null,
            "order": null,
            "overflow": null,
            "overflow_x": null,
            "overflow_y": null,
            "padding": null,
            "right": null,
            "top": null,
            "visibility": null,
            "width": null
          }
        },
        "380b5319e7134a28bf1778232a35a847": {
          "model_module": "@jupyter-widgets/base",
          "model_name": "LayoutModel",
          "model_module_version": "1.2.0",
          "state": {
            "_model_module": "@jupyter-widgets/base",
            "_model_module_version": "1.2.0",
            "_model_name": "LayoutModel",
            "_view_count": null,
            "_view_module": "@jupyter-widgets/base",
            "_view_module_version": "1.2.0",
            "_view_name": "LayoutView",
            "align_content": null,
            "align_items": null,
            "align_self": null,
            "border": null,
            "bottom": null,
            "display": null,
            "flex": null,
            "flex_flow": null,
            "grid_area": null,
            "grid_auto_columns": null,
            "grid_auto_flow": null,
            "grid_auto_rows": null,
            "grid_column": null,
            "grid_gap": null,
            "grid_row": null,
            "grid_template_areas": null,
            "grid_template_columns": null,
            "grid_template_rows": null,
            "height": null,
            "justify_content": null,
            "justify_items": null,
            "left": null,
            "margin": null,
            "max_height": null,
            "max_width": null,
            "min_height": null,
            "min_width": null,
            "object_fit": null,
            "object_position": null,
            "order": null,
            "overflow": null,
            "overflow_x": null,
            "overflow_y": null,
            "padding": null,
            "right": null,
            "top": null,
            "visibility": null,
            "width": null
          }
        },
        "c7d679181d6b4810a298cf356ead9e06": {
          "model_module": "@jupyter-widgets/controls",
          "model_name": "DescriptionStyleModel",
          "model_module_version": "1.5.0",
          "state": {
            "_model_module": "@jupyter-widgets/controls",
            "_model_module_version": "1.5.0",
            "_model_name": "DescriptionStyleModel",
            "_view_count": null,
            "_view_module": "@jupyter-widgets/base",
            "_view_module_version": "1.2.0",
            "_view_name": "StyleView",
            "description_width": ""
          }
        },
        "27f84481aab744e78571258bb15e7740": {
          "model_module": "@jupyter-widgets/base",
          "model_name": "LayoutModel",
          "model_module_version": "1.2.0",
          "state": {
            "_model_module": "@jupyter-widgets/base",
            "_model_module_version": "1.2.0",
            "_model_name": "LayoutModel",
            "_view_count": null,
            "_view_module": "@jupyter-widgets/base",
            "_view_module_version": "1.2.0",
            "_view_name": "LayoutView",
            "align_content": null,
            "align_items": null,
            "align_self": null,
            "border": null,
            "bottom": null,
            "display": null,
            "flex": null,
            "flex_flow": null,
            "grid_area": null,
            "grid_auto_columns": null,
            "grid_auto_flow": null,
            "grid_auto_rows": null,
            "grid_column": null,
            "grid_gap": null,
            "grid_row": null,
            "grid_template_areas": null,
            "grid_template_columns": null,
            "grid_template_rows": null,
            "height": null,
            "justify_content": null,
            "justify_items": null,
            "left": null,
            "margin": null,
            "max_height": null,
            "max_width": null,
            "min_height": null,
            "min_width": null,
            "object_fit": null,
            "object_position": null,
            "order": null,
            "overflow": null,
            "overflow_x": null,
            "overflow_y": null,
            "padding": null,
            "right": null,
            "top": null,
            "visibility": null,
            "width": null
          }
        },
        "52158e74dbe24023b1f4463327094999": {
          "model_module": "@jupyter-widgets/controls",
          "model_name": "ProgressStyleModel",
          "model_module_version": "1.5.0",
          "state": {
            "_model_module": "@jupyter-widgets/controls",
            "_model_module_version": "1.5.0",
            "_model_name": "ProgressStyleModel",
            "_view_count": null,
            "_view_module": "@jupyter-widgets/base",
            "_view_module_version": "1.2.0",
            "_view_name": "StyleView",
            "bar_color": null,
            "description_width": ""
          }
        },
        "2b8f7958033c48fea41b72a5cdde8aa5": {
          "model_module": "@jupyter-widgets/base",
          "model_name": "LayoutModel",
          "model_module_version": "1.2.0",
          "state": {
            "_model_module": "@jupyter-widgets/base",
            "_model_module_version": "1.2.0",
            "_model_name": "LayoutModel",
            "_view_count": null,
            "_view_module": "@jupyter-widgets/base",
            "_view_module_version": "1.2.0",
            "_view_name": "LayoutView",
            "align_content": null,
            "align_items": null,
            "align_self": null,
            "border": null,
            "bottom": null,
            "display": null,
            "flex": null,
            "flex_flow": null,
            "grid_area": null,
            "grid_auto_columns": null,
            "grid_auto_flow": null,
            "grid_auto_rows": null,
            "grid_column": null,
            "grid_gap": null,
            "grid_row": null,
            "grid_template_areas": null,
            "grid_template_columns": null,
            "grid_template_rows": null,
            "height": null,
            "justify_content": null,
            "justify_items": null,
            "left": null,
            "margin": null,
            "max_height": null,
            "max_width": null,
            "min_height": null,
            "min_width": null,
            "object_fit": null,
            "object_position": null,
            "order": null,
            "overflow": null,
            "overflow_x": null,
            "overflow_y": null,
            "padding": null,
            "right": null,
            "top": null,
            "visibility": null,
            "width": null
          }
        },
        "ea1ebaf71d3b47529bcfb365ac9f364a": {
          "model_module": "@jupyter-widgets/controls",
          "model_name": "DescriptionStyleModel",
          "model_module_version": "1.5.0",
          "state": {
            "_model_module": "@jupyter-widgets/controls",
            "_model_module_version": "1.5.0",
            "_model_name": "DescriptionStyleModel",
            "_view_count": null,
            "_view_module": "@jupyter-widgets/base",
            "_view_module_version": "1.2.0",
            "_view_name": "StyleView",
            "description_width": ""
          }
        },
        "946c738274ac40a5a90c61a8c8dbc426": {
          "model_module": "@jupyter-widgets/controls",
          "model_name": "HBoxModel",
          "model_module_version": "1.5.0",
          "state": {
            "_dom_classes": [],
            "_model_module": "@jupyter-widgets/controls",
            "_model_module_version": "1.5.0",
            "_model_name": "HBoxModel",
            "_view_count": null,
            "_view_module": "@jupyter-widgets/controls",
            "_view_module_version": "1.5.0",
            "_view_name": "HBoxView",
            "box_style": "",
            "children": [
              "IPY_MODEL_cab3826a3d224fc2be076d4245ef594e",
              "IPY_MODEL_fdf12911d84f408a9068f31dda4f55dc",
              "IPY_MODEL_6c9514c80b0b4ed68b96cfc32941ed73"
            ],
            "layout": "IPY_MODEL_131d42f89dba421690d223257ff4a74f"
          }
        },
        "cab3826a3d224fc2be076d4245ef594e": {
          "model_module": "@jupyter-widgets/controls",
          "model_name": "HTMLModel",
          "model_module_version": "1.5.0",
          "state": {
            "_dom_classes": [],
            "_model_module": "@jupyter-widgets/controls",
            "_model_module_version": "1.5.0",
            "_model_name": "HTMLModel",
            "_view_count": null,
            "_view_module": "@jupyter-widgets/controls",
            "_view_module_version": "1.5.0",
            "_view_name": "HTMLView",
            "description": "",
            "description_tooltip": null,
            "layout": "IPY_MODEL_753b7544aa554f5aa28c0a3ea90355df",
            "placeholder": "​",
            "style": "IPY_MODEL_a6809ad8ff5f4eb08a4b76beba80c74f",
            "value": "config.json: 100%"
          }
        },
        "fdf12911d84f408a9068f31dda4f55dc": {
          "model_module": "@jupyter-widgets/controls",
          "model_name": "FloatProgressModel",
          "model_module_version": "1.5.0",
          "state": {
            "_dom_classes": [],
            "_model_module": "@jupyter-widgets/controls",
            "_model_module_version": "1.5.0",
            "_model_name": "FloatProgressModel",
            "_view_count": null,
            "_view_module": "@jupyter-widgets/controls",
            "_view_module_version": "1.5.0",
            "_view_name": "ProgressView",
            "bar_style": "success",
            "description": "",
            "description_tooltip": null,
            "layout": "IPY_MODEL_e598005792b24efbafbb88806684ee43",
            "max": 693,
            "min": 0,
            "orientation": "horizontal",
            "style": "IPY_MODEL_82987922ec2d445b92c71276405f8fbc",
            "value": 693
          }
        },
        "6c9514c80b0b4ed68b96cfc32941ed73": {
          "model_module": "@jupyter-widgets/controls",
          "model_name": "HTMLModel",
          "model_module_version": "1.5.0",
          "state": {
            "_dom_classes": [],
            "_model_module": "@jupyter-widgets/controls",
            "_model_module_version": "1.5.0",
            "_model_name": "HTMLModel",
            "_view_count": null,
            "_view_module": "@jupyter-widgets/controls",
            "_view_module_version": "1.5.0",
            "_view_name": "HTMLView",
            "description": "",
            "description_tooltip": null,
            "layout": "IPY_MODEL_31a119c9efca4201afe1a5caafd4d5f0",
            "placeholder": "​",
            "style": "IPY_MODEL_6fe2fc7e005e44079290fc7d8affdd26",
            "value": " 693/693 [00:00&lt;00:00, 48.4kB/s]"
          }
        },
        "131d42f89dba421690d223257ff4a74f": {
          "model_module": "@jupyter-widgets/base",
          "model_name": "LayoutModel",
          "model_module_version": "1.2.0",
          "state": {
            "_model_module": "@jupyter-widgets/base",
            "_model_module_version": "1.2.0",
            "_model_name": "LayoutModel",
            "_view_count": null,
            "_view_module": "@jupyter-widgets/base",
            "_view_module_version": "1.2.0",
            "_view_name": "LayoutView",
            "align_content": null,
            "align_items": null,
            "align_self": null,
            "border": null,
            "bottom": null,
            "display": null,
            "flex": null,
            "flex_flow": null,
            "grid_area": null,
            "grid_auto_columns": null,
            "grid_auto_flow": null,
            "grid_auto_rows": null,
            "grid_column": null,
            "grid_gap": null,
            "grid_row": null,
            "grid_template_areas": null,
            "grid_template_columns": null,
            "grid_template_rows": null,
            "height": null,
            "justify_content": null,
            "justify_items": null,
            "left": null,
            "margin": null,
            "max_height": null,
            "max_width": null,
            "min_height": null,
            "min_width": null,
            "object_fit": null,
            "object_position": null,
            "order": null,
            "overflow": null,
            "overflow_x": null,
            "overflow_y": null,
            "padding": null,
            "right": null,
            "top": null,
            "visibility": null,
            "width": null
          }
        },
        "753b7544aa554f5aa28c0a3ea90355df": {
          "model_module": "@jupyter-widgets/base",
          "model_name": "LayoutModel",
          "model_module_version": "1.2.0",
          "state": {
            "_model_module": "@jupyter-widgets/base",
            "_model_module_version": "1.2.0",
            "_model_name": "LayoutModel",
            "_view_count": null,
            "_view_module": "@jupyter-widgets/base",
            "_view_module_version": "1.2.0",
            "_view_name": "LayoutView",
            "align_content": null,
            "align_items": null,
            "align_self": null,
            "border": null,
            "bottom": null,
            "display": null,
            "flex": null,
            "flex_flow": null,
            "grid_area": null,
            "grid_auto_columns": null,
            "grid_auto_flow": null,
            "grid_auto_rows": null,
            "grid_column": null,
            "grid_gap": null,
            "grid_row": null,
            "grid_template_areas": null,
            "grid_template_columns": null,
            "grid_template_rows": null,
            "height": null,
            "justify_content": null,
            "justify_items": null,
            "left": null,
            "margin": null,
            "max_height": null,
            "max_width": null,
            "min_height": null,
            "min_width": null,
            "object_fit": null,
            "object_position": null,
            "order": null,
            "overflow": null,
            "overflow_x": null,
            "overflow_y": null,
            "padding": null,
            "right": null,
            "top": null,
            "visibility": null,
            "width": null
          }
        },
        "a6809ad8ff5f4eb08a4b76beba80c74f": {
          "model_module": "@jupyter-widgets/controls",
          "model_name": "DescriptionStyleModel",
          "model_module_version": "1.5.0",
          "state": {
            "_model_module": "@jupyter-widgets/controls",
            "_model_module_version": "1.5.0",
            "_model_name": "DescriptionStyleModel",
            "_view_count": null,
            "_view_module": "@jupyter-widgets/base",
            "_view_module_version": "1.2.0",
            "_view_name": "StyleView",
            "description_width": ""
          }
        },
        "e598005792b24efbafbb88806684ee43": {
          "model_module": "@jupyter-widgets/base",
          "model_name": "LayoutModel",
          "model_module_version": "1.2.0",
          "state": {
            "_model_module": "@jupyter-widgets/base",
            "_model_module_version": "1.2.0",
            "_model_name": "LayoutModel",
            "_view_count": null,
            "_view_module": "@jupyter-widgets/base",
            "_view_module_version": "1.2.0",
            "_view_name": "LayoutView",
            "align_content": null,
            "align_items": null,
            "align_self": null,
            "border": null,
            "bottom": null,
            "display": null,
            "flex": null,
            "flex_flow": null,
            "grid_area": null,
            "grid_auto_columns": null,
            "grid_auto_flow": null,
            "grid_auto_rows": null,
            "grid_column": null,
            "grid_gap": null,
            "grid_row": null,
            "grid_template_areas": null,
            "grid_template_columns": null,
            "grid_template_rows": null,
            "height": null,
            "justify_content": null,
            "justify_items": null,
            "left": null,
            "margin": null,
            "max_height": null,
            "max_width": null,
            "min_height": null,
            "min_width": null,
            "object_fit": null,
            "object_position": null,
            "order": null,
            "overflow": null,
            "overflow_x": null,
            "overflow_y": null,
            "padding": null,
            "right": null,
            "top": null,
            "visibility": null,
            "width": null
          }
        },
        "82987922ec2d445b92c71276405f8fbc": {
          "model_module": "@jupyter-widgets/controls",
          "model_name": "ProgressStyleModel",
          "model_module_version": "1.5.0",
          "state": {
            "_model_module": "@jupyter-widgets/controls",
            "_model_module_version": "1.5.0",
            "_model_name": "ProgressStyleModel",
            "_view_count": null,
            "_view_module": "@jupyter-widgets/base",
            "_view_module_version": "1.2.0",
            "_view_name": "StyleView",
            "bar_color": null,
            "description_width": ""
          }
        },
        "31a119c9efca4201afe1a5caafd4d5f0": {
          "model_module": "@jupyter-widgets/base",
          "model_name": "LayoutModel",
          "model_module_version": "1.2.0",
          "state": {
            "_model_module": "@jupyter-widgets/base",
            "_model_module_version": "1.2.0",
            "_model_name": "LayoutModel",
            "_view_count": null,
            "_view_module": "@jupyter-widgets/base",
            "_view_module_version": "1.2.0",
            "_view_name": "LayoutView",
            "align_content": null,
            "align_items": null,
            "align_self": null,
            "border": null,
            "bottom": null,
            "display": null,
            "flex": null,
            "flex_flow": null,
            "grid_area": null,
            "grid_auto_columns": null,
            "grid_auto_flow": null,
            "grid_auto_rows": null,
            "grid_column": null,
            "grid_gap": null,
            "grid_row": null,
            "grid_template_areas": null,
            "grid_template_columns": null,
            "grid_template_rows": null,
            "height": null,
            "justify_content": null,
            "justify_items": null,
            "left": null,
            "margin": null,
            "max_height": null,
            "max_width": null,
            "min_height": null,
            "min_width": null,
            "object_fit": null,
            "object_position": null,
            "order": null,
            "overflow": null,
            "overflow_x": null,
            "overflow_y": null,
            "padding": null,
            "right": null,
            "top": null,
            "visibility": null,
            "width": null
          }
        },
        "6fe2fc7e005e44079290fc7d8affdd26": {
          "model_module": "@jupyter-widgets/controls",
          "model_name": "DescriptionStyleModel",
          "model_module_version": "1.5.0",
          "state": {
            "_model_module": "@jupyter-widgets/controls",
            "_model_module_version": "1.5.0",
            "_model_name": "DescriptionStyleModel",
            "_view_count": null,
            "_view_module": "@jupyter-widgets/base",
            "_view_module_version": "1.2.0",
            "_view_name": "StyleView",
            "description_width": ""
          }
        },
        "f62db3baac364ce1852a13347b683f62": {
          "model_module": "@jupyter-widgets/controls",
          "model_name": "HBoxModel",
          "model_module_version": "1.5.0",
          "state": {
            "_dom_classes": [],
            "_model_module": "@jupyter-widgets/controls",
            "_model_module_version": "1.5.0",
            "_model_name": "HBoxModel",
            "_view_count": null,
            "_view_module": "@jupyter-widgets/controls",
            "_view_module_version": "1.5.0",
            "_view_name": "HBoxView",
            "box_style": "",
            "children": [
              "IPY_MODEL_40f374351da943c1ab62dac9a5f2e143",
              "IPY_MODEL_101e31e8a69643939707c8044970166b",
              "IPY_MODEL_999cd656a12c4610b5817819d43e2e72"
            ],
            "layout": "IPY_MODEL_64c1adb15050424f96256ff426ffe79b"
          }
        },
        "40f374351da943c1ab62dac9a5f2e143": {
          "model_module": "@jupyter-widgets/controls",
          "model_name": "HTMLModel",
          "model_module_version": "1.5.0",
          "state": {
            "_dom_classes": [],
            "_model_module": "@jupyter-widgets/controls",
            "_model_module_version": "1.5.0",
            "_model_name": "HTMLModel",
            "_view_count": null,
            "_view_module": "@jupyter-widgets/controls",
            "_view_module_version": "1.5.0",
            "_view_name": "HTMLView",
            "description": "",
            "description_tooltip": null,
            "layout": "IPY_MODEL_984ab2306dff4c3087284025d0379a23",
            "placeholder": "​",
            "style": "IPY_MODEL_fccef28a9f874753947320dfac1a191a",
            "value": "model.safetensors: 100%"
          }
        },
        "101e31e8a69643939707c8044970166b": {
          "model_module": "@jupyter-widgets/controls",
          "model_name": "FloatProgressModel",
          "model_module_version": "1.5.0",
          "state": {
            "_dom_classes": [],
            "_model_module": "@jupyter-widgets/controls",
            "_model_module_version": "1.5.0",
            "_model_name": "FloatProgressModel",
            "_view_count": null,
            "_view_module": "@jupyter-widgets/controls",
            "_view_module_version": "1.5.0",
            "_view_name": "ProgressView",
            "bar_style": "success",
            "description": "",
            "description_tooltip": null,
            "layout": "IPY_MODEL_f8bfaf7fcc3e4964851a274b9afc38da",
            "max": 1118459525,
            "min": 0,
            "orientation": "horizontal",
            "style": "IPY_MODEL_75c406ec55044847987363079ee457ad",
            "value": 1118459525
          }
        },
        "999cd656a12c4610b5817819d43e2e72": {
          "model_module": "@jupyter-widgets/controls",
          "model_name": "HTMLModel",
          "model_module_version": "1.5.0",
          "state": {
            "_dom_classes": [],
            "_model_module": "@jupyter-widgets/controls",
            "_model_module_version": "1.5.0",
            "_model_name": "HTMLModel",
            "_view_count": null,
            "_view_module": "@jupyter-widgets/controls",
            "_view_module_version": "1.5.0",
            "_view_name": "HTMLView",
            "description": "",
            "description_tooltip": null,
            "layout": "IPY_MODEL_4c9f782c5ff146708d739e505e2d0cd6",
            "placeholder": "​",
            "style": "IPY_MODEL_3c906c9d8bc8451389689582c26aa5de",
            "value": " 1.12G/1.12G [00:05&lt;00:00, 181MB/s]"
          }
        },
        "64c1adb15050424f96256ff426ffe79b": {
          "model_module": "@jupyter-widgets/base",
          "model_name": "LayoutModel",
          "model_module_version": "1.2.0",
          "state": {
            "_model_module": "@jupyter-widgets/base",
            "_model_module_version": "1.2.0",
            "_model_name": "LayoutModel",
            "_view_count": null,
            "_view_module": "@jupyter-widgets/base",
            "_view_module_version": "1.2.0",
            "_view_name": "LayoutView",
            "align_content": null,
            "align_items": null,
            "align_self": null,
            "border": null,
            "bottom": null,
            "display": null,
            "flex": null,
            "flex_flow": null,
            "grid_area": null,
            "grid_auto_columns": null,
            "grid_auto_flow": null,
            "grid_auto_rows": null,
            "grid_column": null,
            "grid_gap": null,
            "grid_row": null,
            "grid_template_areas": null,
            "grid_template_columns": null,
            "grid_template_rows": null,
            "height": null,
            "justify_content": null,
            "justify_items": null,
            "left": null,
            "margin": null,
            "max_height": null,
            "max_width": null,
            "min_height": null,
            "min_width": null,
            "object_fit": null,
            "object_position": null,
            "order": null,
            "overflow": null,
            "overflow_x": null,
            "overflow_y": null,
            "padding": null,
            "right": null,
            "top": null,
            "visibility": null,
            "width": null
          }
        },
        "984ab2306dff4c3087284025d0379a23": {
          "model_module": "@jupyter-widgets/base",
          "model_name": "LayoutModel",
          "model_module_version": "1.2.0",
          "state": {
            "_model_module": "@jupyter-widgets/base",
            "_model_module_version": "1.2.0",
            "_model_name": "LayoutModel",
            "_view_count": null,
            "_view_module": "@jupyter-widgets/base",
            "_view_module_version": "1.2.0",
            "_view_name": "LayoutView",
            "align_content": null,
            "align_items": null,
            "align_self": null,
            "border": null,
            "bottom": null,
            "display": null,
            "flex": null,
            "flex_flow": null,
            "grid_area": null,
            "grid_auto_columns": null,
            "grid_auto_flow": null,
            "grid_auto_rows": null,
            "grid_column": null,
            "grid_gap": null,
            "grid_row": null,
            "grid_template_areas": null,
            "grid_template_columns": null,
            "grid_template_rows": null,
            "height": null,
            "justify_content": null,
            "justify_items": null,
            "left": null,
            "margin": null,
            "max_height": null,
            "max_width": null,
            "min_height": null,
            "min_width": null,
            "object_fit": null,
            "object_position": null,
            "order": null,
            "overflow": null,
            "overflow_x": null,
            "overflow_y": null,
            "padding": null,
            "right": null,
            "top": null,
            "visibility": null,
            "width": null
          }
        },
        "fccef28a9f874753947320dfac1a191a": {
          "model_module": "@jupyter-widgets/controls",
          "model_name": "DescriptionStyleModel",
          "model_module_version": "1.5.0",
          "state": {
            "_model_module": "@jupyter-widgets/controls",
            "_model_module_version": "1.5.0",
            "_model_name": "DescriptionStyleModel",
            "_view_count": null,
            "_view_module": "@jupyter-widgets/base",
            "_view_module_version": "1.2.0",
            "_view_name": "StyleView",
            "description_width": ""
          }
        },
        "f8bfaf7fcc3e4964851a274b9afc38da": {
          "model_module": "@jupyter-widgets/base",
          "model_name": "LayoutModel",
          "model_module_version": "1.2.0",
          "state": {
            "_model_module": "@jupyter-widgets/base",
            "_model_module_version": "1.2.0",
            "_model_name": "LayoutModel",
            "_view_count": null,
            "_view_module": "@jupyter-widgets/base",
            "_view_module_version": "1.2.0",
            "_view_name": "LayoutView",
            "align_content": null,
            "align_items": null,
            "align_self": null,
            "border": null,
            "bottom": null,
            "display": null,
            "flex": null,
            "flex_flow": null,
            "grid_area": null,
            "grid_auto_columns": null,
            "grid_auto_flow": null,
            "grid_auto_rows": null,
            "grid_column": null,
            "grid_gap": null,
            "grid_row": null,
            "grid_template_areas": null,
            "grid_template_columns": null,
            "grid_template_rows": null,
            "height": null,
            "justify_content": null,
            "justify_items": null,
            "left": null,
            "margin": null,
            "max_height": null,
            "max_width": null,
            "min_height": null,
            "min_width": null,
            "object_fit": null,
            "object_position": null,
            "order": null,
            "overflow": null,
            "overflow_x": null,
            "overflow_y": null,
            "padding": null,
            "right": null,
            "top": null,
            "visibility": null,
            "width": null
          }
        },
        "75c406ec55044847987363079ee457ad": {
          "model_module": "@jupyter-widgets/controls",
          "model_name": "ProgressStyleModel",
          "model_module_version": "1.5.0",
          "state": {
            "_model_module": "@jupyter-widgets/controls",
            "_model_module_version": "1.5.0",
            "_model_name": "ProgressStyleModel",
            "_view_count": null,
            "_view_module": "@jupyter-widgets/base",
            "_view_module_version": "1.2.0",
            "_view_name": "StyleView",
            "bar_color": null,
            "description_width": ""
          }
        },
        "4c9f782c5ff146708d739e505e2d0cd6": {
          "model_module": "@jupyter-widgets/base",
          "model_name": "LayoutModel",
          "model_module_version": "1.2.0",
          "state": {
            "_model_module": "@jupyter-widgets/base",
            "_model_module_version": "1.2.0",
            "_model_name": "LayoutModel",
            "_view_count": null,
            "_view_module": "@jupyter-widgets/base",
            "_view_module_version": "1.2.0",
            "_view_name": "LayoutView",
            "align_content": null,
            "align_items": null,
            "align_self": null,
            "border": null,
            "bottom": null,
            "display": null,
            "flex": null,
            "flex_flow": null,
            "grid_area": null,
            "grid_auto_columns": null,
            "grid_auto_flow": null,
            "grid_auto_rows": null,
            "grid_column": null,
            "grid_gap": null,
            "grid_row": null,
            "grid_template_areas": null,
            "grid_template_columns": null,
            "grid_template_rows": null,
            "height": null,
            "justify_content": null,
            "justify_items": null,
            "left": null,
            "margin": null,
            "max_height": null,
            "max_width": null,
            "min_height": null,
            "min_width": null,
            "object_fit": null,
            "object_position": null,
            "order": null,
            "overflow": null,
            "overflow_x": null,
            "overflow_y": null,
            "padding": null,
            "right": null,
            "top": null,
            "visibility": null,
            "width": null
          }
        },
        "3c906c9d8bc8451389689582c26aa5de": {
          "model_module": "@jupyter-widgets/controls",
          "model_name": "DescriptionStyleModel",
          "model_module_version": "1.5.0",
          "state": {
            "_model_module": "@jupyter-widgets/controls",
            "_model_module_version": "1.5.0",
            "_model_name": "DescriptionStyleModel",
            "_view_count": null,
            "_view_module": "@jupyter-widgets/base",
            "_view_module_version": "1.2.0",
            "_view_name": "StyleView",
            "description_width": ""
          }
        },
        "9c836a794b564e9d87b639ab80ff4381": {
          "model_module": "@jupyter-widgets/controls",
          "model_name": "HBoxModel",
          "model_module_version": "1.5.0",
          "state": {
            "_dom_classes": [],
            "_model_module": "@jupyter-widgets/controls",
            "_model_module_version": "1.5.0",
            "_model_name": "HBoxModel",
            "_view_count": null,
            "_view_module": "@jupyter-widgets/controls",
            "_view_module_version": "1.5.0",
            "_view_name": "HBoxView",
            "box_style": "",
            "children": [
              "IPY_MODEL_59638632b68b43a0b0f52adbe2414890",
              "IPY_MODEL_f016d17b29a646fa9b74a9e6dab5fedc",
              "IPY_MODEL_261af86e542e405c91926c256ff3e1e2"
            ],
            "layout": "IPY_MODEL_829e826ce28d4717becb0fbe3d2ea434"
          }
        },
        "59638632b68b43a0b0f52adbe2414890": {
          "model_module": "@jupyter-widgets/controls",
          "model_name": "HTMLModel",
          "model_module_version": "1.5.0",
          "state": {
            "_dom_classes": [],
            "_model_module": "@jupyter-widgets/controls",
            "_model_module_version": "1.5.0",
            "_model_name": "HTMLModel",
            "_view_count": null,
            "_view_module": "@jupyter-widgets/controls",
            "_view_module_version": "1.5.0",
            "_view_name": "HTMLView",
            "description": "",
            "description_tooltip": null,
            "layout": "IPY_MODEL_bae71dbf160d44abba6c2ccf652ff5fe",
            "placeholder": "​",
            "style": "IPY_MODEL_74c64a0c52cb40cea2c7634bb01a6671",
            "value": "Map: 100%"
          }
        },
        "f016d17b29a646fa9b74a9e6dab5fedc": {
          "model_module": "@jupyter-widgets/controls",
          "model_name": "FloatProgressModel",
          "model_module_version": "1.5.0",
          "state": {
            "_dom_classes": [],
            "_model_module": "@jupyter-widgets/controls",
            "_model_module_version": "1.5.0",
            "_model_name": "FloatProgressModel",
            "_view_count": null,
            "_view_module": "@jupyter-widgets/controls",
            "_view_module_version": "1.5.0",
            "_view_name": "ProgressView",
            "bar_style": "success",
            "description": "",
            "description_tooltip": null,
            "layout": "IPY_MODEL_0b0d4e9989474f52a0bb0b071d1ac426",
            "max": 23703,
            "min": 0,
            "orientation": "horizontal",
            "style": "IPY_MODEL_f3ed4303e3f14d2092e3761d9edd1a6f",
            "value": 23703
          }
        },
        "261af86e542e405c91926c256ff3e1e2": {
          "model_module": "@jupyter-widgets/controls",
          "model_name": "HTMLModel",
          "model_module_version": "1.5.0",
          "state": {
            "_dom_classes": [],
            "_model_module": "@jupyter-widgets/controls",
            "_model_module_version": "1.5.0",
            "_model_name": "HTMLModel",
            "_view_count": null,
            "_view_module": "@jupyter-widgets/controls",
            "_view_module_version": "1.5.0",
            "_view_name": "HTMLView",
            "description": "",
            "description_tooltip": null,
            "layout": "IPY_MODEL_0bd8eaf192fe4d68a23b95c75c7f6740",
            "placeholder": "​",
            "style": "IPY_MODEL_0ff9271513434d92b4e78aeefc767958",
            "value": " 23703/23703 [00:06&lt;00:00, 4006.76 examples/s]"
          }
        },
        "829e826ce28d4717becb0fbe3d2ea434": {
          "model_module": "@jupyter-widgets/base",
          "model_name": "LayoutModel",
          "model_module_version": "1.2.0",
          "state": {
            "_model_module": "@jupyter-widgets/base",
            "_model_module_version": "1.2.0",
            "_model_name": "LayoutModel",
            "_view_count": null,
            "_view_module": "@jupyter-widgets/base",
            "_view_module_version": "1.2.0",
            "_view_name": "LayoutView",
            "align_content": null,
            "align_items": null,
            "align_self": null,
            "border": null,
            "bottom": null,
            "display": null,
            "flex": null,
            "flex_flow": null,
            "grid_area": null,
            "grid_auto_columns": null,
            "grid_auto_flow": null,
            "grid_auto_rows": null,
            "grid_column": null,
            "grid_gap": null,
            "grid_row": null,
            "grid_template_areas": null,
            "grid_template_columns": null,
            "grid_template_rows": null,
            "height": null,
            "justify_content": null,
            "justify_items": null,
            "left": null,
            "margin": null,
            "max_height": null,
            "max_width": null,
            "min_height": null,
            "min_width": null,
            "object_fit": null,
            "object_position": null,
            "order": null,
            "overflow": null,
            "overflow_x": null,
            "overflow_y": null,
            "padding": null,
            "right": null,
            "top": null,
            "visibility": null,
            "width": null
          }
        },
        "bae71dbf160d44abba6c2ccf652ff5fe": {
          "model_module": "@jupyter-widgets/base",
          "model_name": "LayoutModel",
          "model_module_version": "1.2.0",
          "state": {
            "_model_module": "@jupyter-widgets/base",
            "_model_module_version": "1.2.0",
            "_model_name": "LayoutModel",
            "_view_count": null,
            "_view_module": "@jupyter-widgets/base",
            "_view_module_version": "1.2.0",
            "_view_name": "LayoutView",
            "align_content": null,
            "align_items": null,
            "align_self": null,
            "border": null,
            "bottom": null,
            "display": null,
            "flex": null,
            "flex_flow": null,
            "grid_area": null,
            "grid_auto_columns": null,
            "grid_auto_flow": null,
            "grid_auto_rows": null,
            "grid_column": null,
            "grid_gap": null,
            "grid_row": null,
            "grid_template_areas": null,
            "grid_template_columns": null,
            "grid_template_rows": null,
            "height": null,
            "justify_content": null,
            "justify_items": null,
            "left": null,
            "margin": null,
            "max_height": null,
            "max_width": null,
            "min_height": null,
            "min_width": null,
            "object_fit": null,
            "object_position": null,
            "order": null,
            "overflow": null,
            "overflow_x": null,
            "overflow_y": null,
            "padding": null,
            "right": null,
            "top": null,
            "visibility": null,
            "width": null
          }
        },
        "74c64a0c52cb40cea2c7634bb01a6671": {
          "model_module": "@jupyter-widgets/controls",
          "model_name": "DescriptionStyleModel",
          "model_module_version": "1.5.0",
          "state": {
            "_model_module": "@jupyter-widgets/controls",
            "_model_module_version": "1.5.0",
            "_model_name": "DescriptionStyleModel",
            "_view_count": null,
            "_view_module": "@jupyter-widgets/base",
            "_view_module_version": "1.2.0",
            "_view_name": "StyleView",
            "description_width": ""
          }
        },
        "0b0d4e9989474f52a0bb0b071d1ac426": {
          "model_module": "@jupyter-widgets/base",
          "model_name": "LayoutModel",
          "model_module_version": "1.2.0",
          "state": {
            "_model_module": "@jupyter-widgets/base",
            "_model_module_version": "1.2.0",
            "_model_name": "LayoutModel",
            "_view_count": null,
            "_view_module": "@jupyter-widgets/base",
            "_view_module_version": "1.2.0",
            "_view_name": "LayoutView",
            "align_content": null,
            "align_items": null,
            "align_self": null,
            "border": null,
            "bottom": null,
            "display": null,
            "flex": null,
            "flex_flow": null,
            "grid_area": null,
            "grid_auto_columns": null,
            "grid_auto_flow": null,
            "grid_auto_rows": null,
            "grid_column": null,
            "grid_gap": null,
            "grid_row": null,
            "grid_template_areas": null,
            "grid_template_columns": null,
            "grid_template_rows": null,
            "height": null,
            "justify_content": null,
            "justify_items": null,
            "left": null,
            "margin": null,
            "max_height": null,
            "max_width": null,
            "min_height": null,
            "min_width": null,
            "object_fit": null,
            "object_position": null,
            "order": null,
            "overflow": null,
            "overflow_x": null,
            "overflow_y": null,
            "padding": null,
            "right": null,
            "top": null,
            "visibility": null,
            "width": null
          }
        },
        "f3ed4303e3f14d2092e3761d9edd1a6f": {
          "model_module": "@jupyter-widgets/controls",
          "model_name": "ProgressStyleModel",
          "model_module_version": "1.5.0",
          "state": {
            "_model_module": "@jupyter-widgets/controls",
            "_model_module_version": "1.5.0",
            "_model_name": "ProgressStyleModel",
            "_view_count": null,
            "_view_module": "@jupyter-widgets/base",
            "_view_module_version": "1.2.0",
            "_view_name": "StyleView",
            "bar_color": null,
            "description_width": ""
          }
        },
        "0bd8eaf192fe4d68a23b95c75c7f6740": {
          "model_module": "@jupyter-widgets/base",
          "model_name": "LayoutModel",
          "model_module_version": "1.2.0",
          "state": {
            "_model_module": "@jupyter-widgets/base",
            "_model_module_version": "1.2.0",
            "_model_name": "LayoutModel",
            "_view_count": null,
            "_view_module": "@jupyter-widgets/base",
            "_view_module_version": "1.2.0",
            "_view_name": "LayoutView",
            "align_content": null,
            "align_items": null,
            "align_self": null,
            "border": null,
            "bottom": null,
            "display": null,
            "flex": null,
            "flex_flow": null,
            "grid_area": null,
            "grid_auto_columns": null,
            "grid_auto_flow": null,
            "grid_auto_rows": null,
            "grid_column": null,
            "grid_gap": null,
            "grid_row": null,
            "grid_template_areas": null,
            "grid_template_columns": null,
            "grid_template_rows": null,
            "height": null,
            "justify_content": null,
            "justify_items": null,
            "left": null,
            "margin": null,
            "max_height": null,
            "max_width": null,
            "min_height": null,
            "min_width": null,
            "object_fit": null,
            "object_position": null,
            "order": null,
            "overflow": null,
            "overflow_x": null,
            "overflow_y": null,
            "padding": null,
            "right": null,
            "top": null,
            "visibility": null,
            "width": null
          }
        },
        "0ff9271513434d92b4e78aeefc767958": {
          "model_module": "@jupyter-widgets/controls",
          "model_name": "DescriptionStyleModel",
          "model_module_version": "1.5.0",
          "state": {
            "_model_module": "@jupyter-widgets/controls",
            "_model_module_version": "1.5.0",
            "_model_name": "DescriptionStyleModel",
            "_view_count": null,
            "_view_module": "@jupyter-widgets/base",
            "_view_module_version": "1.2.0",
            "_view_name": "StyleView",
            "description_width": ""
          }
        },
        "ec4b539fbb8048e4865e36f7bfd8abab": {
          "model_module": "@jupyter-widgets/controls",
          "model_name": "HBoxModel",
          "model_module_version": "1.5.0",
          "state": {
            "_dom_classes": [],
            "_model_module": "@jupyter-widgets/controls",
            "_model_module_version": "1.5.0",
            "_model_name": "HBoxModel",
            "_view_count": null,
            "_view_module": "@jupyter-widgets/controls",
            "_view_module_version": "1.5.0",
            "_view_name": "HBoxView",
            "box_style": "",
            "children": [
              "IPY_MODEL_05e86c2cfd6d4cf2975074cd0d44710a",
              "IPY_MODEL_a65f610e99e24287be8038270d57c9d6",
              "IPY_MODEL_548b6bcb8d7a432b8f8442f6d017d50b"
            ],
            "layout": "IPY_MODEL_e4355697cb08413e975aae1defa3c8e1"
          }
        },
        "05e86c2cfd6d4cf2975074cd0d44710a": {
          "model_module": "@jupyter-widgets/controls",
          "model_name": "HTMLModel",
          "model_module_version": "1.5.0",
          "state": {
            "_dom_classes": [],
            "_model_module": "@jupyter-widgets/controls",
            "_model_module_version": "1.5.0",
            "_model_name": "HTMLModel",
            "_view_count": null,
            "_view_module": "@jupyter-widgets/controls",
            "_view_module_version": "1.5.0",
            "_view_name": "HTMLView",
            "description": "",
            "description_tooltip": null,
            "layout": "IPY_MODEL_8b583bfa057541e089de0a3b1b2c576c",
            "placeholder": "​",
            "style": "IPY_MODEL_8ff60f7abbb64c27bb903526ac5037ff",
            "value": "Map: 100%"
          }
        },
        "a65f610e99e24287be8038270d57c9d6": {
          "model_module": "@jupyter-widgets/controls",
          "model_name": "FloatProgressModel",
          "model_module_version": "1.5.0",
          "state": {
            "_dom_classes": [],
            "_model_module": "@jupyter-widgets/controls",
            "_model_module_version": "1.5.0",
            "_model_name": "FloatProgressModel",
            "_view_count": null,
            "_view_module": "@jupyter-widgets/controls",
            "_view_module_version": "1.5.0",
            "_view_name": "ProgressView",
            "bar_style": "success",
            "description": "",
            "description_tooltip": null,
            "layout": "IPY_MODEL_dd7b1653c5a94a8eba4229dbb47a57f5",
            "max": 2967,
            "min": 0,
            "orientation": "horizontal",
            "style": "IPY_MODEL_6eb67beee1d947aa92777f7459c6a372",
            "value": 2967
          }
        },
        "548b6bcb8d7a432b8f8442f6d017d50b": {
          "model_module": "@jupyter-widgets/controls",
          "model_name": "HTMLModel",
          "model_module_version": "1.5.0",
          "state": {
            "_dom_classes": [],
            "_model_module": "@jupyter-widgets/controls",
            "_model_module_version": "1.5.0",
            "_model_name": "HTMLModel",
            "_view_count": null,
            "_view_module": "@jupyter-widgets/controls",
            "_view_module_version": "1.5.0",
            "_view_name": "HTMLView",
            "description": "",
            "description_tooltip": null,
            "layout": "IPY_MODEL_85ae25cb3e5a41f58470b1862b46d3a9",
            "placeholder": "​",
            "style": "IPY_MODEL_fd2affabc53d4d4ab6e1241aa3ca9711",
            "value": " 2967/2967 [00:00&lt;00:00, 4056.46 examples/s]"
          }
        },
        "e4355697cb08413e975aae1defa3c8e1": {
          "model_module": "@jupyter-widgets/base",
          "model_name": "LayoutModel",
          "model_module_version": "1.2.0",
          "state": {
            "_model_module": "@jupyter-widgets/base",
            "_model_module_version": "1.2.0",
            "_model_name": "LayoutModel",
            "_view_count": null,
            "_view_module": "@jupyter-widgets/base",
            "_view_module_version": "1.2.0",
            "_view_name": "LayoutView",
            "align_content": null,
            "align_items": null,
            "align_self": null,
            "border": null,
            "bottom": null,
            "display": null,
            "flex": null,
            "flex_flow": null,
            "grid_area": null,
            "grid_auto_columns": null,
            "grid_auto_flow": null,
            "grid_auto_rows": null,
            "grid_column": null,
            "grid_gap": null,
            "grid_row": null,
            "grid_template_areas": null,
            "grid_template_columns": null,
            "grid_template_rows": null,
            "height": null,
            "justify_content": null,
            "justify_items": null,
            "left": null,
            "margin": null,
            "max_height": null,
            "max_width": null,
            "min_height": null,
            "min_width": null,
            "object_fit": null,
            "object_position": null,
            "order": null,
            "overflow": null,
            "overflow_x": null,
            "overflow_y": null,
            "padding": null,
            "right": null,
            "top": null,
            "visibility": null,
            "width": null
          }
        },
        "8b583bfa057541e089de0a3b1b2c576c": {
          "model_module": "@jupyter-widgets/base",
          "model_name": "LayoutModel",
          "model_module_version": "1.2.0",
          "state": {
            "_model_module": "@jupyter-widgets/base",
            "_model_module_version": "1.2.0",
            "_model_name": "LayoutModel",
            "_view_count": null,
            "_view_module": "@jupyter-widgets/base",
            "_view_module_version": "1.2.0",
            "_view_name": "LayoutView",
            "align_content": null,
            "align_items": null,
            "align_self": null,
            "border": null,
            "bottom": null,
            "display": null,
            "flex": null,
            "flex_flow": null,
            "grid_area": null,
            "grid_auto_columns": null,
            "grid_auto_flow": null,
            "grid_auto_rows": null,
            "grid_column": null,
            "grid_gap": null,
            "grid_row": null,
            "grid_template_areas": null,
            "grid_template_columns": null,
            "grid_template_rows": null,
            "height": null,
            "justify_content": null,
            "justify_items": null,
            "left": null,
            "margin": null,
            "max_height": null,
            "max_width": null,
            "min_height": null,
            "min_width": null,
            "object_fit": null,
            "object_position": null,
            "order": null,
            "overflow": null,
            "overflow_x": null,
            "overflow_y": null,
            "padding": null,
            "right": null,
            "top": null,
            "visibility": null,
            "width": null
          }
        },
        "8ff60f7abbb64c27bb903526ac5037ff": {
          "model_module": "@jupyter-widgets/controls",
          "model_name": "DescriptionStyleModel",
          "model_module_version": "1.5.0",
          "state": {
            "_model_module": "@jupyter-widgets/controls",
            "_model_module_version": "1.5.0",
            "_model_name": "DescriptionStyleModel",
            "_view_count": null,
            "_view_module": "@jupyter-widgets/base",
            "_view_module_version": "1.2.0",
            "_view_name": "StyleView",
            "description_width": ""
          }
        },
        "dd7b1653c5a94a8eba4229dbb47a57f5": {
          "model_module": "@jupyter-widgets/base",
          "model_name": "LayoutModel",
          "model_module_version": "1.2.0",
          "state": {
            "_model_module": "@jupyter-widgets/base",
            "_model_module_version": "1.2.0",
            "_model_name": "LayoutModel",
            "_view_count": null,
            "_view_module": "@jupyter-widgets/base",
            "_view_module_version": "1.2.0",
            "_view_name": "LayoutView",
            "align_content": null,
            "align_items": null,
            "align_self": null,
            "border": null,
            "bottom": null,
            "display": null,
            "flex": null,
            "flex_flow": null,
            "grid_area": null,
            "grid_auto_columns": null,
            "grid_auto_flow": null,
            "grid_auto_rows": null,
            "grid_column": null,
            "grid_gap": null,
            "grid_row": null,
            "grid_template_areas": null,
            "grid_template_columns": null,
            "grid_template_rows": null,
            "height": null,
            "justify_content": null,
            "justify_items": null,
            "left": null,
            "margin": null,
            "max_height": null,
            "max_width": null,
            "min_height": null,
            "min_width": null,
            "object_fit": null,
            "object_position": null,
            "order": null,
            "overflow": null,
            "overflow_x": null,
            "overflow_y": null,
            "padding": null,
            "right": null,
            "top": null,
            "visibility": null,
            "width": null
          }
        },
        "6eb67beee1d947aa92777f7459c6a372": {
          "model_module": "@jupyter-widgets/controls",
          "model_name": "ProgressStyleModel",
          "model_module_version": "1.5.0",
          "state": {
            "_model_module": "@jupyter-widgets/controls",
            "_model_module_version": "1.5.0",
            "_model_name": "ProgressStyleModel",
            "_view_count": null,
            "_view_module": "@jupyter-widgets/base",
            "_view_module_version": "1.2.0",
            "_view_name": "StyleView",
            "bar_color": null,
            "description_width": ""
          }
        },
        "85ae25cb3e5a41f58470b1862b46d3a9": {
          "model_module": "@jupyter-widgets/base",
          "model_name": "LayoutModel",
          "model_module_version": "1.2.0",
          "state": {
            "_model_module": "@jupyter-widgets/base",
            "_model_module_version": "1.2.0",
            "_model_name": "LayoutModel",
            "_view_count": null,
            "_view_module": "@jupyter-widgets/base",
            "_view_module_version": "1.2.0",
            "_view_name": "LayoutView",
            "align_content": null,
            "align_items": null,
            "align_self": null,
            "border": null,
            "bottom": null,
            "display": null,
            "flex": null,
            "flex_flow": null,
            "grid_area": null,
            "grid_auto_columns": null,
            "grid_auto_flow": null,
            "grid_auto_rows": null,
            "grid_column": null,
            "grid_gap": null,
            "grid_row": null,
            "grid_template_areas": null,
            "grid_template_columns": null,
            "grid_template_rows": null,
            "height": null,
            "justify_content": null,
            "justify_items": null,
            "left": null,
            "margin": null,
            "max_height": null,
            "max_width": null,
            "min_height": null,
            "min_width": null,
            "object_fit": null,
            "object_position": null,
            "order": null,
            "overflow": null,
            "overflow_x": null,
            "overflow_y": null,
            "padding": null,
            "right": null,
            "top": null,
            "visibility": null,
            "width": null
          }
        },
        "fd2affabc53d4d4ab6e1241aa3ca9711": {
          "model_module": "@jupyter-widgets/controls",
          "model_name": "DescriptionStyleModel",
          "model_module_version": "1.5.0",
          "state": {
            "_model_module": "@jupyter-widgets/controls",
            "_model_module_version": "1.5.0",
            "_model_name": "DescriptionStyleModel",
            "_view_count": null,
            "_view_module": "@jupyter-widgets/base",
            "_view_module_version": "1.2.0",
            "_view_name": "StyleView",
            "description_width": ""
          }
        }
      }
    },
    "kaggle": {
      "accelerator": "nvidiaTeslaT4",
      "dataSources": [
        {
          "sourceId": 8482422,
          "sourceType": "datasetVersion",
          "datasetId": 5059444
        },
        {
          "sourceId": 8539317,
          "sourceType": "datasetVersion",
          "datasetId": 5101167
        }
      ],
      "dockerImageVersionId": 30716,
      "isInternetEnabled": true,
      "language": "python",
      "sourceType": "notebook",
      "isGpuEnabled": true
    }
  },
  "nbformat_minor": 0,
  "nbformat": 4,
  "cells": [
    {
      "cell_type": "markdown",
      "source": [
        "# Installing Necessary Packages"
      ],
      "metadata": {
        "id": "zyMmY5GEVsNx"
      }
    },
    {
      "cell_type": "code",
      "source": [
        "pip install --upgrade accelerate"
      ],
      "metadata": {
        "id": "0aBTn8fQ0HLs",
        "colab": {
          "base_uri": "https://localhost:8080/"
        },
        "outputId": "901f30e7-7bd2-4f4e-f7ae-57aba67ed83c",
        "execution": {
          "iopub.status.busy": "2024-06-01T05:16:02.748705Z",
          "iopub.execute_input": "2024-06-01T05:16:02.749088Z",
          "iopub.status.idle": "2024-06-01T05:16:15.743016Z",
          "shell.execute_reply.started": "2024-06-01T05:16:02.749060Z",
          "shell.execute_reply": "2024-06-01T05:16:15.741764Z"
        },
        "trusted": true
      },
      "execution_count": null,
      "outputs": [
        {
          "output_type": "stream",
          "name": "stdout",
          "text": [
            "Collecting accelerate\n",
            "  Downloading accelerate-0.30.1-py3-none-any.whl (302 kB)\n",
            "\u001b[?25l     \u001b[90m━━━━━━━━━━━━━━━━━━━━━━━━━━━━━━━━━━━━━━━━\u001b[0m \u001b[32m0.0/302.6 kB\u001b[0m \u001b[31m?\u001b[0m eta \u001b[36m-:--:--\u001b[0m\r\u001b[2K     \u001b[91m━━━━━━━━━━━━━━━━━━━━━━━━━━━━━━━━━━━━━━━\u001b[0m\u001b[90m╺\u001b[0m \u001b[32m297.0/302.6 kB\u001b[0m \u001b[31m9.0 MB/s\u001b[0m eta \u001b[36m0:00:01\u001b[0m\r\u001b[2K     \u001b[90m━━━━━━━━━━━━━━━━━━━━━━━━━━━━━━━━━━━━━━━━\u001b[0m \u001b[32m302.6/302.6 kB\u001b[0m \u001b[31m7.0 MB/s\u001b[0m eta \u001b[36m0:00:00\u001b[0m\n",
            "\u001b[?25hRequirement already satisfied: numpy>=1.17 in /usr/local/lib/python3.10/dist-packages (from accelerate) (1.25.2)\n",
            "Requirement already satisfied: packaging>=20.0 in /usr/local/lib/python3.10/dist-packages (from accelerate) (24.0)\n",
            "Requirement already satisfied: psutil in /usr/local/lib/python3.10/dist-packages (from accelerate) (5.9.5)\n",
            "Requirement already satisfied: pyyaml in /usr/local/lib/python3.10/dist-packages (from accelerate) (6.0.1)\n",
            "Requirement already satisfied: torch>=1.10.0 in /usr/local/lib/python3.10/dist-packages (from accelerate) (2.3.0+cu121)\n",
            "Requirement already satisfied: huggingface-hub in /usr/local/lib/python3.10/dist-packages (from accelerate) (0.23.1)\n",
            "Requirement already satisfied: safetensors>=0.3.1 in /usr/local/lib/python3.10/dist-packages (from accelerate) (0.4.3)\n",
            "Requirement already satisfied: filelock in /usr/local/lib/python3.10/dist-packages (from torch>=1.10.0->accelerate) (3.14.0)\n",
            "Requirement already satisfied: typing-extensions>=4.8.0 in /usr/local/lib/python3.10/dist-packages (from torch>=1.10.0->accelerate) (4.11.0)\n",
            "Requirement already satisfied: sympy in /usr/local/lib/python3.10/dist-packages (from torch>=1.10.0->accelerate) (1.12)\n",
            "Requirement already satisfied: networkx in /usr/local/lib/python3.10/dist-packages (from torch>=1.10.0->accelerate) (3.3)\n",
            "Requirement already satisfied: jinja2 in /usr/local/lib/python3.10/dist-packages (from torch>=1.10.0->accelerate) (3.1.4)\n",
            "Requirement already satisfied: fsspec in /usr/local/lib/python3.10/dist-packages (from torch>=1.10.0->accelerate) (2023.6.0)\n",
            "Collecting nvidia-cuda-nvrtc-cu12==12.1.105 (from torch>=1.10.0->accelerate)\n",
            "  Using cached nvidia_cuda_nvrtc_cu12-12.1.105-py3-none-manylinux1_x86_64.whl (23.7 MB)\n",
            "Collecting nvidia-cuda-runtime-cu12==12.1.105 (from torch>=1.10.0->accelerate)\n",
            "  Using cached nvidia_cuda_runtime_cu12-12.1.105-py3-none-manylinux1_x86_64.whl (823 kB)\n",
            "Collecting nvidia-cuda-cupti-cu12==12.1.105 (from torch>=1.10.0->accelerate)\n",
            "  Using cached nvidia_cuda_cupti_cu12-12.1.105-py3-none-manylinux1_x86_64.whl (14.1 MB)\n",
            "Collecting nvidia-cudnn-cu12==8.9.2.26 (from torch>=1.10.0->accelerate)\n",
            "  Using cached nvidia_cudnn_cu12-8.9.2.26-py3-none-manylinux1_x86_64.whl (731.7 MB)\n",
            "Collecting nvidia-cublas-cu12==12.1.3.1 (from torch>=1.10.0->accelerate)\n",
            "  Using cached nvidia_cublas_cu12-12.1.3.1-py3-none-manylinux1_x86_64.whl (410.6 MB)\n",
            "Collecting nvidia-cufft-cu12==11.0.2.54 (from torch>=1.10.0->accelerate)\n",
            "  Using cached nvidia_cufft_cu12-11.0.2.54-py3-none-manylinux1_x86_64.whl (121.6 MB)\n",
            "Collecting nvidia-curand-cu12==10.3.2.106 (from torch>=1.10.0->accelerate)\n",
            "  Using cached nvidia_curand_cu12-10.3.2.106-py3-none-manylinux1_x86_64.whl (56.5 MB)\n",
            "Collecting nvidia-cusolver-cu12==11.4.5.107 (from torch>=1.10.0->accelerate)\n",
            "  Using cached nvidia_cusolver_cu12-11.4.5.107-py3-none-manylinux1_x86_64.whl (124.2 MB)\n",
            "Collecting nvidia-cusparse-cu12==12.1.0.106 (from torch>=1.10.0->accelerate)\n",
            "  Using cached nvidia_cusparse_cu12-12.1.0.106-py3-none-manylinux1_x86_64.whl (196.0 MB)\n",
            "Collecting nvidia-nccl-cu12==2.20.5 (from torch>=1.10.0->accelerate)\n",
            "  Using cached nvidia_nccl_cu12-2.20.5-py3-none-manylinux2014_x86_64.whl (176.2 MB)\n",
            "Collecting nvidia-nvtx-cu12==12.1.105 (from torch>=1.10.0->accelerate)\n",
            "  Using cached nvidia_nvtx_cu12-12.1.105-py3-none-manylinux1_x86_64.whl (99 kB)\n",
            "Requirement already satisfied: triton==2.3.0 in /usr/local/lib/python3.10/dist-packages (from torch>=1.10.0->accelerate) (2.3.0)\n",
            "Collecting nvidia-nvjitlink-cu12 (from nvidia-cusolver-cu12==11.4.5.107->torch>=1.10.0->accelerate)\n",
            "  Downloading nvidia_nvjitlink_cu12-12.5.40-py3-none-manylinux2014_x86_64.whl (21.3 MB)\n",
            "\u001b[2K     \u001b[90m━━━━━━━━━━━━━━━━━━━━━━━━━━━━━━━━━━━━━━━━\u001b[0m \u001b[32m21.3/21.3 MB\u001b[0m \u001b[31m73.6 MB/s\u001b[0m eta \u001b[36m0:00:00\u001b[0m\n",
            "\u001b[?25hRequirement already satisfied: requests in /usr/local/lib/python3.10/dist-packages (from huggingface-hub->accelerate) (2.31.0)\n",
            "Requirement already satisfied: tqdm>=4.42.1 in /usr/local/lib/python3.10/dist-packages (from huggingface-hub->accelerate) (4.66.4)\n",
            "Requirement already satisfied: MarkupSafe>=2.0 in /usr/local/lib/python3.10/dist-packages (from jinja2->torch>=1.10.0->accelerate) (2.1.5)\n",
            "Requirement already satisfied: charset-normalizer<4,>=2 in /usr/local/lib/python3.10/dist-packages (from requests->huggingface-hub->accelerate) (3.3.2)\n",
            "Requirement already satisfied: idna<4,>=2.5 in /usr/local/lib/python3.10/dist-packages (from requests->huggingface-hub->accelerate) (3.7)\n",
            "Requirement already satisfied: urllib3<3,>=1.21.1 in /usr/local/lib/python3.10/dist-packages (from requests->huggingface-hub->accelerate) (2.0.7)\n",
            "Requirement already satisfied: certifi>=2017.4.17 in /usr/local/lib/python3.10/dist-packages (from requests->huggingface-hub->accelerate) (2024.2.2)\n",
            "Requirement already satisfied: mpmath>=0.19 in /usr/local/lib/python3.10/dist-packages (from sympy->torch>=1.10.0->accelerate) (1.3.0)\n",
            "Installing collected packages: nvidia-nvtx-cu12, nvidia-nvjitlink-cu12, nvidia-nccl-cu12, nvidia-curand-cu12, nvidia-cufft-cu12, nvidia-cuda-runtime-cu12, nvidia-cuda-nvrtc-cu12, nvidia-cuda-cupti-cu12, nvidia-cublas-cu12, nvidia-cusparse-cu12, nvidia-cudnn-cu12, nvidia-cusolver-cu12, accelerate\n",
            "Successfully installed accelerate-0.30.1 nvidia-cublas-cu12-12.1.3.1 nvidia-cuda-cupti-cu12-12.1.105 nvidia-cuda-nvrtc-cu12-12.1.105 nvidia-cuda-runtime-cu12-12.1.105 nvidia-cudnn-cu12-8.9.2.26 nvidia-cufft-cu12-11.0.2.54 nvidia-curand-cu12-10.3.2.106 nvidia-cusolver-cu12-11.4.5.107 nvidia-cusparse-cu12-12.1.0.106 nvidia-nccl-cu12-2.20.5 nvidia-nvjitlink-cu12-12.5.40 nvidia-nvtx-cu12-12.1.105\n"
          ]
        }
      ]
    },
    {
      "cell_type": "code",
      "source": [
        "pip install datasets"
      ],
      "metadata": {
        "id": "ITDRPwYIElVV",
        "colab": {
          "base_uri": "https://localhost:8080/"
        },
        "outputId": "6a9c41da-6f67-4b67-a809-4237cc6912d1",
        "execution": {
          "iopub.status.busy": "2024-06-01T05:16:15.744974Z",
          "iopub.execute_input": "2024-06-01T05:16:15.745267Z",
          "iopub.status.idle": "2024-06-01T05:16:17.737163Z",
          "shell.execute_reply.started": "2024-06-01T05:16:15.745239Z",
          "shell.execute_reply": "2024-06-01T05:16:17.736056Z"
        },
        "trusted": true
      },
      "execution_count": null,
      "outputs": [
        {
          "output_type": "stream",
          "name": "stdout",
          "text": [
            "Collecting datasets\n",
            "  Downloading datasets-2.19.1-py3-none-any.whl (542 kB)\n",
            "\u001b[2K     \u001b[90m━━━━━━━━━━━━━━━━━━━━━━━━━━━━━━━━━━━━━━━━\u001b[0m \u001b[32m542.0/542.0 kB\u001b[0m \u001b[31m6.3 MB/s\u001b[0m eta \u001b[36m0:00:00\u001b[0m\n",
            "\u001b[?25hRequirement already satisfied: filelock in /usr/local/lib/python3.10/dist-packages (from datasets) (3.14.0)\n",
            "Requirement already satisfied: numpy>=1.17 in /usr/local/lib/python3.10/dist-packages (from datasets) (1.25.2)\n",
            "Requirement already satisfied: pyarrow>=12.0.0 in /usr/local/lib/python3.10/dist-packages (from datasets) (14.0.2)\n",
            "Requirement already satisfied: pyarrow-hotfix in /usr/local/lib/python3.10/dist-packages (from datasets) (0.6)\n",
            "Collecting dill<0.3.9,>=0.3.0 (from datasets)\n",
            "  Downloading dill-0.3.8-py3-none-any.whl (116 kB)\n",
            "\u001b[2K     \u001b[90m━━━━━━━━━━━━━━━━━━━━━━━━━━━━━━━━━━━━━━━━\u001b[0m \u001b[32m116.3/116.3 kB\u001b[0m \u001b[31m6.7 MB/s\u001b[0m eta \u001b[36m0:00:00\u001b[0m\n",
            "\u001b[?25hRequirement already satisfied: pandas in /usr/local/lib/python3.10/dist-packages (from datasets) (2.0.3)\n",
            "Requirement already satisfied: requests>=2.19.0 in /usr/local/lib/python3.10/dist-packages (from datasets) (2.31.0)\n",
            "Requirement already satisfied: tqdm>=4.62.1 in /usr/local/lib/python3.10/dist-packages (from datasets) (4.66.4)\n",
            "Collecting xxhash (from datasets)\n",
            "  Downloading xxhash-3.4.1-cp310-cp310-manylinux_2_17_x86_64.manylinux2014_x86_64.whl (194 kB)\n",
            "\u001b[2K     \u001b[90m━━━━━━━━━━━━━━━━━━━━━━━━━━━━━━━━━━━━━━━━\u001b[0m \u001b[32m194.1/194.1 kB\u001b[0m \u001b[31m8.7 MB/s\u001b[0m eta \u001b[36m0:00:00\u001b[0m\n",
            "\u001b[?25hCollecting multiprocess (from datasets)\n",
            "  Downloading multiprocess-0.70.16-py310-none-any.whl (134 kB)\n",
            "\u001b[2K     \u001b[90m━━━━━━━━━━━━━━━━━━━━━━━━━━━━━━━━━━━━━━━━\u001b[0m \u001b[32m134.8/134.8 kB\u001b[0m \u001b[31m9.4 MB/s\u001b[0m eta \u001b[36m0:00:00\u001b[0m\n",
            "\u001b[?25hRequirement already satisfied: fsspec[http]<=2024.3.1,>=2023.1.0 in /usr/local/lib/python3.10/dist-packages (from datasets) (2023.6.0)\n",
            "Requirement already satisfied: aiohttp in /usr/local/lib/python3.10/dist-packages (from datasets) (3.9.5)\n",
            "Requirement already satisfied: huggingface-hub>=0.21.2 in /usr/local/lib/python3.10/dist-packages (from datasets) (0.23.1)\n",
            "Requirement already satisfied: packaging in /usr/local/lib/python3.10/dist-packages (from datasets) (24.0)\n",
            "Requirement already satisfied: pyyaml>=5.1 in /usr/local/lib/python3.10/dist-packages (from datasets) (6.0.1)\n",
            "Requirement already satisfied: aiosignal>=1.1.2 in /usr/local/lib/python3.10/dist-packages (from aiohttp->datasets) (1.3.1)\n",
            "Requirement already satisfied: attrs>=17.3.0 in /usr/local/lib/python3.10/dist-packages (from aiohttp->datasets) (23.2.0)\n",
            "Requirement already satisfied: frozenlist>=1.1.1 in /usr/local/lib/python3.10/dist-packages (from aiohttp->datasets) (1.4.1)\n",
            "Requirement already satisfied: multidict<7.0,>=4.5 in /usr/local/lib/python3.10/dist-packages (from aiohttp->datasets) (6.0.5)\n",
            "Requirement already satisfied: yarl<2.0,>=1.0 in /usr/local/lib/python3.10/dist-packages (from aiohttp->datasets) (1.9.4)\n",
            "Requirement already satisfied: async-timeout<5.0,>=4.0 in /usr/local/lib/python3.10/dist-packages (from aiohttp->datasets) (4.0.3)\n",
            "Requirement already satisfied: typing-extensions>=3.7.4.3 in /usr/local/lib/python3.10/dist-packages (from huggingface-hub>=0.21.2->datasets) (4.11.0)\n",
            "Requirement already satisfied: charset-normalizer<4,>=2 in /usr/local/lib/python3.10/dist-packages (from requests>=2.19.0->datasets) (3.3.2)\n",
            "Requirement already satisfied: idna<4,>=2.5 in /usr/local/lib/python3.10/dist-packages (from requests>=2.19.0->datasets) (3.7)\n",
            "Requirement already satisfied: urllib3<3,>=1.21.1 in /usr/local/lib/python3.10/dist-packages (from requests>=2.19.0->datasets) (2.0.7)\n",
            "Requirement already satisfied: certifi>=2017.4.17 in /usr/local/lib/python3.10/dist-packages (from requests>=2.19.0->datasets) (2024.2.2)\n",
            "Requirement already satisfied: python-dateutil>=2.8.2 in /usr/local/lib/python3.10/dist-packages (from pandas->datasets) (2.8.2)\n",
            "Requirement already satisfied: pytz>=2020.1 in /usr/local/lib/python3.10/dist-packages (from pandas->datasets) (2023.4)\n",
            "Requirement already satisfied: tzdata>=2022.1 in /usr/local/lib/python3.10/dist-packages (from pandas->datasets) (2024.1)\n",
            "Requirement already satisfied: six>=1.5 in /usr/local/lib/python3.10/dist-packages (from python-dateutil>=2.8.2->pandas->datasets) (1.16.0)\n",
            "Installing collected packages: xxhash, dill, multiprocess, datasets\n",
            "Successfully installed datasets-2.19.1 dill-0.3.8 multiprocess-0.70.16 xxhash-3.4.1\n"
          ]
        }
      ]
    },
    {
      "cell_type": "code",
      "source": [
        "pip install torch"
      ],
      "metadata": {
        "id": "xpvWKs2uYPsI",
        "colab": {
          "base_uri": "https://localhost:8080/"
        },
        "outputId": "5fd422b8-7be9-4df4-984a-d15b3a276bbf",
        "execution": {
          "iopub.status.busy": "2024-06-01T05:16:17.738649Z",
          "iopub.execute_input": "2024-06-01T05:16:17.739053Z",
          "iopub.status.idle": "2024-06-01T05:16:29.759752Z",
          "shell.execute_reply.started": "2024-06-01T05:16:17.739015Z",
          "shell.execute_reply": "2024-06-01T05:16:29.758687Z"
        },
        "trusted": true
      },
      "execution_count": null,
      "outputs": [
        {
          "output_type": "stream",
          "name": "stdout",
          "text": [
            "Requirement already satisfied: torch in /usr/local/lib/python3.10/dist-packages (2.3.0+cu121)\n",
            "Requirement already satisfied: filelock in /usr/local/lib/python3.10/dist-packages (from torch) (3.14.0)\n",
            "Requirement already satisfied: typing-extensions>=4.8.0 in /usr/local/lib/python3.10/dist-packages (from torch) (4.11.0)\n",
            "Requirement already satisfied: sympy in /usr/local/lib/python3.10/dist-packages (from torch) (1.12)\n",
            "Requirement already satisfied: networkx in /usr/local/lib/python3.10/dist-packages (from torch) (3.3)\n",
            "Requirement already satisfied: jinja2 in /usr/local/lib/python3.10/dist-packages (from torch) (3.1.4)\n",
            "Requirement already satisfied: fsspec in /usr/local/lib/python3.10/dist-packages (from torch) (2023.6.0)\n",
            "Requirement already satisfied: nvidia-cuda-nvrtc-cu12==12.1.105 in /usr/local/lib/python3.10/dist-packages (from torch) (12.1.105)\n",
            "Requirement already satisfied: nvidia-cuda-runtime-cu12==12.1.105 in /usr/local/lib/python3.10/dist-packages (from torch) (12.1.105)\n",
            "Requirement already satisfied: nvidia-cuda-cupti-cu12==12.1.105 in /usr/local/lib/python3.10/dist-packages (from torch) (12.1.105)\n",
            "Requirement already satisfied: nvidia-cudnn-cu12==8.9.2.26 in /usr/local/lib/python3.10/dist-packages (from torch) (8.9.2.26)\n",
            "Requirement already satisfied: nvidia-cublas-cu12==12.1.3.1 in /usr/local/lib/python3.10/dist-packages (from torch) (12.1.3.1)\n",
            "Requirement already satisfied: nvidia-cufft-cu12==11.0.2.54 in /usr/local/lib/python3.10/dist-packages (from torch) (11.0.2.54)\n",
            "Requirement already satisfied: nvidia-curand-cu12==10.3.2.106 in /usr/local/lib/python3.10/dist-packages (from torch) (10.3.2.106)\n",
            "Requirement already satisfied: nvidia-cusolver-cu12==11.4.5.107 in /usr/local/lib/python3.10/dist-packages (from torch) (11.4.5.107)\n",
            "Requirement already satisfied: nvidia-cusparse-cu12==12.1.0.106 in /usr/local/lib/python3.10/dist-packages (from torch) (12.1.0.106)\n",
            "Requirement already satisfied: nvidia-nccl-cu12==2.20.5 in /usr/local/lib/python3.10/dist-packages (from torch) (2.20.5)\n",
            "Requirement already satisfied: nvidia-nvtx-cu12==12.1.105 in /usr/local/lib/python3.10/dist-packages (from torch) (12.1.105)\n",
            "Requirement already satisfied: triton==2.3.0 in /usr/local/lib/python3.10/dist-packages (from torch) (2.3.0)\n",
            "Requirement already satisfied: nvidia-nvjitlink-cu12 in /usr/local/lib/python3.10/dist-packages (from nvidia-cusolver-cu12==11.4.5.107->torch) (12.5.40)\n",
            "Requirement already satisfied: MarkupSafe>=2.0 in /usr/local/lib/python3.10/dist-packages (from jinja2->torch) (2.1.5)\n",
            "Requirement already satisfied: mpmath>=0.19 in /usr/local/lib/python3.10/dist-packages (from sympy->torch) (1.3.0)\n"
          ]
        }
      ]
    },
    {
      "cell_type": "code",
      "source": [
        "pip install tokenizers"
      ],
      "metadata": {
        "id": "DPdegqHeEmOR",
        "colab": {
          "base_uri": "https://localhost:8080/"
        },
        "outputId": "5988d3f9-dd85-4e27-cce0-1e5341d63464",
        "execution": {
          "iopub.status.busy": "2024-06-01T05:16:29.762108Z",
          "iopub.execute_input": "2024-06-01T05:16:29.762415Z",
          "iopub.status.idle": "2024-06-01T05:16:41.759980Z",
          "shell.execute_reply.started": "2024-06-01T05:16:29.762385Z",
          "shell.execute_reply": "2024-06-01T05:16:41.758816Z"
        },
        "trusted": true
      },
      "execution_count": null,
      "outputs": [
        {
          "output_type": "stream",
          "name": "stdout",
          "text": [
            "Requirement already satisfied: tokenizers in /usr/local/lib/python3.10/dist-packages (0.19.1)\n",
            "Requirement already satisfied: huggingface-hub<1.0,>=0.16.4 in /usr/local/lib/python3.10/dist-packages (from tokenizers) (0.23.1)\n",
            "Requirement already satisfied: filelock in /usr/local/lib/python3.10/dist-packages (from huggingface-hub<1.0,>=0.16.4->tokenizers) (3.14.0)\n",
            "Requirement already satisfied: fsspec>=2023.5.0 in /usr/local/lib/python3.10/dist-packages (from huggingface-hub<1.0,>=0.16.4->tokenizers) (2023.6.0)\n",
            "Requirement already satisfied: packaging>=20.9 in /usr/local/lib/python3.10/dist-packages (from huggingface-hub<1.0,>=0.16.4->tokenizers) (24.0)\n",
            "Requirement already satisfied: pyyaml>=5.1 in /usr/local/lib/python3.10/dist-packages (from huggingface-hub<1.0,>=0.16.4->tokenizers) (6.0.1)\n",
            "Requirement already satisfied: requests in /usr/local/lib/python3.10/dist-packages (from huggingface-hub<1.0,>=0.16.4->tokenizers) (2.31.0)\n",
            "Requirement already satisfied: tqdm>=4.42.1 in /usr/local/lib/python3.10/dist-packages (from huggingface-hub<1.0,>=0.16.4->tokenizers) (4.66.4)\n",
            "Requirement already satisfied: typing-extensions>=3.7.4.3 in /usr/local/lib/python3.10/dist-packages (from huggingface-hub<1.0,>=0.16.4->tokenizers) (4.11.0)\n",
            "Requirement already satisfied: charset-normalizer<4,>=2 in /usr/local/lib/python3.10/dist-packages (from requests->huggingface-hub<1.0,>=0.16.4->tokenizers) (3.3.2)\n",
            "Requirement already satisfied: idna<4,>=2.5 in /usr/local/lib/python3.10/dist-packages (from requests->huggingface-hub<1.0,>=0.16.4->tokenizers) (3.7)\n",
            "Requirement already satisfied: urllib3<3,>=1.21.1 in /usr/local/lib/python3.10/dist-packages (from requests->huggingface-hub<1.0,>=0.16.4->tokenizers) (2.0.7)\n",
            "Requirement already satisfied: certifi>=2017.4.17 in /usr/local/lib/python3.10/dist-packages (from requests->huggingface-hub<1.0,>=0.16.4->tokenizers) (2024.2.2)\n"
          ]
        }
      ]
    },
    {
      "cell_type": "code",
      "source": [
        "pip install transformers"
      ],
      "metadata": {
        "id": "A9YhYJfkEmQv",
        "colab": {
          "base_uri": "https://localhost:8080/"
        },
        "outputId": "cdeac7d9-c6a9-40b9-86e9-90a7f52ae3da",
        "execution": {
          "iopub.status.busy": "2024-06-01T05:16:41.761486Z",
          "iopub.execute_input": "2024-06-01T05:16:41.761828Z",
          "iopub.status.idle": "2024-06-01T05:16:53.844520Z",
          "shell.execute_reply.started": "2024-06-01T05:16:41.761799Z",
          "shell.execute_reply": "2024-06-01T05:16:53.843454Z"
        },
        "trusted": true
      },
      "execution_count": null,
      "outputs": [
        {
          "output_type": "stream",
          "name": "stdout",
          "text": [
            "Requirement already satisfied: transformers in /usr/local/lib/python3.10/dist-packages (4.41.1)\n",
            "Requirement already satisfied: filelock in /usr/local/lib/python3.10/dist-packages (from transformers) (3.14.0)\n",
            "Requirement already satisfied: huggingface-hub<1.0,>=0.23.0 in /usr/local/lib/python3.10/dist-packages (from transformers) (0.23.1)\n",
            "Requirement already satisfied: numpy>=1.17 in /usr/local/lib/python3.10/dist-packages (from transformers) (1.25.2)\n",
            "Requirement already satisfied: packaging>=20.0 in /usr/local/lib/python3.10/dist-packages (from transformers) (24.0)\n",
            "Requirement already satisfied: pyyaml>=5.1 in /usr/local/lib/python3.10/dist-packages (from transformers) (6.0.1)\n",
            "Requirement already satisfied: regex!=2019.12.17 in /usr/local/lib/python3.10/dist-packages (from transformers) (2024.5.15)\n",
            "Requirement already satisfied: requests in /usr/local/lib/python3.10/dist-packages (from transformers) (2.31.0)\n",
            "Requirement already satisfied: tokenizers<0.20,>=0.19 in /usr/local/lib/python3.10/dist-packages (from transformers) (0.19.1)\n",
            "Requirement already satisfied: safetensors>=0.4.1 in /usr/local/lib/python3.10/dist-packages (from transformers) (0.4.3)\n",
            "Requirement already satisfied: tqdm>=4.27 in /usr/local/lib/python3.10/dist-packages (from transformers) (4.66.4)\n",
            "Requirement already satisfied: fsspec>=2023.5.0 in /usr/local/lib/python3.10/dist-packages (from huggingface-hub<1.0,>=0.23.0->transformers) (2023.6.0)\n",
            "Requirement already satisfied: typing-extensions>=3.7.4.3 in /usr/local/lib/python3.10/dist-packages (from huggingface-hub<1.0,>=0.23.0->transformers) (4.11.0)\n",
            "Requirement already satisfied: charset-normalizer<4,>=2 in /usr/local/lib/python3.10/dist-packages (from requests->transformers) (3.3.2)\n",
            "Requirement already satisfied: idna<4,>=2.5 in /usr/local/lib/python3.10/dist-packages (from requests->transformers) (3.7)\n",
            "Requirement already satisfied: urllib3<3,>=1.21.1 in /usr/local/lib/python3.10/dist-packages (from requests->transformers) (2.0.7)\n",
            "Requirement already satisfied: certifi>=2017.4.17 in /usr/local/lib/python3.10/dist-packages (from requests->transformers) (2024.2.2)\n"
          ]
        }
      ]
    },
    {
      "cell_type": "code",
      "source": [
        "pip install GPUtil"
      ],
      "metadata": {
        "execution": {
          "iopub.status.busy": "2024-06-01T05:16:53.845878Z",
          "iopub.execute_input": "2024-06-01T05:16:53.846172Z",
          "iopub.status.idle": "2024-06-01T05:17:08.271230Z",
          "shell.execute_reply.started": "2024-06-01T05:16:53.846145Z",
          "shell.execute_reply": "2024-06-01T05:17:08.270071Z"
        },
        "trusted": true,
        "colab": {
          "base_uri": "https://localhost:8080/"
        },
        "id": "x_TdW862l8kW",
        "outputId": "e761de5b-fea7-408a-9bdd-b39ad9009060"
      },
      "execution_count": null,
      "outputs": [
        {
          "output_type": "stream",
          "name": "stdout",
          "text": [
            "Collecting GPUtil\n",
            "  Downloading GPUtil-1.4.0.tar.gz (5.5 kB)\n",
            "  Preparing metadata (setup.py) ... \u001b[?25l\u001b[?25hdone\n",
            "Building wheels for collected packages: GPUtil\n",
            "  Building wheel for GPUtil (setup.py) ... \u001b[?25l\u001b[?25hdone\n",
            "  Created wheel for GPUtil: filename=GPUtil-1.4.0-py3-none-any.whl size=7394 sha256=bbaba64e1377391e8fd160e5d01b4a4bd340e04e9dc74089c36764ebddf29dde\n",
            "  Stored in directory: /root/.cache/pip/wheels/a9/8a/bd/81082387151853ab8b6b3ef33426e98f5cbfebc3c397a9d4d0\n",
            "Successfully built GPUtil\n",
            "Installing collected packages: GPUtil\n",
            "Successfully installed GPUtil-1.4.0\n"
          ]
        }
      ]
    },
    {
      "cell_type": "code",
      "source": [
        "pip install seqeval"
      ],
      "metadata": {
        "id": "hYwb0xFIEt4P",
        "colab": {
          "base_uri": "https://localhost:8080/"
        },
        "outputId": "0ed98a7c-d2a3-4507-f8ce-8cbd015e3cd7",
        "execution": {
          "iopub.status.busy": "2024-06-01T05:17:08.272662Z",
          "iopub.execute_input": "2024-06-01T05:17:08.272989Z",
          "iopub.status.idle": "2024-06-01T05:17:23.655341Z",
          "shell.execute_reply.started": "2024-06-01T05:17:08.272960Z",
          "shell.execute_reply": "2024-06-01T05:17:23.654252Z"
        },
        "trusted": true
      },
      "execution_count": null,
      "outputs": [
        {
          "output_type": "stream",
          "name": "stdout",
          "text": [
            "Collecting seqeval\n",
            "  Downloading seqeval-1.2.2.tar.gz (43 kB)\n",
            "\u001b[2K     \u001b[90m━━━━━━━━━━━━━━━━━━━━━━━━━━━━━━━━━━━━━━━━\u001b[0m \u001b[32m43.6/43.6 kB\u001b[0m \u001b[31m1.5 MB/s\u001b[0m eta \u001b[36m0:00:00\u001b[0m\n",
            "\u001b[?25h  Preparing metadata (setup.py) ... \u001b[?25l\u001b[?25hdone\n",
            "Requirement already satisfied: numpy>=1.14.0 in /usr/local/lib/python3.10/dist-packages (from seqeval) (1.25.2)\n",
            "Requirement already satisfied: scikit-learn>=0.21.3 in /usr/local/lib/python3.10/dist-packages (from seqeval) (1.2.2)\n",
            "Requirement already satisfied: scipy>=1.3.2 in /usr/local/lib/python3.10/dist-packages (from scikit-learn>=0.21.3->seqeval) (1.11.4)\n",
            "Requirement already satisfied: joblib>=1.1.1 in /usr/local/lib/python3.10/dist-packages (from scikit-learn>=0.21.3->seqeval) (1.4.2)\n",
            "Requirement already satisfied: threadpoolctl>=2.0.0 in /usr/local/lib/python3.10/dist-packages (from scikit-learn>=0.21.3->seqeval) (3.5.0)\n",
            "Building wheels for collected packages: seqeval\n",
            "  Building wheel for seqeval (setup.py) ... \u001b[?25l\u001b[?25hdone\n",
            "  Created wheel for seqeval: filename=seqeval-1.2.2-py3-none-any.whl size=16161 sha256=80aed9e87d1e006a561d54a84bf4dc82caa54e673445a46a0bce05fcb6db8d6f\n",
            "  Stored in directory: /root/.cache/pip/wheels/1a/67/4a/ad4082dd7dfc30f2abfe4d80a2ed5926a506eb8a972b4767fa\n",
            "Successfully built seqeval\n",
            "Installing collected packages: seqeval\n",
            "Successfully installed seqeval-1.2.2\n"
          ]
        }
      ]
    },
    {
      "cell_type": "code",
      "source": [
        "from datasets import load_metric\n",
        "import numpy as np\n",
        "import json"
      ],
      "metadata": {
        "id": "wBQeOp7-YlMW",
        "execution": {
          "iopub.status.busy": "2024-06-01T05:17:23.656641Z",
          "iopub.execute_input": "2024-06-01T05:17:23.656971Z",
          "iopub.status.idle": "2024-06-01T05:17:25.145476Z",
          "shell.execute_reply.started": "2024-06-01T05:17:23.656941Z",
          "shell.execute_reply": "2024-06-01T05:17:25.144748Z"
        },
        "trusted": true
      },
      "execution_count": null,
      "outputs": []
    },
    {
      "cell_type": "code",
      "source": [
        "import torch\n",
        "from GPUtil import showUtilization as gpu_usage"
      ],
      "metadata": {
        "id": "YZTILK5IYTbS",
        "execution": {
          "iopub.status.busy": "2024-06-01T05:17:25.146486Z",
          "iopub.execute_input": "2024-06-01T05:17:25.146890Z",
          "iopub.status.idle": "2024-06-01T05:17:28.197638Z",
          "shell.execute_reply.started": "2024-06-01T05:17:25.146864Z",
          "shell.execute_reply": "2024-06-01T05:17:28.196901Z"
        },
        "trusted": true
      },
      "execution_count": null,
      "outputs": []
    },
    {
      "cell_type": "code",
      "source": [
        "device = torch.device('cuda' if torch.cuda.is_available() else 'cpu')\n",
        "print('Using device:', device)\n",
        "print()\n",
        "\n",
        "#Additional Info when using cuda\n",
        "if device.type == 'cuda':\n",
        "    print(torch.cuda.get_device_name(0))\n",
        "    print('Memory Usage:')\n",
        "    print('Allocated:', round(torch.cuda.memory_allocated(0)/1024**3,1), 'GB')\n",
        "    print('Cached:   ', round(torch.cuda.memory_reserved(0)/1024**3,1), 'GB')\n"
      ],
      "metadata": {
        "id": "alz516TtYWKu",
        "colab": {
          "base_uri": "https://localhost:8080/"
        },
        "outputId": "f34ce496-5f28-45af-fc60-d0f8319bb8b9",
        "execution": {
          "iopub.status.busy": "2024-06-01T05:17:28.201600Z",
          "iopub.execute_input": "2024-06-01T05:17:28.202026Z",
          "iopub.status.idle": "2024-06-01T05:17:28.285378Z",
          "shell.execute_reply.started": "2024-06-01T05:17:28.202000Z",
          "shell.execute_reply": "2024-06-01T05:17:28.284486Z"
        },
        "trusted": true
      },
      "execution_count": null,
      "outputs": [
        {
          "output_type": "stream",
          "name": "stdout",
          "text": [
            "Using device: cuda\n",
            "\n",
            "Tesla T4\n",
            "Memory Usage:\n",
            "Allocated: 0.0 GB\n",
            "Cached:    0.0 GB\n"
          ]
        }
      ]
    },
    {
      "cell_type": "markdown",
      "source": [
        "# Connecting To Google Drive and Changing Directory"
      ],
      "metadata": {
        "id": "RBx3LFnCV1DL"
      }
    },
    {
      "cell_type": "code",
      "source": [
        "from google.colab import drive\n",
        "drive.mount('/content/drive')"
      ],
      "metadata": {
        "id": "swtFY3-2Et7I",
        "colab": {
          "base_uri": "https://localhost:8080/"
        },
        "outputId": "4c3e13c6-b42e-4ac3-b87e-f8771e15d31a",
        "execution": {
          "iopub.status.busy": "2024-06-01T05:17:28.286607Z",
          "iopub.execute_input": "2024-06-01T05:17:28.286973Z",
          "iopub.status.idle": "2024-06-01T05:17:28.290924Z",
          "shell.execute_reply.started": "2024-06-01T05:17:28.286941Z",
          "shell.execute_reply": "2024-06-01T05:17:28.289989Z"
        },
        "trusted": true
      },
      "execution_count": null,
      "outputs": [
        {
          "output_type": "stream",
          "name": "stdout",
          "text": [
            "Mounted at /content/drive\n"
          ]
        }
      ]
    },
    {
      "cell_type": "code",
      "source": [
        "# !ls '/content/drive/MyDrive/Colab Notebooks'"
      ],
      "metadata": {
        "id": "FtiJ4DFZEt9D",
        "execution": {
          "iopub.status.busy": "2024-06-01T05:17:28.292286Z",
          "iopub.execute_input": "2024-06-01T05:17:28.292913Z",
          "iopub.status.idle": "2024-06-01T05:17:28.298762Z",
          "shell.execute_reply.started": "2024-06-01T05:17:28.292880Z",
          "shell.execute_reply": "2024-06-01T05:17:28.298078Z"
        },
        "trusted": true
      },
      "execution_count": null,
      "outputs": []
    },
    {
      "cell_type": "code",
      "source": [
        "import os\n",
        "os.chdir(\"/content/drive/MyDrive/Colab Notebooks/\")"
      ],
      "metadata": {
        "id": "dmzYqGgkE0Oo",
        "execution": {
          "iopub.status.busy": "2024-06-01T05:17:28.299831Z",
          "iopub.execute_input": "2024-06-01T05:17:28.300111Z",
          "iopub.status.idle": "2024-06-01T05:17:28.306841Z",
          "shell.execute_reply.started": "2024-06-01T05:17:28.300089Z",
          "shell.execute_reply": "2024-06-01T05:17:28.305965Z"
        },
        "trusted": true
      },
      "execution_count": null,
      "outputs": []
    },
    {
      "cell_type": "code",
      "source": [
        "# os.chdir(\"/kaggle/input/banglit-nec-benchmark-datasetblnerc/\")"
      ],
      "metadata": {
        "execution": {
          "iopub.status.busy": "2024-06-01T05:17:28.307946Z",
          "iopub.execute_input": "2024-06-01T05:17:28.308223Z",
          "iopub.status.idle": "2024-06-01T05:17:28.315008Z",
          "shell.execute_reply.started": "2024-06-01T05:17:28.308201Z",
          "shell.execute_reply": "2024-06-01T05:17:28.314101Z"
        },
        "trusted": true,
        "id": "2UVhJbiMl8kZ"
      },
      "execution_count": null,
      "outputs": []
    },
    {
      "cell_type": "markdown",
      "source": [
        "## Load Dataset"
      ],
      "metadata": {
        "id": "QrsUhZca08th"
      }
    },
    {
      "cell_type": "code",
      "source": [
        "from datasets import Sequence"
      ],
      "metadata": {
        "id": "o60-USr408th",
        "execution": {
          "iopub.status.busy": "2024-06-01T05:17:28.316142Z",
          "iopub.execute_input": "2024-06-01T05:17:28.316396Z",
          "iopub.status.idle": "2024-06-01T05:17:28.322562Z",
          "shell.execute_reply.started": "2024-06-01T05:17:28.316374Z",
          "shell.execute_reply": "2024-06-01T05:17:28.321597Z"
        },
        "trusted": true
      },
      "execution_count": null,
      "outputs": []
    },
    {
      "cell_type": "code",
      "source": [
        "from datasets import Dataset, load_dataset"
      ],
      "metadata": {
        "id": "jo6WtaKK08ti",
        "execution": {
          "iopub.status.busy": "2024-06-01T05:17:28.323813Z",
          "iopub.execute_input": "2024-06-01T05:17:28.324060Z",
          "iopub.status.idle": "2024-06-01T05:17:28.330517Z",
          "shell.execute_reply.started": "2024-06-01T05:17:28.324040Z",
          "shell.execute_reply": "2024-06-01T05:17:28.329622Z"
        },
        "trusted": true
      },
      "execution_count": null,
      "outputs": []
    },
    {
      "cell_type": "code",
      "source": [
        "from datasets import load_metric"
      ],
      "metadata": {
        "execution": {
          "iopub.status.busy": "2024-06-01T05:17:28.331531Z",
          "iopub.execute_input": "2024-06-01T05:17:28.331808Z",
          "iopub.status.idle": "2024-06-01T05:17:28.337961Z",
          "shell.execute_reply.started": "2024-06-01T05:17:28.331776Z",
          "shell.execute_reply": "2024-06-01T05:17:28.337134Z"
        },
        "trusted": true,
        "id": "6bTlcomXl8kZ"
      },
      "execution_count": null,
      "outputs": []
    },
    {
      "cell_type": "code",
      "source": [
        "metric = load_metric(\"seqeval\")"
      ],
      "metadata": {
        "execution": {
          "iopub.status.busy": "2024-06-01T05:17:28.339331Z",
          "iopub.execute_input": "2024-06-01T05:17:28.339565Z",
          "iopub.status.idle": "2024-06-01T05:17:29.135339Z",
          "shell.execute_reply.started": "2024-06-01T05:17:28.339545Z",
          "shell.execute_reply": "2024-06-01T05:17:29.134623Z"
        },
        "trusted": true,
        "colab": {
          "base_uri": "https://localhost:8080/",
          "height": 173,
          "referenced_widgets": [
            "d394a601d0ec49c79b488942c4cb97e9",
            "0beadccc4dac476980cf93a152770741",
            "2e427aab39bb4742be40b29b41e79f5f",
            "b6c32fc961f444a599d9cda9c19a7b4b",
            "83d5fc13246e497eb59621950c531b0d",
            "a97014f72dee4b449409ee488687aa1a",
            "33f27bbaa4294ca2b90bc873ff982359",
            "460741462b1e45c68c98e6a5939082ae",
            "69a2ac65ba4447cfa3eb32263c86929c",
            "999f6310264f4bfda89a65a5c9d6b8a8",
            "70f14687d8b0418fba65e72d9ed05843"
          ]
        },
        "id": "fiVhaDNYl8kZ",
        "outputId": "0b86963e-81d5-4338-a074-91deaddbe0fa"
      },
      "execution_count": null,
      "outputs": [
        {
          "output_type": "stream",
          "name": "stderr",
          "text": [
            "<ipython-input-20-e20ba34f8cc7>:1: FutureWarning: load_metric is deprecated and will be removed in the next major version of datasets. Use 'evaluate.load' instead, from the new library 🤗 Evaluate: https://huggingface.co/docs/evaluate\n",
            "  metric = load_metric(\"seqeval\")\n",
            "/usr/local/lib/python3.10/dist-packages/datasets/load.py:759: FutureWarning: The repository for seqeval contains custom code which must be executed to correctly load the metric. You can inspect the repository content at https://raw.githubusercontent.com/huggingface/datasets/2.19.1/metrics/seqeval/seqeval.py\n",
            "You can avoid this message in future by passing the argument `trust_remote_code=True`.\n",
            "Passing `trust_remote_code=True` will be mandatory to load this metric from the next major release of `datasets`.\n",
            "  warnings.warn(\n"
          ]
        },
        {
          "output_type": "display_data",
          "data": {
            "text/plain": [
              "Downloading builder script:   0%|          | 0.00/2.47k [00:00<?, ?B/s]"
            ],
            "application/vnd.jupyter.widget-view+json": {
              "version_major": 2,
              "version_minor": 0,
              "model_id": "d394a601d0ec49c79b488942c4cb97e9"
            }
          },
          "metadata": {}
        }
      ]
    },
    {
      "cell_type": "code",
      "source": [
        "train_dataset = load_dataset(\"json\", data_files={'train':\"BLNERC dataset new.json\"}, field ='train')"
      ],
      "metadata": {
        "id": "bvOqjqnm08ti",
        "colab": {
          "base_uri": "https://localhost:8080/",
          "height": 49,
          "referenced_widgets": [
            "43cc5983277843b48e7ea148e3a9835e",
            "6ad4d79e42444936b14c372031ab0c6f",
            "6e47aa7d3be84894bff6789df36dd790",
            "5476faebf8534d65bd9c60fc5afe133a",
            "b8e6dfb585c4493d9bcef244db04e6a4",
            "6841168aeccb474480c250a51bb451d5",
            "318a7714a16a46fba1442b60c266e8ea",
            "d4ec886a349a48538482863786059694",
            "9d32ae936dce4e63a87f3f106f6b11b5",
            "0ab3d01212844477b826984fcecc96cc",
            "8f4a00872ffe48659a290167bdde9fe2"
          ]
        },
        "outputId": "b4d4e6c3-5ffd-476c-d406-233ead54142b",
        "execution": {
          "iopub.status.busy": "2024-06-01T05:17:29.136376Z",
          "iopub.execute_input": "2024-06-01T05:17:29.136648Z",
          "iopub.status.idle": "2024-06-01T05:17:30.261621Z",
          "shell.execute_reply.started": "2024-06-01T05:17:29.136619Z",
          "shell.execute_reply": "2024-06-01T05:17:30.260657Z"
        },
        "trusted": true
      },
      "execution_count": null,
      "outputs": [
        {
          "output_type": "display_data",
          "data": {
            "text/plain": [
              "Generating train split: 0 examples [00:00, ? examples/s]"
            ],
            "application/vnd.jupyter.widget-view+json": {
              "version_major": 2,
              "version_minor": 0,
              "model_id": "43cc5983277843b48e7ea148e3a9835e"
            }
          },
          "metadata": {}
        }
      ]
    },
    {
      "cell_type": "code",
      "source": [
        "type(train_dataset[\"train\"][\"ner_tags\"])"
      ],
      "metadata": {
        "id": "Z5BWo7TGb4R9",
        "colab": {
          "base_uri": "https://localhost:8080/"
        },
        "outputId": "a773ccd1-73eb-47be-a943-a1dc280d459b",
        "execution": {
          "iopub.status.busy": "2024-06-01T05:17:30.262845Z",
          "iopub.execute_input": "2024-06-01T05:17:30.263117Z",
          "iopub.status.idle": "2024-06-01T05:17:30.678972Z",
          "shell.execute_reply.started": "2024-06-01T05:17:30.263093Z",
          "shell.execute_reply": "2024-06-01T05:17:30.677940Z"
        },
        "trusted": true
      },
      "execution_count": null,
      "outputs": [
        {
          "output_type": "execute_result",
          "data": {
            "text/plain": [
              "list"
            ]
          },
          "metadata": {},
          "execution_count": 22
        }
      ]
    },
    {
      "cell_type": "code",
      "source": [
        "type(train_dataset[\"train\"][\"tokens\"])"
      ],
      "metadata": {
        "id": "a06CjwTgcFAe",
        "colab": {
          "base_uri": "https://localhost:8080/"
        },
        "outputId": "0102b2ce-0c46-4042-950a-a59a04617e02",
        "execution": {
          "iopub.status.busy": "2024-06-01T05:17:30.680316Z",
          "iopub.execute_input": "2024-06-01T05:17:30.680663Z",
          "iopub.status.idle": "2024-06-01T05:17:31.557288Z",
          "shell.execute_reply.started": "2024-06-01T05:17:30.680627Z",
          "shell.execute_reply": "2024-06-01T05:17:31.556190Z"
        },
        "trusted": true
      },
      "execution_count": null,
      "outputs": [
        {
          "output_type": "execute_result",
          "data": {
            "text/plain": [
              "list"
            ]
          },
          "metadata": {},
          "execution_count": 23
        }
      ]
    },
    {
      "cell_type": "code",
      "source": [
        "type(train_dataset[\"train\"][\"id\"])"
      ],
      "metadata": {
        "id": "KrZUar-6cNdn",
        "colab": {
          "base_uri": "https://localhost:8080/"
        },
        "outputId": "91a50d26-3746-43ed-a477-6bcacb6b79c5",
        "execution": {
          "iopub.status.busy": "2024-06-01T05:17:31.558458Z",
          "iopub.execute_input": "2024-06-01T05:17:31.558830Z",
          "iopub.status.idle": "2024-06-01T05:17:31.595958Z",
          "shell.execute_reply.started": "2024-06-01T05:17:31.558797Z",
          "shell.execute_reply": "2024-06-01T05:17:31.595096Z"
        },
        "trusted": true
      },
      "execution_count": null,
      "outputs": [
        {
          "output_type": "execute_result",
          "data": {
            "text/plain": [
              "list"
            ]
          },
          "metadata": {},
          "execution_count": 24
        }
      ]
    },
    {
      "cell_type": "code",
      "source": [
        "print(train_dataset)"
      ],
      "metadata": {
        "id": "s3VAg6XrcdDJ",
        "colab": {
          "base_uri": "https://localhost:8080/"
        },
        "outputId": "23e3dd88-cb0b-49e4-b323-ec98acc483b1",
        "execution": {
          "iopub.status.busy": "2024-06-01T05:17:31.597116Z",
          "iopub.execute_input": "2024-06-01T05:17:31.597408Z",
          "iopub.status.idle": "2024-06-01T05:17:31.604568Z",
          "shell.execute_reply.started": "2024-06-01T05:17:31.597383Z",
          "shell.execute_reply": "2024-06-01T05:17:31.603741Z"
        },
        "trusted": true
      },
      "execution_count": null,
      "outputs": [
        {
          "output_type": "stream",
          "name": "stdout",
          "text": [
            "DatasetDict({\n",
            "    train: Dataset({\n",
            "        features: ['id', 'tokens', 'ner_tags'],\n",
            "        num_rows: 23703\n",
            "    })\n",
            "})\n"
          ]
        }
      ]
    },
    {
      "cell_type": "code",
      "source": [
        "validation_dataset = load_dataset(\"json\", data_files={'validation': \"BLNERC dataset new.json\"}, field ='validation')"
      ],
      "metadata": {
        "id": "iybybXnjxE1k",
        "colab": {
          "base_uri": "https://localhost:8080/",
          "height": 49,
          "referenced_widgets": [
            "82140844c2534a259637bd1a20ed6cd7",
            "d8c7a86268bc4091b28edf7d13922457",
            "b58014ed6a104bd2a354e913d9d5476e",
            "d7eede52f0a0438f829b6f26d098fa1e",
            "1573db38357b4c82b479e9ea9fc9a0a6",
            "393c9fb4bffb4117bb563a5f1aa3801b",
            "54cd749c84914b9e92cde5912d5621cb",
            "c5198e08002e4e18bfb885058934f404",
            "45431868f1214b5398f6c0032288245d",
            "ce78bc793a8744cf819d5b5b20ca3427",
            "efa49becdd5240b2916abb4dd613ef03"
          ]
        },
        "outputId": "722033e6-4a60-4b0f-c73b-da9797ca19a1",
        "execution": {
          "iopub.status.busy": "2024-06-01T05:17:31.605783Z",
          "iopub.execute_input": "2024-06-01T05:17:31.606358Z",
          "iopub.status.idle": "2024-06-01T05:17:32.391810Z",
          "shell.execute_reply.started": "2024-06-01T05:17:31.606331Z",
          "shell.execute_reply": "2024-06-01T05:17:32.391118Z"
        },
        "trusted": true
      },
      "execution_count": null,
      "outputs": [
        {
          "output_type": "display_data",
          "data": {
            "text/plain": [
              "Generating validation split: 0 examples [00:00, ? examples/s]"
            ],
            "application/vnd.jupyter.widget-view+json": {
              "version_major": 2,
              "version_minor": 0,
              "model_id": "82140844c2534a259637bd1a20ed6cd7"
            }
          },
          "metadata": {}
        }
      ]
    },
    {
      "cell_type": "code",
      "source": [
        "# The dataset column - 'ner_tags' is in string format. Changing the string to list\n",
        "# import ast\n",
        "# ner_list = []\n",
        "# token_list = []\n",
        "# id_list = []\n",
        "# n_list = []\n",
        "# t_list = []\n",
        "# for ex in validation_dataset[\"validation\"]:\n",
        "#   n_list = json.loads(ex['ner_tags'])\n",
        "#   t_list = ast.literal_eval(ex['tokens'])\n",
        "#   id = ex['id']\n",
        "#   ner_list.append(n_list)\n",
        "#   token_list.append(t_list)\n",
        "#   id_list.append(id)"
      ],
      "metadata": {
        "id": "KP6xabn_hbCM",
        "execution": {
          "iopub.status.busy": "2024-06-01T05:17:32.392836Z",
          "iopub.execute_input": "2024-06-01T05:17:32.393097Z",
          "iopub.status.idle": "2024-06-01T05:17:32.397290Z",
          "shell.execute_reply.started": "2024-06-01T05:17:32.393074Z",
          "shell.execute_reply": "2024-06-01T05:17:32.396404Z"
        },
        "trusted": true
      },
      "execution_count": null,
      "outputs": []
    },
    {
      "cell_type": "code",
      "source": [
        "# validation_dataset_updated = Dataset.from_dict({\"tokens\": token_list, \"ner_tags\": ner_list, \"id\": id_list})"
      ],
      "metadata": {
        "id": "EUX8QIJWxYB5",
        "execution": {
          "iopub.status.busy": "2024-06-01T05:17:32.399214Z",
          "iopub.execute_input": "2024-06-01T05:17:32.399473Z",
          "iopub.status.idle": "2024-06-01T05:17:32.409063Z",
          "shell.execute_reply.started": "2024-06-01T05:17:32.399451Z",
          "shell.execute_reply": "2024-06-01T05:17:32.408260Z"
        },
        "trusted": true
      },
      "execution_count": null,
      "outputs": []
    },
    {
      "cell_type": "code",
      "source": [
        "# For checking the convertion worked or not\n",
        "print(train_dataset)\n",
        "print(len(train_dataset[\"train\"]))"
      ],
      "metadata": {
        "id": "Vb6UhC66clIF",
        "colab": {
          "base_uri": "https://localhost:8080/"
        },
        "outputId": "01389d21-f9e1-4309-bd25-7903c47ab28a",
        "execution": {
          "iopub.status.busy": "2024-06-01T05:17:32.410114Z",
          "iopub.execute_input": "2024-06-01T05:17:32.410389Z",
          "iopub.status.idle": "2024-06-01T05:17:32.417788Z",
          "shell.execute_reply.started": "2024-06-01T05:17:32.410368Z",
          "shell.execute_reply": "2024-06-01T05:17:32.416982Z"
        },
        "trusted": true
      },
      "execution_count": null,
      "outputs": [
        {
          "output_type": "stream",
          "name": "stdout",
          "text": [
            "DatasetDict({\n",
            "    train: Dataset({\n",
            "        features: ['id', 'tokens', 'ner_tags'],\n",
            "        num_rows: 23703\n",
            "    })\n",
            "})\n",
            "23703\n"
          ]
        }
      ]
    },
    {
      "cell_type": "code",
      "source": [
        "print(len(validation_dataset))\n",
        "print(len(validation_dataset[\"validation\"]))"
      ],
      "metadata": {
        "id": "QCAYeESIxjKA",
        "colab": {
          "base_uri": "https://localhost:8080/"
        },
        "outputId": "5f83c9e6-2ed0-41f7-eb37-486a8ab58bc2",
        "execution": {
          "iopub.status.busy": "2024-06-01T05:17:32.424818Z",
          "iopub.execute_input": "2024-06-01T05:17:32.425088Z",
          "iopub.status.idle": "2024-06-01T05:17:32.429812Z",
          "shell.execute_reply.started": "2024-06-01T05:17:32.425048Z",
          "shell.execute_reply": "2024-06-01T05:17:32.428777Z"
        },
        "trusted": true
      },
      "execution_count": null,
      "outputs": [
        {
          "output_type": "stream",
          "name": "stdout",
          "text": [
            "1\n",
            "2967\n"
          ]
        }
      ]
    },
    {
      "cell_type": "code",
      "source": [
        "test_dataset = load_dataset(\"json\", data_files={'test': \"BLNERC dataset new.json\"}, field ='test')"
      ],
      "metadata": {
        "id": "17Rcuq_K08tk",
        "colab": {
          "base_uri": "https://localhost:8080/",
          "height": 49,
          "referenced_widgets": [
            "2bfa536038844979a8635f55217ba1a1",
            "2c91381b75a64eea8a873b8dfda2426d",
            "e19985498794487daa74d0e38f247747",
            "5455745dc07a4072a072a533ee6cdc9c",
            "45bdc20aa9fe4d02b5f93eee59c482a2",
            "f44cac1e48c347e388eb83a24acfa41b",
            "e929c32ccc03498fb0f8f64a2d8e9997",
            "d512cbf2895840418b61f3829cde2d6e",
            "056f02b378cd4ab8a8c893842365e595",
            "de62c7db5ee94637a190c3d966526ea5",
            "39db55862e2c4da5a935426252344dcb"
          ]
        },
        "outputId": "c4ee4ad2-85a4-4264-91c9-9eab3110dec2",
        "execution": {
          "iopub.status.busy": "2024-06-01T05:17:32.430859Z",
          "iopub.execute_input": "2024-06-01T05:17:32.431107Z",
          "iopub.status.idle": "2024-06-01T05:17:33.194619Z",
          "shell.execute_reply.started": "2024-06-01T05:17:32.431086Z",
          "shell.execute_reply": "2024-06-01T05:17:33.193927Z"
        },
        "trusted": true
      },
      "execution_count": null,
      "outputs": [
        {
          "output_type": "display_data",
          "data": {
            "text/plain": [
              "Generating test split: 0 examples [00:00, ? examples/s]"
            ],
            "application/vnd.jupyter.widget-view+json": {
              "version_major": 2,
              "version_minor": 0,
              "model_id": "2bfa536038844979a8635f55217ba1a1"
            }
          },
          "metadata": {}
        }
      ]
    },
    {
      "cell_type": "code",
      "source": [
        "# import ast\n",
        "# ner_list = []\n",
        "# token_list = []\n",
        "# id_list = []\n",
        "# n_list = []\n",
        "# t_list = []\n",
        "# for ex in test_dataset[\"test\"]:\n",
        "#   n_list = json.loads(ex['ner_tags'])\n",
        "#   t_list = ast.literal_eval(ex['tokens'])\n",
        "#   id = ex['id']\n",
        "#   ner_list.append(n_list)\n",
        "#   token_list.append(t_list)\n",
        "#   id_list.append(id)"
      ],
      "metadata": {
        "id": "7bro2zNdiWIu",
        "execution": {
          "iopub.status.busy": "2024-06-01T05:17:33.195580Z",
          "iopub.execute_input": "2024-06-01T05:17:33.195856Z",
          "iopub.status.idle": "2024-06-01T05:17:33.201565Z",
          "shell.execute_reply.started": "2024-06-01T05:17:33.195831Z",
          "shell.execute_reply": "2024-06-01T05:17:33.200691Z"
        },
        "trusted": true
      },
      "execution_count": null,
      "outputs": []
    },
    {
      "cell_type": "code",
      "source": [
        "# test_dataset_updated = Dataset.from_dict({\"tokens\": token_list, \"ner_tags\": ner_list, \"id\": id_list})"
      ],
      "metadata": {
        "id": "a2LbeuVTie9a",
        "execution": {
          "iopub.status.busy": "2024-06-01T05:17:33.202857Z",
          "iopub.execute_input": "2024-06-01T05:17:33.203278Z",
          "iopub.status.idle": "2024-06-01T05:17:33.208610Z",
          "shell.execute_reply.started": "2024-06-01T05:17:33.203244Z",
          "shell.execute_reply": "2024-06-01T05:17:33.207767Z"
        },
        "trusted": true
      },
      "execution_count": null,
      "outputs": []
    },
    {
      "cell_type": "code",
      "source": [
        "print(len(test_dataset))\n",
        "print(len(test_dataset[\"test\"]))"
      ],
      "metadata": {
        "id": "tNBLv4prikGu",
        "colab": {
          "base_uri": "https://localhost:8080/"
        },
        "outputId": "51f2186d-24fc-41d5-dc19-dbfdc831c479",
        "execution": {
          "iopub.status.busy": "2024-06-01T05:17:33.209754Z",
          "iopub.execute_input": "2024-06-01T05:17:33.210019Z",
          "iopub.status.idle": "2024-06-01T05:17:33.218040Z",
          "shell.execute_reply.started": "2024-06-01T05:17:33.209998Z",
          "shell.execute_reply": "2024-06-01T05:17:33.217207Z"
        },
        "trusted": true
      },
      "execution_count": null,
      "outputs": [
        {
          "output_type": "stream",
          "name": "stdout",
          "text": [
            "1\n",
            "2963\n"
          ]
        }
      ]
    },
    {
      "cell_type": "markdown",
      "source": [
        "# Data Visualization"
      ],
      "metadata": {
        "id": "FYBglRCrW-yc"
      }
    },
    {
      "cell_type": "code",
      "source": [
        "from datasets import ClassLabel, Sequence\n",
        "import random\n",
        "import pandas as pd\n",
        "from IPython.display import display, HTML\n",
        "\n",
        "def show_random_elements(dataset, num_examples=10):\n",
        "    assert num_examples <= len(dataset), \"Can't pick more elements than there are in the dataset.\"\n",
        "    picks = []\n",
        "    for _ in range(num_examples):\n",
        "        pick = random.randint(0, len(dataset)-1)\n",
        "        while pick in picks:\n",
        "            pick = random.randint(0, len(dataset)-1)\n",
        "        picks.append(pick)\n",
        "\n",
        "    df = pd.DataFrame(dataset[picks])\n",
        "    for column, typ in dataset.features.items():\n",
        "        if isinstance(typ, ClassLabel):\n",
        "            df[column] = df[column].transform(lambda i: typ.names[i])\n",
        "        elif isinstance(typ, Sequence) and isinstance(typ.feature, ClassLabel):\n",
        "            df[column] = df[column].transform(lambda x: [typ.feature.names[i] for i in x])\n",
        "    display(HTML(df.to_html()))"
      ],
      "metadata": {
        "id": "VmXU6xtR_onA",
        "execution": {
          "iopub.status.busy": "2024-06-01T05:17:33.219028Z",
          "iopub.execute_input": "2024-06-01T05:17:33.219322Z",
          "iopub.status.idle": "2024-06-01T05:17:33.228022Z",
          "shell.execute_reply.started": "2024-06-01T05:17:33.219289Z",
          "shell.execute_reply": "2024-06-01T05:17:33.227180Z"
        },
        "trusted": true
      },
      "execution_count": null,
      "outputs": []
    },
    {
      "cell_type": "code",
      "source": [
        "show_random_elements(test_dataset[\"test\"])"
      ],
      "metadata": {
        "id": "sgKKOCua_qbn",
        "colab": {
          "base_uri": "https://localhost:8080/",
          "height": 467
        },
        "outputId": "9068d4cc-e0a7-499a-a350-458b77a64e68",
        "execution": {
          "iopub.status.busy": "2024-06-01T05:17:33.229310Z",
          "iopub.execute_input": "2024-06-01T05:17:33.229652Z",
          "iopub.status.idle": "2024-06-01T05:17:33.257766Z",
          "shell.execute_reply.started": "2024-06-01T05:17:33.229622Z",
          "shell.execute_reply": "2024-06-01T05:17:33.256780Z"
        },
        "trusted": true
      },
      "execution_count": null,
      "outputs": [
        {
          "output_type": "display_data",
          "data": {
            "text/plain": [
              "<IPython.core.display.HTML object>"
            ],
            "text/html": [
              "<table border=\"1\" class=\"dataframe\">\n",
              "  <thead>\n",
              "    <tr style=\"text-align: right;\">\n",
              "      <th></th>\n",
              "      <th>id</th>\n",
              "      <th>tokens</th>\n",
              "      <th>ner_tags</th>\n",
              "    </tr>\n",
              "  </thead>\n",
              "  <tbody>\n",
              "    <tr>\n",
              "      <th>0</th>\n",
              "      <td>418</td>\n",
              "      <td>[রাত্রির, মধ্য, যামে, দূরাগত, শৃগালের, সমবেত, ডাক, শুনিয়া, অর্জুনের, ঘুম, ভাঙ্গিয়া, গেল]</td>\n",
              "      <td>[4, 0, 0, 0, 0, 0, 0, 0, 1, 0, 0, 0]</td>\n",
              "    </tr>\n",
              "    <tr>\n",
              "      <th>1</th>\n",
              "      <td>1101</td>\n",
              "      <td>[কত, দোকানে, গভীর, রাত্রে, সামনে, টাকার, থোক, সাজাইয়া, একা, বসিয়া, দোকানি, হিসাব, মেলায়, ,, বিদেশগত, কত, পুরুষের, গৃহে, মেয়েরা, থাকে, একা]</td>\n",
              "      <td>[0, 0, 0, 4, 0, 0, 0, 0, 0, 0, 0, 0, 0, 0, 0, 0, 0, 0, 0, 0, 0]</td>\n",
              "    </tr>\n",
              "    <tr>\n",
              "      <th>2</th>\n",
              "      <td>540</td>\n",
              "      <td>[একদিন, একটি, অপরিচিত, ভদ্রলোকের, সহিত, আমার, পরিচয়, হইতেই, তিনি, জিজ্ঞাসা, করিলেন, ,, “, আপনিই, কি, শ্রীমতী, নির্ঝরিণী, দেবীর, স্বামী]</td>\n",
              "      <td>[4, 0, 0, 0, 0, 0, 0, 0, 0, 0, 0, 0, 0, 0, 0, 1, 5, 5, 0]</td>\n",
              "    </tr>\n",
              "    <tr>\n",
              "      <th>3</th>\n",
              "      <td>1869</td>\n",
              "      <td>[তিনি, কুমার, সিংকে, বললেন, ,, আপনি, এদের, বলুন, ,, এই, সাহেব, এই, পাখিটাকে, আগে, ধরেছে]</td>\n",
              "      <td>[0, 1, 5, 0, 0, 0, 0, 0, 0, 0, 0, 0, 0, 0, 0]</td>\n",
              "    </tr>\n",
              "    <tr>\n",
              "      <th>4</th>\n",
              "      <td>1660</td>\n",
              "      <td>[সে, বললে—আচ্ছা, বাজে, কারণে, তোমার, মতি, বটে, বাপু, !, সাবি, বেনোদা, বসে, আছে]</td>\n",
              "      <td>[0, 0, 0, 0, 0, 0, 0, 0, 0, 1, 5, 0, 0]</td>\n",
              "    </tr>\n",
              "    <tr>\n",
              "      <th>5</th>\n",
              "      <td>2731</td>\n",
              "      <td>[তোমার, টাকা, নিয়ে, কি, আমার, চিরকাল, চলবে, ?, নিজের, পায়ে, দাঁড়াতে, হবে, না, ?, তুই, শতমের, সঙ্গে, ব্যাবসা, করিস, না, কেন, ?, মেজদা, আমাকে, বিশ্বাস, করে, না, বোধহয়]</td>\n",
              "      <td>[0, 0, 0, 0, 0, 0, 0, 0, 0, 0, 0, 0, 0, 0, 0, 1, 0, 0, 0, 0, 0, 0, 0, 0, 0, 0, 0, 0]</td>\n",
              "    </tr>\n",
              "    <tr>\n",
              "      <th>6</th>\n",
              "      <td>800</td>\n",
              "      <td>[এহন, যদি, আপনি, ফেনসিডিল, আনেন, ,, তাইলে, কি, তা, নিষিদ্ধ, না, ?, ’, ‘, কিন্তু, ফেনসিডিল, তো, কোনও, র, জিনিস, না]</td>\n",
              "      <td>[0, 0, 0, 0, 0, 0, 0, 0, 0, 0, 0, 0, 0, 0, 0, 0, 0, 0, 0, 0, 0]</td>\n",
              "    </tr>\n",
              "    <tr>\n",
              "      <th>7</th>\n",
              "      <td>7</td>\n",
              "      <td>[মাধুরীর, দেখা, তিনি, পেতেন, কি, ?, কেমন, অস্পস্ট, ধোঁয়াটে, একটা, ধারণা, তার, এখনও, আছে, যে, অধর, তান্ত্রিক, মাধুরীর, মুখোমুখি, ওঁকে, করিয়ে, দিয়েছিলেন, একদিন]</td>\n",
              "      <td>[1, 0, 0, 0, 0, 0, 0, 0, 0, 0, 0, 0, 0, 0, 0, 0, 0, 1, 0, 0, 0, 0, 4]</td>\n",
              "    </tr>\n",
              "    <tr>\n",
              "      <th>8</th>\n",
              "      <td>2844</td>\n",
              "      <td>[ইরসাদকে, দেখিয়া, সে, বিস্ময়, প্রকাশ, করিয়া, বলিল—ওই, ,, কুসুমপুরের, পণ্ডিত, মিয়া, যি, গো, !, ইরসাদ, বলিল–হ্যাঁ]</td>\n",
              "      <td>[1, 0, 0, 0, 0, 0, 0, 0, 2, 0, 0, 0, 0, 0, 1, 0]</td>\n",
              "    </tr>\n",
              "    <tr>\n",
              "      <th>9</th>\n",
              "      <td>619</td>\n",
              "      <td>[শুধুমাত্র, মহাকাশযানটি, রওনা, দেবার, ছয়, ঘন্টা, আগে, ট্রাকিওশানটা, চালু, করা, হবে, আপনাকে, ফিরিয়ে, আনার, জন্যে]</td>\n",
              "      <td>[0, 0, 0, 0, 4, 8, 8, 0, 0, 0, 0, 0, 0, 0, 0]</td>\n",
              "    </tr>\n",
              "  </tbody>\n",
              "</table>"
            ]
          },
          "metadata": {}
        }
      ]
    },
    {
      "cell_type": "markdown",
      "source": [
        "# Initializing Necessary Variables"
      ],
      "metadata": {
        "id": "rhN7OSOl08tk"
      }
    },
    {
      "cell_type": "code",
      "source": [
        "# model_checkpoint = \"sagorsarker/bangla-bert-base\"\n",
        "# metric = load_metric(\"seqeval\")\n",
        "# batch_size = 8\n",
        "# lable_size = 9\n",
        "# epochs = 3"
      ],
      "metadata": {
        "id": "E9PX5HBRAKA8",
        "execution": {
          "iopub.status.busy": "2024-06-01T05:17:33.258679Z",
          "iopub.execute_input": "2024-06-01T05:17:33.258955Z",
          "iopub.status.idle": "2024-06-01T05:17:33.263231Z",
          "shell.execute_reply.started": "2024-06-01T05:17:33.258933Z",
          "shell.execute_reply": "2024-06-01T05:17:33.262203Z"
        },
        "trusted": true
      },
      "execution_count": null,
      "outputs": []
    },
    {
      "cell_type": "code",
      "source": [
        "label_list = {0: 'O',\n",
        " 1: 'B-PER',\n",
        " 2: 'B-LOC',\n",
        " 3: 'B-ORG',\n",
        " 4: 'B-TIM',\n",
        " 5: 'I-PER',\n",
        " 6: 'I-LOC',\n",
        " 7: 'I-ORG',\n",
        " 8: 'I-TIM'}"
      ],
      "metadata": {
        "id": "0BNbGOUYdHNt",
        "execution": {
          "iopub.status.busy": "2024-06-01T05:17:33.264248Z",
          "iopub.execute_input": "2024-06-01T05:17:33.264501Z",
          "iopub.status.idle": "2024-06-01T05:17:33.270479Z",
          "shell.execute_reply.started": "2024-06-01T05:17:33.264479Z",
          "shell.execute_reply": "2024-06-01T05:17:33.269530Z"
        },
        "trusted": true
      },
      "execution_count": null,
      "outputs": []
    },
    {
      "cell_type": "code",
      "source": [
        "id2label = {i: label_list[label] for i, label in enumerate(label_list)}\n",
        "label2id = {label_list[label]: i for i, label in enumerate(label_list)}"
      ],
      "metadata": {
        "id": "_LMnfo2f1P94",
        "execution": {
          "iopub.status.busy": "2024-06-01T05:17:33.271779Z",
          "iopub.execute_input": "2024-06-01T05:17:33.272099Z",
          "iopub.status.idle": "2024-06-01T05:17:33.278928Z",
          "shell.execute_reply.started": "2024-06-01T05:17:33.272074Z",
          "shell.execute_reply": "2024-06-01T05:17:33.278047Z"
        },
        "trusted": true
      },
      "execution_count": null,
      "outputs": []
    },
    {
      "cell_type": "markdown",
      "source": [
        "# Preprocessing The Data"
      ],
      "metadata": {
        "id": "mrlNRD2Zo0hr"
      }
    },
    {
      "cell_type": "code",
      "source": [
        "from transformers import (BloomTokenizerFast,\n",
        "                          BloomForTokenClassification,\n",
        "                          DataCollatorForTokenClassification,\n",
        "                          AutoModelForTokenClassification,\n",
        "                          TrainingArguments, Trainer)"
      ],
      "metadata": {
        "id": "JCufWQuUo6Vj",
        "execution": {
          "iopub.status.busy": "2024-06-01T05:17:33.280160Z",
          "iopub.execute_input": "2024-06-01T05:17:33.280483Z",
          "iopub.status.idle": "2024-06-01T05:17:45.421109Z",
          "shell.execute_reply.started": "2024-06-01T05:17:33.280455Z",
          "shell.execute_reply": "2024-06-01T05:17:45.420334Z"
        },
        "trusted": true
      },
      "execution_count": null,
      "outputs": []
    },
    {
      "cell_type": "code",
      "source": [
        "model_name = \"bloom-560m\"\n",
        "tokenizer = BloomTokenizerFast.from_pretrained(f\"bigscience/{model_name}\", add_prefix_space=True)\n",
        "model = BloomForTokenClassification.from_pretrained(f\"bigscience/{model_name}\")"
      ],
      "metadata": {
        "id": "eEIDNDKVG80P",
        "colab": {
          "base_uri": "https://localhost:8080/",
          "height": 336,
          "referenced_widgets": [
            "045f8b792958465395ad040bd4f49bca",
            "e2c0043db502477a895bd5ee09dd3ed7",
            "d409c50d766e4c698dcac4f89183e69e",
            "1ab2d61012ba42a68127c61ee10494da",
            "c58d0d0f0abb43afb4e1077a63ebb7ee",
            "0d9b35d375fe44ecba59d6014d156dd1",
            "5e42990f6d474cbb8d64bdeab750857d",
            "ab2b0cfca74c4cd6a62a0b5facf29fd7",
            "932bb9131c6047cc926718f20a1bafc9",
            "01cc19321dfd4d2a9451dff62f1aaa9b",
            "d46978ea3eb24cfb9ce14923914ec9fb",
            "52454566f2314a00a8ffa76c785c9bd7",
            "62d119aa66ad442c885db9ef1e9f2ac7",
            "e668fafe04614073ad96aa5c6a2bd3d1",
            "bac384de2b6e461ea15a337244a723ae",
            "de58a799e33049c5852b6628290745bc",
            "51e252c9307a400f91850fbac35ec500",
            "8402abfec83d4db78d09ad30e79b952e",
            "92a6214ef3f7425ba9be48f97edb11a1",
            "fb3668fe82ef4c77b75143b86cab79d7",
            "b3c2d8c652bd49b7adc027d151097344",
            "f7781b79ce354b36b11cb2f385c61c77",
            "2e957d201cc348848430959c22a993c7",
            "9236ff5250a04393a5b24b6dc88d856d",
            "48d687b80e064c1d83b3cb6fe5ab4581",
            "08bd2463931845c3a3b6569fa65efc47",
            "c843a7ceeace4db7a07324b1809b5f9b",
            "380b5319e7134a28bf1778232a35a847",
            "c7d679181d6b4810a298cf356ead9e06",
            "27f84481aab744e78571258bb15e7740",
            "52158e74dbe24023b1f4463327094999",
            "2b8f7958033c48fea41b72a5cdde8aa5",
            "ea1ebaf71d3b47529bcfb365ac9f364a",
            "946c738274ac40a5a90c61a8c8dbc426",
            "cab3826a3d224fc2be076d4245ef594e",
            "fdf12911d84f408a9068f31dda4f55dc",
            "6c9514c80b0b4ed68b96cfc32941ed73",
            "131d42f89dba421690d223257ff4a74f",
            "753b7544aa554f5aa28c0a3ea90355df",
            "a6809ad8ff5f4eb08a4b76beba80c74f",
            "e598005792b24efbafbb88806684ee43",
            "82987922ec2d445b92c71276405f8fbc",
            "31a119c9efca4201afe1a5caafd4d5f0",
            "6fe2fc7e005e44079290fc7d8affdd26",
            "f62db3baac364ce1852a13347b683f62",
            "40f374351da943c1ab62dac9a5f2e143",
            "101e31e8a69643939707c8044970166b",
            "999cd656a12c4610b5817819d43e2e72",
            "64c1adb15050424f96256ff426ffe79b",
            "984ab2306dff4c3087284025d0379a23",
            "fccef28a9f874753947320dfac1a191a",
            "f8bfaf7fcc3e4964851a274b9afc38da",
            "75c406ec55044847987363079ee457ad",
            "4c9f782c5ff146708d739e505e2d0cd6",
            "3c906c9d8bc8451389689582c26aa5de"
          ]
        },
        "outputId": "b18a5c78-3866-4f6d-cf09-8a2146d0ea50",
        "execution": {
          "iopub.status.busy": "2024-06-01T05:17:45.422142Z",
          "iopub.execute_input": "2024-06-01T05:17:45.422657Z",
          "iopub.status.idle": "2024-06-01T05:17:52.004927Z",
          "shell.execute_reply.started": "2024-06-01T05:17:45.422626Z",
          "shell.execute_reply": "2024-06-01T05:17:52.003936Z"
        },
        "trusted": true
      },
      "execution_count": null,
      "outputs": [
        {
          "output_type": "stream",
          "name": "stderr",
          "text": [
            "/usr/local/lib/python3.10/dist-packages/huggingface_hub/utils/_token.py:89: UserWarning: \n",
            "The secret `HF_TOKEN` does not exist in your Colab secrets.\n",
            "To authenticate with the Hugging Face Hub, create a token in your settings tab (https://huggingface.co/settings/tokens), set it as secret in your Google Colab and restart your session.\n",
            "You will be able to reuse this secret in all of your notebooks.\n",
            "Please note that authentication is recommended but still optional to access public models or datasets.\n",
            "  warnings.warn(\n"
          ]
        },
        {
          "output_type": "display_data",
          "data": {
            "text/plain": [
              "tokenizer_config.json:   0%|          | 0.00/222 [00:00<?, ?B/s]"
            ],
            "application/vnd.jupyter.widget-view+json": {
              "version_major": 2,
              "version_minor": 0,
              "model_id": "045f8b792958465395ad040bd4f49bca"
            }
          },
          "metadata": {}
        },
        {
          "output_type": "display_data",
          "data": {
            "text/plain": [
              "tokenizer.json:   0%|          | 0.00/14.5M [00:00<?, ?B/s]"
            ],
            "application/vnd.jupyter.widget-view+json": {
              "version_major": 2,
              "version_minor": 0,
              "model_id": "52454566f2314a00a8ffa76c785c9bd7"
            }
          },
          "metadata": {}
        },
        {
          "output_type": "display_data",
          "data": {
            "text/plain": [
              "special_tokens_map.json:   0%|          | 0.00/85.0 [00:00<?, ?B/s]"
            ],
            "application/vnd.jupyter.widget-view+json": {
              "version_major": 2,
              "version_minor": 0,
              "model_id": "2e957d201cc348848430959c22a993c7"
            }
          },
          "metadata": {}
        },
        {
          "output_type": "display_data",
          "data": {
            "text/plain": [
              "config.json:   0%|          | 0.00/693 [00:00<?, ?B/s]"
            ],
            "application/vnd.jupyter.widget-view+json": {
              "version_major": 2,
              "version_minor": 0,
              "model_id": "946c738274ac40a5a90c61a8c8dbc426"
            }
          },
          "metadata": {}
        },
        {
          "output_type": "display_data",
          "data": {
            "text/plain": [
              "model.safetensors:   0%|          | 0.00/1.12G [00:00<?, ?B/s]"
            ],
            "application/vnd.jupyter.widget-view+json": {
              "version_major": 2,
              "version_minor": 0,
              "model_id": "f62db3baac364ce1852a13347b683f62"
            }
          },
          "metadata": {}
        },
        {
          "output_type": "stream",
          "name": "stderr",
          "text": [
            "Some weights of BloomForTokenClassification were not initialized from the model checkpoint at bigscience/bloom-560m and are newly initialized: ['classifier.bias', 'classifier.weight']\n",
            "You should probably TRAIN this model on a down-stream task to be able to use it for predictions and inference.\n"
          ]
        }
      ]
    },
    {
      "cell_type": "code",
      "source": [
        "example = train_dataset[\"train\"][4]\n",
        "print(example)"
      ],
      "metadata": {
        "id": "m7p_RI27qwms",
        "colab": {
          "base_uri": "https://localhost:8080/"
        },
        "outputId": "cb9ab7e9-f525-4f88-edf0-d6f5044d33e1",
        "execution": {
          "iopub.status.busy": "2024-06-01T05:17:52.006332Z",
          "iopub.execute_input": "2024-06-01T05:17:52.006670Z",
          "iopub.status.idle": "2024-06-01T05:17:52.012062Z",
          "shell.execute_reply.started": "2024-06-01T05:17:52.006645Z",
          "shell.execute_reply": "2024-06-01T05:17:52.011181Z"
        },
        "trusted": true
      },
      "execution_count": null,
      "outputs": [
        {
          "output_type": "stream",
          "name": "stdout",
          "text": [
            "{'id': '4', 'tokens': ['কাকাবাবু', 'বললেন', ',', 'তাই', 'নাকি', '?', 'তা', 'হলে', 'বিজয়নগরের', 'হিরের', 'সন্ধানও', '৪৩২', 'তোমরা', 'কোনওদিন', 'পাবে', 'না', '?', 'মোহন', 'সিং', 'বলল', ',', 'আলবাত', 'পাব'], 'ner_tags': [1, 0, 0, 0, 0, 0, 0, 0, 2, 0, 0, 2, 0, 0, 0, 0, 0, 1, 5, 0, 0, 0, 0]}\n"
          ]
        }
      ]
    },
    {
      "cell_type": "code",
      "source": [
        "tokenized_input = tokenizer(example['tokens'], is_split_into_words=True)\n",
        "tokens = tokenizer.convert_ids_to_tokens(tokenized_input[\"input_ids\"])\n",
        "print(tokens)"
      ],
      "metadata": {
        "id": "SvIN039sqV55",
        "colab": {
          "base_uri": "https://localhost:8080/"
        },
        "outputId": "a550b71a-ceae-44ca-f0b7-c01fea26ffce",
        "execution": {
          "iopub.status.busy": "2024-06-01T05:17:52.013146Z",
          "iopub.execute_input": "2024-06-01T05:17:52.013436Z",
          "iopub.status.idle": "2024-06-01T05:17:52.024385Z",
          "shell.execute_reply.started": "2024-06-01T05:17:52.013413Z",
          "shell.execute_reply": "2024-06-01T05:17:52.023470Z"
        },
        "trusted": true
      },
      "execution_count": null,
      "outputs": [
        {
          "output_type": "stream",
          "name": "stdout",
          "text": [
            "['Ġà¦ķà¦¾à¦ķ', 'à¦¾à¦¬', 'à¦¾à¦¬à§ģ', 'Ġà¦¬à¦²à¦²à§ĩà¦¨', 'Ġ,', 'Ġà¦¤à¦¾à¦ĩ', 'Ġà¦¨à¦¾à¦ķà¦¿', 'Ġ?', 'Ġà¦¤à¦¾', 'Ġà¦¹à¦²à§ĩ', 'Ġà¦¬à¦¿à¦ľ', 'à§Łà¦¨', 'à¦Ĺ', 'à¦°à§ĩà¦°', 'Ġà¦¹', 'à¦¿à¦°à§ĩà¦°', 'Ġà¦¸à¦¨à§įà¦§à¦¾à¦¨', 'à¦ĵ', 'Ġà§ª', 'à§©à§¨', 'Ġà¦¤à§ĭà¦®à¦°à¦¾', 'Ġà¦ķà§ĭà¦¨à¦ĵ', 'à¦¦à¦¿à¦¨', 'Ġà¦ªà¦¾à¦¬à§ĩ', 'Ġà¦¨à¦¾', 'Ġ?', 'Ġà¦®à§ĭà¦¹à¦¨', 'Ġà¦¸à¦¿à¦Ĥ', 'Ġà¦¬à¦²à¦²', 'Ġ,', 'Ġà¦Ĩà¦²', 'à¦¬à¦¾à¦¤', 'Ġà¦ªà¦¾à¦¬']\n"
          ]
        }
      ]
    },
    {
      "cell_type": "code",
      "source": [
        "len(example['ner_tags']), len(tokenized_input[\"input_ids\"])"
      ],
      "metadata": {
        "id": "Jl5FlPKErEmM",
        "colab": {
          "base_uri": "https://localhost:8080/"
        },
        "outputId": "84d7e61d-c49d-4b35-c0e7-8646a68c4e5a",
        "execution": {
          "iopub.status.busy": "2024-06-01T05:17:52.025639Z",
          "iopub.execute_input": "2024-06-01T05:17:52.025979Z",
          "iopub.status.idle": "2024-06-01T05:17:52.033690Z",
          "shell.execute_reply.started": "2024-06-01T05:17:52.025950Z",
          "shell.execute_reply": "2024-06-01T05:17:52.032874Z"
        },
        "trusted": true
      },
      "execution_count": null,
      "outputs": [
        {
          "output_type": "execute_result",
          "data": {
            "text/plain": [
              "(23, 33)"
            ]
          },
          "metadata": {},
          "execution_count": 44
        }
      ]
    },
    {
      "cell_type": "code",
      "source": [
        "print(tokenized_input.word_ids())"
      ],
      "metadata": {
        "id": "sGoX1XiXrlLc",
        "colab": {
          "base_uri": "https://localhost:8080/"
        },
        "outputId": "c650c3aa-8c2d-49a3-b406-341d0bdf2d53",
        "execution": {
          "iopub.status.busy": "2024-06-01T05:17:52.034839Z",
          "iopub.execute_input": "2024-06-01T05:17:52.035193Z",
          "iopub.status.idle": "2024-06-01T05:17:52.042699Z",
          "shell.execute_reply.started": "2024-06-01T05:17:52.035163Z",
          "shell.execute_reply": "2024-06-01T05:17:52.041765Z"
        },
        "trusted": true
      },
      "execution_count": null,
      "outputs": [
        {
          "output_type": "stream",
          "name": "stdout",
          "text": [
            "[0, 0, 0, 1, 2, 3, 4, 5, 6, 7, 8, 8, 8, 8, 9, 9, 10, 10, 11, 11, 12, 13, 13, 14, 15, 16, 17, 18, 19, 20, 21, 21, 22]\n"
          ]
        }
      ]
    },
    {
      "cell_type": "code",
      "source": [
        "word_ids = tokenized_input.word_ids()\n",
        "aligned_labels = [-100 if i is None else example[\"ner_tags\"][i] for i in word_ids]\n",
        "print(len(aligned_labels), len(tokenized_input[\"input_ids\"]))"
      ],
      "metadata": {
        "id": "EWrV5o5XrrXS",
        "colab": {
          "base_uri": "https://localhost:8080/"
        },
        "outputId": "5532e9f7-782e-4718-c653-52259734fe81",
        "execution": {
          "iopub.status.busy": "2024-06-01T05:17:52.043769Z",
          "iopub.execute_input": "2024-06-01T05:17:52.044070Z",
          "iopub.status.idle": "2024-06-01T05:17:52.052016Z",
          "shell.execute_reply.started": "2024-06-01T05:17:52.044047Z",
          "shell.execute_reply": "2024-06-01T05:17:52.050972Z"
        },
        "trusted": true
      },
      "execution_count": null,
      "outputs": [
        {
          "output_type": "stream",
          "name": "stdout",
          "text": [
            "33 33\n"
          ]
        }
      ]
    },
    {
      "cell_type": "code",
      "source": [
        "label_all_tokens = True"
      ],
      "metadata": {
        "id": "gj0Wgm5_r2qz",
        "execution": {
          "iopub.status.busy": "2024-06-01T05:17:52.052960Z",
          "iopub.execute_input": "2024-06-01T05:17:52.053247Z",
          "iopub.status.idle": "2024-06-01T05:17:52.058172Z",
          "shell.execute_reply.started": "2024-06-01T05:17:52.053225Z",
          "shell.execute_reply": "2024-06-01T05:17:52.057232Z"
        },
        "trusted": true
      },
      "execution_count": null,
      "outputs": []
    },
    {
      "cell_type": "code",
      "source": [
        "def tokenize_and_align_labels(examples):\n",
        "    tokenized_inputs = tokenizer(examples[\"tokens\"], truncation=True, is_split_into_words=True)\n",
        "\n",
        "    labels = []\n",
        "    for i, label in enumerate(examples[\"ner_tags\"]):\n",
        "        word_ids = tokenized_inputs.word_ids(batch_index=i)\n",
        "        previous_word_idx = None\n",
        "        label_ids = []\n",
        "        for word_idx in word_ids:\n",
        "            # Special tokens have a word id that is None. We set the label to -100 so they are automatically\n",
        "            # ignored in the loss function.\n",
        "            if word_idx is None:\n",
        "                label_ids.append(-100)\n",
        "            # We set the label for the first token of each word.\n",
        "            elif word_idx != previous_word_idx:\n",
        "              try:\n",
        "                label_ids.append(label[word_idx])\n",
        "              except:\n",
        "                pass\n",
        "            # For the other tokens in a word, we set the label to either the current label or -100, depending on\n",
        "            # the label_all_tokens flag.\n",
        "            else:\n",
        "              try:\n",
        "                label_ids.append(label[word_idx] if label_all_tokens else -100)\n",
        "              except:\n",
        "                pass\n",
        "            previous_word_idx = word_idx\n",
        "\n",
        "        labels.append(label_ids)\n",
        "\n",
        "    tokenized_inputs[\"labels\"] = labels\n",
        "    return tokenized_inputs"
      ],
      "metadata": {
        "id": "Snp-MOVgr39y",
        "execution": {
          "iopub.status.busy": "2024-06-01T05:17:52.059435Z",
          "iopub.execute_input": "2024-06-01T05:17:52.059727Z",
          "iopub.status.idle": "2024-06-01T05:17:52.068947Z",
          "shell.execute_reply.started": "2024-06-01T05:17:52.059690Z",
          "shell.execute_reply": "2024-06-01T05:17:52.068071Z"
        },
        "trusted": true
      },
      "execution_count": null,
      "outputs": []
    },
    {
      "cell_type": "code",
      "source": [
        "tokenize_and_align_labels(train_dataset[\"train\"][:5])"
      ],
      "metadata": {
        "id": "Phzf3FV3r8in",
        "colab": {
          "base_uri": "https://localhost:8080/"
        },
        "outputId": "dd43e1ee-5d93-4eb7-fd0c-34ae9515982b",
        "execution": {
          "iopub.status.busy": "2024-06-01T05:17:52.069986Z",
          "iopub.execute_input": "2024-06-01T05:17:52.070269Z",
          "iopub.status.idle": "2024-06-01T05:17:52.082392Z",
          "shell.execute_reply.started": "2024-06-01T05:17:52.070240Z",
          "shell.execute_reply": "2024-06-01T05:17:52.081407Z"
        },
        "trusted": true
      },
      "execution_count": null,
      "outputs": [
        {
          "output_type": "stream",
          "name": "stderr",
          "text": [
            "Asking to truncate to max_length but no maximum length is provided and the model has no predefined maximum length. Default to no truncation.\n"
          ]
        },
        {
          "output_type": "execute_result",
          "data": {
            "text/plain": [
              "{'input_ids': [[21124, 233236, 24881, 714, 2911, 23553, 345, 130985, 14413, 115161, 16957, 7228, 141401, 3419, 21357, 2288, 849, 15856, 5648, 14130, 630, 137773, 991, 42524, 867, 9178, 24799, 57160, 34627, 1017, 2532, 5709, 220490, 11495, 2040, 30341, 9570, 25816, 790, 5709, 43597, 22298, 33759, 714, 2105, 10065, 71116, 2586, 25127, 8556, 186967, 3807, 11751, 1781, 58848, 133018, 57896, 14900, 1771, 23024, 160105, 630, 1503, 10504, 8226, 236767, 630, 76872, 175744, 2567, 3905, 19167, 14927, 867, 25540, 22959, 5295, 8731, 130074, 662], [114967, 248353, 17771, 17753, 11487, 314, 131288, 140321, 630, 13199, 92577, 3990, 36160, 31167, 123868, 63760, 1498, 248353, 17771, 14059, 9984, 4417, 10504, 27453, 6579, 61244, 630, 12038, 16586, 49209, 630, 192711, 99509, 18091, 2728, 42880, 93817, 81410, 5256, 17753, 24134, 40281, 115586, 5648, 2892, 39215, 28816], [20238, 72143, 21918, 709, 7513, 17163, 44300, 1009, 2861, 4058, 15345, 87612, 31945, 110, 559, 12513, 3419, 5648, 630, 91185, 38087, 7392, 2639, 41147, 1334, 23024, 80983, 3419, 720, 19995, 4058], [127072, 51134, 2027, 5459, 67343, 4058, 68523, 1334, 23024, 57896, 14900, 127955, 17763, 1798, 630, 3990, 6171, 42376, 790, 1463, 13162, 314, 4417, 1334, 23024, 224312, 2892, 91261, 91261, 166375, 8731, 42172], [70936, 2145, 151993, 86164, 630, 19742, 75153, 2040, 13907, 27163, 16053, 58848, 1473, 11402, 1017, 131703, 127203, 3419, 15989, 164992, 118761, 25252, 15487, 96157, 4417, 2040, 190564, 34570, 134011, 630, 9178, 185658, 39385]], 'attention_mask': [[1, 1, 1, 1, 1, 1, 1, 1, 1, 1, 1, 1, 1, 1, 1, 1, 1, 1, 1, 1, 1, 1, 1, 1, 1, 1, 1, 1, 1, 1, 1, 1, 1, 1, 1, 1, 1, 1, 1, 1, 1, 1, 1, 1, 1, 1, 1, 1, 1, 1, 1, 1, 1, 1, 1, 1, 1, 1, 1, 1, 1, 1, 1, 1, 1, 1, 1, 1, 1, 1, 1, 1, 1, 1, 1, 1, 1, 1, 1, 1], [1, 1, 1, 1, 1, 1, 1, 1, 1, 1, 1, 1, 1, 1, 1, 1, 1, 1, 1, 1, 1, 1, 1, 1, 1, 1, 1, 1, 1, 1, 1, 1, 1, 1, 1, 1, 1, 1, 1, 1, 1, 1, 1, 1, 1, 1, 1], [1, 1, 1, 1, 1, 1, 1, 1, 1, 1, 1, 1, 1, 1, 1, 1, 1, 1, 1, 1, 1, 1, 1, 1, 1, 1, 1, 1, 1, 1, 1], [1, 1, 1, 1, 1, 1, 1, 1, 1, 1, 1, 1, 1, 1, 1, 1, 1, 1, 1, 1, 1, 1, 1, 1, 1, 1, 1, 1, 1, 1, 1, 1], [1, 1, 1, 1, 1, 1, 1, 1, 1, 1, 1, 1, 1, 1, 1, 1, 1, 1, 1, 1, 1, 1, 1, 1, 1, 1, 1, 1, 1, 1, 1, 1, 1]], 'labels': [[0, 0, 0, 0, 0, 0, 0, 0, 0, 0, 0, 0, 0, 0, 0, 0, 0, 0, 0, 0, 0, 0, 0, 0, 0, 0, 0, 0, 0, 0, 0, 0, 0, 0, 0, 1, 1, 0, 0, 0, 0, 0, 0, 0, 0, 0, 0, 0, 0, 0, 0, 0, 0, 0, 0, 0, 0, 0, 0, 0, 0, 0, 0, 0, 0, 0, 0, 0, 4, 4, 0, 0, 0, 0, 0, 0, 0, 0, 0, 0], [0, 0, 0, 0, 0, 0, 0, 0, 0, 0, 0, 0, 0, 0, 0, 0, 0, 0, 0, 0, 0, 0, 0, 0, 0, 0, 0, 0, 0, 0, 0, 0, 0, 0, 4, 8, 0, 0, 0, 0, 0, 0, 0, 0, 0, 0, 0], [0, 0, 0, 0, 0, 0, 0, 0, 0, 0, 1, 1, 0, 0, 0, 0, 0, 0, 0, 0, 0, 0, 0, 0, 0, 0, 0, 0, 0, 0, 0], [0, 0, 0, 0, 0, 0, 0, 0, 0, 0, 0, 0, 0, 0, 0, 0, 0, 0, 0, 0, 0, 0, 0, 0, 0, 0, 0, 0, 0, 0, 0, 0], [1, 1, 1, 0, 0, 0, 0, 0, 0, 0, 2, 2, 2, 2, 0, 0, 0, 0, 2, 2, 0, 0, 0, 0, 0, 0, 1, 5, 0, 0, 0, 0, 0]]}"
            ]
          },
          "metadata": {},
          "execution_count": 49
        }
      ]
    },
    {
      "cell_type": "code",
      "source": [
        "tokenized_datasets_train = train_dataset[\"train\"].map(tokenize_and_align_labels, batched=True)\n",
        "tokenized_datasets_validation = validation_dataset[\"validation\"].map(tokenize_and_align_labels, batched=True)"
      ],
      "metadata": {
        "id": "3eIxuWSssRnE",
        "colab": {
          "base_uri": "https://localhost:8080/",
          "height": 81,
          "referenced_widgets": [
            "9c836a794b564e9d87b639ab80ff4381",
            "59638632b68b43a0b0f52adbe2414890",
            "f016d17b29a646fa9b74a9e6dab5fedc",
            "261af86e542e405c91926c256ff3e1e2",
            "829e826ce28d4717becb0fbe3d2ea434",
            "bae71dbf160d44abba6c2ccf652ff5fe",
            "74c64a0c52cb40cea2c7634bb01a6671",
            "0b0d4e9989474f52a0bb0b071d1ac426",
            "f3ed4303e3f14d2092e3761d9edd1a6f",
            "0bd8eaf192fe4d68a23b95c75c7f6740",
            "0ff9271513434d92b4e78aeefc767958",
            "ec4b539fbb8048e4865e36f7bfd8abab",
            "05e86c2cfd6d4cf2975074cd0d44710a",
            "a65f610e99e24287be8038270d57c9d6",
            "548b6bcb8d7a432b8f8442f6d017d50b",
            "e4355697cb08413e975aae1defa3c8e1",
            "8b583bfa057541e089de0a3b1b2c576c",
            "8ff60f7abbb64c27bb903526ac5037ff",
            "dd7b1653c5a94a8eba4229dbb47a57f5",
            "6eb67beee1d947aa92777f7459c6a372",
            "85ae25cb3e5a41f58470b1862b46d3a9",
            "fd2affabc53d4d4ab6e1241aa3ca9711"
          ]
        },
        "outputId": "82648c19-4217-49ee-b5ed-613b4a431219",
        "execution": {
          "iopub.status.busy": "2024-06-01T05:17:52.083444Z",
          "iopub.execute_input": "2024-06-01T05:17:52.083764Z",
          "iopub.status.idle": "2024-06-01T05:17:58.176129Z",
          "shell.execute_reply.started": "2024-06-01T05:17:52.083734Z",
          "shell.execute_reply": "2024-06-01T05:17:58.175226Z"
        },
        "trusted": true
      },
      "execution_count": null,
      "outputs": [
        {
          "output_type": "display_data",
          "data": {
            "text/plain": [
              "Map:   0%|          | 0/23703 [00:00<?, ? examples/s]"
            ],
            "application/vnd.jupyter.widget-view+json": {
              "version_major": 2,
              "version_minor": 0,
              "model_id": "9c836a794b564e9d87b639ab80ff4381"
            }
          },
          "metadata": {}
        },
        {
          "output_type": "display_data",
          "data": {
            "text/plain": [
              "Map:   0%|          | 0/2967 [00:00<?, ? examples/s]"
            ],
            "application/vnd.jupyter.widget-view+json": {
              "version_major": 2,
              "version_minor": 0,
              "model_id": "ec4b539fbb8048e4865e36f7bfd8abab"
            }
          },
          "metadata": {}
        }
      ]
    },
    {
      "cell_type": "code",
      "source": [
        "show_random_elements(tokenized_datasets_train)"
      ],
      "metadata": {
        "id": "kv_np_gwjR5c",
        "colab": {
          "base_uri": "https://localhost:8080/",
          "height": 1000
        },
        "outputId": "9661183c-eb77-4a4f-e852-9f817fa670fa",
        "execution": {
          "iopub.status.busy": "2024-06-01T05:17:58.177425Z",
          "iopub.execute_input": "2024-06-01T05:17:58.177802Z",
          "iopub.status.idle": "2024-06-01T05:17:58.206372Z",
          "shell.execute_reply.started": "2024-06-01T05:17:58.177769Z",
          "shell.execute_reply": "2024-06-01T05:17:58.205498Z"
        },
        "trusted": true
      },
      "execution_count": null,
      "outputs": [
        {
          "output_type": "display_data",
          "data": {
            "text/plain": [
              "<IPython.core.display.HTML object>"
            ],
            "text/html": [
              "<table border=\"1\" class=\"dataframe\">\n",
              "  <thead>\n",
              "    <tr style=\"text-align: right;\">\n",
              "      <th></th>\n",
              "      <th>id</th>\n",
              "      <th>tokens</th>\n",
              "      <th>ner_tags</th>\n",
              "      <th>input_ids</th>\n",
              "      <th>attention_mask</th>\n",
              "      <th>labels</th>\n",
              "    </tr>\n",
              "  </thead>\n",
              "  <tbody>\n",
              "    <tr>\n",
              "      <th>0</th>\n",
              "      <td>22691</td>\n",
              "      <td>[আর, কিছু, বলেনি, ?, আর, কী, ?, এ, প্রশ্নের, জবাব, না, দিয়ে, মণিদীপা, খুব, সুন্দর, করে, একটু, হাসল]</td>\n",
              "      <td>[0, 0, 0, 0, 0, 0, 0, 0, 0, 0, 0, 0, 1, 0, 0, 0, 0, 0]</td>\n",
              "      <td>[6171, 11169, 15074, 369, 2040, 6171, 22863, 2040, 991, 120505, 112073, 4417, 31135, 100900, 5592, 23553, 314, 24134, 61086, 4419, 54375, 19012, 694]</td>\n",
              "      <td>[1, 1, 1, 1, 1, 1, 1, 1, 1, 1, 1, 1, 1, 1, 1, 1, 1, 1, 1, 1, 1, 1, 1]</td>\n",
              "      <td>[0, 0, 0, 0, 0, 0, 0, 0, 0, 0, 0, 0, 0, 1, 1, 1, 1, 0, 0, 0, 0, 0, 0]</td>\n",
              "    </tr>\n",
              "    <tr>\n",
              "      <th>1</th>\n",
              "      <td>7442</td>\n",
              "      <td>[মাঝে, মাঝে, রোস্তম, আসে, ,, সাধারণ, দু, -, একজন, শিকারি, আসে, ,, শান, সাহেবের, সঙ্গে, নুরুলও, দু, -, একবার, ঘুরে, যায়]</td>\n",
              "      <td>[0, 0, 1, 0, 0, 0, 0, 0, 0, 0, 0, 0, 1, 0, 0, 1, 0, 0, 0, 0, 0]</td>\n",
              "      <td>[57331, 57331, 2105, 709, 6462, 761, 46626, 630, 25823, 5720, 647, 20382, 86468, 369, 46626, 630, 1781, 943, 101650, 867, 12456, 172058, 2585, 3419, 5720, 647, 70161, 122725, 23353]</td>\n",
              "      <td>[1, 1, 1, 1, 1, 1, 1, 1, 1, 1, 1, 1, 1, 1, 1, 1, 1, 1, 1, 1, 1, 1, 1, 1, 1, 1, 1, 1, 1]</td>\n",
              "      <td>[0, 0, 1, 1, 1, 1, 0, 0, 0, 0, 0, 0, 0, 0, 0, 0, 1, 1, 0, 0, 0, 1, 1, 1, 0, 0, 0, 0, 0]</td>\n",
              "    </tr>\n",
              "    <tr>\n",
              "      <th>2</th>\n",
              "      <td>3402</td>\n",
              "      <td>[আর, বছরের, এই, উৎসবের, দিনে, তাকে, দর্শন, করাতে, দেবীদের, নিয়ে, আসা, হচ্ছে]</td>\n",
              "      <td>[0, 0, 0, 0, 0, 0, 0, 0, 0, 0, 0, 0]</td>\n",
              "      <td>[6171, 42880, 3905, 225104, 65178, 22007, 109639, 234925, 23956, 18132, 17753, 75213, 16904]</td>\n",
              "      <td>[1, 1, 1, 1, 1, 1, 1, 1, 1, 1, 1, 1, 1]</td>\n",
              "      <td>[0, 0, 0, 0, 0, 0, 0, 0, 0, 0, 0, 0, 0]</td>\n",
              "    </tr>\n",
              "    <tr>\n",
              "      <th>3</th>\n",
              "      <td>23616</td>\n",
              "      <td>[তারা, অফিসে, কিছুক্ষণ, নিচু, গলায়, কথা, বলল, ,, তারপর, সবাই, মিলে, ডক্টর, সেলিমের, চেম্বারে, হাজির, হলো]</td>\n",
              "      <td>[0, 0, 0, 0, 0, 0, 0, 0, 0, 0, 0, 1, 5, 0, 0, 0]</td>\n",
              "      <td>[18091, 180143, 207701, 37032, 587, 57141, 4058, 9578, 134011, 630, 75845, 48010, 122710, 197763, 148016, 80314, 158113, 1901, 59614, 11289, 134295, 38129]</td>\n",
              "      <td>[1, 1, 1, 1, 1, 1, 1, 1, 1, 1, 1, 1, 1, 1, 1, 1, 1, 1, 1, 1, 1, 1]</td>\n",
              "      <td>[0, 0, 0, 0, 0, 0, 0, 0, 0, 0, 0, 0, 0, 1, 1, 5, 5, 0, 0, 0, 0, 0]</td>\n",
              "    </tr>\n",
              "    <tr>\n",
              "      <th>4</th>\n",
              "      <td>3819</td>\n",
              "      <td>[তাঁহার, একটি, বিবাহিতা, ভগিনী, আছে, বটে‌, ,, স্বামী, রেলের, চাকরি, করে‌, ,, কিন্তু, তাহারা, সম্পর্ক, খুব, গাঢ়, নয়‌, ,, কাহারও, সহিত, অসদ্ভাব, না, থাকিলেও, বেশি, মাখামাখিও, নাই]</td>\n",
              "      <td>[0, 0, 0, 0, 0, 0, 0, 0, 0, 0, 0, 0, 0, 0, 0, 0, 0, 0, 0, 0, 0, 0, 0, 0, 0, 0, 0]</td>\n",
              "      <td>[137773, 7228, 60468, 21560, 56977, 21810, 9799, 143236, 1511, 630, 63637, 42190, 867, 145468, 4419, 1511, 630, 12038, 124826, 22961, 24134, 93254, 171737, 29105, 1511, 630, 215008, 3419, 63210, 15849, 1183, 244237, 4417, 129725, 4177, 23076, 160626, 1798, 7965, 9732, 14130]</td>\n",
              "      <td>[1, 1, 1, 1, 1, 1, 1, 1, 1, 1, 1, 1, 1, 1, 1, 1, 1, 1, 1, 1, 1, 1, 1, 1, 1, 1, 1, 1, 1, 1, 1, 1, 1, 1, 1, 1, 1, 1, 1, 1, 1]</td>\n",
              "      <td>[0, 0, 0, 0, 0, 0, 0, 0, 0, 0, 0, 0, 0, 0, 0, 0, 0, 0, 0, 0, 0, 0, 0, 0, 0, 0, 0, 0, 0, 0, 0, 0, 0, 0, 0, 0, 0, 0, 0, 0, 0]</td>\n",
              "    </tr>\n",
              "    <tr>\n",
              "      <th>5</th>\n",
              "      <td>8025</td>\n",
              "      <td>[এবারে, কয়েকদিন, আগে, এসেছে, আর, যায়নি, বুঝলেন, কিনা, যেতে, দিই, নি, মেয়েটা, আমার, কখন, কি, দরকার, না, দরকার, এসব, বুঝে, ফেলেছে]</td>\n",
              "      <td>[0, 4, 0, 0, 0, 0, 0, 0, 0, 0, 0, 0, 0, 0, 0, 0, 0, 0, 0, 0, 0]</td>\n",
              "      <td>[3762, 11289, 51646, 15487, 22590, 61580, 6171, 83189, 31889, 24351, 84034, 35569, 224672, 50702, 66690, 29855, 13183, 34429, 9984, 64263, 4417, 64263, 58791, 207740, 238513]</td>\n",
              "      <td>[1, 1, 1, 1, 1, 1, 1, 1, 1, 1, 1, 1, 1, 1, 1, 1, 1, 1, 1, 1, 1, 1, 1, 1, 1]</td>\n",
              "      <td>[0, 0, 4, 4, 0, 0, 0, 0, 0, 0, 0, 0, 0, 0, 0, 0, 0, 0, 0, 0, 0, 0, 0, 0, 0]</td>\n",
              "    </tr>\n",
              "    <tr>\n",
              "      <th>6</th>\n",
              "      <td>16849</td>\n",
              "      <td>[জীবনটাই, আগাগোড়া, বদলে, যেত, ,, সমাজ, ,, ধর্ম, ,, রীতিনীতি, ,, সুখ, -, দুঃখ, ,, ভাবনা, -, চিন্তা, ,, অনুভূতি, সব, অন্যরকম, হত]</td>\n",
              "      <td>[0, 0, 0, 0, 0, 0, 0, 0, 0, 0, 0, 0, 0, 0, 0, 0, 0, 0, 0, 0, 0, 0, 0]</td>\n",
              "      <td>[36587, 34848, 8618, 243826, 64081, 113610, 98549, 630, 34238, 630, 34657, 630, 176352, 21810, 4421, 630, 42524, 647, 58506, 630, 179798, 647, 68459, 630, 227254, 10353, 29793, 118144, 28462]</td>\n",
              "      <td>[1, 1, 1, 1, 1, 1, 1, 1, 1, 1, 1, 1, 1, 1, 1, 1, 1, 1, 1, 1, 1, 1, 1, 1, 1, 1, 1, 1, 1]</td>\n",
              "      <td>[0, 0, 0, 0, 0, 0, 0, 0, 0, 0, 0, 0, 0, 0, 0, 0, 0, 0, 0, 0, 0, 0, 0, 0, 0, 0, 0, 0, 0]</td>\n",
              "    </tr>\n",
              "    <tr>\n",
              "      <th>7</th>\n",
              "      <td>20017</td>\n",
              "      <td>[চিঠিটা, পড়তে, পড়তে, ঘন, অন্ধকারের, মধ্যে, যেন, একটা, আশার, আলোর, হঠাৎ, ঝালকানি, দেখতে, পায়]</td>\n",
              "      <td>[0, 0, 0, 0, 0, 0, 0, 0, 0, 0, 0, 0, 0, 0]</td>\n",
              "      <td>[73783, 71817, 213933, 213933, 71066, 69901, 107426, 10063, 17751, 19611, 17576, 714, 229857, 98706, 24192, 73987, 15896, 45282, 114550]</td>\n",
              "      <td>[1, 1, 1, 1, 1, 1, 1, 1, 1, 1, 1, 1, 1, 1, 1, 1, 1, 1, 1]</td>\n",
              "      <td>[0, 0, 0, 0, 0, 0, 0, 0, 0, 0, 0, 0, 0, 0, 0, 0, 0, 0, 0]</td>\n",
              "    </tr>\n",
              "    <tr>\n",
              "      <th>8</th>\n",
              "      <td>10733</td>\n",
              "      <td>[পরদিন, সকালে, যখন, অন্নদাবাবু, হেমনলিনীকে, লইয়া, বাহিরে, গাছের, তলায়, চা, খাইতে, বসিয়াছেন, ,, তখন, অক্ষয়, আসিয়া, উপস্থিত, হইল]</td>\n",
              "      <td>[4, 8, 0, 1, 1, 0, 0, 0, 0, 0, 0, 0, 0, 0, 1, 0, 0, 0]</td>\n",
              "      <td>[3084, 15487, 90941, 29007, 154299, 1183, 2145, 151993, 1017, 22026, 694, 21810, 3807, 57896, 14900, 239408, 168275, 56162, 4058, 117154, 60248, 2752, 22959, 3774, 56613, 630, 24510, 73415, 1237, 8226, 23024, 33589, 52129]</td>\n",
              "      <td>[1, 1, 1, 1, 1, 1, 1, 1, 1, 1, 1, 1, 1, 1, 1, 1, 1, 1, 1, 1, 1, 1, 1, 1, 1, 1, 1, 1, 1, 1, 1, 1, 1]</td>\n",
              "      <td>[4, 4, 8, 0, 1, 1, 1, 1, 1, 1, 1, 1, 1, 0, 0, 0, 0, 0, 0, 0, 0, 0, 0, 0, 0, 0, 0, 1, 1, 0, 0, 0, 0]</td>\n",
              "    </tr>\n",
              "    <tr>\n",
              "      <th>9</th>\n",
              "      <td>7959</td>\n",
              "      <td>[এর, চেয়ে, সুখবর, আর, কী, হতে, পারে, ?, দীপনাথ, নয়, ,, তার, ভিতরকার, পাগলটা, বিনা, ভূমিকায়, বলল, ,, আমার, সঙ্গে, যাবে, মণিদীপা, ?, মণিদীপা, তেমনি, বিহুলভাবে, চেয়ে, আছে]</td>\n",
              "      <td>[0, 0, 0, 0, 0, 0, 0, 0, 1, 0, 0, 0, 0, 0, 0, 0, 0, 0, 0, 0, 0, 1, 0, 1, 0, 0, 0, 0]</td>\n",
              "      <td>[9044, 103163, 42524, 19047, 6171, 22863, 20014, 16010, 2040, 106479, 43657, 29105, 630, 5639, 141371, 5742, 198493, 5459, 155502, 91272, 4058, 134011, 630, 13183, 12456, 30102, 100900, 5592, 23553, 314, 2040, 100900, 5592, 23553, 314, 147884, 56683, 2585, 13119, 103163, 9799]</td>\n",
              "      <td>[1, 1, 1, 1, 1, 1, 1, 1, 1, 1, 1, 1, 1, 1, 1, 1, 1, 1, 1, 1, 1, 1, 1, 1, 1, 1, 1, 1, 1, 1, 1, 1, 1, 1, 1, 1, 1, 1, 1, 1, 1]</td>\n",
              "      <td>[0, 0, 0, 0, 0, 0, 0, 0, 0, 1, 1, 0, 0, 0, 0, 0, 0, 0, 0, 0, 0, 0, 0, 0, 0, 0, 1, 1, 1, 1, 0, 1, 1, 1, 1, 0, 0, 0, 0, 0, 0]</td>\n",
              "    </tr>\n",
              "  </tbody>\n",
              "</table>"
            ]
          },
          "metadata": {}
        }
      ]
    },
    {
      "cell_type": "markdown",
      "source": [
        "# Fine Tuning The Model"
      ],
      "metadata": {
        "id": "FqMzVY-P08tq"
      }
    },
    {
      "cell_type": "code",
      "source": [
        "# from transformers import TrainingArguments"
      ],
      "metadata": {
        "id": "AemWEYiG08tq",
        "execution": {
          "iopub.status.busy": "2024-06-01T05:17:58.207411Z",
          "iopub.execute_input": "2024-06-01T05:17:58.207658Z",
          "iopub.status.idle": "2024-06-01T05:17:58.213201Z",
          "shell.execute_reply.started": "2024-06-01T05:17:58.207635Z",
          "shell.execute_reply": "2024-06-01T05:17:58.212177Z"
        },
        "trusted": true
      },
      "execution_count": null,
      "outputs": []
    },
    {
      "cell_type": "code",
      "source": [
        "# from transformers import AutoModelForTokenClassification, TrainingArguments, Trainer\n",
        "\n",
        "# model = AutoModelForTokenClassification.from_pretrained(model_checkpoint, id2label=id2label, label2id=label2id,)"
      ],
      "metadata": {
        "id": "qJEPeuAP08tr",
        "execution": {
          "iopub.status.busy": "2024-06-01T05:17:58.214437Z",
          "iopub.execute_input": "2024-06-01T05:17:58.215045Z",
          "iopub.status.idle": "2024-06-01T05:17:58.219053Z",
          "shell.execute_reply.started": "2024-06-01T05:17:58.215014Z",
          "shell.execute_reply": "2024-06-01T05:17:58.218096Z"
        },
        "trusted": true
      },
      "execution_count": null,
      "outputs": []
    },
    {
      "cell_type": "code",
      "source": [
        "# model_name = model_checkpoint.split(\"/\")[-1]\n",
        "# task = \"ner\"\n",
        "\n",
        "# args = TrainingArguments(\n",
        "#     f\"{model_name}-finetuned-{task}\",\n",
        "#     evaluation_strategy = \"epoch\",\n",
        "#     learning_rate=2e-5,\n",
        "#     per_device_train_batch_size=batch_size,\n",
        "#     per_device_eval_batch_size=batch_size,\n",
        "#     num_train_epochs=epochs,\n",
        "#     weight_decay=0.01,\n",
        "# )"
      ],
      "metadata": {
        "id": "MSKUfnDi08tr",
        "execution": {
          "iopub.status.busy": "2024-06-01T05:17:58.220149Z",
          "iopub.execute_input": "2024-06-01T05:17:58.220442Z",
          "iopub.status.idle": "2024-06-01T05:17:58.227208Z",
          "shell.execute_reply.started": "2024-06-01T05:17:58.220419Z",
          "shell.execute_reply": "2024-06-01T05:17:58.226460Z"
        },
        "trusted": true
      },
      "execution_count": null,
      "outputs": []
    },
    {
      "cell_type": "code",
      "source": [
        "# from transformers import DataCollatorForTokenClassification\n",
        "\n",
        "data_collator = DataCollatorForTokenClassification(tokenizer=tokenizer)"
      ],
      "metadata": {
        "id": "iR1NVSr6wx8R",
        "execution": {
          "iopub.status.busy": "2024-06-01T05:17:58.228447Z",
          "iopub.execute_input": "2024-06-01T05:17:58.228910Z",
          "iopub.status.idle": "2024-06-01T05:17:58.235448Z",
          "shell.execute_reply.started": "2024-06-01T05:17:58.228881Z",
          "shell.execute_reply": "2024-06-01T05:17:58.234692Z"
        },
        "trusted": true
      },
      "execution_count": null,
      "outputs": []
    },
    {
      "cell_type": "code",
      "source": [
        "model = AutoModelForTokenClassification.from_pretrained(f\"bigscience/{model_name}\", num_labels=9).cuda()"
      ],
      "metadata": {
        "id": "MyWq6WBhmlm_",
        "colab": {
          "base_uri": "https://localhost:8080/"
        },
        "outputId": "3cee3659-61aa-479b-eebd-50cbfaff9f08",
        "execution": {
          "iopub.status.busy": "2024-06-01T05:17:58.236412Z",
          "iopub.execute_input": "2024-06-01T05:17:58.236672Z",
          "iopub.status.idle": "2024-06-01T05:18:00.247846Z",
          "shell.execute_reply.started": "2024-06-01T05:17:58.236648Z",
          "shell.execute_reply": "2024-06-01T05:18:00.246701Z"
        },
        "trusted": true
      },
      "execution_count": null,
      "outputs": [
        {
          "output_type": "stream",
          "name": "stderr",
          "text": [
            "Some weights of BloomForTokenClassification were not initialized from the model checkpoint at bigscience/bloom-560m and are newly initialized: ['classifier.bias', 'classifier.weight']\n",
            "You should probably TRAIN this model on a down-stream task to be able to use it for predictions and inference.\n"
          ]
        }
      ]
    },
    {
      "cell_type": "code",
      "source": [
        "# import numpy as np\n",
        "\n",
        "\n",
        "# def compute_metrics(p):\n",
        "#   predictions, labels = p\n",
        "#   predictions = np.argmax(predictions, axis=2)\n",
        "#   true_predictions = [\n",
        "#       [label_list[p] for (p, l) in zip(prediction, label) if l != -100]\n",
        "#       for prediction, label in zip(predictions, labels)\n",
        "#   ]\n",
        "#   true_labels = [\n",
        "#       [label_list[l] for (p, l) in zip(prediction, label) if l != -100]\n",
        "#       for prediction, label in zip(predictions, labels)\n",
        "#   ]\n",
        "#   results = metric.compute(predictions=true_predictions, references=true_labels)\n",
        "#   return {\n",
        "#       \"precision\": results[\"overall_precision\"],\n",
        "#       \"recall\": results[\"overall_recall\"],\n",
        "#       \"f1\": results[\"overall_f1\"],\n",
        "#       \"accuracy\": results[\"overall_accuracy\"],\n",
        "#   }"
      ],
      "metadata": {
        "id": "f8fPoxmUyFrP",
        "execution": {
          "iopub.status.busy": "2024-06-01T05:18:00.249189Z",
          "iopub.execute_input": "2024-06-01T05:18:00.249545Z",
          "iopub.status.idle": "2024-06-01T05:18:00.255136Z",
          "shell.execute_reply.started": "2024-06-01T05:18:00.249511Z",
          "shell.execute_reply": "2024-06-01T05:18:00.253970Z"
        },
        "trusted": true
      },
      "execution_count": null,
      "outputs": []
    },
    {
      "cell_type": "code",
      "source": [
        "from transformers import Trainer, TrainingArguments\n",
        "import itertools\n",
        "\n",
        "# Define hyperparameter space\n",
        "learning_rates = [1e-5, 2e-5, 3e-5]\n",
        "batch_sizes = [8, 16]\n",
        "weight_decays = [0.01, 0.1]\n",
        "\n",
        "# Create a product of all combinations\n",
        "hyperparameter_space = list(itertools.product(learning_rates, batch_sizes, weight_decays))\n",
        "\n",
        "# Define function to train and evaluate the model\n",
        "def train_and_evaluate(learning_rate, batch_size, weight_decay):\n",
        "    training_args = TrainingArguments(\n",
        "        output_dir='./results',\n",
        "        evaluation_strategy=\"epoch\",\n",
        "        learning_rate=learning_rate,\n",
        "        per_device_train_batch_size=batch_size,\n",
        "        per_device_eval_batch_size=batch_size,\n",
        "        num_train_epochs=3,\n",
        "        weight_decay=weight_decay,\n",
        "    )\n",
        "\n",
        "    trainer = Trainer(\n",
        "        model=model,\n",
        "        args=training_args,\n",
        "        train_dataset=tokenized_datasets_train,\n",
        "        eval_dataset=tokenized_datasets_validation,\n",
        "        tokenizer=tokenizer,\n",
        "        data_collator=data_collator,\n",
        "    )\n",
        "\n",
        "    trainer.train()\n",
        "    return trainer.evaluate()\n",
        "\n",
        "# Grid search\n",
        "best_eval = None\n",
        "best_hyperparams = None\n",
        "for lr, bs, wd in hyperparameter_space:\n",
        "    eval_results = train_and_evaluate(lr, bs, wd)\n",
        "    if best_eval is None or eval_results['eval_loss'] < best_eval['eval_loss']:\n",
        "        best_eval = eval_results\n",
        "        best_hyperparams = (lr, bs, wd)\n",
        "\n",
        "print(f\"Best hyperparameters: Learning Rate: {best_hyperparams[0]}, Batch Size: {best_hyperparams[1]}, Weight Decay: {best_hyperparams[2]}\")\n",
        "print(f\"Best evaluation loss: {best_eval['eval_loss']}\")"
      ],
      "metadata": {
        "execution": {
          "iopub.status.busy": "2024-06-01T05:18:00.256531Z",
          "iopub.execute_input": "2024-06-01T05:18:00.257650Z",
          "iopub.status.idle": "2024-06-01T05:57:07.598249Z",
          "shell.execute_reply.started": "2024-06-01T05:18:00.257613Z",
          "shell.execute_reply": "2024-06-01T05:57:07.596726Z"
        },
        "trusted": true,
        "colab": {
          "base_uri": "https://localhost:8080/",
          "height": 400
        },
        "id": "-m0mDyyll8kh",
        "outputId": "c7025f72-4872-4962-8b97-5cdf12e477d6"
      },
      "execution_count": null,
      "outputs": [
        {
          "output_type": "stream",
          "name": "stderr",
          "text": [
            "/usr/local/lib/python3.10/dist-packages/transformers/training_args.py:1474: FutureWarning: `evaluation_strategy` is deprecated and will be removed in version 4.46 of 🤗 Transformers. Use `eval_strategy` instead\n",
            "  warnings.warn(\n"
          ]
        },
        {
          "output_type": "display_data",
          "data": {
            "text/plain": [
              "<IPython.core.display.HTML object>"
            ],
            "text/html": [
              "\n",
              "    <div>\n",
              "      \n",
              "      <progress value='8889' max='8889' style='width:300px; height:20px; vertical-align: middle;'></progress>\n",
              "      [8889/8889 1:50:53, Epoch 3/3]\n",
              "    </div>\n",
              "    <table border=\"1\" class=\"dataframe\">\n",
              "  <thead>\n",
              " <tr style=\"text-align: left;\">\n",
              "      <th>Epoch</th>\n",
              "      <th>Training Loss</th>\n",
              "      <th>Validation Loss</th>\n",
              "    </tr>\n",
              "  </thead>\n",
              "  <tbody>\n",
              "    <tr>\n",
              "      <td>1</td>\n",
              "      <td>0.161200</td>\n",
              "      <td>0.136701</td>\n",
              "    </tr>\n",
              "    <tr>\n",
              "      <td>2</td>\n",
              "      <td>0.098300</td>\n",
              "      <td>0.125210</td>\n",
              "    </tr>\n",
              "    <tr>\n",
              "      <td>3</td>\n",
              "      <td>0.050100</td>\n",
              "      <td>0.144470</td>\n",
              "    </tr>\n",
              "  </tbody>\n",
              "</table><p>"
            ]
          },
          "metadata": {}
        },
        {
          "output_type": "display_data",
          "data": {
            "text/plain": [
              "<IPython.core.display.HTML object>"
            ],
            "text/html": [
              "\n",
              "    <div>\n",
              "      \n",
              "      <progress value='371' max='371' style='width:300px; height:20px; vertical-align: middle;'></progress>\n",
              "      [371/371 00:43]\n",
              "    </div>\n",
              "    "
            ]
          },
          "metadata": {}
        },
        {
          "output_type": "stream",
          "name": "stderr",
          "text": [
            "/usr/local/lib/python3.10/dist-packages/transformers/training_args.py:1474: FutureWarning: `evaluation_strategy` is deprecated and will be removed in version 4.46 of 🤗 Transformers. Use `eval_strategy` instead\n",
            "  warnings.warn(\n"
          ]
        },
        {
          "output_type": "display_data",
          "data": {
            "text/plain": [
              "<IPython.core.display.HTML object>"
            ],
            "text/html": [
              "\n",
              "    <div>\n",
              "      \n",
              "      <progress value='6132' max='8889' style='width:300px; height:20px; vertical-align: middle;'></progress>\n",
              "      [6132/8889 1:40:09 < 45:02, 1.02 it/s, Epoch 2.07/3]\n",
              "    </div>\n",
              "    <table border=\"1\" class=\"dataframe\">\n",
              "  <thead>\n",
              " <tr style=\"text-align: left;\">\n",
              "      <th>Epoch</th>\n",
              "      <th>Training Loss</th>\n",
              "      <th>Validation Loss</th>\n",
              "    </tr>\n",
              "  </thead>\n",
              "  <tbody>\n",
              "    <tr>\n",
              "      <td>1</td>\n",
              "      <td>0.071200</td>\n",
              "      <td>0.183278</td>\n",
              "    </tr>\n",
              "    <tr>\n",
              "      <td>2</td>\n",
              "      <td>0.035700</td>\n",
              "      <td>0.227767</td>\n",
              "    </tr>\n",
              "  </tbody>\n",
              "</table><p>"
            ]
          },
          "metadata": {}
        }
      ]
    },
    {
      "cell_type": "code",
      "source": [],
      "metadata": {
        "id": "xgUFN9iDl8kh"
      },
      "execution_count": null,
      "outputs": []
    }
  ]
}