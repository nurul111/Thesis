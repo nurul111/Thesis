{
  "cells": [
    {
      "cell_type": "code",
      "source": [
        "pip install datasets"
      ],
      "metadata": {
        "colab": {
          "base_uri": "https://localhost:8080/"
        },
        "id": "o-nQeU1B5h4P",
        "outputId": "9cc7e39f-91fc-415f-bb3d-afea3f2e178e"
      },
      "execution_count": null,
      "outputs": [
        {
          "output_type": "stream",
          "name": "stdout",
          "text": [
            "Looking in indexes: https://pypi.org/simple, https://us-python.pkg.dev/colab-wheels/public/simple/\n",
            "Requirement already satisfied: datasets in /usr/local/lib/python3.10/dist-packages (2.12.0)\n",
            "Requirement already satisfied: numpy>=1.17 in /usr/local/lib/python3.10/dist-packages (from datasets) (1.22.4)\n",
            "Requirement already satisfied: pyarrow>=8.0.0 in /usr/local/lib/python3.10/dist-packages (from datasets) (9.0.0)\n",
            "Requirement already satisfied: dill<0.3.7,>=0.3.0 in /usr/local/lib/python3.10/dist-packages (from datasets) (0.3.6)\n",
            "Requirement already satisfied: pandas in /usr/local/lib/python3.10/dist-packages (from datasets) (1.5.3)\n",
            "Requirement already satisfied: requests>=2.19.0 in /usr/local/lib/python3.10/dist-packages (from datasets) (2.27.1)\n",
            "Requirement already satisfied: tqdm>=4.62.1 in /usr/local/lib/python3.10/dist-packages (from datasets) (4.65.0)\n",
            "Requirement already satisfied: xxhash in /usr/local/lib/python3.10/dist-packages (from datasets) (3.2.0)\n",
            "Requirement already satisfied: multiprocess in /usr/local/lib/python3.10/dist-packages (from datasets) (0.70.14)\n",
            "Requirement already satisfied: fsspec[http]>=2021.11.1 in /usr/local/lib/python3.10/dist-packages (from datasets) (2023.4.0)\n",
            "Requirement already satisfied: aiohttp in /usr/local/lib/python3.10/dist-packages (from datasets) (3.8.4)\n",
            "Requirement already satisfied: huggingface-hub<1.0.0,>=0.11.0 in /usr/local/lib/python3.10/dist-packages (from datasets) (0.14.1)\n",
            "Requirement already satisfied: packaging in /usr/local/lib/python3.10/dist-packages (from datasets) (23.1)\n",
            "Requirement already satisfied: responses<0.19 in /usr/local/lib/python3.10/dist-packages (from datasets) (0.18.0)\n",
            "Requirement already satisfied: pyyaml>=5.1 in /usr/local/lib/python3.10/dist-packages (from datasets) (6.0)\n",
            "Requirement already satisfied: attrs>=17.3.0 in /usr/local/lib/python3.10/dist-packages (from aiohttp->datasets) (23.1.0)\n",
            "Requirement already satisfied: charset-normalizer<4.0,>=2.0 in /usr/local/lib/python3.10/dist-packages (from aiohttp->datasets) (2.0.12)\n",
            "Requirement already satisfied: multidict<7.0,>=4.5 in /usr/local/lib/python3.10/dist-packages (from aiohttp->datasets) (6.0.4)\n",
            "Requirement already satisfied: async-timeout<5.0,>=4.0.0a3 in /usr/local/lib/python3.10/dist-packages (from aiohttp->datasets) (4.0.2)\n",
            "Requirement already satisfied: yarl<2.0,>=1.0 in /usr/local/lib/python3.10/dist-packages (from aiohttp->datasets) (1.9.2)\n",
            "Requirement already satisfied: frozenlist>=1.1.1 in /usr/local/lib/python3.10/dist-packages (from aiohttp->datasets) (1.3.3)\n",
            "Requirement already satisfied: aiosignal>=1.1.2 in /usr/local/lib/python3.10/dist-packages (from aiohttp->datasets) (1.3.1)\n",
            "Requirement already satisfied: filelock in /usr/local/lib/python3.10/dist-packages (from huggingface-hub<1.0.0,>=0.11.0->datasets) (3.12.0)\n",
            "Requirement already satisfied: typing-extensions>=3.7.4.3 in /usr/local/lib/python3.10/dist-packages (from huggingface-hub<1.0.0,>=0.11.0->datasets) (4.5.0)\n",
            "Requirement already satisfied: urllib3<1.27,>=1.21.1 in /usr/local/lib/python3.10/dist-packages (from requests>=2.19.0->datasets) (1.26.15)\n",
            "Requirement already satisfied: certifi>=2017.4.17 in /usr/local/lib/python3.10/dist-packages (from requests>=2.19.0->datasets) (2022.12.7)\n",
            "Requirement already satisfied: idna<4,>=2.5 in /usr/local/lib/python3.10/dist-packages (from requests>=2.19.0->datasets) (3.4)\n",
            "Requirement already satisfied: python-dateutil>=2.8.1 in /usr/local/lib/python3.10/dist-packages (from pandas->datasets) (2.8.2)\n",
            "Requirement already satisfied: pytz>=2020.1 in /usr/local/lib/python3.10/dist-packages (from pandas->datasets) (2022.7.1)\n",
            "Requirement already satisfied: six>=1.5 in /usr/local/lib/python3.10/dist-packages (from python-dateutil>=2.8.1->pandas->datasets) (1.16.0)\n"
          ]
        }
      ]
    },
    {
      "cell_type": "code",
      "source": [
        "pip install tokenizers"
      ],
      "metadata": {
        "colab": {
          "base_uri": "https://localhost:8080/"
        },
        "id": "MHT_iPY45im_",
        "outputId": "6a419f4c-a241-4047-fb64-83ea72425bea"
      },
      "execution_count": null,
      "outputs": [
        {
          "output_type": "stream",
          "name": "stdout",
          "text": [
            "Looking in indexes: https://pypi.org/simple, https://us-python.pkg.dev/colab-wheels/public/simple/\n",
            "Requirement already satisfied: tokenizers in /usr/local/lib/python3.10/dist-packages (0.13.3)\n"
          ]
        }
      ]
    },
    {
      "cell_type": "code",
      "source": [
        "pip install transformers"
      ],
      "metadata": {
        "colab": {
          "base_uri": "https://localhost:8080/"
        },
        "id": "cYE5Axlw5ip3",
        "outputId": "af9fb363-cb85-410a-da49-b8df71d56576"
      },
      "execution_count": null,
      "outputs": [
        {
          "output_type": "stream",
          "name": "stdout",
          "text": [
            "Looking in indexes: https://pypi.org/simple, https://us-python.pkg.dev/colab-wheels/public/simple/\n",
            "Requirement already satisfied: transformers in /usr/local/lib/python3.10/dist-packages (4.29.2)\n",
            "Requirement already satisfied: filelock in /usr/local/lib/python3.10/dist-packages (from transformers) (3.12.0)\n",
            "Requirement already satisfied: huggingface-hub<1.0,>=0.14.1 in /usr/local/lib/python3.10/dist-packages (from transformers) (0.14.1)\n",
            "Requirement already satisfied: numpy>=1.17 in /usr/local/lib/python3.10/dist-packages (from transformers) (1.22.4)\n",
            "Requirement already satisfied: packaging>=20.0 in /usr/local/lib/python3.10/dist-packages (from transformers) (23.1)\n",
            "Requirement already satisfied: pyyaml>=5.1 in /usr/local/lib/python3.10/dist-packages (from transformers) (6.0)\n",
            "Requirement already satisfied: regex!=2019.12.17 in /usr/local/lib/python3.10/dist-packages (from transformers) (2022.10.31)\n",
            "Requirement already satisfied: requests in /usr/local/lib/python3.10/dist-packages (from transformers) (2.27.1)\n",
            "Requirement already satisfied: tokenizers!=0.11.3,<0.14,>=0.11.1 in /usr/local/lib/python3.10/dist-packages (from transformers) (0.13.3)\n",
            "Requirement already satisfied: tqdm>=4.27 in /usr/local/lib/python3.10/dist-packages (from transformers) (4.65.0)\n",
            "Requirement already satisfied: fsspec in /usr/local/lib/python3.10/dist-packages (from huggingface-hub<1.0,>=0.14.1->transformers) (2023.4.0)\n",
            "Requirement already satisfied: typing-extensions>=3.7.4.3 in /usr/local/lib/python3.10/dist-packages (from huggingface-hub<1.0,>=0.14.1->transformers) (4.5.0)\n",
            "Requirement already satisfied: urllib3<1.27,>=1.21.1 in /usr/local/lib/python3.10/dist-packages (from requests->transformers) (1.26.15)\n",
            "Requirement already satisfied: certifi>=2017.4.17 in /usr/local/lib/python3.10/dist-packages (from requests->transformers) (2022.12.7)\n",
            "Requirement already satisfied: charset-normalizer~=2.0.0 in /usr/local/lib/python3.10/dist-packages (from requests->transformers) (2.0.12)\n",
            "Requirement already satisfied: idna<4,>=2.5 in /usr/local/lib/python3.10/dist-packages (from requests->transformers) (3.4)\n"
          ]
        }
      ]
    },
    {
      "cell_type": "code",
      "source": [
        "pip install seqeval"
      ],
      "metadata": {
        "colab": {
          "base_uri": "https://localhost:8080/"
        },
        "id": "c9O2RAIf5ise",
        "outputId": "4588d4b5-4035-488d-ed9a-2a18b40e54ed"
      },
      "execution_count": null,
      "outputs": [
        {
          "output_type": "stream",
          "name": "stdout",
          "text": [
            "Looking in indexes: https://pypi.org/simple, https://us-python.pkg.dev/colab-wheels/public/simple/\n",
            "Requirement already satisfied: seqeval in /usr/local/lib/python3.10/dist-packages (1.2.2)\n",
            "Requirement already satisfied: numpy>=1.14.0 in /usr/local/lib/python3.10/dist-packages (from seqeval) (1.22.4)\n",
            "Requirement already satisfied: scikit-learn>=0.21.3 in /usr/local/lib/python3.10/dist-packages (from seqeval) (1.2.2)\n",
            "Requirement already satisfied: scipy>=1.3.2 in /usr/local/lib/python3.10/dist-packages (from scikit-learn>=0.21.3->seqeval) (1.10.1)\n",
            "Requirement already satisfied: joblib>=1.1.1 in /usr/local/lib/python3.10/dist-packages (from scikit-learn>=0.21.3->seqeval) (1.2.0)\n",
            "Requirement already satisfied: threadpoolctl>=2.0.0 in /usr/local/lib/python3.10/dist-packages (from scikit-learn>=0.21.3->seqeval) (3.1.0)\n"
          ]
        }
      ]
    },
    {
      "cell_type": "code",
      "source": [
        "from google.colab import drive\n",
        "drive.mount('/content/drive')"
      ],
      "metadata": {
        "colab": {
          "base_uri": "https://localhost:8080/"
        },
        "id": "I-pcP5pF6XJp",
        "outputId": "0ccf7c2f-89a5-43c1-b4f7-5c8ff679787d"
      },
      "execution_count": null,
      "outputs": [
        {
          "output_type": "stream",
          "name": "stdout",
          "text": [
            "Drive already mounted at /content/drive; to attempt to forcibly remount, call drive.mount(\"/content/drive\", force_remount=True).\n"
          ]
        }
      ]
    },
    {
      "cell_type": "code",
      "source": [
        "!ls '/content/drive/MyDrive/Colab Notebooks'"
      ],
      "metadata": {
        "colab": {
          "base_uri": "https://localhost:8080/"
        },
        "id": "a7pSVWsv6XTu",
        "outputId": "faa9175f-8308-48ec-d30d-2886bda9cb25"
      },
      "execution_count": null,
      "outputs": [
        {
          "output_type": "stream",
          "name": "stdout",
          "text": [
            " ai4bharat-IndicNER.ipynb\t        Hello2\n",
            " Annotated_corpus.ipynb\t\t        Hello3\n",
            "'annotated dataset full.csv'\t        indic-transformers-bn-bert.ipynb\n",
            "'annotated dataset full new.csv'        monsoon-nlp-bangla-electra.ipynb\n",
            " bert-base-multilingual-cased.ipynb     ner_all_tokens_vocab.txt\n",
            "'Bi-LSTM with CRF for NER.ipynb'        Ner_Bert1.ipynb\n",
            "'BLNERC dataset.json'\t\t        ner_dataset_sample.json\n",
            " BLNERC_dataset.json\t\t        ner_token_id_name.pkl\n",
            "'Copy of Welcome to Colaboratory'      'NER using Random Forest and CRF.ipynb'\n",
            "'Copy of Welcome to Colaboratory (1)'   neuralspace-reverie\n",
            " csvtojson.ipynb\t\t        sagorsarker-bangla-bert-base.ipynb\n",
            "'dataset statistics.ipynb'\t        Untitled0.ipynb\n",
            " eda_cleaning.ipynb\t\t        Untitled2.ipynb\n"
          ]
        }
      ]
    },
    {
      "cell_type": "code",
      "source": [
        "import os\n",
        "os.chdir(\"/content/drive/MyDrive/Colab Notebooks\")"
      ],
      "metadata": {
        "id": "SH0Wiz6O6XXM"
      },
      "execution_count": null,
      "outputs": []
    },
    {
      "cell_type": "code",
      "execution_count": null,
      "metadata": {
        "colab": {
          "base_uri": "https://localhost:8080/"
        },
        "execution": {
          "iopub.execute_input": "2023-01-12T22:32:49.572723Z",
          "iopub.status.busy": "2023-01-12T22:32:49.572477Z",
          "iopub.status.idle": "2023-01-12T22:32:57.922922Z",
          "shell.execute_reply": "2023-01-12T22:32:57.922210Z",
          "shell.execute_reply.started": "2023-01-12T22:32:49.572678Z"
        },
        "id": "QmEN0FAGtLVR",
        "outputId": "168c7f73-c0cd-401b-e46b-8d4bd8df88ac"
      },
      "outputs": [
        {
          "output_type": "stream",
          "name": "stderr",
          "text": [
            "<ipython-input-8-9a9bb19245b7>:3: FutureWarning: load_metric is deprecated and will be removed in the next major version of datasets. Use 'evaluate.load' instead, from the new library 🤗 Evaluate: https://huggingface.co/docs/evaluate\n",
            "  metric = load_metric(\"seqeval\")\n"
          ]
        }
      ],
      "source": [
        "from datasets import load_metric\n",
        "import numpy as np\n",
        "metric = load_metric(\"seqeval\")\n",
        "import json"
      ]
    },
    {
      "cell_type": "code",
      "execution_count": null,
      "metadata": {
        "execution": {
          "iopub.execute_input": "2023-01-12T22:32:57.924933Z",
          "iopub.status.busy": "2023-01-12T22:32:57.924730Z",
          "iopub.status.idle": "2023-01-12T22:32:57.933999Z",
          "shell.execute_reply": "2023-01-12T22:32:57.933241Z",
          "shell.execute_reply.started": "2023-01-12T22:32:57.924907Z"
        },
        "id": "VNrO-raB08te"
      },
      "outputs": [],
      "source": [
        "import pickle\n",
        "\n",
        "with open('ner_token_id_name.pkl', 'rb') as f:\n",
        "    label_list = pickle.load(f)"
      ]
    },
    {
      "cell_type": "code",
      "execution_count": null,
      "metadata": {
        "colab": {
          "base_uri": "https://localhost:8080/"
        },
        "execution": {
          "iopub.execute_input": "2023-01-12T22:32:57.935486Z",
          "iopub.status.busy": "2023-01-12T22:32:57.935070Z",
          "iopub.status.idle": "2023-01-12T22:32:57.945694Z",
          "shell.execute_reply": "2023-01-12T22:32:57.944707Z",
          "shell.execute_reply.started": "2023-01-12T22:32:57.935421Z"
        },
        "id": "--zaTSoS08tf",
        "outputId": "1bfff2f0-8090-4184-c91b-11b92bc307c5"
      },
      "outputs": [
        {
          "output_type": "execute_result",
          "data": {
            "text/plain": [
              "{0: 'O',\n",
              " 1: 'B-PER',\n",
              " 2: 'B-LOC',\n",
              " 3: 'B-ORG',\n",
              " 4: 'B-TIM',\n",
              " 5: 'I-PER',\n",
              " 6: 'I-LOC',\n",
              " 7: 'I-ORG',\n",
              " 8: 'I-TIM'}"
            ]
          },
          "metadata": {},
          "execution_count": 10
        }
      ],
      "source": [
        "label_list"
      ]
    },
    {
      "cell_type": "code",
      "execution_count": null,
      "metadata": {
        "execution": {
          "iopub.execute_input": "2023-01-12T22:32:57.947301Z",
          "iopub.status.busy": "2023-01-12T22:32:57.947032Z",
          "iopub.status.idle": "2023-01-12T22:32:57.956460Z",
          "shell.execute_reply": "2023-01-12T22:32:57.955682Z",
          "shell.execute_reply.started": "2023-01-12T22:32:57.947266Z"
        },
        "id": "UmvbnJ9JIrJd"
      },
      "outputs": [],
      "source": [
        "def compute_metrics(p):\n",
        "    predictions, labels = p\n",
        "    predictions = np.argmax(predictions, axis=2)\n",
        "    true_predictions = [\n",
        "        [label_list[p] for (p, l) in zip(prediction, label) if l != -100]\n",
        "        for prediction, label in zip(predictions, labels)\n",
        "    ]\n",
        "    true_labels = [\n",
        "        [label_list[l] for (p, l) in zip(prediction, label) if l != -100]\n",
        "        for prediction, label in zip(predictions, labels)\n",
        "    ]\n",
        "    results = metric.compute(predictions=true_predictions, references=true_labels)\n",
        "    return {\n",
        "        \"precision\": results[\"overall_precision\"],\n",
        "        \"recall\": results[\"overall_recall\"],\n",
        "        \"f1\": results[\"overall_f1\"],\n",
        "        \"accuracy\": results[\"overall_accuracy\"],\n",
        "    }"
      ]
    },
    {
      "cell_type": "code",
      "execution_count": null,
      "metadata": {
        "execution": {
          "iopub.execute_input": "2023-01-12T22:32:57.957911Z",
          "iopub.status.busy": "2023-01-12T22:32:57.957499Z",
          "iopub.status.idle": "2023-01-12T22:32:57.967265Z",
          "shell.execute_reply": "2023-01-12T22:32:57.966535Z",
          "shell.execute_reply.started": "2023-01-12T22:32:57.957875Z"
        },
        "id": "K5yMmKdy08tg"
      },
      "outputs": [],
      "source": [
        "def tokenize_and_align_labels(examples, label_all_tokens = True):\n",
        "    tokenized_inputs = tokenizer(examples[\"tokens\"], truncation=True, is_split_into_words=True, max_length=512)\n",
        "    labels = []\n",
        "    for i, label in enumerate(examples[\"ner_tags\"]):\n",
        "        word_ids = tokenized_inputs.word_ids(batch_index=i)\n",
        "        previous_word_idx = None\n",
        "        label_ids = []\n",
        "        for word_idx in word_ids:\n",
        "            if word_idx is None:\n",
        "                label_ids.append(-100)\n",
        "            elif word_idx != previous_word_idx:\n",
        "                label_ids.append(label[word_idx])\n",
        "            else:\n",
        "                label_ids.append(label[word_idx] if label_all_tokens else -100)\n",
        "            previous_word_idx = word_idx\n",
        "        labels.append(label_ids)\n",
        "    tokenized_inputs[\"labels\"] = labels\n",
        "    print(len(examples))\n",
        "    return tokenized_inputs"
      ]
    },
    {
      "cell_type": "markdown",
      "metadata": {
        "id": "QrsUhZca08th"
      },
      "source": [
        "## Load Dataset"
      ]
    },
    {
      "cell_type": "code",
      "execution_count": null,
      "metadata": {
        "execution": {
          "iopub.execute_input": "2023-01-12T22:32:57.969068Z",
          "iopub.status.busy": "2023-01-12T22:32:57.968229Z",
          "iopub.status.idle": "2023-01-12T22:32:57.983289Z",
          "shell.execute_reply": "2023-01-12T22:32:57.982561Z",
          "shell.execute_reply.started": "2023-01-12T22:32:57.969008Z"
        },
        "id": "o60-USr408th"
      },
      "outputs": [],
      "source": [
        "from datasets import Sequence"
      ]
    },
    {
      "cell_type": "code",
      "execution_count": null,
      "metadata": {
        "execution": {
          "iopub.execute_input": "2023-01-12T22:32:57.985015Z",
          "iopub.status.busy": "2023-01-12T22:32:57.984755Z",
          "iopub.status.idle": "2023-01-12T22:32:57.992153Z",
          "shell.execute_reply": "2023-01-12T22:32:57.991377Z",
          "shell.execute_reply.started": "2023-01-12T22:32:57.984982Z"
        },
        "id": "jo6WtaKK08ti"
      },
      "outputs": [],
      "source": [
        "from datasets import Dataset, load_dataset"
      ]
    },
    {
      "cell_type": "code",
      "execution_count": null,
      "metadata": {
        "colab": {
          "base_uri": "https://localhost:8080/",
          "height": 86,
          "referenced_widgets": [
            "ec34165a6b664bc2aafccbbc2844afef",
            "a8935090aabb4a3e983f0a673399e83b",
            "d1f6034f166e45739601f9ef5265c1ae",
            "20f3ce43b923408588a8feeba0d6cef4",
            "9169ded0bac94308b20fe7e4bbebbe03",
            "f959db11e7b14021b3d29ab5bf8bbf61",
            "7201e0fe01184f16b015b57caa790a5a",
            "3d8ed14c30374b22aefb105ad6f81ed1",
            "3815345814ea448dbcaad069a9368ea8",
            "f5cb206caa614ffdac7d4cbf5012d9e6",
            "0f71a86b66b2402589e8e55711210096"
          ]
        },
        "execution": {
          "iopub.execute_input": "2023-01-12T22:32:57.996727Z",
          "iopub.status.busy": "2023-01-12T22:32:57.996486Z",
          "iopub.status.idle": "2023-01-12T22:32:59.522293Z",
          "shell.execute_reply": "2023-01-12T22:32:59.521591Z",
          "shell.execute_reply.started": "2023-01-12T22:32:57.996692Z"
        },
        "id": "bvOqjqnm08ti",
        "outputId": "1ccfd26c-eb0f-4f93-8508-2c15a48860f5"
      },
      "outputs": [
        {
          "output_type": "stream",
          "name": "stderr",
          "text": [
            "WARNING:datasets.builder:Found cached dataset json (/root/.cache/huggingface/datasets/json/default-809b4aa9056f852c/0.0.0/e347ab1c932092252e717ff3f949105a4dd28b27e842dd53157d2f72e276c2e4)\n"
          ]
        },
        {
          "output_type": "display_data",
          "data": {
            "text/plain": [
              "  0%|          | 0/1 [00:00<?, ?it/s]"
            ],
            "application/vnd.jupyter.widget-view+json": {
              "version_major": 2,
              "version_minor": 0,
              "model_id": "ec34165a6b664bc2aafccbbc2844afef"
            }
          },
          "metadata": {}
        }
      ],
      "source": [
        "train_dataset = load_dataset(\"json\", data_files={'train': \"BLNERC dataset.json\"}, field ='train')"
      ]
    },
    {
      "cell_type": "code",
      "execution_count": null,
      "metadata": {
        "colab": {
          "base_uri": "https://localhost:8080/"
        },
        "execution": {
          "iopub.execute_input": "2023-01-12T22:32:59.524216Z",
          "iopub.status.busy": "2023-01-12T22:32:59.523732Z",
          "iopub.status.idle": "2023-01-12T22:32:59.530276Z",
          "shell.execute_reply": "2023-01-12T22:32:59.529398Z",
          "shell.execute_reply.started": "2023-01-12T22:32:59.524157Z"
        },
        "id": "SOld4HEy08tj",
        "outputId": "61423264-4143-42f7-eb17-0c0d2720bbac"
      },
      "outputs": [
        {
          "output_type": "execute_result",
          "data": {
            "text/plain": [
              "DatasetDict({\n",
              "    train: Dataset({\n",
              "        features: ['tokens', 'ner_tags'],\n",
              "        num_rows: 23703\n",
              "    })\n",
              "})"
            ]
          },
          "metadata": {},
          "execution_count": 16
        }
      ],
      "source": [
        "train_dataset"
      ]
    },
    {
      "cell_type": "code",
      "execution_count": null,
      "metadata": {
        "colab": {
          "base_uri": "https://localhost:8080/"
        },
        "execution": {
          "iopub.execute_input": "2023-01-12T22:32:59.532133Z",
          "iopub.status.busy": "2023-01-12T22:32:59.531480Z",
          "iopub.status.idle": "2023-01-12T22:32:59.541547Z",
          "shell.execute_reply": "2023-01-12T22:32:59.540716Z",
          "shell.execute_reply.started": "2023-01-12T22:32:59.532097Z"
        },
        "id": "Tpk8h-WI08tj",
        "outputId": "f85f4ed0-01c9-4590-fb16-51ae0860e3b7"
      },
      "outputs": [
        {
          "output_type": "execute_result",
          "data": {
            "text/plain": [
              "<map at 0x7f21424ac190>"
            ]
          },
          "metadata": {},
          "execution_count": 17
        }
      ],
      "source": [
        "map(lambda x: None if x in none_items else x, train_dataset)"
      ]
    },
    {
      "cell_type": "code",
      "execution_count": null,
      "metadata": {
        "colab": {
          "base_uri": "https://localhost:8080/",
          "height": 86,
          "referenced_widgets": [
            "71f97e0313d4483aa2aa4ce38cbbf8a3",
            "268ff3cd2a7848ee83ecbdaf9f4285c2",
            "b510992d349d447bb1757476755f8de1",
            "66752dfcca5549ad933d8aacba521c53",
            "fcf247caf6cc4134b0ee2f0d218058ed",
            "4bb013b7a2b44e0c8d428ed3ee797e99",
            "69914beff2a5453098ded796e9b9da3d",
            "71da3eca2b7f4dfbb4794134f3e65557",
            "fd8c3ab8c6574e739a4ffcf79fd4e33c",
            "dbe9bdefed484651b80f45e44ae5f164",
            "8480b4a5b07244b7a0e9e5206c9cdfdd"
          ]
        },
        "execution": {
          "iopub.execute_input": "2023-01-12T22:32:59.543433Z",
          "iopub.status.busy": "2023-01-12T22:32:59.542774Z",
          "iopub.status.idle": "2023-01-12T22:33:00.642474Z",
          "shell.execute_reply": "2023-01-12T22:33:00.641755Z",
          "shell.execute_reply.started": "2023-01-12T22:32:59.543398Z"
        },
        "id": "17Rcuq_K08tk",
        "outputId": "4e2f9e75-892d-49ba-f8fd-5c6216f9f409"
      },
      "outputs": [
        {
          "output_type": "stream",
          "name": "stderr",
          "text": [
            "WARNING:datasets.builder:Found cached dataset json (/root/.cache/huggingface/datasets/json/default-69e12f8f435b1588/0.0.0/e347ab1c932092252e717ff3f949105a4dd28b27e842dd53157d2f72e276c2e4)\n"
          ]
        },
        {
          "output_type": "display_data",
          "data": {
            "text/plain": [
              "  0%|          | 0/1 [00:00<?, ?it/s]"
            ],
            "application/vnd.jupyter.widget-view+json": {
              "version_major": 2,
              "version_minor": 0,
              "model_id": "71f97e0313d4483aa2aa4ce38cbbf8a3"
            }
          },
          "metadata": {}
        }
      ],
      "source": [
        "test_dataset = load_dataset(\"json\", data_files={'test': \"BLNERC dataset.json\"}, field ='test')"
      ]
    },
    {
      "cell_type": "code",
      "execution_count": null,
      "metadata": {
        "colab": {
          "base_uri": "https://localhost:8080/",
          "height": 86,
          "referenced_widgets": [
            "85e3e3ec99704c94b765ddd702bc3a44",
            "292891dec1284e309e34546c4615782c",
            "8c32b51b41a0414386e7cd6799c65ad7",
            "4598d515629644a5b29556c06e535bb4",
            "32d631cfc7f94452a43d2ce396146640",
            "9ee00ebd50d54e248caabd19467a8aae",
            "b73cf96c6f354e218a901fd6e13a008a",
            "ff26b42c8dcb43de93671d1eada34009",
            "4ac9973cd65e4180ac401727c949732b",
            "f780b877ecc24a17b1b559552fa27323",
            "75a06a747ba94eddba5afa9cc344c438"
          ]
        },
        "execution": {
          "iopub.execute_input": "2023-01-12T22:33:00.644348Z",
          "iopub.status.busy": "2023-01-12T22:33:00.643866Z",
          "iopub.status.idle": "2023-01-12T22:33:01.560326Z",
          "shell.execute_reply": "2023-01-12T22:33:01.559599Z",
          "shell.execute_reply.started": "2023-01-12T22:33:00.644307Z"
        },
        "id": "IrYT3z0_08tk",
        "outputId": "168bde68-669e-465f-bfa9-e5f2ed920815"
      },
      "outputs": [
        {
          "output_type": "stream",
          "name": "stderr",
          "text": [
            "WARNING:datasets.builder:Found cached dataset json (/root/.cache/huggingface/datasets/json/default-79086a5edef7c72e/0.0.0/e347ab1c932092252e717ff3f949105a4dd28b27e842dd53157d2f72e276c2e4)\n"
          ]
        },
        {
          "output_type": "display_data",
          "data": {
            "text/plain": [
              "  0%|          | 0/1 [00:00<?, ?it/s]"
            ],
            "application/vnd.jupyter.widget-view+json": {
              "version_major": 2,
              "version_minor": 0,
              "model_id": "85e3e3ec99704c94b765ddd702bc3a44"
            }
          },
          "metadata": {}
        }
      ],
      "source": [
        "validation_dataset = load_dataset(\"json\", data_files={'validation': \"BLNERC dataset.json\"}, field ='validation')"
      ]
    },
    {
      "cell_type": "markdown",
      "metadata": {
        "id": "rhN7OSOl08tk"
      },
      "source": [
        "## Make tokenizer"
      ]
    },
    {
      "cell_type": "code",
      "execution_count": null,
      "metadata": {
        "execution": {
          "iopub.execute_input": "2023-01-12T22:33:01.562175Z",
          "iopub.status.busy": "2023-01-12T22:33:01.561496Z",
          "iopub.status.idle": "2023-01-12T22:33:01.572143Z",
          "shell.execute_reply": "2023-01-12T22:33:01.571365Z",
          "shell.execute_reply.started": "2023-01-12T22:33:01.562134Z"
        },
        "id": "E724ha7c08tl"
      },
      "outputs": [],
      "source": [
        "def build_fast_bert_tokenizer(files, max_vocab_size):\n",
        "    from tokenizers import decoders, models, normalizers, pre_tokenizers, processors, trainers, Tokenizer\n",
        "\n",
        "    from transformers import BertTokenizerFast, AutoTokenizer, DistilBertTokenizerFast\n",
        "    assert isinstance(files, list)\n",
        "    tokenizer = Tokenizer(models.WordPiece(unk_token=\"[UNK]\"))\n",
        "    tokenizer.normalizer = normalizers.Sequence(\n",
        "        [normalizers.NFD(), normalizers.Lowercase()]\n",
        "    )\n",
        "    tokenizer.pre_tokenizer = pre_tokenizers.BertPreTokenizer()\n",
        "    special_tokens = [\"[UNK]\", \"[PAD]\", \"[CLS]\", \"[SEP]\", \"[MASK]\"]\n",
        "    trainer = trainers.WordPieceTrainer(vocab_size=max_vocab_size, special_tokens=special_tokens)\n",
        "    tokenizer.train(files=files, trainer=trainer)\n",
        "    cls_token_id = tokenizer.token_to_id(\"[CLS]\")\n",
        "    sep_token_id = tokenizer.token_to_id(\"[SEP]\")\n",
        "    tokenizer.post_processor = processors.TemplateProcessing(\n",
        "        single=f\"[CLS]:0 $A:0 [SEP]:0\",\n",
        "        pair=f\"[CLS]:0 $A:0 [SEP]:0 $B:1 [SEP]:1\",\n",
        "        special_tokens=[\n",
        "            (\"[CLS]\", cls_token_id),\n",
        "            (\"[SEP]\", sep_token_id),\n",
        "        ],\n",
        "    )\n",
        "    tokenizer.decoder = decoders.WordPiece(prefix=\"##\")\n",
        "    return BertTokenizerFast(tokenizer_object=tokenizer)"
      ]
    },
    {
      "cell_type": "code",
      "execution_count": null,
      "metadata": {
        "execution": {
          "iopub.execute_input": "2023-01-12T22:33:01.573826Z",
          "iopub.status.busy": "2023-01-12T22:33:01.573402Z",
          "iopub.status.idle": "2023-01-12T22:33:04.184686Z",
          "shell.execute_reply": "2023-01-12T22:33:04.182718Z",
          "shell.execute_reply.started": "2023-01-12T22:33:01.573786Z"
        },
        "id": "jPUD_GxQ08tl"
      },
      "outputs": [],
      "source": [
        "tokenizer = build_fast_bert_tokenizer([\"ner_all_tokens_vocab.txt\"], 16000)"
      ]
    },
    {
      "cell_type": "code",
      "execution_count": null,
      "metadata": {
        "colab": {
          "base_uri": "https://localhost:8080/"
        },
        "execution": {
          "iopub.execute_input": "2023-01-12T22:33:04.186288Z",
          "iopub.status.busy": "2023-01-12T22:33:04.185975Z",
          "iopub.status.idle": "2023-01-12T22:33:04.194023Z",
          "shell.execute_reply": "2023-01-12T22:33:04.193211Z",
          "shell.execute_reply.started": "2023-01-12T22:33:04.186236Z"
        },
        "id": "GIbQAVfY08tm",
        "outputId": "ca2bf1bb-5a6d-4a6d-aa9d-88cf62daf2e4"
      },
      "outputs": [
        {
          "output_type": "execute_result",
          "data": {
            "text/plain": [
              "['[CLS]', 'মনির', 'ঢাকায়', 'থাকে', '[SEP]']"
            ]
          },
          "metadata": {},
          "execution_count": 22
        }
      ],
      "source": [
        "tokenizer(\"মনির ঢাকায় থাকে\").tokens()"
      ]
    },
    {
      "cell_type": "code",
      "execution_count": null,
      "metadata": {
        "colab": {
          "base_uri": "https://localhost:8080/",
          "height": 36
        },
        "execution": {
          "iopub.execute_input": "2023-01-12T22:33:04.196354Z",
          "iopub.status.busy": "2023-01-12T22:33:04.195394Z",
          "iopub.status.idle": "2023-01-12T22:33:05.428990Z",
          "shell.execute_reply": "2023-01-12T22:33:05.428139Z",
          "shell.execute_reply.started": "2023-01-12T22:33:04.196311Z"
        },
        "id": "DD8zOjNF08tn",
        "outputId": "538776a8-ab86-4787-db1e-1997222252a4"
      },
      "outputs": [
        {
          "output_type": "execute_result",
          "data": {
            "text/plain": [
              "'[CLS] [UNK] _ [UNK] [UNK] [UNK] [UNK] [UNK] [UNK]!! [SEP]'"
            ],
            "application/vnd.google.colaboratory.intrinsic+json": {
              "type": "string"
            }
          },
          "metadata": {},
          "execution_count": 23
        }
      ],
      "source": [
        "tokenizer.decode(tokenizer(\"b_ner on the way to train!!\")[\"input_ids\"])"
      ]
    },
    {
      "cell_type": "code",
      "execution_count": null,
      "metadata": {
        "colab": {
          "base_uri": "https://localhost:8080/"
        },
        "execution": {
          "iopub.execute_input": "2023-01-12T22:33:05.430837Z",
          "iopub.status.busy": "2023-01-12T22:33:05.430573Z",
          "iopub.status.idle": "2023-01-12T22:33:05.437067Z",
          "shell.execute_reply": "2023-01-12T22:33:05.436329Z",
          "shell.execute_reply.started": "2023-01-12T22:33:05.430801Z"
        },
        "id": "Sl4tr10o08tn",
        "outputId": "cc5deb08-486b-4736-ea7f-23541b3ad909"
      },
      "outputs": [
        {
          "output_type": "execute_result",
          "data": {
            "text/plain": [
              "['[CLS]', 'মনির', 'ঢাকায়', 'থাকে', '[SEP]']"
            ]
          },
          "metadata": {},
          "execution_count": 24
        }
      ],
      "source": [
        "tokenizer(\"মনির ঢাকায় থাকে\").tokens()"
      ]
    },
    {
      "cell_type": "code",
      "execution_count": null,
      "metadata": {
        "colab": {
          "base_uri": "https://localhost:8080/"
        },
        "execution": {
          "iopub.execute_input": "2023-01-12T22:33:05.438871Z",
          "iopub.status.busy": "2023-01-12T22:33:05.438287Z",
          "iopub.status.idle": "2023-01-12T22:33:05.484064Z",
          "shell.execute_reply": "2023-01-12T22:33:05.483288Z",
          "shell.execute_reply.started": "2023-01-12T22:33:05.438835Z"
        },
        "id": "IfLKtPDf08to",
        "outputId": "236de967-3688-4b8e-ac31-6867bbe0c039"
      },
      "outputs": [
        {
          "output_type": "execute_result",
          "data": {
            "text/plain": [
              "16000"
            ]
          },
          "metadata": {},
          "execution_count": 25
        }
      ],
      "source": [
        "len(tokenizer.vocab)"
      ]
    },
    {
      "cell_type": "markdown",
      "metadata": {
        "id": "mFRqEwKv08tp"
      },
      "source": [
        "## Data Collator"
      ]
    },
    {
      "cell_type": "code",
      "execution_count": null,
      "metadata": {
        "execution": {
          "iopub.execute_input": "2023-01-12T22:33:05.486139Z",
          "iopub.status.busy": "2023-01-12T22:33:05.485626Z",
          "iopub.status.idle": "2023-01-12T22:33:05.492826Z",
          "shell.execute_reply": "2023-01-12T22:33:05.492137Z",
          "shell.execute_reply.started": "2023-01-12T22:33:05.486103Z"
        },
        "id": "5vxOy1kK08tp"
      },
      "outputs": [],
      "source": [
        "batch_size = 16"
      ]
    },
    {
      "cell_type": "code",
      "execution_count": null,
      "metadata": {
        "execution": {
          "iopub.execute_input": "2023-01-12T22:33:05.494670Z",
          "iopub.status.busy": "2023-01-12T22:33:05.494062Z",
          "iopub.status.idle": "2023-01-12T22:33:05.582802Z",
          "shell.execute_reply": "2023-01-12T22:33:05.582103Z",
          "shell.execute_reply.started": "2023-01-12T22:33:05.494632Z"
        },
        "id": "0WQNQWWktLVR"
      },
      "outputs": [],
      "source": [
        "from transformers import DataCollatorForTokenClassification\n",
        "data_collator = DataCollatorForTokenClassification(tokenizer)"
      ]
    },
    {
      "cell_type": "code",
      "execution_count": null,
      "metadata": {
        "colab": {
          "base_uri": "https://localhost:8080/",
          "height": 538,
          "referenced_widgets": [
            "a71b0abfad1b459f81e7ab872d4520c5",
            "2deadd4492b1401091a6fa9d25b7c5c5",
            "9987b421ab184cbe99aad6d1fff33669",
            "dc68573e53da420089c148dfcbdd2ff5",
            "1cfae953ac2641e3afa81a74de41584f",
            "f8ed665c3cdb4e55a3009dc74287ca61",
            "40956bbe717847bd8971a99c6d504322",
            "2b6ce6ec7511460082002956583daaa0",
            "e2352f8aa6274f1ca97dbb39d1d57b7e",
            "cd993c2bcb2b40fc9b530afa639c066d",
            "c3f823edb65e4df89b94dfda3ac1d583",
            "03a4a5a8ef9c44b3be036e957575cd0f",
            "5317ebfeaa814572a2e4ae62eb2082df",
            "55ff9ec052ef4064817717dac8478ee3",
            "ab29c4eef41e4b29b0f04cfdcc29a278",
            "72f0a8b7577f435383bab604af7da4d9",
            "8c044b04b58f43808d0ae054ab780a76",
            "3db3b45c77bc4850a1392f28f8d59561",
            "3a07084092644051b048ead3aab52590",
            "c11eee22372f4ea5a191c0c2415d83fc",
            "a60920f5628c49be86513d9151dcf8ea",
            "a681bb4ffb1f425f98ba92f64dd34ec3",
            "c33928d1aaa84dc19863bf5769386492",
            "012e550ed5ad4ba4aacfe70b8ea650bf",
            "cf4d4ccbe0a5453d80ea60662a34cbbc",
            "f202e243b31f4f7a888ca3d8300c226b",
            "e976a3e9b27a4454b347b813f4d35117",
            "14e40bc60bc3413da96531913ce884a4",
            "49856ad86a5b4e5c91b794f964731051",
            "a29ec2b1c86449b89a663c1d03aa9120",
            "bba478abe1304346a2d9d7bc3d047a4b",
            "28dda324e05e4011ad0d7ec2f8dcc445",
            "10c461f108d1438dbca0106646ef8392"
          ]
        },
        "execution": {
          "iopub.execute_input": "2023-01-12T22:33:05.584345Z",
          "iopub.status.busy": "2023-01-12T22:33:05.584085Z",
          "iopub.status.idle": "2023-01-12T22:33:12.009000Z",
          "shell.execute_reply": "2023-01-12T22:33:12.008340Z",
          "shell.execute_reply.started": "2023-01-12T22:33:05.584312Z"
        },
        "id": "oSQD6mbr08tq",
        "outputId": "ba5ad56e-5e0a-4fd4-c72f-8fe10d8c5fce"
      },
      "outputs": [
        {
          "output_type": "display_data",
          "data": {
            "text/plain": [
              "Map:   0%|          | 0/23703 [00:00<?, ? examples/s]"
            ],
            "application/vnd.jupyter.widget-view+json": {
              "version_major": 2,
              "version_minor": 0,
              "model_id": "a71b0abfad1b459f81e7ab872d4520c5"
            }
          },
          "metadata": {}
        },
        {
          "output_type": "stream",
          "name": "stdout",
          "text": [
            "2\n",
            "2\n",
            "2\n",
            "2\n",
            "2\n",
            "2\n",
            "2\n",
            "2\n",
            "2\n",
            "2\n",
            "2\n",
            "2\n",
            "2\n",
            "2\n",
            "2\n",
            "2\n",
            "2\n",
            "2\n",
            "2\n",
            "2\n",
            "2\n",
            "2\n",
            "2\n",
            "2\n"
          ]
        },
        {
          "output_type": "display_data",
          "data": {
            "text/plain": [
              "Map:   0%|          | 0/2963 [00:00<?, ? examples/s]"
            ],
            "application/vnd.jupyter.widget-view+json": {
              "version_major": 2,
              "version_minor": 0,
              "model_id": "03a4a5a8ef9c44b3be036e957575cd0f"
            }
          },
          "metadata": {}
        },
        {
          "output_type": "stream",
          "name": "stdout",
          "text": [
            "2\n",
            "2\n",
            "2\n"
          ]
        },
        {
          "output_type": "display_data",
          "data": {
            "text/plain": [
              "Map:   0%|          | 0/2967 [00:00<?, ? examples/s]"
            ],
            "application/vnd.jupyter.widget-view+json": {
              "version_major": 2,
              "version_minor": 0,
              "model_id": "c33928d1aaa84dc19863bf5769386492"
            }
          },
          "metadata": {}
        },
        {
          "output_type": "stream",
          "name": "stdout",
          "text": [
            "2\n",
            "2\n",
            "2\n"
          ]
        }
      ],
      "source": [
        "train_ds = train_dataset.map(tokenize_and_align_labels, batched=True)\n",
        "test_ds = test_dataset.map(tokenize_and_align_labels, batched=True)\n",
        "validation_ds = validation_dataset.map(tokenize_and_align_labels, batched=True)"
      ]
    },
    {
      "cell_type": "code",
      "execution_count": null,
      "metadata": {
        "colab": {
          "base_uri": "https://localhost:8080/"
        },
        "execution": {
          "iopub.execute_input": "2023-01-12T22:33:12.012589Z",
          "iopub.status.busy": "2023-01-12T22:33:12.010159Z",
          "iopub.status.idle": "2023-01-12T22:33:12.017574Z",
          "shell.execute_reply": "2023-01-12T22:33:12.016577Z",
          "shell.execute_reply.started": "2023-01-12T22:33:12.012549Z"
        },
        "id": "L8d3h0jQ08tq",
        "outputId": "a0e16304-2fc9-4731-c314-129ac7d240e9"
      },
      "outputs": [
        {
          "output_type": "execute_result",
          "data": {
            "text/plain": [
              "DatasetDict({\n",
              "    validation: Dataset({\n",
              "        features: ['tokens', 'ner_tags'],\n",
              "        num_rows: 2967\n",
              "    })\n",
              "})"
            ]
          },
          "metadata": {},
          "execution_count": 29
        }
      ],
      "source": [
        "validation_dataset"
      ]
    },
    {
      "cell_type": "markdown",
      "metadata": {
        "id": "FqMzVY-P08tq"
      },
      "source": [
        "## Train"
      ]
    },
    {
      "cell_type": "code",
      "execution_count": null,
      "metadata": {
        "execution": {
          "iopub.execute_input": "2023-01-12T22:33:12.019617Z",
          "iopub.status.busy": "2023-01-12T22:33:12.019069Z",
          "iopub.status.idle": "2023-01-12T22:33:12.037537Z",
          "shell.execute_reply": "2023-01-12T22:33:12.036904Z",
          "shell.execute_reply.started": "2023-01-12T22:33:12.019570Z"
        },
        "id": "AemWEYiG08tq"
      },
      "outputs": [],
      "source": [
        "from transformers import TrainingArguments"
      ]
    },
    {
      "cell_type": "code",
      "execution_count": null,
      "metadata": {
        "colab": {
          "base_uri": "https://localhost:8080/"
        },
        "execution": {
          "iopub.execute_input": "2023-01-12T22:33:12.038952Z",
          "iopub.status.busy": "2023-01-12T22:33:12.038706Z",
          "iopub.status.idle": "2023-01-12T22:33:50.145041Z",
          "shell.execute_reply": "2023-01-12T22:33:50.144321Z",
          "shell.execute_reply.started": "2023-01-12T22:33:12.038919Z"
        },
        "id": "qJEPeuAP08tr",
        "outputId": "cf7f258a-8e78-408b-b1f9-c03f85746e55"
      },
      "outputs": [
        {
          "output_type": "stream",
          "name": "stderr",
          "text": [
            "You are using a model of type electra to instantiate a model of type bert. This is not supported for all configurations of models and can yield errors.\n",
            "Some weights of the model checkpoint at monsoon-nlp/bangla-electra were not used when initializing BertForTokenClassification: ['discriminator_predictions.dense_prediction.bias', 'electra.encoder.layer.9.output.LayerNorm.bias', 'electra.encoder.layer.6.attention.self.key.weight', 'electra.encoder.layer.6.attention.self.value.bias', 'electra.encoder.layer.10.attention.self.value.bias', 'electra.encoder.layer.4.intermediate.dense.bias', 'electra.encoder.layer.6.attention.self.value.weight', 'electra.encoder.layer.11.attention.self.key.bias', 'electra.encoder.layer.10.attention.output.LayerNorm.weight', 'electra.encoder.layer.8.attention.output.dense.weight', 'electra.encoder.layer.0.output.LayerNorm.weight', 'electra.encoder.layer.5.attention.output.LayerNorm.bias', 'electra.encoder.layer.2.attention.self.value.weight', 'electra.encoder.layer.11.attention.self.query.weight', 'electra.encoder.layer.3.attention.self.value.weight', 'electra.encoder.layer.7.output.LayerNorm.bias', 'electra.embeddings.word_embeddings.weight', 'electra.encoder.layer.4.attention.self.query.bias', 'electra.encoder.layer.11.output.dense.weight', 'electra.encoder.layer.5.attention.output.dense.bias', 'electra.encoder.layer.5.attention.self.query.bias', 'discriminator_predictions.dense.weight', 'electra.encoder.layer.7.intermediate.dense.weight', 'electra.encoder.layer.6.attention.output.dense.weight', 'electra.encoder.layer.9.output.dense.bias', 'electra.encoder.layer.6.attention.self.key.bias', 'electra.encoder.layer.11.attention.output.LayerNorm.weight', 'electra.encoder.layer.7.attention.output.LayerNorm.weight', 'electra.encoder.layer.2.attention.output.dense.bias', 'electra.encoder.layer.5.output.dense.bias', 'electra.encoder.layer.9.attention.output.LayerNorm.weight', 'electra.encoder.layer.0.attention.output.dense.weight', 'electra.encoder.layer.4.intermediate.dense.weight', 'electra.encoder.layer.10.output.dense.bias', 'electra.encoder.layer.11.output.dense.bias', 'electra.encoder.layer.10.output.dense.weight', 'electra.encoder.layer.3.attention.self.query.bias', 'electra.encoder.layer.8.attention.self.value.weight', 'electra.encoder.layer.9.intermediate.dense.bias', 'electra.encoder.layer.10.attention.self.value.weight', 'electra.encoder.layer.11.output.LayerNorm.weight', 'electra.encoder.layer.0.attention.self.key.bias', 'electra.encoder.layer.9.attention.self.query.bias', 'electra.encoder.layer.0.attention.self.query.bias', 'electra.encoder.layer.3.attention.self.key.bias', 'electra.encoder.layer.4.attention.output.dense.bias', 'electra.encoder.layer.10.output.LayerNorm.weight', 'electra.encoder.layer.9.attention.self.value.weight', 'electra.encoder.layer.1.output.dense.bias', 'electra.encoder.layer.8.output.dense.bias', 'electra.encoder.layer.4.attention.self.value.weight', 'electra.encoder.layer.0.intermediate.dense.bias', 'electra.encoder.layer.5.attention.self.key.bias', 'electra.encoder.layer.1.output.LayerNorm.bias', 'electra.encoder.layer.0.attention.output.LayerNorm.weight', 'electra.encoder.layer.0.attention.self.value.bias', 'electra.encoder.layer.8.attention.self.value.bias', 'electra.encoder.layer.8.attention.output.LayerNorm.weight', 'electra.embeddings.LayerNorm.weight', 'electra.encoder.layer.10.attention.self.query.bias', 'electra.encoder.layer.4.output.dense.bias', 'electra.encoder.layer.3.intermediate.dense.weight', 'electra.encoder.layer.8.attention.self.key.bias', 'discriminator_predictions.dense_prediction.weight', 'electra.encoder.layer.2.output.dense.bias', 'electra.encoder.layer.0.attention.self.value.weight', 'electra.encoder.layer.2.output.LayerNorm.weight', 'electra.encoder.layer.2.output.LayerNorm.bias', 'electra.encoder.layer.4.attention.output.LayerNorm.weight', 'electra.encoder.layer.9.attention.self.key.weight', 'electra.encoder.layer.9.attention.output.dense.bias', 'electra.encoder.layer.10.attention.self.key.weight', 'electra.encoder.layer.2.attention.self.key.bias', 'electra.encoder.layer.9.output.LayerNorm.weight', 'electra.encoder.layer.6.attention.self.query.weight', 'electra.encoder.layer.2.attention.output.LayerNorm.bias', 'electra.encoder.layer.5.attention.output.LayerNorm.weight', 'electra.encoder.layer.6.output.LayerNorm.bias', 'electra.encoder.layer.5.attention.self.value.weight', 'electra.encoder.layer.3.output.LayerNorm.bias', 'electra.encoder.layer.5.attention.self.key.weight', 'electra.encoder.layer.10.attention.self.query.weight', 'electra.encoder.layer.3.attention.output.LayerNorm.weight', 'electra.encoder.layer.5.intermediate.dense.bias', 'electra.encoder.layer.3.output.LayerNorm.weight', 'electra.encoder.layer.7.attention.self.value.bias', 'electra.encoder.layer.9.output.dense.weight', 'electra.encoder.layer.0.intermediate.dense.weight', 'electra.encoder.layer.7.attention.output.dense.bias', 'electra.encoder.layer.1.attention.self.key.weight', 'electra.encoder.layer.0.output.dense.bias', 'electra.encoder.layer.4.attention.self.query.weight', 'electra.encoder.layer.3.attention.output.dense.bias', 'electra.encoder.layer.0.attention.self.key.weight', 'electra.encoder.layer.6.attention.output.LayerNorm.weight', 'electra.encoder.layer.3.attention.output.LayerNorm.bias', 'electra.encoder.layer.8.attention.self.query.weight', 'electra.encoder.layer.4.attention.self.value.bias', 'electra.encoder.layer.8.output.LayerNorm.bias', 'electra.encoder.layer.3.intermediate.dense.bias', 'electra.encoder.layer.7.output.LayerNorm.weight', 'electra.encoder.layer.11.attention.self.value.weight', 'electra.encoder.layer.9.attention.self.query.weight', 'electra.encoder.layer.1.intermediate.dense.bias', 'electra.encoder.layer.11.attention.output.LayerNorm.bias', 'electra.encoder.layer.2.attention.output.dense.weight', 'electra.encoder.layer.2.intermediate.dense.weight', 'electra.encoder.layer.4.output.LayerNorm.weight', 'electra.encoder.layer.6.intermediate.dense.weight', 'electra.encoder.layer.9.intermediate.dense.weight', 'electra.encoder.layer.3.output.dense.bias', 'electra.encoder.layer.5.output.LayerNorm.bias', 'electra.encoder.layer.11.attention.output.dense.weight', 'electra.encoder.layer.1.attention.self.query.bias', 'electra.embeddings_project.weight', 'electra.encoder.layer.4.attention.self.key.weight', 'electra.encoder.layer.2.attention.self.key.weight', 'electra.encoder.layer.8.attention.output.LayerNorm.bias', 'electra.encoder.layer.2.attention.self.query.bias', 'electra.encoder.layer.10.attention.output.LayerNorm.bias', 'electra.encoder.layer.7.attention.self.key.weight', 'electra.encoder.layer.7.attention.output.LayerNorm.bias', 'electra.encoder.layer.1.attention.self.value.bias', 'electra.encoder.layer.4.output.LayerNorm.bias', 'electra.encoder.layer.5.attention.output.dense.weight', 'electra.encoder.layer.3.attention.self.value.bias', 'electra.encoder.layer.6.attention.output.dense.bias', 'electra.encoder.layer.9.attention.self.key.bias', 'electra.encoder.layer.9.attention.output.LayerNorm.bias', 'electra.encoder.layer.6.output.LayerNorm.weight', 'electra.encoder.layer.8.attention.self.key.weight', 'electra.encoder.layer.2.output.dense.weight', 'electra.encoder.layer.1.attention.output.dense.bias', 'electra.encoder.layer.10.attention.output.dense.weight', 'electra.encoder.layer.3.attention.output.dense.weight', 'electra.encoder.layer.7.output.dense.bias', 'electra.encoder.layer.8.intermediate.dense.bias', 'electra.encoder.layer.7.attention.self.query.weight', 'electra.encoder.layer.11.intermediate.dense.weight', 'electra.encoder.layer.3.output.dense.weight', 'electra.encoder.layer.1.attention.output.LayerNorm.bias', 'electra.encoder.layer.7.intermediate.dense.bias', 'electra.encoder.layer.10.attention.self.key.bias', 'electra.encoder.layer.7.attention.self.key.bias', 'electra.encoder.layer.3.attention.self.key.weight', 'electra.encoder.layer.9.attention.self.value.bias', 'electra.encoder.layer.0.attention.output.dense.bias', 'electra.encoder.layer.11.attention.self.value.bias', 'electra.encoder.layer.6.output.dense.weight', 'electra.encoder.layer.8.attention.self.query.bias', 'electra.encoder.layer.8.attention.output.dense.bias', 'electra.encoder.layer.8.intermediate.dense.weight', 'discriminator_predictions.dense.bias', 'electra.encoder.layer.6.intermediate.dense.bias', 'electra.encoder.layer.0.output.LayerNorm.bias', 'electra.encoder.layer.10.intermediate.dense.bias', 'electra.encoder.layer.11.attention.self.key.weight', 'electra.encoder.layer.10.output.LayerNorm.bias', 'electra.embeddings.LayerNorm.bias', 'electra.encoder.layer.11.output.LayerNorm.bias', 'electra.embeddings.position_embeddings.weight', 'electra.embeddings.token_type_embeddings.weight', 'electra.encoder.layer.1.output.LayerNorm.weight', 'electra.encoder.layer.9.attention.output.dense.weight', 'electra.encoder.layer.4.attention.output.dense.weight', 'electra.encoder.layer.8.output.LayerNorm.weight', 'electra.encoder.layer.2.attention.self.query.weight', 'electra.encoder.layer.6.attention.output.LayerNorm.bias', 'electra.encoder.layer.1.attention.output.dense.weight', 'electra.encoder.layer.4.attention.self.key.bias', 'electra.encoder.layer.4.output.dense.weight', 'electra.encoder.layer.8.output.dense.weight', 'electra.encoder.layer.11.attention.output.dense.bias', 'electra.encoder.layer.5.attention.self.query.weight', 'electra.encoder.layer.5.attention.self.value.bias', 'electra.encoder.layer.6.output.dense.bias', 'electra.encoder.layer.0.attention.output.LayerNorm.bias', 'electra.encoder.layer.3.attention.self.query.weight', 'electra.encoder.layer.1.output.dense.weight', 'electra.encoder.layer.10.attention.output.dense.bias', 'electra.encoder.layer.2.attention.self.value.bias', 'electra.encoder.layer.10.intermediate.dense.weight', 'electra.encoder.layer.7.attention.output.dense.weight', 'electra.encoder.layer.7.output.dense.weight', 'electra.encoder.layer.11.attention.self.query.bias', 'electra.encoder.layer.5.output.LayerNorm.weight', 'electra.encoder.layer.0.output.dense.weight', 'electra.encoder.layer.5.intermediate.dense.weight', 'electra.embeddings_project.bias', 'electra.encoder.layer.0.attention.self.query.weight', 'electra.encoder.layer.1.attention.self.key.bias', 'electra.encoder.layer.2.intermediate.dense.bias', 'electra.encoder.layer.6.attention.self.query.bias', 'electra.encoder.layer.1.attention.self.value.weight', 'electra.encoder.layer.1.attention.self.query.weight', 'electra.encoder.layer.5.output.dense.weight', 'electra.encoder.layer.2.attention.output.LayerNorm.weight', 'electra.encoder.layer.7.attention.self.query.bias', 'electra.encoder.layer.4.attention.output.LayerNorm.bias', 'electra.encoder.layer.1.intermediate.dense.weight', 'electra.encoder.layer.1.attention.output.LayerNorm.weight', 'electra.encoder.layer.11.intermediate.dense.bias', 'electra.encoder.layer.7.attention.self.value.weight']\n",
            "- This IS expected if you are initializing BertForTokenClassification from the checkpoint of a model trained on another task or with another architecture (e.g. initializing a BertForSequenceClassification model from a BertForPreTraining model).\n",
            "- This IS NOT expected if you are initializing BertForTokenClassification from the checkpoint of a model that you expect to be exactly identical (initializing a BertForSequenceClassification model from a BertForSequenceClassification model).\n",
            "Some weights of BertForTokenClassification were not initialized from the model checkpoint at monsoon-nlp/bangla-electra and are newly initialized: ['encoder.layer.10.attention.output.LayerNorm.bias', 'encoder.layer.7.intermediate.dense.weight', 'encoder.layer.4.attention.self.key.bias', 'encoder.layer.7.attention.output.dense.weight', 'encoder.layer.8.intermediate.dense.weight', 'encoder.layer.11.output.LayerNorm.weight', 'encoder.layer.11.attention.output.LayerNorm.weight', 'encoder.layer.5.attention.output.dense.bias', 'encoder.layer.8.attention.output.dense.weight', 'encoder.layer.6.output.dense.weight', 'encoder.layer.5.attention.self.query.weight', 'encoder.layer.11.attention.self.value.weight', 'encoder.layer.3.attention.output.dense.weight', 'encoder.layer.5.output.dense.bias', 'encoder.layer.3.attention.output.dense.bias', 'encoder.layer.0.output.LayerNorm.bias', 'encoder.layer.5.attention.self.value.weight', 'encoder.layer.0.intermediate.dense.weight', 'encoder.layer.10.output.dense.bias', 'encoder.layer.11.attention.output.dense.weight', 'encoder.layer.0.attention.self.value.bias', 'encoder.layer.8.attention.self.key.bias', 'encoder.layer.10.attention.output.dense.weight', 'encoder.layer.2.output.dense.weight', 'encoder.layer.11.attention.self.query.weight', 'encoder.layer.0.attention.output.LayerNorm.weight', 'encoder.layer.11.output.LayerNorm.bias', 'encoder.layer.5.intermediate.dense.weight', 'encoder.layer.2.intermediate.dense.bias', 'encoder.layer.9.attention.self.query.bias', 'encoder.layer.11.attention.self.query.bias', 'encoder.layer.8.output.dense.weight', 'encoder.layer.2.attention.self.value.weight', 'encoder.layer.9.attention.output.dense.weight', 'encoder.layer.7.output.LayerNorm.bias', 'encoder.layer.2.output.dense.bias', 'encoder.layer.7.attention.self.key.bias', 'encoder.layer.11.attention.self.key.bias', 'encoder.layer.0.attention.self.query.weight', 'encoder.layer.2.intermediate.dense.weight', 'encoder.layer.7.attention.self.value.weight', 'encoder.layer.7.attention.output.LayerNorm.weight', 'encoder.layer.10.attention.self.key.bias', 'encoder.layer.11.output.dense.weight', 'encoder.layer.0.output.dense.bias', 'encoder.layer.10.attention.self.query.bias', 'encoder.layer.7.output.dense.bias', 'encoder.layer.4.attention.self.query.bias', 'encoder.layer.4.intermediate.dense.bias', 'encoder.layer.6.output.LayerNorm.bias', 'encoder.layer.5.intermediate.dense.bias', 'encoder.layer.9.output.dense.weight', 'encoder.layer.0.intermediate.dense.bias', 'encoder.layer.0.output.LayerNorm.weight', 'encoder.layer.4.attention.output.LayerNorm.bias', 'encoder.layer.8.attention.self.query.weight', 'encoder.layer.6.attention.self.key.bias', 'encoder.layer.6.intermediate.dense.weight', 'encoder.layer.9.attention.self.value.weight', 'encoder.layer.10.output.dense.weight', 'encoder.layer.1.attention.self.value.bias', 'encoder.layer.10.attention.output.LayerNorm.weight', 'encoder.layer.7.attention.self.key.weight', 'encoder.layer.10.attention.self.query.weight', 'encoder.layer.5.attention.self.key.weight', 'encoder.layer.3.attention.self.query.bias', 'encoder.layer.2.attention.output.dense.weight', 'encoder.layer.1.output.dense.bias', 'encoder.layer.6.output.dense.bias', 'encoder.layer.4.output.LayerNorm.bias', 'encoder.layer.1.output.LayerNorm.weight', 'encoder.layer.3.attention.self.key.weight', 'encoder.layer.10.intermediate.dense.bias', 'encoder.layer.6.attention.self.value.bias', 'encoder.layer.9.output.LayerNorm.bias', 'encoder.layer.4.output.dense.bias', 'encoder.layer.6.attention.self.query.weight', 'encoder.layer.10.attention.self.key.weight', 'encoder.layer.1.output.LayerNorm.bias', 'encoder.layer.8.attention.self.value.bias', 'encoder.layer.2.attention.self.query.weight', 'encoder.layer.9.attention.self.key.weight', 'encoder.layer.5.attention.output.dense.weight', 'encoder.layer.8.attention.self.query.bias', 'encoder.layer.6.attention.output.LayerNorm.weight', 'encoder.layer.3.output.LayerNorm.weight', 'encoder.layer.3.attention.output.LayerNorm.bias', 'encoder.layer.1.output.dense.weight', 'encoder.layer.2.output.LayerNorm.bias', 'encoder.layer.10.attention.self.value.bias', 'encoder.layer.4.output.dense.weight', 'encoder.layer.3.output.LayerNorm.bias', 'encoder.layer.5.output.LayerNorm.bias', 'encoder.layer.11.attention.self.value.bias', 'encoder.layer.6.attention.self.value.weight', 'encoder.layer.9.attention.self.value.bias', 'encoder.layer.10.output.LayerNorm.weight', 'encoder.layer.5.attention.output.LayerNorm.bias', 'encoder.layer.2.attention.output.dense.bias', 'encoder.layer.6.attention.output.LayerNorm.bias', 'encoder.layer.8.intermediate.dense.bias', 'encoder.layer.0.attention.self.value.weight', 'encoder.layer.6.output.LayerNorm.weight', 'encoder.layer.4.attention.self.value.weight', 'encoder.layer.1.attention.output.LayerNorm.bias', 'encoder.layer.1.intermediate.dense.bias', 'encoder.layer.5.output.LayerNorm.weight', 'encoder.layer.8.attention.output.dense.bias', 'encoder.layer.3.output.dense.bias', 'encoder.layer.11.attention.output.LayerNorm.bias', 'encoder.layer.2.attention.output.LayerNorm.bias', 'encoder.layer.9.attention.self.query.weight', 'encoder.layer.9.intermediate.dense.weight', 'encoder.layer.7.attention.output.dense.bias', 'encoder.layer.3.intermediate.dense.bias', 'encoder.layer.4.attention.output.dense.bias', 'encoder.layer.9.intermediate.dense.bias', 'encoder.layer.6.attention.output.dense.bias', 'encoder.layer.8.output.LayerNorm.weight', 'encoder.layer.1.attention.self.value.weight', 'encoder.layer.3.output.dense.weight', 'encoder.layer.8.attention.self.value.weight', 'encoder.layer.1.attention.self.query.weight', 'encoder.layer.7.attention.self.value.bias', 'encoder.layer.2.attention.self.key.weight', 'encoder.layer.4.attention.self.key.weight', 'encoder.layer.9.attention.output.LayerNorm.weight', 'encoder.layer.1.attention.output.LayerNorm.weight', 'encoder.layer.7.attention.self.query.bias', 'encoder.layer.4.intermediate.dense.weight', 'encoder.layer.8.attention.self.key.weight', 'encoder.layer.9.attention.output.LayerNorm.bias', 'encoder.layer.3.attention.self.value.bias', 'encoder.layer.2.output.LayerNorm.weight', 'classifier.weight', 'encoder.layer.9.output.LayerNorm.weight', 'encoder.layer.3.attention.output.LayerNorm.weight', 'encoder.layer.6.attention.output.dense.weight', 'embeddings.word_embeddings.weight', 'embeddings.LayerNorm.bias', 'encoder.layer.5.attention.output.LayerNorm.weight', 'encoder.layer.4.attention.self.value.bias', 'encoder.layer.3.intermediate.dense.weight', 'encoder.layer.11.intermediate.dense.weight', 'encoder.layer.9.output.dense.bias', 'encoder.layer.0.attention.output.LayerNorm.bias', 'encoder.layer.7.attention.output.LayerNorm.bias', 'encoder.layer.8.attention.output.LayerNorm.weight', 'encoder.layer.8.attention.output.LayerNorm.bias', 'encoder.layer.1.attention.self.key.weight', 'encoder.layer.4.attention.output.dense.weight', 'encoder.layer.7.attention.self.query.weight', 'encoder.layer.5.output.dense.weight', 'encoder.layer.7.intermediate.dense.bias', 'encoder.layer.0.attention.self.key.weight', 'encoder.layer.11.attention.output.dense.bias', 'encoder.layer.0.output.dense.weight', 'encoder.layer.1.attention.self.query.bias', 'encoder.layer.1.intermediate.dense.weight', 'encoder.layer.10.output.LayerNorm.bias', 'encoder.layer.11.intermediate.dense.bias', 'embeddings.LayerNorm.weight', 'encoder.layer.3.attention.self.query.weight', 'encoder.layer.5.attention.self.value.bias', 'encoder.layer.8.output.dense.bias', 'embeddings.position_embeddings.weight', 'encoder.layer.8.output.LayerNorm.bias', 'encoder.layer.0.attention.output.dense.weight', 'encoder.layer.11.attention.self.key.weight', 'encoder.layer.0.attention.output.dense.bias', 'encoder.layer.3.attention.self.key.bias', 'encoder.layer.11.output.dense.bias', 'encoder.layer.4.attention.self.query.weight', 'encoder.layer.9.attention.output.dense.bias', 'encoder.layer.2.attention.self.value.bias', 'encoder.layer.7.output.LayerNorm.weight', 'encoder.layer.5.attention.self.key.bias', 'encoder.layer.1.attention.self.key.bias', 'encoder.layer.1.attention.output.dense.weight', 'encoder.layer.10.attention.output.dense.bias', 'encoder.layer.5.attention.self.query.bias', 'encoder.layer.6.attention.self.query.bias', 'encoder.layer.9.attention.self.key.bias', 'encoder.layer.10.attention.self.value.weight', 'encoder.layer.0.attention.self.key.bias', 'encoder.layer.10.intermediate.dense.weight', 'encoder.layer.2.attention.output.LayerNorm.weight', 'encoder.layer.3.attention.self.value.weight', 'encoder.layer.1.attention.output.dense.bias', 'encoder.layer.4.attention.output.LayerNorm.weight', 'encoder.layer.6.attention.self.key.weight', 'encoder.layer.2.attention.self.key.bias', 'encoder.layer.7.output.dense.weight', 'encoder.layer.2.attention.self.query.bias', 'embeddings.token_type_embeddings.weight', 'encoder.layer.4.output.LayerNorm.weight', 'classifier.bias', 'encoder.layer.6.intermediate.dense.bias', 'encoder.layer.0.attention.self.query.bias']\n",
            "You should probably TRAIN this model on a down-stream task to be able to use it for predictions and inference.\n"
          ]
        }
      ],
      "source": [
        "from transformers import AutoModelForTokenClassification, TrainingArguments, Trainer, BertForTokenClassification\n",
        "\n",
        "model = BertForTokenClassification.from_pretrained(\"monsoon-nlp/bangla-electra\", num_labels=len(label_list))"
      ]
    },
    {
      "cell_type": "code",
      "source": [
        "pip install --upgrade accelerate"
      ],
      "metadata": {
        "colab": {
          "base_uri": "https://localhost:8080/"
        },
        "id": "MpQpVJJtICDH",
        "outputId": "a71810aa-e67d-4030-e3e9-d1abb058e6e9"
      },
      "execution_count": null,
      "outputs": [
        {
          "output_type": "stream",
          "name": "stdout",
          "text": [
            "Looking in indexes: https://pypi.org/simple, https://us-python.pkg.dev/colab-wheels/public/simple/\n",
            "Requirement already satisfied: accelerate in /usr/local/lib/python3.10/dist-packages (0.19.0)\n",
            "Requirement already satisfied: numpy>=1.17 in /usr/local/lib/python3.10/dist-packages (from accelerate) (1.22.4)\n",
            "Requirement already satisfied: packaging>=20.0 in /usr/local/lib/python3.10/dist-packages (from accelerate) (23.1)\n",
            "Requirement already satisfied: psutil in /usr/local/lib/python3.10/dist-packages (from accelerate) (5.9.5)\n",
            "Requirement already satisfied: pyyaml in /usr/local/lib/python3.10/dist-packages (from accelerate) (6.0)\n",
            "Requirement already satisfied: torch>=1.6.0 in /usr/local/lib/python3.10/dist-packages (from accelerate) (2.0.1+cu118)\n",
            "Requirement already satisfied: filelock in /usr/local/lib/python3.10/dist-packages (from torch>=1.6.0->accelerate) (3.12.0)\n",
            "Requirement already satisfied: typing-extensions in /usr/local/lib/python3.10/dist-packages (from torch>=1.6.0->accelerate) (4.5.0)\n",
            "Requirement already satisfied: sympy in /usr/local/lib/python3.10/dist-packages (from torch>=1.6.0->accelerate) (1.11.1)\n",
            "Requirement already satisfied: networkx in /usr/local/lib/python3.10/dist-packages (from torch>=1.6.0->accelerate) (3.1)\n",
            "Requirement already satisfied: jinja2 in /usr/local/lib/python3.10/dist-packages (from torch>=1.6.0->accelerate) (3.1.2)\n",
            "Requirement already satisfied: triton==2.0.0 in /usr/local/lib/python3.10/dist-packages (from torch>=1.6.0->accelerate) (2.0.0)\n",
            "Requirement already satisfied: cmake in /usr/local/lib/python3.10/dist-packages (from triton==2.0.0->torch>=1.6.0->accelerate) (3.25.2)\n",
            "Requirement already satisfied: lit in /usr/local/lib/python3.10/dist-packages (from triton==2.0.0->torch>=1.6.0->accelerate) (16.0.5)\n",
            "Requirement already satisfied: MarkupSafe>=2.0 in /usr/local/lib/python3.10/dist-packages (from jinja2->torch>=1.6.0->accelerate) (2.1.2)\n",
            "Requirement already satisfied: mpmath>=0.19 in /usr/local/lib/python3.10/dist-packages (from sympy->torch>=1.6.0->accelerate) (1.3.0)\n"
          ]
        }
      ]
    },
    {
      "cell_type": "code",
      "execution_count": null,
      "metadata": {
        "execution": {
          "iopub.execute_input": "2023-01-12T22:33:50.146958Z",
          "iopub.status.busy": "2023-01-12T22:33:50.146660Z",
          "iopub.status.idle": "2023-01-12T22:33:50.216747Z",
          "shell.execute_reply": "2023-01-12T22:33:50.216070Z",
          "shell.execute_reply.started": "2023-01-12T22:33:50.146918Z"
        },
        "id": "MSKUfnDi08tr"
      },
      "outputs": [],
      "source": [
        "args = TrainingArguments(\n",
        "    output_dir=\"Hello3\",\n",
        "    evaluation_strategy = \"epoch\",\n",
        "    learning_rate=2e-5,\n",
        "    per_device_train_batch_size=batch_size,\n",
        "    per_device_eval_batch_size=batch_size,\n",
        "    num_train_epochs=3,\n",
        "    weight_decay=0.01,\n",
        "    logging_steps=1,\n",
        "    report_to=[],\n",
        "    save_steps=2000,\n",
        ")"
      ]
    },
    {
      "cell_type": "code",
      "execution_count": null,
      "metadata": {
        "execution": {
          "iopub.execute_input": "2023-01-12T22:33:50.222345Z",
          "iopub.status.busy": "2023-01-12T22:33:50.220731Z",
          "iopub.status.idle": "2023-01-12T22:33:55.236414Z",
          "shell.execute_reply": "2023-01-12T22:33:55.235622Z",
          "shell.execute_reply.started": "2023-01-12T22:33:50.222303Z"
        },
        "id": "imY1oC3SIrJf"
      },
      "outputs": [],
      "source": [
        "trainer3 = Trainer(\n",
        "    model,\n",
        "    args,\n",
        "    train_dataset=train_ds[\"train\"],\n",
        "    eval_dataset=validation_ds[\"validation\"],\n",
        "    data_collator=data_collator,\n",
        "    tokenizer=tokenizer,\n",
        "    compute_metrics=compute_metrics,\n",
        "\n",
        ")"
      ]
    },
    {
      "cell_type": "code",
      "execution_count": null,
      "metadata": {
        "colab": {
          "base_uri": "https://localhost:8080/",
          "height": 380
        },
        "execution": {
          "iopub.execute_input": "2023-01-12T22:33:55.237996Z",
          "iopub.status.busy": "2023-01-12T22:33:55.237569Z",
          "iopub.status.idle": "2023-01-12T22:41:29.047915Z",
          "shell.execute_reply": "2023-01-12T22:41:29.047073Z",
          "shell.execute_reply.started": "2023-01-12T22:33:55.237956Z"
        },
        "id": "bMAmGFkHtLVV",
        "outputId": "2a49f8d1-1017-4bdf-872a-3e2ed28b3d39"
      },
      "outputs": [
        {
          "output_type": "stream",
          "name": "stderr",
          "text": [
            "/usr/local/lib/python3.10/dist-packages/transformers/optimization.py:407: FutureWarning: This implementation of AdamW is deprecated and will be removed in a future version. Use the PyTorch implementation torch.optim.AdamW instead, or set `no_deprecation_warning=True` to disable this warning\n",
            "  warnings.warn(\n",
            "You're using a BertTokenizerFast tokenizer. Please note that with a fast tokenizer, using the `__call__` method is faster than using a method to encode the text followed by a call to the `pad` method to get a padded encoding.\n"
          ]
        },
        {
          "output_type": "display_data",
          "data": {
            "text/plain": [
              "<IPython.core.display.HTML object>"
            ],
            "text/html": [
              "\n",
              "    <div>\n",
              "      \n",
              "      <progress value='4446' max='4446' style='width:300px; height:20px; vertical-align: middle;'></progress>\n",
              "      [4446/4446 05:55, Epoch 3/3]\n",
              "    </div>\n",
              "    <table border=\"1\" class=\"dataframe\">\n",
              "  <thead>\n",
              " <tr style=\"text-align: left;\">\n",
              "      <th>Epoch</th>\n",
              "      <th>Training Loss</th>\n",
              "      <th>Validation Loss</th>\n",
              "      <th>Precision</th>\n",
              "      <th>Recall</th>\n",
              "      <th>F1</th>\n",
              "      <th>Accuracy</th>\n",
              "    </tr>\n",
              "  </thead>\n",
              "  <tbody>\n",
              "    <tr>\n",
              "      <td>1</td>\n",
              "      <td>0.208700</td>\n",
              "      <td>0.224615</td>\n",
              "      <td>0.608721</td>\n",
              "      <td>0.371429</td>\n",
              "      <td>0.461351</td>\n",
              "      <td>0.940267</td>\n",
              "    </tr>\n",
              "    <tr>\n",
              "      <td>2</td>\n",
              "      <td>0.057700</td>\n",
              "      <td>0.199006</td>\n",
              "      <td>0.656844</td>\n",
              "      <td>0.425893</td>\n",
              "      <td>0.516737</td>\n",
              "      <td>0.945366</td>\n",
              "    </tr>\n",
              "    <tr>\n",
              "      <td>3</td>\n",
              "      <td>0.220000</td>\n",
              "      <td>0.191529</td>\n",
              "      <td>0.651240</td>\n",
              "      <td>0.454821</td>\n",
              "      <td>0.535590</td>\n",
              "      <td>0.946809</td>\n",
              "    </tr>\n",
              "  </tbody>\n",
              "</table><p>"
            ]
          },
          "metadata": {}
        },
        {
          "output_type": "stream",
          "name": "stderr",
          "text": [
            "/usr/local/lib/python3.10/dist-packages/seqeval/metrics/v1.py:57: UndefinedMetricWarning: Precision and F-score are ill-defined and being set to 0.0 in labels with no predicted samples. Use `zero_division` parameter to control this behavior.\n",
            "  _warn_prf(average, modifier, msg_start, len(result))\n",
            "/usr/local/lib/python3.10/dist-packages/seqeval/metrics/v1.py:57: UndefinedMetricWarning: Precision and F-score are ill-defined and being set to 0.0 in labels with no predicted samples. Use `zero_division` parameter to control this behavior.\n",
            "  _warn_prf(average, modifier, msg_start, len(result))\n",
            "/usr/local/lib/python3.10/dist-packages/seqeval/metrics/v1.py:57: UndefinedMetricWarning: Precision and F-score are ill-defined and being set to 0.0 in labels with no predicted samples. Use `zero_division` parameter to control this behavior.\n",
            "  _warn_prf(average, modifier, msg_start, len(result))\n"
          ]
        },
        {
          "output_type": "execute_result",
          "data": {
            "text/plain": [
              "TrainOutput(global_step=4446, training_loss=0.240996800735928, metrics={'train_runtime': 356.3639, 'train_samples_per_second': 199.54, 'train_steps_per_second': 12.476, 'total_flos': 259439778322680.0, 'train_loss': 0.240996800735928, 'epoch': 3.0})"
            ]
          },
          "metadata": {},
          "execution_count": 35
        }
      ],
      "source": [
        "trainer3.train()"
      ]
    },
    {
      "cell_type": "markdown",
      "metadata": {
        "id": "N6KcIino08ts"
      },
      "source": [
        "## Tests"
      ]
    },
    {
      "cell_type": "code",
      "execution_count": null,
      "metadata": {
        "execution": {
          "iopub.execute_input": "2023-01-12T22:41:29.049586Z",
          "iopub.status.busy": "2023-01-12T22:41:29.049263Z",
          "iopub.status.idle": "2023-01-12T22:41:35.930769Z",
          "shell.execute_reply": "2023-01-12T22:41:35.930055Z",
          "shell.execute_reply.started": "2023-01-12T22:41:29.049544Z"
        },
        "id": "khVdUlEf08ts",
        "colab": {
          "base_uri": "https://localhost:8080/",
          "height": 193
        },
        "outputId": "2659e7b7-9aed-45ec-a7a4-8fc93e91212d"
      },
      "outputs": [
        {
          "output_type": "display_data",
          "data": {
            "text/plain": [
              "<IPython.core.display.HTML object>"
            ],
            "text/html": [
              "\n",
              "    <div>\n",
              "      \n",
              "      <progress value='186' max='186' style='width:300px; height:20px; vertical-align: middle;'></progress>\n",
              "      [186/186 00:03]\n",
              "    </div>\n",
              "    "
            ]
          },
          "metadata": {}
        },
        {
          "output_type": "execute_result",
          "data": {
            "text/plain": [
              "{'eval_loss': 0.20422552525997162,\n",
              " 'eval_precision': 0.6590242601972808,\n",
              " 'eval_recall': 0.42716433385173663,\n",
              " 'eval_f1': 0.5183476619836443,\n",
              " 'eval_accuracy': 0.9430293037184321,\n",
              " 'eval_runtime': 4.8458,\n",
              " 'eval_samples_per_second': 611.454,\n",
              " 'eval_steps_per_second': 38.384,\n",
              " 'epoch': 3.0}"
            ]
          },
          "metadata": {},
          "execution_count": 36
        }
      ],
      "source": [
        "trainer3.evaluate(test_ds['test'])"
      ]
    },
    {
      "cell_type": "code",
      "execution_count": null,
      "metadata": {
        "execution": {
          "iopub.execute_input": "2023-01-12T22:41:35.932721Z",
          "iopub.status.busy": "2023-01-12T22:41:35.932275Z",
          "iopub.status.idle": "2023-01-12T22:41:37.193687Z",
          "shell.execute_reply": "2023-01-12T22:41:37.192650Z",
          "shell.execute_reply.started": "2023-01-12T22:41:35.932667Z"
        },
        "id": "J-rD8YHv08ts",
        "colab": {
          "base_uri": "https://localhost:8080/",
          "height": 36
        },
        "outputId": "5f5f0d01-57da-4984-d267-b58eb7624c2b"
      },
      "outputs": [
        {
          "output_type": "execute_result",
          "data": {
            "text/plain": [
              "\"model.save_pretrained('monsoon-nlp/bangla-electra/ner_model')\\ntokenizer.save_pretrained('monsoon-nlp/bangla-electra/ner_tokenizer')\""
            ],
            "application/vnd.google.colaboratory.intrinsic+json": {
              "type": "string"
            }
          },
          "metadata": {},
          "execution_count": 37
        }
      ],
      "source": [
        "'''model.save_pretrained('monsoon-nlp/bangla-electra/ner_model')\n",
        "tokenizer.save_pretrained('monsoon-nlp/bangla-electra/ner_tokenizer')'''"
      ]
    },
    {
      "cell_type": "code",
      "execution_count": null,
      "metadata": {
        "id": "QxJxUR-k08tt"
      },
      "outputs": [],
      "source": []
    }
  ],
  "metadata": {
    "accelerator": "GPU",
    "colab": {
      "provenance": []
    },
    "gpuClass": "standard",
    "kernelspec": {
      "display_name": "Python 3 (ipykernel)",
      "language": "python",
      "name": "python3"
    },
    "language_info": {
      "codemirror_mode": {
        "name": "ipython",
        "version": 3
      },
      "file_extension": ".py",
      "mimetype": "text/x-python",
      "name": "python",
      "nbconvert_exporter": "python",
      "pygments_lexer": "ipython3",
      "version": "3.9.13"
    },
    "vscode": {
      "interpreter": {
        "hash": "3196968d684371006099b3d55edeef8ed90365227a30deaef86e5d4aa8519be0"
      }
    },
    "widgets": {
      "application/vnd.jupyter.widget-state+json": {
        "ec34165a6b664bc2aafccbbc2844afef": {
          "model_module": "@jupyter-widgets/controls",
          "model_name": "HBoxModel",
          "model_module_version": "1.5.0",
          "state": {
            "_dom_classes": [],
            "_model_module": "@jupyter-widgets/controls",
            "_model_module_version": "1.5.0",
            "_model_name": "HBoxModel",
            "_view_count": null,
            "_view_module": "@jupyter-widgets/controls",
            "_view_module_version": "1.5.0",
            "_view_name": "HBoxView",
            "box_style": "",
            "children": [
              "IPY_MODEL_a8935090aabb4a3e983f0a673399e83b",
              "IPY_MODEL_d1f6034f166e45739601f9ef5265c1ae",
              "IPY_MODEL_20f3ce43b923408588a8feeba0d6cef4"
            ],
            "layout": "IPY_MODEL_9169ded0bac94308b20fe7e4bbebbe03"
          }
        },
        "a8935090aabb4a3e983f0a673399e83b": {
          "model_module": "@jupyter-widgets/controls",
          "model_name": "HTMLModel",
          "model_module_version": "1.5.0",
          "state": {
            "_dom_classes": [],
            "_model_module": "@jupyter-widgets/controls",
            "_model_module_version": "1.5.0",
            "_model_name": "HTMLModel",
            "_view_count": null,
            "_view_module": "@jupyter-widgets/controls",
            "_view_module_version": "1.5.0",
            "_view_name": "HTMLView",
            "description": "",
            "description_tooltip": null,
            "layout": "IPY_MODEL_f959db11e7b14021b3d29ab5bf8bbf61",
            "placeholder": "​",
            "style": "IPY_MODEL_7201e0fe01184f16b015b57caa790a5a",
            "value": "100%"
          }
        },
        "d1f6034f166e45739601f9ef5265c1ae": {
          "model_module": "@jupyter-widgets/controls",
          "model_name": "FloatProgressModel",
          "model_module_version": "1.5.0",
          "state": {
            "_dom_classes": [],
            "_model_module": "@jupyter-widgets/controls",
            "_model_module_version": "1.5.0",
            "_model_name": "FloatProgressModel",
            "_view_count": null,
            "_view_module": "@jupyter-widgets/controls",
            "_view_module_version": "1.5.0",
            "_view_name": "ProgressView",
            "bar_style": "success",
            "description": "",
            "description_tooltip": null,
            "layout": "IPY_MODEL_3d8ed14c30374b22aefb105ad6f81ed1",
            "max": 1,
            "min": 0,
            "orientation": "horizontal",
            "style": "IPY_MODEL_3815345814ea448dbcaad069a9368ea8",
            "value": 1
          }
        },
        "20f3ce43b923408588a8feeba0d6cef4": {
          "model_module": "@jupyter-widgets/controls",
          "model_name": "HTMLModel",
          "model_module_version": "1.5.0",
          "state": {
            "_dom_classes": [],
            "_model_module": "@jupyter-widgets/controls",
            "_model_module_version": "1.5.0",
            "_model_name": "HTMLModel",
            "_view_count": null,
            "_view_module": "@jupyter-widgets/controls",
            "_view_module_version": "1.5.0",
            "_view_name": "HTMLView",
            "description": "",
            "description_tooltip": null,
            "layout": "IPY_MODEL_f5cb206caa614ffdac7d4cbf5012d9e6",
            "placeholder": "​",
            "style": "IPY_MODEL_0f71a86b66b2402589e8e55711210096",
            "value": " 1/1 [00:00&lt;00:00, 35.83it/s]"
          }
        },
        "9169ded0bac94308b20fe7e4bbebbe03": {
          "model_module": "@jupyter-widgets/base",
          "model_name": "LayoutModel",
          "model_module_version": "1.2.0",
          "state": {
            "_model_module": "@jupyter-widgets/base",
            "_model_module_version": "1.2.0",
            "_model_name": "LayoutModel",
            "_view_count": null,
            "_view_module": "@jupyter-widgets/base",
            "_view_module_version": "1.2.0",
            "_view_name": "LayoutView",
            "align_content": null,
            "align_items": null,
            "align_self": null,
            "border": null,
            "bottom": null,
            "display": null,
            "flex": null,
            "flex_flow": null,
            "grid_area": null,
            "grid_auto_columns": null,
            "grid_auto_flow": null,
            "grid_auto_rows": null,
            "grid_column": null,
            "grid_gap": null,
            "grid_row": null,
            "grid_template_areas": null,
            "grid_template_columns": null,
            "grid_template_rows": null,
            "height": null,
            "justify_content": null,
            "justify_items": null,
            "left": null,
            "margin": null,
            "max_height": null,
            "max_width": null,
            "min_height": null,
            "min_width": null,
            "object_fit": null,
            "object_position": null,
            "order": null,
            "overflow": null,
            "overflow_x": null,
            "overflow_y": null,
            "padding": null,
            "right": null,
            "top": null,
            "visibility": null,
            "width": null
          }
        },
        "f959db11e7b14021b3d29ab5bf8bbf61": {
          "model_module": "@jupyter-widgets/base",
          "model_name": "LayoutModel",
          "model_module_version": "1.2.0",
          "state": {
            "_model_module": "@jupyter-widgets/base",
            "_model_module_version": "1.2.0",
            "_model_name": "LayoutModel",
            "_view_count": null,
            "_view_module": "@jupyter-widgets/base",
            "_view_module_version": "1.2.0",
            "_view_name": "LayoutView",
            "align_content": null,
            "align_items": null,
            "align_self": null,
            "border": null,
            "bottom": null,
            "display": null,
            "flex": null,
            "flex_flow": null,
            "grid_area": null,
            "grid_auto_columns": null,
            "grid_auto_flow": null,
            "grid_auto_rows": null,
            "grid_column": null,
            "grid_gap": null,
            "grid_row": null,
            "grid_template_areas": null,
            "grid_template_columns": null,
            "grid_template_rows": null,
            "height": null,
            "justify_content": null,
            "justify_items": null,
            "left": null,
            "margin": null,
            "max_height": null,
            "max_width": null,
            "min_height": null,
            "min_width": null,
            "object_fit": null,
            "object_position": null,
            "order": null,
            "overflow": null,
            "overflow_x": null,
            "overflow_y": null,
            "padding": null,
            "right": null,
            "top": null,
            "visibility": null,
            "width": null
          }
        },
        "7201e0fe01184f16b015b57caa790a5a": {
          "model_module": "@jupyter-widgets/controls",
          "model_name": "DescriptionStyleModel",
          "model_module_version": "1.5.0",
          "state": {
            "_model_module": "@jupyter-widgets/controls",
            "_model_module_version": "1.5.0",
            "_model_name": "DescriptionStyleModel",
            "_view_count": null,
            "_view_module": "@jupyter-widgets/base",
            "_view_module_version": "1.2.0",
            "_view_name": "StyleView",
            "description_width": ""
          }
        },
        "3d8ed14c30374b22aefb105ad6f81ed1": {
          "model_module": "@jupyter-widgets/base",
          "model_name": "LayoutModel",
          "model_module_version": "1.2.0",
          "state": {
            "_model_module": "@jupyter-widgets/base",
            "_model_module_version": "1.2.0",
            "_model_name": "LayoutModel",
            "_view_count": null,
            "_view_module": "@jupyter-widgets/base",
            "_view_module_version": "1.2.0",
            "_view_name": "LayoutView",
            "align_content": null,
            "align_items": null,
            "align_self": null,
            "border": null,
            "bottom": null,
            "display": null,
            "flex": null,
            "flex_flow": null,
            "grid_area": null,
            "grid_auto_columns": null,
            "grid_auto_flow": null,
            "grid_auto_rows": null,
            "grid_column": null,
            "grid_gap": null,
            "grid_row": null,
            "grid_template_areas": null,
            "grid_template_columns": null,
            "grid_template_rows": null,
            "height": null,
            "justify_content": null,
            "justify_items": null,
            "left": null,
            "margin": null,
            "max_height": null,
            "max_width": null,
            "min_height": null,
            "min_width": null,
            "object_fit": null,
            "object_position": null,
            "order": null,
            "overflow": null,
            "overflow_x": null,
            "overflow_y": null,
            "padding": null,
            "right": null,
            "top": null,
            "visibility": null,
            "width": null
          }
        },
        "3815345814ea448dbcaad069a9368ea8": {
          "model_module": "@jupyter-widgets/controls",
          "model_name": "ProgressStyleModel",
          "model_module_version": "1.5.0",
          "state": {
            "_model_module": "@jupyter-widgets/controls",
            "_model_module_version": "1.5.0",
            "_model_name": "ProgressStyleModel",
            "_view_count": null,
            "_view_module": "@jupyter-widgets/base",
            "_view_module_version": "1.2.0",
            "_view_name": "StyleView",
            "bar_color": null,
            "description_width": ""
          }
        },
        "f5cb206caa614ffdac7d4cbf5012d9e6": {
          "model_module": "@jupyter-widgets/base",
          "model_name": "LayoutModel",
          "model_module_version": "1.2.0",
          "state": {
            "_model_module": "@jupyter-widgets/base",
            "_model_module_version": "1.2.0",
            "_model_name": "LayoutModel",
            "_view_count": null,
            "_view_module": "@jupyter-widgets/base",
            "_view_module_version": "1.2.0",
            "_view_name": "LayoutView",
            "align_content": null,
            "align_items": null,
            "align_self": null,
            "border": null,
            "bottom": null,
            "display": null,
            "flex": null,
            "flex_flow": null,
            "grid_area": null,
            "grid_auto_columns": null,
            "grid_auto_flow": null,
            "grid_auto_rows": null,
            "grid_column": null,
            "grid_gap": null,
            "grid_row": null,
            "grid_template_areas": null,
            "grid_template_columns": null,
            "grid_template_rows": null,
            "height": null,
            "justify_content": null,
            "justify_items": null,
            "left": null,
            "margin": null,
            "max_height": null,
            "max_width": null,
            "min_height": null,
            "min_width": null,
            "object_fit": null,
            "object_position": null,
            "order": null,
            "overflow": null,
            "overflow_x": null,
            "overflow_y": null,
            "padding": null,
            "right": null,
            "top": null,
            "visibility": null,
            "width": null
          }
        },
        "0f71a86b66b2402589e8e55711210096": {
          "model_module": "@jupyter-widgets/controls",
          "model_name": "DescriptionStyleModel",
          "model_module_version": "1.5.0",
          "state": {
            "_model_module": "@jupyter-widgets/controls",
            "_model_module_version": "1.5.0",
            "_model_name": "DescriptionStyleModel",
            "_view_count": null,
            "_view_module": "@jupyter-widgets/base",
            "_view_module_version": "1.2.0",
            "_view_name": "StyleView",
            "description_width": ""
          }
        },
        "71f97e0313d4483aa2aa4ce38cbbf8a3": {
          "model_module": "@jupyter-widgets/controls",
          "model_name": "HBoxModel",
          "model_module_version": "1.5.0",
          "state": {
            "_dom_classes": [],
            "_model_module": "@jupyter-widgets/controls",
            "_model_module_version": "1.5.0",
            "_model_name": "HBoxModel",
            "_view_count": null,
            "_view_module": "@jupyter-widgets/controls",
            "_view_module_version": "1.5.0",
            "_view_name": "HBoxView",
            "box_style": "",
            "children": [
              "IPY_MODEL_268ff3cd2a7848ee83ecbdaf9f4285c2",
              "IPY_MODEL_b510992d349d447bb1757476755f8de1",
              "IPY_MODEL_66752dfcca5549ad933d8aacba521c53"
            ],
            "layout": "IPY_MODEL_fcf247caf6cc4134b0ee2f0d218058ed"
          }
        },
        "268ff3cd2a7848ee83ecbdaf9f4285c2": {
          "model_module": "@jupyter-widgets/controls",
          "model_name": "HTMLModel",
          "model_module_version": "1.5.0",
          "state": {
            "_dom_classes": [],
            "_model_module": "@jupyter-widgets/controls",
            "_model_module_version": "1.5.0",
            "_model_name": "HTMLModel",
            "_view_count": null,
            "_view_module": "@jupyter-widgets/controls",
            "_view_module_version": "1.5.0",
            "_view_name": "HTMLView",
            "description": "",
            "description_tooltip": null,
            "layout": "IPY_MODEL_4bb013b7a2b44e0c8d428ed3ee797e99",
            "placeholder": "​",
            "style": "IPY_MODEL_69914beff2a5453098ded796e9b9da3d",
            "value": "100%"
          }
        },
        "b510992d349d447bb1757476755f8de1": {
          "model_module": "@jupyter-widgets/controls",
          "model_name": "FloatProgressModel",
          "model_module_version": "1.5.0",
          "state": {
            "_dom_classes": [],
            "_model_module": "@jupyter-widgets/controls",
            "_model_module_version": "1.5.0",
            "_model_name": "FloatProgressModel",
            "_view_count": null,
            "_view_module": "@jupyter-widgets/controls",
            "_view_module_version": "1.5.0",
            "_view_name": "ProgressView",
            "bar_style": "success",
            "description": "",
            "description_tooltip": null,
            "layout": "IPY_MODEL_71da3eca2b7f4dfbb4794134f3e65557",
            "max": 1,
            "min": 0,
            "orientation": "horizontal",
            "style": "IPY_MODEL_fd8c3ab8c6574e739a4ffcf79fd4e33c",
            "value": 1
          }
        },
        "66752dfcca5549ad933d8aacba521c53": {
          "model_module": "@jupyter-widgets/controls",
          "model_name": "HTMLModel",
          "model_module_version": "1.5.0",
          "state": {
            "_dom_classes": [],
            "_model_module": "@jupyter-widgets/controls",
            "_model_module_version": "1.5.0",
            "_model_name": "HTMLModel",
            "_view_count": null,
            "_view_module": "@jupyter-widgets/controls",
            "_view_module_version": "1.5.0",
            "_view_name": "HTMLView",
            "description": "",
            "description_tooltip": null,
            "layout": "IPY_MODEL_dbe9bdefed484651b80f45e44ae5f164",
            "placeholder": "​",
            "style": "IPY_MODEL_8480b4a5b07244b7a0e9e5206c9cdfdd",
            "value": " 1/1 [00:00&lt;00:00, 41.46it/s]"
          }
        },
        "fcf247caf6cc4134b0ee2f0d218058ed": {
          "model_module": "@jupyter-widgets/base",
          "model_name": "LayoutModel",
          "model_module_version": "1.2.0",
          "state": {
            "_model_module": "@jupyter-widgets/base",
            "_model_module_version": "1.2.0",
            "_model_name": "LayoutModel",
            "_view_count": null,
            "_view_module": "@jupyter-widgets/base",
            "_view_module_version": "1.2.0",
            "_view_name": "LayoutView",
            "align_content": null,
            "align_items": null,
            "align_self": null,
            "border": null,
            "bottom": null,
            "display": null,
            "flex": null,
            "flex_flow": null,
            "grid_area": null,
            "grid_auto_columns": null,
            "grid_auto_flow": null,
            "grid_auto_rows": null,
            "grid_column": null,
            "grid_gap": null,
            "grid_row": null,
            "grid_template_areas": null,
            "grid_template_columns": null,
            "grid_template_rows": null,
            "height": null,
            "justify_content": null,
            "justify_items": null,
            "left": null,
            "margin": null,
            "max_height": null,
            "max_width": null,
            "min_height": null,
            "min_width": null,
            "object_fit": null,
            "object_position": null,
            "order": null,
            "overflow": null,
            "overflow_x": null,
            "overflow_y": null,
            "padding": null,
            "right": null,
            "top": null,
            "visibility": null,
            "width": null
          }
        },
        "4bb013b7a2b44e0c8d428ed3ee797e99": {
          "model_module": "@jupyter-widgets/base",
          "model_name": "LayoutModel",
          "model_module_version": "1.2.0",
          "state": {
            "_model_module": "@jupyter-widgets/base",
            "_model_module_version": "1.2.0",
            "_model_name": "LayoutModel",
            "_view_count": null,
            "_view_module": "@jupyter-widgets/base",
            "_view_module_version": "1.2.0",
            "_view_name": "LayoutView",
            "align_content": null,
            "align_items": null,
            "align_self": null,
            "border": null,
            "bottom": null,
            "display": null,
            "flex": null,
            "flex_flow": null,
            "grid_area": null,
            "grid_auto_columns": null,
            "grid_auto_flow": null,
            "grid_auto_rows": null,
            "grid_column": null,
            "grid_gap": null,
            "grid_row": null,
            "grid_template_areas": null,
            "grid_template_columns": null,
            "grid_template_rows": null,
            "height": null,
            "justify_content": null,
            "justify_items": null,
            "left": null,
            "margin": null,
            "max_height": null,
            "max_width": null,
            "min_height": null,
            "min_width": null,
            "object_fit": null,
            "object_position": null,
            "order": null,
            "overflow": null,
            "overflow_x": null,
            "overflow_y": null,
            "padding": null,
            "right": null,
            "top": null,
            "visibility": null,
            "width": null
          }
        },
        "69914beff2a5453098ded796e9b9da3d": {
          "model_module": "@jupyter-widgets/controls",
          "model_name": "DescriptionStyleModel",
          "model_module_version": "1.5.0",
          "state": {
            "_model_module": "@jupyter-widgets/controls",
            "_model_module_version": "1.5.0",
            "_model_name": "DescriptionStyleModel",
            "_view_count": null,
            "_view_module": "@jupyter-widgets/base",
            "_view_module_version": "1.2.0",
            "_view_name": "StyleView",
            "description_width": ""
          }
        },
        "71da3eca2b7f4dfbb4794134f3e65557": {
          "model_module": "@jupyter-widgets/base",
          "model_name": "LayoutModel",
          "model_module_version": "1.2.0",
          "state": {
            "_model_module": "@jupyter-widgets/base",
            "_model_module_version": "1.2.0",
            "_model_name": "LayoutModel",
            "_view_count": null,
            "_view_module": "@jupyter-widgets/base",
            "_view_module_version": "1.2.0",
            "_view_name": "LayoutView",
            "align_content": null,
            "align_items": null,
            "align_self": null,
            "border": null,
            "bottom": null,
            "display": null,
            "flex": null,
            "flex_flow": null,
            "grid_area": null,
            "grid_auto_columns": null,
            "grid_auto_flow": null,
            "grid_auto_rows": null,
            "grid_column": null,
            "grid_gap": null,
            "grid_row": null,
            "grid_template_areas": null,
            "grid_template_columns": null,
            "grid_template_rows": null,
            "height": null,
            "justify_content": null,
            "justify_items": null,
            "left": null,
            "margin": null,
            "max_height": null,
            "max_width": null,
            "min_height": null,
            "min_width": null,
            "object_fit": null,
            "object_position": null,
            "order": null,
            "overflow": null,
            "overflow_x": null,
            "overflow_y": null,
            "padding": null,
            "right": null,
            "top": null,
            "visibility": null,
            "width": null
          }
        },
        "fd8c3ab8c6574e739a4ffcf79fd4e33c": {
          "model_module": "@jupyter-widgets/controls",
          "model_name": "ProgressStyleModel",
          "model_module_version": "1.5.0",
          "state": {
            "_model_module": "@jupyter-widgets/controls",
            "_model_module_version": "1.5.0",
            "_model_name": "ProgressStyleModel",
            "_view_count": null,
            "_view_module": "@jupyter-widgets/base",
            "_view_module_version": "1.2.0",
            "_view_name": "StyleView",
            "bar_color": null,
            "description_width": ""
          }
        },
        "dbe9bdefed484651b80f45e44ae5f164": {
          "model_module": "@jupyter-widgets/base",
          "model_name": "LayoutModel",
          "model_module_version": "1.2.0",
          "state": {
            "_model_module": "@jupyter-widgets/base",
            "_model_module_version": "1.2.0",
            "_model_name": "LayoutModel",
            "_view_count": null,
            "_view_module": "@jupyter-widgets/base",
            "_view_module_version": "1.2.0",
            "_view_name": "LayoutView",
            "align_content": null,
            "align_items": null,
            "align_self": null,
            "border": null,
            "bottom": null,
            "display": null,
            "flex": null,
            "flex_flow": null,
            "grid_area": null,
            "grid_auto_columns": null,
            "grid_auto_flow": null,
            "grid_auto_rows": null,
            "grid_column": null,
            "grid_gap": null,
            "grid_row": null,
            "grid_template_areas": null,
            "grid_template_columns": null,
            "grid_template_rows": null,
            "height": null,
            "justify_content": null,
            "justify_items": null,
            "left": null,
            "margin": null,
            "max_height": null,
            "max_width": null,
            "min_height": null,
            "min_width": null,
            "object_fit": null,
            "object_position": null,
            "order": null,
            "overflow": null,
            "overflow_x": null,
            "overflow_y": null,
            "padding": null,
            "right": null,
            "top": null,
            "visibility": null,
            "width": null
          }
        },
        "8480b4a5b07244b7a0e9e5206c9cdfdd": {
          "model_module": "@jupyter-widgets/controls",
          "model_name": "DescriptionStyleModel",
          "model_module_version": "1.5.0",
          "state": {
            "_model_module": "@jupyter-widgets/controls",
            "_model_module_version": "1.5.0",
            "_model_name": "DescriptionStyleModel",
            "_view_count": null,
            "_view_module": "@jupyter-widgets/base",
            "_view_module_version": "1.2.0",
            "_view_name": "StyleView",
            "description_width": ""
          }
        },
        "85e3e3ec99704c94b765ddd702bc3a44": {
          "model_module": "@jupyter-widgets/controls",
          "model_name": "HBoxModel",
          "model_module_version": "1.5.0",
          "state": {
            "_dom_classes": [],
            "_model_module": "@jupyter-widgets/controls",
            "_model_module_version": "1.5.0",
            "_model_name": "HBoxModel",
            "_view_count": null,
            "_view_module": "@jupyter-widgets/controls",
            "_view_module_version": "1.5.0",
            "_view_name": "HBoxView",
            "box_style": "",
            "children": [
              "IPY_MODEL_292891dec1284e309e34546c4615782c",
              "IPY_MODEL_8c32b51b41a0414386e7cd6799c65ad7",
              "IPY_MODEL_4598d515629644a5b29556c06e535bb4"
            ],
            "layout": "IPY_MODEL_32d631cfc7f94452a43d2ce396146640"
          }
        },
        "292891dec1284e309e34546c4615782c": {
          "model_module": "@jupyter-widgets/controls",
          "model_name": "HTMLModel",
          "model_module_version": "1.5.0",
          "state": {
            "_dom_classes": [],
            "_model_module": "@jupyter-widgets/controls",
            "_model_module_version": "1.5.0",
            "_model_name": "HTMLModel",
            "_view_count": null,
            "_view_module": "@jupyter-widgets/controls",
            "_view_module_version": "1.5.0",
            "_view_name": "HTMLView",
            "description": "",
            "description_tooltip": null,
            "layout": "IPY_MODEL_9ee00ebd50d54e248caabd19467a8aae",
            "placeholder": "​",
            "style": "IPY_MODEL_b73cf96c6f354e218a901fd6e13a008a",
            "value": "100%"
          }
        },
        "8c32b51b41a0414386e7cd6799c65ad7": {
          "model_module": "@jupyter-widgets/controls",
          "model_name": "FloatProgressModel",
          "model_module_version": "1.5.0",
          "state": {
            "_dom_classes": [],
            "_model_module": "@jupyter-widgets/controls",
            "_model_module_version": "1.5.0",
            "_model_name": "FloatProgressModel",
            "_view_count": null,
            "_view_module": "@jupyter-widgets/controls",
            "_view_module_version": "1.5.0",
            "_view_name": "ProgressView",
            "bar_style": "success",
            "description": "",
            "description_tooltip": null,
            "layout": "IPY_MODEL_ff26b42c8dcb43de93671d1eada34009",
            "max": 1,
            "min": 0,
            "orientation": "horizontal",
            "style": "IPY_MODEL_4ac9973cd65e4180ac401727c949732b",
            "value": 1
          }
        },
        "4598d515629644a5b29556c06e535bb4": {
          "model_module": "@jupyter-widgets/controls",
          "model_name": "HTMLModel",
          "model_module_version": "1.5.0",
          "state": {
            "_dom_classes": [],
            "_model_module": "@jupyter-widgets/controls",
            "_model_module_version": "1.5.0",
            "_model_name": "HTMLModel",
            "_view_count": null,
            "_view_module": "@jupyter-widgets/controls",
            "_view_module_version": "1.5.0",
            "_view_name": "HTMLView",
            "description": "",
            "description_tooltip": null,
            "layout": "IPY_MODEL_f780b877ecc24a17b1b559552fa27323",
            "placeholder": "​",
            "style": "IPY_MODEL_75a06a747ba94eddba5afa9cc344c438",
            "value": " 1/1 [00:00&lt;00:00, 40.79it/s]"
          }
        },
        "32d631cfc7f94452a43d2ce396146640": {
          "model_module": "@jupyter-widgets/base",
          "model_name": "LayoutModel",
          "model_module_version": "1.2.0",
          "state": {
            "_model_module": "@jupyter-widgets/base",
            "_model_module_version": "1.2.0",
            "_model_name": "LayoutModel",
            "_view_count": null,
            "_view_module": "@jupyter-widgets/base",
            "_view_module_version": "1.2.0",
            "_view_name": "LayoutView",
            "align_content": null,
            "align_items": null,
            "align_self": null,
            "border": null,
            "bottom": null,
            "display": null,
            "flex": null,
            "flex_flow": null,
            "grid_area": null,
            "grid_auto_columns": null,
            "grid_auto_flow": null,
            "grid_auto_rows": null,
            "grid_column": null,
            "grid_gap": null,
            "grid_row": null,
            "grid_template_areas": null,
            "grid_template_columns": null,
            "grid_template_rows": null,
            "height": null,
            "justify_content": null,
            "justify_items": null,
            "left": null,
            "margin": null,
            "max_height": null,
            "max_width": null,
            "min_height": null,
            "min_width": null,
            "object_fit": null,
            "object_position": null,
            "order": null,
            "overflow": null,
            "overflow_x": null,
            "overflow_y": null,
            "padding": null,
            "right": null,
            "top": null,
            "visibility": null,
            "width": null
          }
        },
        "9ee00ebd50d54e248caabd19467a8aae": {
          "model_module": "@jupyter-widgets/base",
          "model_name": "LayoutModel",
          "model_module_version": "1.2.0",
          "state": {
            "_model_module": "@jupyter-widgets/base",
            "_model_module_version": "1.2.0",
            "_model_name": "LayoutModel",
            "_view_count": null,
            "_view_module": "@jupyter-widgets/base",
            "_view_module_version": "1.2.0",
            "_view_name": "LayoutView",
            "align_content": null,
            "align_items": null,
            "align_self": null,
            "border": null,
            "bottom": null,
            "display": null,
            "flex": null,
            "flex_flow": null,
            "grid_area": null,
            "grid_auto_columns": null,
            "grid_auto_flow": null,
            "grid_auto_rows": null,
            "grid_column": null,
            "grid_gap": null,
            "grid_row": null,
            "grid_template_areas": null,
            "grid_template_columns": null,
            "grid_template_rows": null,
            "height": null,
            "justify_content": null,
            "justify_items": null,
            "left": null,
            "margin": null,
            "max_height": null,
            "max_width": null,
            "min_height": null,
            "min_width": null,
            "object_fit": null,
            "object_position": null,
            "order": null,
            "overflow": null,
            "overflow_x": null,
            "overflow_y": null,
            "padding": null,
            "right": null,
            "top": null,
            "visibility": null,
            "width": null
          }
        },
        "b73cf96c6f354e218a901fd6e13a008a": {
          "model_module": "@jupyter-widgets/controls",
          "model_name": "DescriptionStyleModel",
          "model_module_version": "1.5.0",
          "state": {
            "_model_module": "@jupyter-widgets/controls",
            "_model_module_version": "1.5.0",
            "_model_name": "DescriptionStyleModel",
            "_view_count": null,
            "_view_module": "@jupyter-widgets/base",
            "_view_module_version": "1.2.0",
            "_view_name": "StyleView",
            "description_width": ""
          }
        },
        "ff26b42c8dcb43de93671d1eada34009": {
          "model_module": "@jupyter-widgets/base",
          "model_name": "LayoutModel",
          "model_module_version": "1.2.0",
          "state": {
            "_model_module": "@jupyter-widgets/base",
            "_model_module_version": "1.2.0",
            "_model_name": "LayoutModel",
            "_view_count": null,
            "_view_module": "@jupyter-widgets/base",
            "_view_module_version": "1.2.0",
            "_view_name": "LayoutView",
            "align_content": null,
            "align_items": null,
            "align_self": null,
            "border": null,
            "bottom": null,
            "display": null,
            "flex": null,
            "flex_flow": null,
            "grid_area": null,
            "grid_auto_columns": null,
            "grid_auto_flow": null,
            "grid_auto_rows": null,
            "grid_column": null,
            "grid_gap": null,
            "grid_row": null,
            "grid_template_areas": null,
            "grid_template_columns": null,
            "grid_template_rows": null,
            "height": null,
            "justify_content": null,
            "justify_items": null,
            "left": null,
            "margin": null,
            "max_height": null,
            "max_width": null,
            "min_height": null,
            "min_width": null,
            "object_fit": null,
            "object_position": null,
            "order": null,
            "overflow": null,
            "overflow_x": null,
            "overflow_y": null,
            "padding": null,
            "right": null,
            "top": null,
            "visibility": null,
            "width": null
          }
        },
        "4ac9973cd65e4180ac401727c949732b": {
          "model_module": "@jupyter-widgets/controls",
          "model_name": "ProgressStyleModel",
          "model_module_version": "1.5.0",
          "state": {
            "_model_module": "@jupyter-widgets/controls",
            "_model_module_version": "1.5.0",
            "_model_name": "ProgressStyleModel",
            "_view_count": null,
            "_view_module": "@jupyter-widgets/base",
            "_view_module_version": "1.2.0",
            "_view_name": "StyleView",
            "bar_color": null,
            "description_width": ""
          }
        },
        "f780b877ecc24a17b1b559552fa27323": {
          "model_module": "@jupyter-widgets/base",
          "model_name": "LayoutModel",
          "model_module_version": "1.2.0",
          "state": {
            "_model_module": "@jupyter-widgets/base",
            "_model_module_version": "1.2.0",
            "_model_name": "LayoutModel",
            "_view_count": null,
            "_view_module": "@jupyter-widgets/base",
            "_view_module_version": "1.2.0",
            "_view_name": "LayoutView",
            "align_content": null,
            "align_items": null,
            "align_self": null,
            "border": null,
            "bottom": null,
            "display": null,
            "flex": null,
            "flex_flow": null,
            "grid_area": null,
            "grid_auto_columns": null,
            "grid_auto_flow": null,
            "grid_auto_rows": null,
            "grid_column": null,
            "grid_gap": null,
            "grid_row": null,
            "grid_template_areas": null,
            "grid_template_columns": null,
            "grid_template_rows": null,
            "height": null,
            "justify_content": null,
            "justify_items": null,
            "left": null,
            "margin": null,
            "max_height": null,
            "max_width": null,
            "min_height": null,
            "min_width": null,
            "object_fit": null,
            "object_position": null,
            "order": null,
            "overflow": null,
            "overflow_x": null,
            "overflow_y": null,
            "padding": null,
            "right": null,
            "top": null,
            "visibility": null,
            "width": null
          }
        },
        "75a06a747ba94eddba5afa9cc344c438": {
          "model_module": "@jupyter-widgets/controls",
          "model_name": "DescriptionStyleModel",
          "model_module_version": "1.5.0",
          "state": {
            "_model_module": "@jupyter-widgets/controls",
            "_model_module_version": "1.5.0",
            "_model_name": "DescriptionStyleModel",
            "_view_count": null,
            "_view_module": "@jupyter-widgets/base",
            "_view_module_version": "1.2.0",
            "_view_name": "StyleView",
            "description_width": ""
          }
        },
        "a71b0abfad1b459f81e7ab872d4520c5": {
          "model_module": "@jupyter-widgets/controls",
          "model_name": "HBoxModel",
          "model_module_version": "1.5.0",
          "state": {
            "_dom_classes": [],
            "_model_module": "@jupyter-widgets/controls",
            "_model_module_version": "1.5.0",
            "_model_name": "HBoxModel",
            "_view_count": null,
            "_view_module": "@jupyter-widgets/controls",
            "_view_module_version": "1.5.0",
            "_view_name": "HBoxView",
            "box_style": "",
            "children": [
              "IPY_MODEL_2deadd4492b1401091a6fa9d25b7c5c5",
              "IPY_MODEL_9987b421ab184cbe99aad6d1fff33669",
              "IPY_MODEL_dc68573e53da420089c148dfcbdd2ff5"
            ],
            "layout": "IPY_MODEL_1cfae953ac2641e3afa81a74de41584f"
          }
        },
        "2deadd4492b1401091a6fa9d25b7c5c5": {
          "model_module": "@jupyter-widgets/controls",
          "model_name": "HTMLModel",
          "model_module_version": "1.5.0",
          "state": {
            "_dom_classes": [],
            "_model_module": "@jupyter-widgets/controls",
            "_model_module_version": "1.5.0",
            "_model_name": "HTMLModel",
            "_view_count": null,
            "_view_module": "@jupyter-widgets/controls",
            "_view_module_version": "1.5.0",
            "_view_name": "HTMLView",
            "description": "",
            "description_tooltip": null,
            "layout": "IPY_MODEL_f8ed665c3cdb4e55a3009dc74287ca61",
            "placeholder": "​",
            "style": "IPY_MODEL_40956bbe717847bd8971a99c6d504322",
            "value": "Map: 100%"
          }
        },
        "9987b421ab184cbe99aad6d1fff33669": {
          "model_module": "@jupyter-widgets/controls",
          "model_name": "FloatProgressModel",
          "model_module_version": "1.5.0",
          "state": {
            "_dom_classes": [],
            "_model_module": "@jupyter-widgets/controls",
            "_model_module_version": "1.5.0",
            "_model_name": "FloatProgressModel",
            "_view_count": null,
            "_view_module": "@jupyter-widgets/controls",
            "_view_module_version": "1.5.0",
            "_view_name": "ProgressView",
            "bar_style": "",
            "description": "",
            "description_tooltip": null,
            "layout": "IPY_MODEL_2b6ce6ec7511460082002956583daaa0",
            "max": 23703,
            "min": 0,
            "orientation": "horizontal",
            "style": "IPY_MODEL_e2352f8aa6274f1ca97dbb39d1d57b7e",
            "value": 23703
          }
        },
        "dc68573e53da420089c148dfcbdd2ff5": {
          "model_module": "@jupyter-widgets/controls",
          "model_name": "HTMLModel",
          "model_module_version": "1.5.0",
          "state": {
            "_dom_classes": [],
            "_model_module": "@jupyter-widgets/controls",
            "_model_module_version": "1.5.0",
            "_model_name": "HTMLModel",
            "_view_count": null,
            "_view_module": "@jupyter-widgets/controls",
            "_view_module_version": "1.5.0",
            "_view_name": "HTMLView",
            "description": "",
            "description_tooltip": null,
            "layout": "IPY_MODEL_cd993c2bcb2b40fc9b530afa639c066d",
            "placeholder": "​",
            "style": "IPY_MODEL_c3f823edb65e4df89b94dfda3ac1d583",
            "value": " 23703/23703 [00:12&lt;00:00, 1870.19 examples/s]"
          }
        },
        "1cfae953ac2641e3afa81a74de41584f": {
          "model_module": "@jupyter-widgets/base",
          "model_name": "LayoutModel",
          "model_module_version": "1.2.0",
          "state": {
            "_model_module": "@jupyter-widgets/base",
            "_model_module_version": "1.2.0",
            "_model_name": "LayoutModel",
            "_view_count": null,
            "_view_module": "@jupyter-widgets/base",
            "_view_module_version": "1.2.0",
            "_view_name": "LayoutView",
            "align_content": null,
            "align_items": null,
            "align_self": null,
            "border": null,
            "bottom": null,
            "display": null,
            "flex": null,
            "flex_flow": null,
            "grid_area": null,
            "grid_auto_columns": null,
            "grid_auto_flow": null,
            "grid_auto_rows": null,
            "grid_column": null,
            "grid_gap": null,
            "grid_row": null,
            "grid_template_areas": null,
            "grid_template_columns": null,
            "grid_template_rows": null,
            "height": null,
            "justify_content": null,
            "justify_items": null,
            "left": null,
            "margin": null,
            "max_height": null,
            "max_width": null,
            "min_height": null,
            "min_width": null,
            "object_fit": null,
            "object_position": null,
            "order": null,
            "overflow": null,
            "overflow_x": null,
            "overflow_y": null,
            "padding": null,
            "right": null,
            "top": null,
            "visibility": "hidden",
            "width": null
          }
        },
        "f8ed665c3cdb4e55a3009dc74287ca61": {
          "model_module": "@jupyter-widgets/base",
          "model_name": "LayoutModel",
          "model_module_version": "1.2.0",
          "state": {
            "_model_module": "@jupyter-widgets/base",
            "_model_module_version": "1.2.0",
            "_model_name": "LayoutModel",
            "_view_count": null,
            "_view_module": "@jupyter-widgets/base",
            "_view_module_version": "1.2.0",
            "_view_name": "LayoutView",
            "align_content": null,
            "align_items": null,
            "align_self": null,
            "border": null,
            "bottom": null,
            "display": null,
            "flex": null,
            "flex_flow": null,
            "grid_area": null,
            "grid_auto_columns": null,
            "grid_auto_flow": null,
            "grid_auto_rows": null,
            "grid_column": null,
            "grid_gap": null,
            "grid_row": null,
            "grid_template_areas": null,
            "grid_template_columns": null,
            "grid_template_rows": null,
            "height": null,
            "justify_content": null,
            "justify_items": null,
            "left": null,
            "margin": null,
            "max_height": null,
            "max_width": null,
            "min_height": null,
            "min_width": null,
            "object_fit": null,
            "object_position": null,
            "order": null,
            "overflow": null,
            "overflow_x": null,
            "overflow_y": null,
            "padding": null,
            "right": null,
            "top": null,
            "visibility": null,
            "width": null
          }
        },
        "40956bbe717847bd8971a99c6d504322": {
          "model_module": "@jupyter-widgets/controls",
          "model_name": "DescriptionStyleModel",
          "model_module_version": "1.5.0",
          "state": {
            "_model_module": "@jupyter-widgets/controls",
            "_model_module_version": "1.5.0",
            "_model_name": "DescriptionStyleModel",
            "_view_count": null,
            "_view_module": "@jupyter-widgets/base",
            "_view_module_version": "1.2.0",
            "_view_name": "StyleView",
            "description_width": ""
          }
        },
        "2b6ce6ec7511460082002956583daaa0": {
          "model_module": "@jupyter-widgets/base",
          "model_name": "LayoutModel",
          "model_module_version": "1.2.0",
          "state": {
            "_model_module": "@jupyter-widgets/base",
            "_model_module_version": "1.2.0",
            "_model_name": "LayoutModel",
            "_view_count": null,
            "_view_module": "@jupyter-widgets/base",
            "_view_module_version": "1.2.0",
            "_view_name": "LayoutView",
            "align_content": null,
            "align_items": null,
            "align_self": null,
            "border": null,
            "bottom": null,
            "display": null,
            "flex": null,
            "flex_flow": null,
            "grid_area": null,
            "grid_auto_columns": null,
            "grid_auto_flow": null,
            "grid_auto_rows": null,
            "grid_column": null,
            "grid_gap": null,
            "grid_row": null,
            "grid_template_areas": null,
            "grid_template_columns": null,
            "grid_template_rows": null,
            "height": null,
            "justify_content": null,
            "justify_items": null,
            "left": null,
            "margin": null,
            "max_height": null,
            "max_width": null,
            "min_height": null,
            "min_width": null,
            "object_fit": null,
            "object_position": null,
            "order": null,
            "overflow": null,
            "overflow_x": null,
            "overflow_y": null,
            "padding": null,
            "right": null,
            "top": null,
            "visibility": null,
            "width": null
          }
        },
        "e2352f8aa6274f1ca97dbb39d1d57b7e": {
          "model_module": "@jupyter-widgets/controls",
          "model_name": "ProgressStyleModel",
          "model_module_version": "1.5.0",
          "state": {
            "_model_module": "@jupyter-widgets/controls",
            "_model_module_version": "1.5.0",
            "_model_name": "ProgressStyleModel",
            "_view_count": null,
            "_view_module": "@jupyter-widgets/base",
            "_view_module_version": "1.2.0",
            "_view_name": "StyleView",
            "bar_color": null,
            "description_width": ""
          }
        },
        "cd993c2bcb2b40fc9b530afa639c066d": {
          "model_module": "@jupyter-widgets/base",
          "model_name": "LayoutModel",
          "model_module_version": "1.2.0",
          "state": {
            "_model_module": "@jupyter-widgets/base",
            "_model_module_version": "1.2.0",
            "_model_name": "LayoutModel",
            "_view_count": null,
            "_view_module": "@jupyter-widgets/base",
            "_view_module_version": "1.2.0",
            "_view_name": "LayoutView",
            "align_content": null,
            "align_items": null,
            "align_self": null,
            "border": null,
            "bottom": null,
            "display": null,
            "flex": null,
            "flex_flow": null,
            "grid_area": null,
            "grid_auto_columns": null,
            "grid_auto_flow": null,
            "grid_auto_rows": null,
            "grid_column": null,
            "grid_gap": null,
            "grid_row": null,
            "grid_template_areas": null,
            "grid_template_columns": null,
            "grid_template_rows": null,
            "height": null,
            "justify_content": null,
            "justify_items": null,
            "left": null,
            "margin": null,
            "max_height": null,
            "max_width": null,
            "min_height": null,
            "min_width": null,
            "object_fit": null,
            "object_position": null,
            "order": null,
            "overflow": null,
            "overflow_x": null,
            "overflow_y": null,
            "padding": null,
            "right": null,
            "top": null,
            "visibility": null,
            "width": null
          }
        },
        "c3f823edb65e4df89b94dfda3ac1d583": {
          "model_module": "@jupyter-widgets/controls",
          "model_name": "DescriptionStyleModel",
          "model_module_version": "1.5.0",
          "state": {
            "_model_module": "@jupyter-widgets/controls",
            "_model_module_version": "1.5.0",
            "_model_name": "DescriptionStyleModel",
            "_view_count": null,
            "_view_module": "@jupyter-widgets/base",
            "_view_module_version": "1.2.0",
            "_view_name": "StyleView",
            "description_width": ""
          }
        },
        "03a4a5a8ef9c44b3be036e957575cd0f": {
          "model_module": "@jupyter-widgets/controls",
          "model_name": "HBoxModel",
          "model_module_version": "1.5.0",
          "state": {
            "_dom_classes": [],
            "_model_module": "@jupyter-widgets/controls",
            "_model_module_version": "1.5.0",
            "_model_name": "HBoxModel",
            "_view_count": null,
            "_view_module": "@jupyter-widgets/controls",
            "_view_module_version": "1.5.0",
            "_view_name": "HBoxView",
            "box_style": "",
            "children": [
              "IPY_MODEL_5317ebfeaa814572a2e4ae62eb2082df",
              "IPY_MODEL_55ff9ec052ef4064817717dac8478ee3",
              "IPY_MODEL_ab29c4eef41e4b29b0f04cfdcc29a278"
            ],
            "layout": "IPY_MODEL_72f0a8b7577f435383bab604af7da4d9"
          }
        },
        "5317ebfeaa814572a2e4ae62eb2082df": {
          "model_module": "@jupyter-widgets/controls",
          "model_name": "HTMLModel",
          "model_module_version": "1.5.0",
          "state": {
            "_dom_classes": [],
            "_model_module": "@jupyter-widgets/controls",
            "_model_module_version": "1.5.0",
            "_model_name": "HTMLModel",
            "_view_count": null,
            "_view_module": "@jupyter-widgets/controls",
            "_view_module_version": "1.5.0",
            "_view_name": "HTMLView",
            "description": "",
            "description_tooltip": null,
            "layout": "IPY_MODEL_8c044b04b58f43808d0ae054ab780a76",
            "placeholder": "​",
            "style": "IPY_MODEL_3db3b45c77bc4850a1392f28f8d59561",
            "value": "Map: 100%"
          }
        },
        "55ff9ec052ef4064817717dac8478ee3": {
          "model_module": "@jupyter-widgets/controls",
          "model_name": "FloatProgressModel",
          "model_module_version": "1.5.0",
          "state": {
            "_dom_classes": [],
            "_model_module": "@jupyter-widgets/controls",
            "_model_module_version": "1.5.0",
            "_model_name": "FloatProgressModel",
            "_view_count": null,
            "_view_module": "@jupyter-widgets/controls",
            "_view_module_version": "1.5.0",
            "_view_name": "ProgressView",
            "bar_style": "",
            "description": "",
            "description_tooltip": null,
            "layout": "IPY_MODEL_3a07084092644051b048ead3aab52590",
            "max": 2963,
            "min": 0,
            "orientation": "horizontal",
            "style": "IPY_MODEL_c11eee22372f4ea5a191c0c2415d83fc",
            "value": 2963
          }
        },
        "ab29c4eef41e4b29b0f04cfdcc29a278": {
          "model_module": "@jupyter-widgets/controls",
          "model_name": "HTMLModel",
          "model_module_version": "1.5.0",
          "state": {
            "_dom_classes": [],
            "_model_module": "@jupyter-widgets/controls",
            "_model_module_version": "1.5.0",
            "_model_name": "HTMLModel",
            "_view_count": null,
            "_view_module": "@jupyter-widgets/controls",
            "_view_module_version": "1.5.0",
            "_view_name": "HTMLView",
            "description": "",
            "description_tooltip": null,
            "layout": "IPY_MODEL_a60920f5628c49be86513d9151dcf8ea",
            "placeholder": "​",
            "style": "IPY_MODEL_a681bb4ffb1f425f98ba92f64dd34ec3",
            "value": " 2963/2963 [00:01&lt;00:00, 2263.88 examples/s]"
          }
        },
        "72f0a8b7577f435383bab604af7da4d9": {
          "model_module": "@jupyter-widgets/base",
          "model_name": "LayoutModel",
          "model_module_version": "1.2.0",
          "state": {
            "_model_module": "@jupyter-widgets/base",
            "_model_module_version": "1.2.0",
            "_model_name": "LayoutModel",
            "_view_count": null,
            "_view_module": "@jupyter-widgets/base",
            "_view_module_version": "1.2.0",
            "_view_name": "LayoutView",
            "align_content": null,
            "align_items": null,
            "align_self": null,
            "border": null,
            "bottom": null,
            "display": null,
            "flex": null,
            "flex_flow": null,
            "grid_area": null,
            "grid_auto_columns": null,
            "grid_auto_flow": null,
            "grid_auto_rows": null,
            "grid_column": null,
            "grid_gap": null,
            "grid_row": null,
            "grid_template_areas": null,
            "grid_template_columns": null,
            "grid_template_rows": null,
            "height": null,
            "justify_content": null,
            "justify_items": null,
            "left": null,
            "margin": null,
            "max_height": null,
            "max_width": null,
            "min_height": null,
            "min_width": null,
            "object_fit": null,
            "object_position": null,
            "order": null,
            "overflow": null,
            "overflow_x": null,
            "overflow_y": null,
            "padding": null,
            "right": null,
            "top": null,
            "visibility": "hidden",
            "width": null
          }
        },
        "8c044b04b58f43808d0ae054ab780a76": {
          "model_module": "@jupyter-widgets/base",
          "model_name": "LayoutModel",
          "model_module_version": "1.2.0",
          "state": {
            "_model_module": "@jupyter-widgets/base",
            "_model_module_version": "1.2.0",
            "_model_name": "LayoutModel",
            "_view_count": null,
            "_view_module": "@jupyter-widgets/base",
            "_view_module_version": "1.2.0",
            "_view_name": "LayoutView",
            "align_content": null,
            "align_items": null,
            "align_self": null,
            "border": null,
            "bottom": null,
            "display": null,
            "flex": null,
            "flex_flow": null,
            "grid_area": null,
            "grid_auto_columns": null,
            "grid_auto_flow": null,
            "grid_auto_rows": null,
            "grid_column": null,
            "grid_gap": null,
            "grid_row": null,
            "grid_template_areas": null,
            "grid_template_columns": null,
            "grid_template_rows": null,
            "height": null,
            "justify_content": null,
            "justify_items": null,
            "left": null,
            "margin": null,
            "max_height": null,
            "max_width": null,
            "min_height": null,
            "min_width": null,
            "object_fit": null,
            "object_position": null,
            "order": null,
            "overflow": null,
            "overflow_x": null,
            "overflow_y": null,
            "padding": null,
            "right": null,
            "top": null,
            "visibility": null,
            "width": null
          }
        },
        "3db3b45c77bc4850a1392f28f8d59561": {
          "model_module": "@jupyter-widgets/controls",
          "model_name": "DescriptionStyleModel",
          "model_module_version": "1.5.0",
          "state": {
            "_model_module": "@jupyter-widgets/controls",
            "_model_module_version": "1.5.0",
            "_model_name": "DescriptionStyleModel",
            "_view_count": null,
            "_view_module": "@jupyter-widgets/base",
            "_view_module_version": "1.2.0",
            "_view_name": "StyleView",
            "description_width": ""
          }
        },
        "3a07084092644051b048ead3aab52590": {
          "model_module": "@jupyter-widgets/base",
          "model_name": "LayoutModel",
          "model_module_version": "1.2.0",
          "state": {
            "_model_module": "@jupyter-widgets/base",
            "_model_module_version": "1.2.0",
            "_model_name": "LayoutModel",
            "_view_count": null,
            "_view_module": "@jupyter-widgets/base",
            "_view_module_version": "1.2.0",
            "_view_name": "LayoutView",
            "align_content": null,
            "align_items": null,
            "align_self": null,
            "border": null,
            "bottom": null,
            "display": null,
            "flex": null,
            "flex_flow": null,
            "grid_area": null,
            "grid_auto_columns": null,
            "grid_auto_flow": null,
            "grid_auto_rows": null,
            "grid_column": null,
            "grid_gap": null,
            "grid_row": null,
            "grid_template_areas": null,
            "grid_template_columns": null,
            "grid_template_rows": null,
            "height": null,
            "justify_content": null,
            "justify_items": null,
            "left": null,
            "margin": null,
            "max_height": null,
            "max_width": null,
            "min_height": null,
            "min_width": null,
            "object_fit": null,
            "object_position": null,
            "order": null,
            "overflow": null,
            "overflow_x": null,
            "overflow_y": null,
            "padding": null,
            "right": null,
            "top": null,
            "visibility": null,
            "width": null
          }
        },
        "c11eee22372f4ea5a191c0c2415d83fc": {
          "model_module": "@jupyter-widgets/controls",
          "model_name": "ProgressStyleModel",
          "model_module_version": "1.5.0",
          "state": {
            "_model_module": "@jupyter-widgets/controls",
            "_model_module_version": "1.5.0",
            "_model_name": "ProgressStyleModel",
            "_view_count": null,
            "_view_module": "@jupyter-widgets/base",
            "_view_module_version": "1.2.0",
            "_view_name": "StyleView",
            "bar_color": null,
            "description_width": ""
          }
        },
        "a60920f5628c49be86513d9151dcf8ea": {
          "model_module": "@jupyter-widgets/base",
          "model_name": "LayoutModel",
          "model_module_version": "1.2.0",
          "state": {
            "_model_module": "@jupyter-widgets/base",
            "_model_module_version": "1.2.0",
            "_model_name": "LayoutModel",
            "_view_count": null,
            "_view_module": "@jupyter-widgets/base",
            "_view_module_version": "1.2.0",
            "_view_name": "LayoutView",
            "align_content": null,
            "align_items": null,
            "align_self": null,
            "border": null,
            "bottom": null,
            "display": null,
            "flex": null,
            "flex_flow": null,
            "grid_area": null,
            "grid_auto_columns": null,
            "grid_auto_flow": null,
            "grid_auto_rows": null,
            "grid_column": null,
            "grid_gap": null,
            "grid_row": null,
            "grid_template_areas": null,
            "grid_template_columns": null,
            "grid_template_rows": null,
            "height": null,
            "justify_content": null,
            "justify_items": null,
            "left": null,
            "margin": null,
            "max_height": null,
            "max_width": null,
            "min_height": null,
            "min_width": null,
            "object_fit": null,
            "object_position": null,
            "order": null,
            "overflow": null,
            "overflow_x": null,
            "overflow_y": null,
            "padding": null,
            "right": null,
            "top": null,
            "visibility": null,
            "width": null
          }
        },
        "a681bb4ffb1f425f98ba92f64dd34ec3": {
          "model_module": "@jupyter-widgets/controls",
          "model_name": "DescriptionStyleModel",
          "model_module_version": "1.5.0",
          "state": {
            "_model_module": "@jupyter-widgets/controls",
            "_model_module_version": "1.5.0",
            "_model_name": "DescriptionStyleModel",
            "_view_count": null,
            "_view_module": "@jupyter-widgets/base",
            "_view_module_version": "1.2.0",
            "_view_name": "StyleView",
            "description_width": ""
          }
        },
        "c33928d1aaa84dc19863bf5769386492": {
          "model_module": "@jupyter-widgets/controls",
          "model_name": "HBoxModel",
          "model_module_version": "1.5.0",
          "state": {
            "_dom_classes": [],
            "_model_module": "@jupyter-widgets/controls",
            "_model_module_version": "1.5.0",
            "_model_name": "HBoxModel",
            "_view_count": null,
            "_view_module": "@jupyter-widgets/controls",
            "_view_module_version": "1.5.0",
            "_view_name": "HBoxView",
            "box_style": "",
            "children": [
              "IPY_MODEL_012e550ed5ad4ba4aacfe70b8ea650bf",
              "IPY_MODEL_cf4d4ccbe0a5453d80ea60662a34cbbc",
              "IPY_MODEL_f202e243b31f4f7a888ca3d8300c226b"
            ],
            "layout": "IPY_MODEL_e976a3e9b27a4454b347b813f4d35117"
          }
        },
        "012e550ed5ad4ba4aacfe70b8ea650bf": {
          "model_module": "@jupyter-widgets/controls",
          "model_name": "HTMLModel",
          "model_module_version": "1.5.0",
          "state": {
            "_dom_classes": [],
            "_model_module": "@jupyter-widgets/controls",
            "_model_module_version": "1.5.0",
            "_model_name": "HTMLModel",
            "_view_count": null,
            "_view_module": "@jupyter-widgets/controls",
            "_view_module_version": "1.5.0",
            "_view_name": "HTMLView",
            "description": "",
            "description_tooltip": null,
            "layout": "IPY_MODEL_14e40bc60bc3413da96531913ce884a4",
            "placeholder": "​",
            "style": "IPY_MODEL_49856ad86a5b4e5c91b794f964731051",
            "value": "Map: 100%"
          }
        },
        "cf4d4ccbe0a5453d80ea60662a34cbbc": {
          "model_module": "@jupyter-widgets/controls",
          "model_name": "FloatProgressModel",
          "model_module_version": "1.5.0",
          "state": {
            "_dom_classes": [],
            "_model_module": "@jupyter-widgets/controls",
            "_model_module_version": "1.5.0",
            "_model_name": "FloatProgressModel",
            "_view_count": null,
            "_view_module": "@jupyter-widgets/controls",
            "_view_module_version": "1.5.0",
            "_view_name": "ProgressView",
            "bar_style": "",
            "description": "",
            "description_tooltip": null,
            "layout": "IPY_MODEL_a29ec2b1c86449b89a663c1d03aa9120",
            "max": 2967,
            "min": 0,
            "orientation": "horizontal",
            "style": "IPY_MODEL_bba478abe1304346a2d9d7bc3d047a4b",
            "value": 2967
          }
        },
        "f202e243b31f4f7a888ca3d8300c226b": {
          "model_module": "@jupyter-widgets/controls",
          "model_name": "HTMLModel",
          "model_module_version": "1.5.0",
          "state": {
            "_dom_classes": [],
            "_model_module": "@jupyter-widgets/controls",
            "_model_module_version": "1.5.0",
            "_model_name": "HTMLModel",
            "_view_count": null,
            "_view_module": "@jupyter-widgets/controls",
            "_view_module_version": "1.5.0",
            "_view_name": "HTMLView",
            "description": "",
            "description_tooltip": null,
            "layout": "IPY_MODEL_28dda324e05e4011ad0d7ec2f8dcc445",
            "placeholder": "​",
            "style": "IPY_MODEL_10c461f108d1438dbca0106646ef8392",
            "value": " 2967/2967 [00:01&lt;00:00, 1686.22 examples/s]"
          }
        },
        "e976a3e9b27a4454b347b813f4d35117": {
          "model_module": "@jupyter-widgets/base",
          "model_name": "LayoutModel",
          "model_module_version": "1.2.0",
          "state": {
            "_model_module": "@jupyter-widgets/base",
            "_model_module_version": "1.2.0",
            "_model_name": "LayoutModel",
            "_view_count": null,
            "_view_module": "@jupyter-widgets/base",
            "_view_module_version": "1.2.0",
            "_view_name": "LayoutView",
            "align_content": null,
            "align_items": null,
            "align_self": null,
            "border": null,
            "bottom": null,
            "display": null,
            "flex": null,
            "flex_flow": null,
            "grid_area": null,
            "grid_auto_columns": null,
            "grid_auto_flow": null,
            "grid_auto_rows": null,
            "grid_column": null,
            "grid_gap": null,
            "grid_row": null,
            "grid_template_areas": null,
            "grid_template_columns": null,
            "grid_template_rows": null,
            "height": null,
            "justify_content": null,
            "justify_items": null,
            "left": null,
            "margin": null,
            "max_height": null,
            "max_width": null,
            "min_height": null,
            "min_width": null,
            "object_fit": null,
            "object_position": null,
            "order": null,
            "overflow": null,
            "overflow_x": null,
            "overflow_y": null,
            "padding": null,
            "right": null,
            "top": null,
            "visibility": "hidden",
            "width": null
          }
        },
        "14e40bc60bc3413da96531913ce884a4": {
          "model_module": "@jupyter-widgets/base",
          "model_name": "LayoutModel",
          "model_module_version": "1.2.0",
          "state": {
            "_model_module": "@jupyter-widgets/base",
            "_model_module_version": "1.2.0",
            "_model_name": "LayoutModel",
            "_view_count": null,
            "_view_module": "@jupyter-widgets/base",
            "_view_module_version": "1.2.0",
            "_view_name": "LayoutView",
            "align_content": null,
            "align_items": null,
            "align_self": null,
            "border": null,
            "bottom": null,
            "display": null,
            "flex": null,
            "flex_flow": null,
            "grid_area": null,
            "grid_auto_columns": null,
            "grid_auto_flow": null,
            "grid_auto_rows": null,
            "grid_column": null,
            "grid_gap": null,
            "grid_row": null,
            "grid_template_areas": null,
            "grid_template_columns": null,
            "grid_template_rows": null,
            "height": null,
            "justify_content": null,
            "justify_items": null,
            "left": null,
            "margin": null,
            "max_height": null,
            "max_width": null,
            "min_height": null,
            "min_width": null,
            "object_fit": null,
            "object_position": null,
            "order": null,
            "overflow": null,
            "overflow_x": null,
            "overflow_y": null,
            "padding": null,
            "right": null,
            "top": null,
            "visibility": null,
            "width": null
          }
        },
        "49856ad86a5b4e5c91b794f964731051": {
          "model_module": "@jupyter-widgets/controls",
          "model_name": "DescriptionStyleModel",
          "model_module_version": "1.5.0",
          "state": {
            "_model_module": "@jupyter-widgets/controls",
            "_model_module_version": "1.5.0",
            "_model_name": "DescriptionStyleModel",
            "_view_count": null,
            "_view_module": "@jupyter-widgets/base",
            "_view_module_version": "1.2.0",
            "_view_name": "StyleView",
            "description_width": ""
          }
        },
        "a29ec2b1c86449b89a663c1d03aa9120": {
          "model_module": "@jupyter-widgets/base",
          "model_name": "LayoutModel",
          "model_module_version": "1.2.0",
          "state": {
            "_model_module": "@jupyter-widgets/base",
            "_model_module_version": "1.2.0",
            "_model_name": "LayoutModel",
            "_view_count": null,
            "_view_module": "@jupyter-widgets/base",
            "_view_module_version": "1.2.0",
            "_view_name": "LayoutView",
            "align_content": null,
            "align_items": null,
            "align_self": null,
            "border": null,
            "bottom": null,
            "display": null,
            "flex": null,
            "flex_flow": null,
            "grid_area": null,
            "grid_auto_columns": null,
            "grid_auto_flow": null,
            "grid_auto_rows": null,
            "grid_column": null,
            "grid_gap": null,
            "grid_row": null,
            "grid_template_areas": null,
            "grid_template_columns": null,
            "grid_template_rows": null,
            "height": null,
            "justify_content": null,
            "justify_items": null,
            "left": null,
            "margin": null,
            "max_height": null,
            "max_width": null,
            "min_height": null,
            "min_width": null,
            "object_fit": null,
            "object_position": null,
            "order": null,
            "overflow": null,
            "overflow_x": null,
            "overflow_y": null,
            "padding": null,
            "right": null,
            "top": null,
            "visibility": null,
            "width": null
          }
        },
        "bba478abe1304346a2d9d7bc3d047a4b": {
          "model_module": "@jupyter-widgets/controls",
          "model_name": "ProgressStyleModel",
          "model_module_version": "1.5.0",
          "state": {
            "_model_module": "@jupyter-widgets/controls",
            "_model_module_version": "1.5.0",
            "_model_name": "ProgressStyleModel",
            "_view_count": null,
            "_view_module": "@jupyter-widgets/base",
            "_view_module_version": "1.2.0",
            "_view_name": "StyleView",
            "bar_color": null,
            "description_width": ""
          }
        },
        "28dda324e05e4011ad0d7ec2f8dcc445": {
          "model_module": "@jupyter-widgets/base",
          "model_name": "LayoutModel",
          "model_module_version": "1.2.0",
          "state": {
            "_model_module": "@jupyter-widgets/base",
            "_model_module_version": "1.2.0",
            "_model_name": "LayoutModel",
            "_view_count": null,
            "_view_module": "@jupyter-widgets/base",
            "_view_module_version": "1.2.0",
            "_view_name": "LayoutView",
            "align_content": null,
            "align_items": null,
            "align_self": null,
            "border": null,
            "bottom": null,
            "display": null,
            "flex": null,
            "flex_flow": null,
            "grid_area": null,
            "grid_auto_columns": null,
            "grid_auto_flow": null,
            "grid_auto_rows": null,
            "grid_column": null,
            "grid_gap": null,
            "grid_row": null,
            "grid_template_areas": null,
            "grid_template_columns": null,
            "grid_template_rows": null,
            "height": null,
            "justify_content": null,
            "justify_items": null,
            "left": null,
            "margin": null,
            "max_height": null,
            "max_width": null,
            "min_height": null,
            "min_width": null,
            "object_fit": null,
            "object_position": null,
            "order": null,
            "overflow": null,
            "overflow_x": null,
            "overflow_y": null,
            "padding": null,
            "right": null,
            "top": null,
            "visibility": null,
            "width": null
          }
        },
        "10c461f108d1438dbca0106646ef8392": {
          "model_module": "@jupyter-widgets/controls",
          "model_name": "DescriptionStyleModel",
          "model_module_version": "1.5.0",
          "state": {
            "_model_module": "@jupyter-widgets/controls",
            "_model_module_version": "1.5.0",
            "_model_name": "DescriptionStyleModel",
            "_view_count": null,
            "_view_module": "@jupyter-widgets/base",
            "_view_module_version": "1.2.0",
            "_view_name": "StyleView",
            "description_width": ""
          }
        }
      }
    }
  },
  "nbformat": 4,
  "nbformat_minor": 0
}